{
 "cells": [
  {
   "cell_type": "markdown",
   "metadata": {},
   "source": [
    "## Day 5: Hydrothermal Venture"
   ]
  },
  {
   "cell_type": "code",
   "execution_count": null,
   "metadata": {
    "dotnet_interactive": {
     "language": "fsharp"
    }
   },
   "outputs": [],
   "source": [
    "#!value --name sampleRaw\n",
    "0,9 -> 5,9\n",
    "8,0 -> 0,8\n",
    "9,4 -> 3,4\n",
    "2,2 -> 2,1\n",
    "7,0 -> 7,4\n",
    "6,4 -> 2,0\n",
    "0,9 -> 2,9\n",
    "3,4 -> 1,4\n",
    "0,0 -> 8,8\n",
    "5,5 -> 8,2"
   ]
  },
  {
   "cell_type": "markdown",
   "metadata": {},
   "source": [
    "`common.fsx` script contains the definition for the `Point` type, which is basically a wrapper for `int*int`, but also provides the `(+)` operator and the `Zero` value. All these allow for generating ranges for this type using range generation syntax. For example:"
   ]
  },
  {
   "cell_type": "code",
   "execution_count": null,
   "metadata": {
    "dotnet_interactive": {
     "language": "fsharp"
    }
   },
   "outputs": [
    {
     "data": {
      "text/html": [
       "<table><thead><tr><th><i>index</i></th><th>Item</th></tr></thead><tbody><tr><td>0</td><td><table><thead><tr><th>Item1</th><th>Item2</th></tr></thead><tbody><tr><td><div class=\"dni-plaintext\">1</div></td><td><div class=\"dni-plaintext\">1</div></td></tr></tbody></table></td></tr><tr><td>1</td><td><table><thead><tr><th>Item1</th><th>Item2</th></tr></thead><tbody><tr><td><div class=\"dni-plaintext\">2</div></td><td><div class=\"dni-plaintext\">2</div></td></tr></tbody></table></td></tr><tr><td>2</td><td><table><thead><tr><th>Item1</th><th>Item2</th></tr></thead><tbody><tr><td><div class=\"dni-plaintext\">3</div></td><td><div class=\"dni-plaintext\">3</div></td></tr></tbody></table></td></tr></tbody></table>"
      ]
     },
     "metadata": {},
     "output_type": "display_data"
    },
    {
     "data": {
      "text/html": [
       "<table><thead><tr><th><i>index</i></th><th>Item</th></tr></thead><tbody><tr><td>0</td><td><table><thead><tr><th>Item1</th><th>Item2</th></tr></thead><tbody><tr><td><div class=\"dni-plaintext\">5</div></td><td><div class=\"dni-plaintext\">1</div></td></tr></tbody></table></td></tr><tr><td>1</td><td><table><thead><tr><th>Item1</th><th>Item2</th></tr></thead><tbody><tr><td><div class=\"dni-plaintext\">4</div></td><td><div class=\"dni-plaintext\">2</div></td></tr></tbody></table></td></tr><tr><td>2</td><td><table><thead><tr><th>Item1</th><th>Item2</th></tr></thead><tbody><tr><td><div class=\"dni-plaintext\">3</div></td><td><div class=\"dni-plaintext\">3</div></td></tr></tbody></table></td></tr></tbody></table>"
      ]
     },
     "metadata": {},
     "output_type": "display_data"
    }
   ],
   "source": [
    "#load \"common.fsx\"\n",
    "[| Point (1,1) .. Point (1,1) .. Point(3,3) |] |> display\n",
    "[| Point (5,1) .. Point (-1,1) .. Point(3,3) |] |> display\n"
   ]
  },
  {
   "cell_type": "markdown",
   "metadata": {},
   "source": [
    "For parsing we will use the regular expressions type provider, which is not only about to validate and parse an input, but also to define the type for matches."
   ]
  },
  {
   "cell_type": "code",
   "execution_count": null,
   "metadata": {
    "dotnet_interactive": {
     "language": "fsharp"
    }
   },
   "outputs": [
    {
     "data": {
      "text/html": [
       "<div><div></div><div></div><div><strong>Installed Packages</strong><ul><li><span>FSharp.Text.RegexProvider, 2.1.0</span></li></ul></div></div>"
      ]
     },
     "metadata": {},
     "output_type": "display_data"
    }
   ],
   "source": [
    "#r \"nuget:FSharp.Text.RegexProvider\"\n",
    "open FSharp.Text.RegexProvider\n",
    "open FSharp.Text.RegexExtensions\n",
    "\n",
    "type private LineFromToRegex = Regex< @\"^\\s*(?<FromX>\\d+),(?<FromY>\\d+)\\s*->\\s*(?<ToX>\\d+),(?<ToY>\\d+)\\s*$\" >\n",
    "\n",
    "let parseLine line =\n",
    "    match LineFromToRegex().TryTypedMatch(line) with\n",
    "    | None -> failwith \"unparsed\"\n",
    "    | Some match' ->\n",
    "        Point (match'.FromX.AsInt, match'.FromY.AsInt), Point (match'.ToX.AsInt, match'.ToY.AsInt)\n",
    "\n",
    "let parse (input : string) =\n",
    "    input.Split(\"\\n\", StringSplitOptions.RemoveEmptyEntries)\n",
    "    |> Array.map parseLine"
   ]
  },
  {
   "cell_type": "markdown",
   "metadata": {},
   "source": [
    "For example:"
   ]
  },
  {
   "cell_type": "code",
   "execution_count": null,
   "metadata": {
    "dotnet_interactive": {
     "language": "fsharp"
    }
   },
   "outputs": [
    {
     "data": {
      "text/html": [
       "<table><thead><tr><th>Item1</th><th>Item2</th></tr></thead><tbody><tr><td><div class=\"dni-plaintext\">{ Point (6, 4): Item: ( 6, 4 ) }</div></td><td><div class=\"dni-plaintext\">{ Point (2, 0): Item: ( 2, 0 ) }</div></td></tr></tbody></table>"
      ]
     },
     "metadata": {},
     "output_type": "display_data"
    },
    {
     "data": {
      "text/html": [
       "<table><thead><tr><th>Item1</th><th>Item2</th></tr></thead><tbody><tr><td><div class=\"dni-plaintext\">{ Point (0, 0): Item: ( 0, 0 ) }</div></td><td><div class=\"dni-plaintext\">{ Point (8, 8): Item: ( 8, 8 ) }</div></td></tr></tbody></table>"
      ]
     },
     "metadata": {},
     "output_type": "display_data"
    }
   ],
   "source": [
    "parseLine \"6,4 -> 2,0\" |> display\n",
    "parseLine \"0,0 -> 8,8\\r\" |> display"
   ]
  },
  {
   "cell_type": "code",
   "execution_count": null,
   "metadata": {
    "dotnet_interactive": {
     "language": "fsharp"
    }
   },
   "outputs": [
    {
     "data": {
      "text/html": [
       "<table><thead><tr><th><i>index</i></th><th>Item1</th><th>Item2</th></tr></thead><tbody><tr><td>0</td><td><table><thead><tr><th>Item</th></tr></thead><tbody><tr><td><div class=\"dni-plaintext\">( 0, 9 )</div></td></tr></tbody></table></td><td><table><thead><tr><th>Item</th></tr></thead><tbody><tr><td><div class=\"dni-plaintext\">( 5, 9 )</div></td></tr></tbody></table></td></tr><tr><td>1</td><td><table><thead><tr><th>Item</th></tr></thead><tbody><tr><td><div class=\"dni-plaintext\">( 8, 0 )</div></td></tr></tbody></table></td><td><table><thead><tr><th>Item</th></tr></thead><tbody><tr><td><div class=\"dni-plaintext\">( 0, 8 )</div></td></tr></tbody></table></td></tr><tr><td>2</td><td><table><thead><tr><th>Item</th></tr></thead><tbody><tr><td><div class=\"dni-plaintext\">( 9, 4 )</div></td></tr></tbody></table></td><td><table><thead><tr><th>Item</th></tr></thead><tbody><tr><td><div class=\"dni-plaintext\">( 3, 4 )</div></td></tr></tbody></table></td></tr><tr><td>3</td><td><table><thead><tr><th>Item</th></tr></thead><tbody><tr><td><div class=\"dni-plaintext\">( 2, 2 )</div></td></tr></tbody></table></td><td><table><thead><tr><th>Item</th></tr></thead><tbody><tr><td><div class=\"dni-plaintext\">( 2, 1 )</div></td></tr></tbody></table></td></tr><tr><td>4</td><td><table><thead><tr><th>Item</th></tr></thead><tbody><tr><td><div class=\"dni-plaintext\">( 7, 0 )</div></td></tr></tbody></table></td><td><table><thead><tr><th>Item</th></tr></thead><tbody><tr><td><div class=\"dni-plaintext\">( 7, 4 )</div></td></tr></tbody></table></td></tr><tr><td>5</td><td><table><thead><tr><th>Item</th></tr></thead><tbody><tr><td><div class=\"dni-plaintext\">( 6, 4 )</div></td></tr></tbody></table></td><td><table><thead><tr><th>Item</th></tr></thead><tbody><tr><td><div class=\"dni-plaintext\">( 2, 0 )</div></td></tr></tbody></table></td></tr><tr><td>6</td><td><table><thead><tr><th>Item</th></tr></thead><tbody><tr><td><div class=\"dni-plaintext\">( 0, 9 )</div></td></tr></tbody></table></td><td><table><thead><tr><th>Item</th></tr></thead><tbody><tr><td><div class=\"dni-plaintext\">( 2, 9 )</div></td></tr></tbody></table></td></tr><tr><td>7</td><td><table><thead><tr><th>Item</th></tr></thead><tbody><tr><td><div class=\"dni-plaintext\">( 3, 4 )</div></td></tr></tbody></table></td><td><table><thead><tr><th>Item</th></tr></thead><tbody><tr><td><div class=\"dni-plaintext\">( 1, 4 )</div></td></tr></tbody></table></td></tr><tr><td>8</td><td><table><thead><tr><th>Item</th></tr></thead><tbody><tr><td><div class=\"dni-plaintext\">( 0, 0 )</div></td></tr></tbody></table></td><td><table><thead><tr><th>Item</th></tr></thead><tbody><tr><td><div class=\"dni-plaintext\">( 8, 8 )</div></td></tr></tbody></table></td></tr><tr><td>9</td><td><table><thead><tr><th>Item</th></tr></thead><tbody><tr><td><div class=\"dni-plaintext\">( 5, 5 )</div></td></tr></tbody></table></td><td><table><thead><tr><th>Item</th></tr></thead><tbody><tr><td><div class=\"dni-plaintext\">( 8, 2 )</div></td></tr></tbody></table></td></tr></tbody></table>"
      ]
     },
     "metadata": {},
     "output_type": "display_data"
    }
   ],
   "source": [
    "#!share sampleRaw --from value\n",
    "let sampleVents = parse sampleRaw\n",
    "sampleVents"
   ]
  },
  {
   "cell_type": "markdown",
   "metadata": {
    "dotnet_interactive": {
     "language": "fsharp"
    }
   },
   "source": [
    "In part one we only need vertical and horizontal lines:"
   ]
  },
  {
   "cell_type": "code",
   "execution_count": null,
   "metadata": {
    "dotnet_interactive": {
     "language": "fsharp"
    }
   },
   "outputs": [
    {
     "data": {
      "text/html": [
       "<table><thead><tr><th><i>index</i></th><th>Item1</th><th>Item2</th></tr></thead><tbody><tr><td>0</td><td><table><thead><tr><th>Item</th></tr></thead><tbody><tr><td><div class=\"dni-plaintext\">( 0, 9 )</div></td></tr></tbody></table></td><td><table><thead><tr><th>Item</th></tr></thead><tbody><tr><td><div class=\"dni-plaintext\">( 5, 9 )</div></td></tr></tbody></table></td></tr><tr><td>1</td><td><table><thead><tr><th>Item</th></tr></thead><tbody><tr><td><div class=\"dni-plaintext\">( 9, 4 )</div></td></tr></tbody></table></td><td><table><thead><tr><th>Item</th></tr></thead><tbody><tr><td><div class=\"dni-plaintext\">( 3, 4 )</div></td></tr></tbody></table></td></tr><tr><td>2</td><td><table><thead><tr><th>Item</th></tr></thead><tbody><tr><td><div class=\"dni-plaintext\">( 2, 2 )</div></td></tr></tbody></table></td><td><table><thead><tr><th>Item</th></tr></thead><tbody><tr><td><div class=\"dni-plaintext\">( 2, 1 )</div></td></tr></tbody></table></td></tr><tr><td>3</td><td><table><thead><tr><th>Item</th></tr></thead><tbody><tr><td><div class=\"dni-plaintext\">( 7, 0 )</div></td></tr></tbody></table></td><td><table><thead><tr><th>Item</th></tr></thead><tbody><tr><td><div class=\"dni-plaintext\">( 7, 4 )</div></td></tr></tbody></table></td></tr><tr><td>4</td><td><table><thead><tr><th>Item</th></tr></thead><tbody><tr><td><div class=\"dni-plaintext\">( 0, 9 )</div></td></tr></tbody></table></td><td><table><thead><tr><th>Item</th></tr></thead><tbody><tr><td><div class=\"dni-plaintext\">( 2, 9 )</div></td></tr></tbody></table></td></tr><tr><td>5</td><td><table><thead><tr><th>Item</th></tr></thead><tbody><tr><td><div class=\"dni-plaintext\">( 3, 4 )</div></td></tr></tbody></table></td><td><table><thead><tr><th>Item</th></tr></thead><tbody><tr><td><div class=\"dni-plaintext\">( 1, 4 )</div></td></tr></tbody></table></td></tr></tbody></table>"
      ]
     },
     "metadata": {},
     "output_type": "display_data"
    }
   ],
   "source": [
    "let getHV vents = \n",
    "    vents\n",
    "    |> Array.filter (fun (Point (x1, y1), Point (x2, y2)) -> x1 = x2 || y1 = y2)\n",
    "let sampleVentsHV = getHV sampleVents\n",
    "sampleVentsHV"
   ]
  },
  {
   "cell_type": "markdown",
   "metadata": {},
   "source": [
    "The following function will analyze the direction from one point to the other and build a path between them using the range generation syntax"
   ]
  },
  {
   "cell_type": "code",
   "execution_count": null,
   "metadata": {
    "dotnet_interactive": {
     "language": "fsharp"
    }
   },
   "outputs": [],
   "source": [
    "let populateLine (p1, p2)  = \n",
    "    let (Point (x1, y1)) = p1\n",
    "    let (Point (x2, y2)) = p2\n",
    "    let dx = sign (x2 - x1)\n",
    "    let dy = sign (y2 - y1)\n",
    "    [|p1..Point (dx,dy)..p2|]"
   ]
  },
  {
   "cell_type": "markdown",
   "metadata": {},
   "source": [
    "For example:"
   ]
  },
  {
   "cell_type": "code",
   "execution_count": null,
   "metadata": {
    "dotnet_interactive": {
     "language": "fsharp"
    }
   },
   "outputs": [
    {
     "data": {
      "text/html": [
       "<table><thead><tr><th><i>index</i></th><th>Item</th></tr></thead><tbody><tr><td>0</td><td><table><thead><tr><th>Item1</th><th>Item2</th></tr></thead><tbody><tr><td><div class=\"dni-plaintext\">1</div></td><td><div class=\"dni-plaintext\">2</div></td></tr></tbody></table></td></tr><tr><td>1</td><td><table><thead><tr><th>Item1</th><th>Item2</th></tr></thead><tbody><tr><td><div class=\"dni-plaintext\">2</div></td><td><div class=\"dni-plaintext\">2</div></td></tr></tbody></table></td></tr><tr><td>2</td><td><table><thead><tr><th>Item1</th><th>Item2</th></tr></thead><tbody><tr><td><div class=\"dni-plaintext\">3</div></td><td><div class=\"dni-plaintext\">2</div></td></tr></tbody></table></td></tr><tr><td>3</td><td><table><thead><tr><th>Item1</th><th>Item2</th></tr></thead><tbody><tr><td><div class=\"dni-plaintext\">4</div></td><td><div class=\"dni-plaintext\">2</div></td></tr></tbody></table></td></tr><tr><td>4</td><td><table><thead><tr><th>Item1</th><th>Item2</th></tr></thead><tbody><tr><td><div class=\"dni-plaintext\">5</div></td><td><div class=\"dni-plaintext\">2</div></td></tr></tbody></table></td></tr></tbody></table>"
      ]
     },
     "metadata": {},
     "output_type": "display_data"
    },
    {
     "data": {
      "text/html": [
       "<table><thead><tr><th><i>index</i></th><th>Item</th></tr></thead><tbody><tr><td>0</td><td><table><thead><tr><th>Item1</th><th>Item2</th></tr></thead><tbody><tr><td><div class=\"dni-plaintext\">1</div></td><td><div class=\"dni-plaintext\">2</div></td></tr></tbody></table></td></tr><tr><td>1</td><td><table><thead><tr><th>Item1</th><th>Item2</th></tr></thead><tbody><tr><td><div class=\"dni-plaintext\">2</div></td><td><div class=\"dni-plaintext\">2</div></td></tr></tbody></table></td></tr><tr><td>2</td><td><table><thead><tr><th>Item1</th><th>Item2</th></tr></thead><tbody><tr><td><div class=\"dni-plaintext\">3</div></td><td><div class=\"dni-plaintext\">2</div></td></tr></tbody></table></td></tr><tr><td>3</td><td><table><thead><tr><th>Item1</th><th>Item2</th></tr></thead><tbody><tr><td><div class=\"dni-plaintext\">4</div></td><td><div class=\"dni-plaintext\">2</div></td></tr></tbody></table></td></tr><tr><td>4</td><td><table><thead><tr><th>Item1</th><th>Item2</th></tr></thead><tbody><tr><td><div class=\"dni-plaintext\">5</div></td><td><div class=\"dni-plaintext\">2</div></td></tr></tbody></table></td></tr></tbody></table>"
      ]
     },
     "metadata": {},
     "output_type": "display_data"
    }
   ],
   "source": [
    "populateLine (Point (1,2), Point (5,2)) |> display\n",
    "populateLine (Point (1,2), Point (5,2)) |> display"
   ]
  },
  {
   "cell_type": "code",
   "execution_count": null,
   "metadata": {
    "dotnet_interactive": {
     "language": "fsharp"
    }
   },
   "outputs": [],
   "source": [
    "let overlappingPoints vents = \n",
    "    vents\n",
    "    |> Array.collect populateLine\n",
    "    |> Array.groupBy id\n",
    "    |> Array.map (fun (point, samePoints) -> point, samePoints.Length)"
   ]
  },
  {
   "cell_type": "markdown",
   "metadata": {},
   "source": [
    "### Part 1"
   ]
  },
  {
   "cell_type": "code",
   "execution_count": null,
   "metadata": {
    "dotnet_interactive": {
     "language": "fsharp"
    }
   },
   "outputs": [],
   "source": [
    "let private format (ar) = \n",
    "    let builder = StringBuilder()\n",
    "    Printf.bprintf builder \"<table>\"\n",
    "    for i in 0..(Array2D.length2 ar - 1) do\n",
    "        Printf.bprintf builder \"<tr>\"\n",
    "        for j in 0..(Array2D.length1 ar - 1) do\n",
    "            let num = ar.[i,j]\n",
    "            if (num = 0) then \n",
    "                Printf.bprintf builder \"<td>.</td>\"\n",
    "            else Printf.bprintf builder $\"<td>{num}</td>\"\n",
    "        Printf.bprintf builder \"</tr>\"\n",
    "    Printf.bprintf builder \"</table>\"\n",
    "    builder.ToString();\n",
    "\n",
    "Formatter.Register<int[,]>((fun (ar) -> format ar), \"text/html\")"
   ]
  },
  {
   "cell_type": "code",
   "execution_count": null,
   "metadata": {
    "dotnet_interactive": {
     "language": "fsharp"
    }
   },
   "outputs": [
    {
     "data": {
      "text/html": [
       "<table><tr><td>.</td><td>.</td><td>.</td><td>.</td><td>.</td><td>.</td><td>.</td><td>1</td><td>.</td><td>.</td></tr><tr><td>.</td><td>.</td><td>1</td><td>.</td><td>.</td><td>.</td><td>.</td><td>1</td><td>.</td><td>.</td></tr><tr><td>.</td><td>.</td><td>1</td><td>.</td><td>.</td><td>.</td><td>.</td><td>1</td><td>.</td><td>.</td></tr><tr><td>.</td><td>.</td><td>.</td><td>.</td><td>.</td><td>.</td><td>.</td><td>1</td><td>.</td><td>.</td></tr><tr><td>.</td><td>1</td><td>1</td><td>2</td><td>1</td><td>1</td><td>1</td><td>2</td><td>1</td><td>1</td></tr><tr><td>.</td><td>.</td><td>.</td><td>.</td><td>.</td><td>.</td><td>.</td><td>.</td><td>.</td><td>.</td></tr><tr><td>.</td><td>.</td><td>.</td><td>.</td><td>.</td><td>.</td><td>.</td><td>.</td><td>.</td><td>.</td></tr><tr><td>.</td><td>.</td><td>.</td><td>.</td><td>.</td><td>.</td><td>.</td><td>.</td><td>.</td><td>.</td></tr><tr><td>.</td><td>.</td><td>.</td><td>.</td><td>.</td><td>.</td><td>.</td><td>.</td><td>.</td><td>.</td></tr><tr><td>2</td><td>2</td><td>2</td><td>1</td><td>1</td><td>1</td><td>.</td><td>.</td><td>.</td><td>.</td></tr></table>"
      ]
     },
     "metadata": {},
     "output_type": "display_data"
    },
    {
     "data": {
      "text/html": [
       "<div class=\"dni-plaintext\">5</div>"
      ]
     },
     "metadata": {},
     "output_type": "display_data"
    }
   ],
   "source": [
    "let private matrix = \n",
    "    let m = Array2D.create 10 10 0\n",
    "    overlappingPoints sampleVentsHV\n",
    "    |> Array.iter (fun (Point (x, y), len) -> m.[y,x] <- len)\n",
    "    m\n",
    "matrix |> display\n",
    "overlappingPoints sampleVentsHV |> Array.filter (fun (p, len) -> len > 1) |> Array.length"
   ]
  },
  {
   "cell_type": "markdown",
   "metadata": {},
   "source": [
    "For the actual input:"
   ]
  },
  {
   "cell_type": "code",
   "execution_count": null,
   "metadata": {
    "dotnet_interactive": {
     "language": "fsharp"
    }
   },
   "outputs": [],
   "source": [
    "#!value --name inputRaw --from-file ./data"
   ]
  },
  {
   "cell_type": "code",
   "execution_count": null,
   "metadata": {
    "dotnet_interactive": {
     "language": "fsharp"
    }
   },
   "outputs": [
    {
     "data": {
      "text/html": [
       "<div class=\"dni-plaintext\">6283</div>"
      ]
     },
     "metadata": {},
     "output_type": "display_data"
    }
   ],
   "source": [
    "#!share inputRaw --from value\n",
    "let vents = parse inputRaw\n",
    "let ventsHV = getHV vents\n",
    "overlappingPoints ventsHV |> Array.filter (fun (p, len) -> len > 1) |> Array.length"
   ]
  },
  {
   "cell_type": "markdown",
   "metadata": {},
   "source": [
    "### Part 2"
   ]
  },
  {
   "cell_type": "code",
   "execution_count": null,
   "metadata": {
    "dotnet_interactive": {
     "language": "fsharp"
    }
   },
   "outputs": [
    {
     "data": {
      "text/html": [
       "<table><tr><td>1</td><td>.</td><td>1</td><td>.</td><td>.</td><td>.</td><td>.</td><td>1</td><td>1</td><td>.</td></tr><tr><td>.</td><td>1</td><td>1</td><td>1</td><td>.</td><td>.</td><td>.</td><td>2</td><td>.</td><td>.</td></tr><tr><td>.</td><td>.</td><td>2</td><td>.</td><td>1</td><td>.</td><td>1</td><td>1</td><td>1</td><td>.</td></tr><tr><td>.</td><td>.</td><td>.</td><td>1</td><td>.</td><td>2</td><td>.</td><td>2</td><td>.</td><td>.</td></tr><tr><td>.</td><td>1</td><td>1</td><td>2</td><td>3</td><td>1</td><td>3</td><td>2</td><td>1</td><td>1</td></tr><tr><td>.</td><td>.</td><td>.</td><td>1</td><td>.</td><td>2</td><td>.</td><td>.</td><td>.</td><td>.</td></tr><tr><td>.</td><td>.</td><td>1</td><td>.</td><td>.</td><td>.</td><td>1</td><td>.</td><td>.</td><td>.</td></tr><tr><td>.</td><td>1</td><td>.</td><td>.</td><td>.</td><td>.</td><td>.</td><td>1</td><td>.</td><td>.</td></tr><tr><td>1</td><td>.</td><td>.</td><td>.</td><td>.</td><td>.</td><td>.</td><td>.</td><td>1</td><td>.</td></tr><tr><td>2</td><td>2</td><td>2</td><td>1</td><td>1</td><td>1</td><td>.</td><td>.</td><td>.</td><td>.</td></tr></table>"
      ]
     },
     "metadata": {},
     "output_type": "display_data"
    },
    {
     "data": {
      "text/html": [
       "<div class=\"dni-plaintext\">12</div>"
      ]
     },
     "metadata": {},
     "output_type": "display_data"
    }
   ],
   "source": [
    "let private matrix = \n",
    "    let m = Array2D.create 10 10 0\n",
    "    overlappingPoints sampleVents\n",
    "    |> Array.iter (fun (Point (x, y), len) -> m.[y,x] <- len)\n",
    "    m\n",
    "matrix |> display\n",
    "overlappingPoints sampleVents |> Array.filter (fun (p, len) -> len > 1) |> Array.length"
   ]
  },
  {
   "cell_type": "markdown",
   "metadata": {},
   "source": [
    "For the actual input:"
   ]
  },
  {
   "cell_type": "code",
   "execution_count": null,
   "metadata": {
    "dotnet_interactive": {
     "language": "fsharp"
    }
   },
   "outputs": [
    {
     "data": {
      "text/html": [
       "<div class=\"dni-plaintext\">18864</div>"
      ]
     },
     "metadata": {},
     "output_type": "display_data"
    }
   ],
   "source": [
    "overlappingPoints vents |> Array.filter (fun (p, len) -> len > 1) |> Array.length"
   ]
  }
 ],
 "metadata": {
  "kernelspec": {
   "display_name": ".NET (F#)",
   "language": "F#",
   "name": ".net-fsharp"
  },
  "language_info": {
   "name": "F#"
  }
 },
 "nbformat": 4,
 "nbformat_minor": 2
}

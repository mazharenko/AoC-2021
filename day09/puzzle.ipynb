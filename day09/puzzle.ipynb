{
 "cells": [
  {
   "cell_type": "markdown",
   "metadata": {},
   "source": [
    "## Day 9: Smoke Basin\n",
    "[link](https://adventofcode.com/2021/day/9)"
   ]
  },
  {
   "cell_type": "code",
   "execution_count": null,
   "metadata": {
    "dotnet_interactive": {
     "language": "fsharp"
    }
   },
   "outputs": [],
   "source": [
    "#!value --name sampleRaw\n",
    "2199943210\n",
    "3987894921\n",
    "9856789892\n",
    "8767896789\n",
    "9899965678"
   ]
  },
  {
   "cell_type": "code",
   "execution_count": null,
   "metadata": {
    "dotnet_interactive": {
     "language": "fsharp"
    }
   },
   "outputs": [],
   "source": [
    "#!value --name inputRaw --from-file ./data"
   ]
  },
  {
   "cell_type": "code",
   "execution_count": null,
   "metadata": {
    "dotnet_interactive": {
     "language": "fsharp"
    }
   },
   "outputs": [],
   "source": [
    "\n",
    "#!share sampleRaw --from value\n",
    "#!share inputRaw --from value"
   ]
  },
  {
   "cell_type": "code",
   "execution_count": null,
   "metadata": {
    "dotnet_interactive": {
     "language": "fsharp"
    }
   },
   "outputs": [
    {
     "data": {
      "text/html": [
       "<table><tr><td>2</td><td>1</td><td>9</td><td>9</td><td>9</td><td>4</td><td>3</td><td>2</td><td>1</td><td>0</td></tr><tr><td>3</td><td>9</td><td>8</td><td>7</td><td>8</td><td>9</td><td>4</td><td>9</td><td>2</td><td>1</td></tr><tr><td>9</td><td>8</td><td>5</td><td>6</td><td>7</td><td>8</td><td>9</td><td>8</td><td>9</td><td>2</td></tr><tr><td>8</td><td>7</td><td>6</td><td>7</td><td>8</td><td>9</td><td>6</td><td>7</td><td>8</td><td>9</td></tr><tr><td>9</td><td>8</td><td>9</td><td>9</td><td>9</td><td>6</td><td>5</td><td>6</td><td>7</td><td>8</td></tr></table>"
      ]
     },
     "metadata": {},
     "output_type": "display_data"
    }
   ],
   "source": [
    "#load \"../common.fsx\"\n",
    "#load \"../formatting.fsx\"\n",
    "\n",
    "Formatter.Register<int[,]>((fun matrix -> formatTable (string) matrix), \"text/html\")\n",
    "Formatter.Register<(int option)[,]>((fun matrix -> formatTable (function | None -> \".\" | Some value -> string value) matrix), \"text/html\")\n",
    "\n",
    "let parse input = \n",
    "    read2d input\n",
    "    |> Array2D.map (string >> int)\n",
    "let sampleHeightMap = parse sampleRaw |> displayPipe\n",
    "let actualHeightMap = parse inputRaw"
   ]
  },
  {
   "cell_type": "code",
   "execution_count": null,
   "metadata": {
    "dotnet_interactive": {
     "language": "fsharp"
    }
   },
   "outputs": [
    {
     "data": {
      "text/html": [
       "<table><tr><td>.</td><td>1</td><td>.</td><td>.</td><td>.</td><td>.</td><td>.</td><td>.</td><td>.</td><td>0</td></tr><tr><td>.</td><td>.</td><td>.</td><td>.</td><td>.</td><td>.</td><td>.</td><td>.</td><td>.</td><td>.</td></tr><tr><td>.</td><td>.</td><td>5</td><td>.</td><td>.</td><td>.</td><td>.</td><td>.</td><td>.</td><td>.</td></tr><tr><td>.</td><td>.</td><td>.</td><td>.</td><td>.</td><td>.</td><td>.</td><td>.</td><td>.</td><td>.</td></tr><tr><td>.</td><td>.</td><td>.</td><td>.</td><td>.</td><td>.</td><td>5</td><td>.</td><td>.</td><td>.</td></tr></table>"
      ]
     },
     "metadata": {},
     "output_type": "display_data"
    },
    {
     "data": {
      "text/html": [
       "<div class=\"dni-plaintext\">15</div>"
      ]
     },
     "metadata": {},
     "output_type": "display_data"
    },
    {
     "data": {
      "text/html": [
       "<div class=\"dni-plaintext\">417</div>"
      ]
     },
     "metadata": {},
     "output_type": "display_data"
    }
   ],
   "source": [
    "let lowPoints (heightMap : int[,]) = \n",
    "    Array2D.mapi (fun i j value ->\n",
    "                            let adj = \n",
    "                                [|\n",
    "                                    // use slicing opertator in order not to check boundaries.\n",
    "                                    // each line returns at most one adjacent element\n",
    "                                    heightMap.[i-1..i-1, j]\n",
    "                                    heightMap.[i+1..i+1, j]\n",
    "                                    heightMap.[i, j-1..j-1]\n",
    "                                    heightMap.[i, j+1..j+1]\n",
    "                                |] |> Array.collect id\n",
    "                            \n",
    "                            if (value < Array.min adj)\n",
    "                            then Some value\n",
    "                            else None\n",
    "                        ) heightMap\n",
    "\n",
    "lowPoints sampleHeightMap |> display\n",
    "let riskLevel lowPointsMap = \n",
    "    lowPointsMap\n",
    "    |> Array2D.toArray \n",
    "    |> Array.choose id\n",
    "    |> Array.map ((+) 1)\n",
    "    |> Array.sum\n",
    "lowPoints sampleHeightMap |> riskLevel |> display\n",
    "lowPoints actualHeightMap |> riskLevel |> display"
   ]
  },
  {
   "cell_type": "code",
   "execution_count": null,
   "metadata": {
    "dotnet_interactive": {
     "language": "fsharp"
    }
   },
   "outputs": [],
   "source": [
    "let (|Empty|NotEmpty|) set =\n",
    "    if (Set.isEmpty set) then Empty\n",
    "    else\n",
    "        let head = Seq.head set\n",
    "        NotEmpty (head, (Set.remove head set))\n",
    "let basins (heightMap : int[,]) = \n",
    "    let allIndices = \n",
    "        heightMap |> Array2D.mapi (fun i j value -> match value with | 9 -> None | _ -> Some (i,j))\n",
    "        |> Seq.cast<(int*int) option>\n",
    "        |> Seq.choose id\n",
    "        |> Set.ofSeq\n",
    "        \n",
    "    let rec findBasin i j indicesLeft basinAcc =\n",
    "        if (not <| Set.contains (i,j) indicesLeft) then indicesLeft, basinAcc\n",
    "        else \n",
    "            let newIndices = indicesLeft |> Set.remove (i,j)\n",
    "            (newIndices, (i,j)::basinAcc)\n",
    "            ||> findBasin (i-1) j\n",
    "            ||> findBasin i (j-1)\n",
    "            ||> findBasin (i+1) j\n",
    "            ||> findBasin i (j+1)\n",
    "\n",
    "    let rec find (indicesLeft:Set<int*int>) (basinsAcc : (int*int) list list) =\n",
    "        if (Set.isEmpty indicesLeft) then basinsAcc\n",
    "        else\n",
    "            let (i,j) = Seq.head indicesLeft\n",
    "            let (newIndicesLeft, basin) = findBasin i j indicesLeft []\n",
    "            basin :: (find newIndicesLeft [])\n",
    "     \n",
    "    find allIndices [] |> List.filter (not << List.isEmpty)"
   ]
  },
  {
   "cell_type": "code",
   "execution_count": null,
   "metadata": {
    "dotnet_interactive": {
     "language": "fsharp"
    }
   },
   "outputs": [
    {
     "data": {
      "text/html": [
       "<table><tr><td>0</td><td>0</td><td>.</td><td>.</td><td>.</td><td>1</td><td>1</td><td>1</td><td>1</td><td>1</td></tr><tr><td>0</td><td>.</td><td>2</td><td>2</td><td>2</td><td>.</td><td>1</td><td>.</td><td>1</td><td>1</td></tr><tr><td>.</td><td>2</td><td>2</td><td>2</td><td>2</td><td>2</td><td>.</td><td>3</td><td>.</td><td>1</td></tr><tr><td>2</td><td>2</td><td>2</td><td>2</td><td>2</td><td>.</td><td>3</td><td>3</td><td>3</td><td>.</td></tr><tr><td>.</td><td>2</td><td>.</td><td>.</td><td>.</td><td>3</td><td>3</td><td>3</td><td>3</td><td>3</td></tr></table>"
      ]
     },
     "metadata": {},
     "output_type": "display_data"
    }
   ],
   "source": [
    "let private showBasins (basins: (int*int) list list) (heightMap: int[,]) = \n",
    "    let basinsMap = Array2D.zeroCreate (Array2D.length1 heightMap) (Array2D.length2 heightMap)\n",
    "    basins\n",
    "    |> Seq.iteri (fun num basin -> basin |> Seq.iter (fun (i,j) -> basinsMap.[i,j] <- Some num))\n",
    "    basinsMap |> display |> ignore\n",
    "\n",
    "showBasins (basins sampleHeightMap) sampleHeightMap"
   ]
  },
  {
   "cell_type": "code",
   "execution_count": null,
   "metadata": {
    "dotnet_interactive": {
     "language": "fsharp"
    }
   },
   "outputs": [
    {
     "data": {
      "text/html": [
       "<div class=\"dni-plaintext\">1134</div>"
      ]
     },
     "metadata": {},
     "output_type": "display_data"
    },
    {
     "data": {
      "text/html": [
       "<div class=\"dni-plaintext\">1148965</div>"
      ]
     },
     "metadata": {},
     "output_type": "display_data"
    }
   ],
   "source": [
    "let private multiplyTop3 basins = \n",
    "    basins\n",
    "    |> Seq.sortByDescending List.length\n",
    "    |> Seq.take 3\n",
    "    |> Seq.map List.length\n",
    "    |> Seq.reduce (*)\n",
    "\n",
    "multiplyTop3 (basins sampleHeightMap) |> display\n",
    "multiplyTop3 (basins actualHeightMap) |> display"
   ]
  }
 ],
 "metadata": {
  "kernelspec": {
   "display_name": ".NET (F#)",
   "language": "F#",
   "name": ".net-fsharp"
  },
  "language_info": {
   "name": "F#"
  }
 },
 "nbformat": 4,
 "nbformat_minor": 2
}

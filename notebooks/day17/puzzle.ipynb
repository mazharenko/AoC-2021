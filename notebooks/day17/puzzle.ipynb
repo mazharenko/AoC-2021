{
 "cells": [
  {
   "cell_type": "markdown",
   "metadata": {},
   "source": [
    "## Day 17: Trick Shot\n",
    "\n",
    "[![nbviewer](https://raw.githubusercontent.com/jupyter/design/master/logos/Badges/nbviewer_badge.svg)](https://nbviewer.org/github/mazharenko/AoC-2021/tree/HEAD/notebooks/day17/puzzle.ipynb)\n",
    "\n",
    "[Problem statement](https://adventofcode.com/2021/day/17)"
   ]
  },
  {
   "cell_type": "code",
   "execution_count": null,
   "metadata": {
    "dotnet_interactive": {
     "language": "fsharp"
    }
   },
   "outputs": [],
   "source": [
    "#load \"../common.fsx\"\n",
    "\n",
    "type Target = {XFrom: int; YFrom: int; XTo: int; YTo: int}\n",
    "\n",
    "let rec stepUntil (vx, vy) ((x, y)::trajectory) (target: Target) =\n",
    "    match x,y with \n",
    "    | BetweenInclusive (target.XFrom) (target.XTo),\n",
    "      BetweenInclusive (target.YFrom) (target.YTo) -> \n",
    "            Some ((x, y)::trajectory)\n",
    "    | _ when x > target.XTo -> None\n",
    "    | _ when vy < 0 && y < target.YFrom -> None\n",
    "    | _ -> \n",
    "        let newv = (vx - (sign vx), vy - 1)\n",
    "        let newPoint = (x + vx, y + vy)\n",
    "        stepUntil newv (newPoint::(x, y)::trajectory) target "
   ]
  },
  {
   "cell_type": "code",
   "execution_count": null,
   "metadata": {
    "dotnet_interactive": {
     "language": "fsharp"
    }
   },
   "outputs": [
    {
     "data": {
      "text/html": [
       "<table><thead><tr><th>Value</th></tr></thead><tbody><tr><td><div class=\"dni-plaintext\">[ ( 0, 0 ), ( 7, 2 ), ( 13, 3 ), ( 18, 3 ), ( 22, 2 ), ( 25, 0 ), ( 27, -3 ), ( 28, -7 ) ]</div></td></tr></tbody></table>"
      ]
     },
     "metadata": {},
     "output_type": "display_data"
    }
   ],
   "source": [
    "{XFrom = 20; XTo = 30; YFrom = -10; YTo = -5}\n",
    "|> stepUntil (7, 2) [(0, 0)]\n",
    "|> Option.map List.rev"
   ]
  },
  {
   "cell_type": "code",
   "execution_count": null,
   "metadata": {
    "dotnet_interactive": {
     "language": "fsharp"
    }
   },
   "outputs": [
    {
     "data": {
      "text/html": [
       "<table><thead><tr><th>Value</th></tr></thead><tbody><tr><td><div class=\"dni-plaintext\">[ ( 0, 0 ), ( 6, 3 ), ( 11, 5 ), ( 15, 6 ), ( 18, 6 ), ( 20, 5 ), ( 21, 3 ), ( 21, 0 ), ( 21, -4 ), ( 21, -9 ) ]</div></td></tr></tbody></table>"
      ]
     },
     "metadata": {},
     "output_type": "display_data"
    }
   ],
   "source": [
    "{XFrom = 20; XTo = 30; YFrom = -10; YTo = -5}\n",
    "|> stepUntil (6, 3) [(0, 0)]\n",
    "|> Option.map List.rev"
   ]
  },
  {
   "cell_type": "code",
   "execution_count": null,
   "metadata": {
    "dotnet_interactive": {
     "language": "fsharp"
    }
   },
   "outputs": [
    {
     "data": {
      "text/html": [
       "<div class=\"dni-plaintext\">&lt;null&gt;</div>"
      ]
     },
     "metadata": {},
     "output_type": "display_data"
    }
   ],
   "source": [
    "{XFrom = 20; XTo = 30; YFrom = -10; YTo = -5}\n",
    "|> stepUntil (17, -4) [(0, 0)]\n",
    "|> Option.map List.rev"
   ]
  },
  {
   "cell_type": "code",
   "execution_count": null,
   "metadata": {
    "dotnet_interactive": {
     "language": "fsharp"
    }
   },
   "outputs": [],
   "source": [
    "let allHits target =\n",
    "    ([0..target.XTo], [target.YFrom..1000])\n",
    "    ||> Seq.allPairs    \n",
    "    |> Seq.choose(fun v -> stepUntil v [0, 0] target |> Option.map (fun r -> v, r))\n",
    "    |> List.ofSeq\n",
    "\n",
    "let solveTrickshot target =\n",
    "    allHits target\n",
    "    |> Seq.map(fun (v, traj) -> v, traj, List.maxBy (fun (_, y) -> y) traj)\n",
    "    |> Seq.maxBy(fun (_, _, (_, maxy)) -> maxy)\n"
   ]
  },
  {
   "cell_type": "code",
   "execution_count": null,
   "metadata": {
    "dotnet_interactive": {
     "language": "fsharp"
    }
   },
   "outputs": [
    {
     "data": {
      "text/html": [
       "<table><thead><tr><th>Item1</th><th>Item2</th><th>Item3</th></tr></thead><tbody><tr><td><div class=\"dni-plaintext\">( 6, 9 )</div></td><td><div class=\"dni-plaintext\">[ ( 21, -10 ), ( 21, 0 ), ( 21, 9 ), ( 21, 17 ), ( 21, 24 ), ( 21, 30 ), ( 21, 35 ), ( 21, 39 ), ( 21, 42 ), ( 21, 44 ), ( 21, 45 ), ( 21, 45 ), ( 21, 44 ), ( 21, 42 ), ( 21, 39 ), ( 20, 35 ), ( 18, 30 ), ( 15, 24 ), ( 11, 17 ), ( 6, 9 ) ... (more) ]</div></td><td><div class=\"dni-plaintext\">( 21, 45 )</div></td></tr></tbody></table>"
      ]
     },
     "metadata": {},
     "output_type": "display_data"
    }
   ],
   "source": [
    "{XFrom = 20; XTo = 30; YFrom = -10; YTo = -5}\n",
    "|> solveTrickshot"
   ]
  },
  {
   "cell_type": "code",
   "execution_count": null,
   "metadata": {
    "dotnet_interactive": {
     "language": "fsharp"
    }
   },
   "outputs": [
    {
     "data": {
      "text/html": [
       "<table><thead><tr><th>Item1</th><th>Item2</th><th>Item3</th></tr></thead><tbody><tr><td><div class=\"dni-plaintext\">( 16, 141 )</div></td><td><div class=\"dni-plaintext\">[ ( 136, -142 ), ( 136, 0 ), ( 136, 141 ), ( 136, 281 ), ( 136, 420 ), ( 136, 558 ), ( 136, 695 ), ( 136, 831 ), ( 136, 966 ), ( 136, 1100 ), ( 136, 1233 ), ( 136, 1365 ), ( 136, 1496 ), ( 136, 1626 ), ( 136, 1755 ), ( 136, 1883 ), ( 136, 2010 ), ( 136, 2136 ), ( 136, 2261 ), ( 136, 2385 ) ... (more) ]</div></td><td><div class=\"dni-plaintext\">( 136, 10011 )</div></td></tr></tbody></table>"
      ]
     },
     "metadata": {},
     "output_type": "display_data"
    }
   ],
   "source": [
    "{XFrom = 128; XTo = 160; YFrom = -142; YTo = -88}\n",
    "|> solveTrickshot"
   ]
  },
  {
   "cell_type": "code",
   "execution_count": null,
   "metadata": {
    "dotnet_interactive": {
     "language": "fsharp"
    }
   },
   "outputs": [
    {
     "data": {
      "text/html": [
       "<div class=\"dni-plaintext\">112</div>"
      ]
     },
     "metadata": {},
     "output_type": "display_data"
    }
   ],
   "source": [
    "{XFrom = 20; XTo = 30; YFrom = -10; YTo = -5}\n",
    "|> allHits |> List.length"
   ]
  },
  {
   "cell_type": "code",
   "execution_count": null,
   "metadata": {
    "dotnet_interactive": {
     "language": "fsharp"
    }
   },
   "outputs": [
    {
     "data": {
      "text/html": [
       "<div class=\"dni-plaintext\">2994</div>"
      ]
     },
     "metadata": {},
     "output_type": "display_data"
    }
   ],
   "source": [
    "{XFrom = 128; XTo = 160; YFrom = -142; YTo = -88}\n",
    "|> allHits |> List.length"
   ]
  }
 ],
 "metadata": {
  "kernelspec": {
   "display_name": ".NET (F#)",
   "language": "F#",
   "name": ".net-fsharp"
  },
  "language_info": {
   "name": "F#"
  }
 },
 "nbformat": 4,
 "nbformat_minor": 2
}

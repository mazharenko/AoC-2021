{
 "cells": [
  {
   "cell_type": "markdown",
   "metadata": {
    "dotnet_interactive": {
     "language": "fsharp"
    }
   },
   "source": [
    "## Day 12: Passage Pathing\n",
    "\n",
    "[![nbviewer](https://raw.githubusercontent.com/jupyter/design/master/logos/Badges/nbviewer_badge.svg)](https://nbviewer.org/github/mazharenko/AoC-2021/tree/HEAD/notebooks/day12/puzzle.ipynb)\n",
    "\n",
    "[Problem statement](https://adventofcode.com/2021/day/12)"
   ]
  },
  {
   "cell_type": "code",
   "execution_count": null,
   "metadata": {
    "dotnet_interactive": {
     "language": "fsharp"
    }
   },
   "outputs": [],
   "source": [
    "#!value --name sampleRaw\n",
    "start-A\n",
    "start-b\n",
    "A-c\n",
    "A-b\n",
    "b-d\n",
    "A-end\n",
    "b-end"
   ]
  },
  {
   "cell_type": "code",
   "execution_count": null,
   "metadata": {
    "dotnet_interactive": {
     "language": "fsharp"
    }
   },
   "outputs": [],
   "source": [
    "#!value --name inputRaw\n",
    "dr-of\n",
    "start-KT\n",
    "yj-sk\n",
    "start-gb\n",
    "of-start\n",
    "IJ-end\n",
    "VT-sk\n",
    "end-sk\n",
    "VT-km\n",
    "KT-end\n",
    "IJ-of\n",
    "dr-IJ\n",
    "yj-IJ\n",
    "KT-yj\n",
    "gb-VT\n",
    "dr-yj\n",
    "VT-of\n",
    "PZ-dr\n",
    "KT-of\n",
    "KT-gb\n",
    "of-gb\n",
    "dr-sk\n",
    "dr-VT"
   ]
  },
  {
   "cell_type": "code",
   "execution_count": null,
   "metadata": {
    "dotnet_interactive": {
     "language": "fsharp"
    }
   },
   "outputs": [
    {
     "data": {
      "text/html": [
       "<div><div></div><div></div><div><strong>Installed Packages</strong><ul><li><span>Microsoft.DotNet.Interactive.ExtensionLab, 1.0.0-beta.21606.1</span></li></ul></div></div>"
      ]
     },
     "metadata": {},
     "output_type": "display_data"
    }
   ],
   "source": [
    "#r \"nuget: Microsoft.DotNet.Interactive.ExtensionLab,1.0.0-beta.21606.1\""
   ]
  },
  {
   "cell_type": "code",
   "execution_count": null,
   "metadata": {
    "dotnet_interactive": {
     "language": "fsharp"
    }
   },
   "outputs": [],
   "source": [
    "type Node = \n",
    "    | Start\n",
    "    | End\n",
    "    | Large of string\n",
    "    | Small of string\n",
    "type Path = Node list"
   ]
  },
  {
   "cell_type": "code",
   "execution_count": null,
   "metadata": {
    "dotnet_interactive": {
     "language": "fsharp"
    }
   },
   "outputs": [],
   "source": [
    "module Formatting =\n",
    "    open Microsoft.DotNet.Interactive.ExtensionLab\n",
    "    let formatNode node =\n",
    "        match node with\n",
    "        | Start -> \"START\"\n",
    "        | End -> \"END\"\n",
    "        | Large x -> x.ToUpperInvariant()\n",
    "        | Small x -> x.ToLowerInvariant()\n",
    "    let displayNode = formatNode >> display\n",
    "    let formatNodePair (n1, n2) = \n",
    "        $\"{formatNode n1} → {formatNode n2}\"\n",
    "    let displayNodePair = formatNodePair >> display\n",
    "    let formatPath list = \n",
    "        String.Join(\" → \", (list |> List.map (formatNode)))\n",
    "    let displayPath = formatPath >> display\n",
    "    let displayGraph (adjacencies: (Node*Node)[]) = \n",
    "        let normalized = \n",
    "            adjacencies \n",
    "            |> Array.map (fun (from, ``to``) -> Set.empty.Add(from).Add(``to``))\n",
    "            |> Array.distinct\n",
    "            |> Array.map (List.ofSeq)\n",
    "            |> Array.choose (function | [x; y] -> Some (x,y) | _ -> None)\n",
    "        let mermaidNode node =\n",
    "            match node with\n",
    "            | Start -> \"START\"\n",
    "            | End -> \"END\"\n",
    "            | Large x -> $\"{x}{{{x}}}\"\n",
    "            | Small x -> $\"{x}({x})\"\n",
    "        let mermaidLines = \n",
    "            normalized\n",
    "            |> Array.map (fun (x,y) -> $\"    {mermaidNode x} --- {mermaidNode y}\")\n",
    "            |> Array.append [|\"graph TD\"|]\n",
    "        String.Join(\"\\n\", mermaidLines)\n",
    "        |> MermaidMarkdown\n",
    "        |> display\n",
    "        |> ignore"
   ]
  },
  {
   "cell_type": "code",
   "execution_count": null,
   "metadata": {
    "dotnet_interactive": {
     "language": "fsharp"
    }
   },
   "outputs": [
    {
     "data": {
      "text/plain": [
       "All adjacencies:"
      ]
     },
     "metadata": {},
     "output_type": "display_data"
    },
    {
     "data": {
      "text/html": [
       "<table><thead><tr><th><i>index</i></th><th>value</th></tr></thead><tbody><tr><td>0</td><td>START → A</td></tr><tr><td>1</td><td>A → START</td></tr><tr><td>2</td><td>START → b</td></tr><tr><td>3</td><td>b → START</td></tr><tr><td>4</td><td>A → c</td></tr><tr><td>5</td><td>c → A</td></tr><tr><td>6</td><td>A → b</td></tr><tr><td>7</td><td>b → A</td></tr><tr><td>8</td><td>b → d</td></tr><tr><td>9</td><td>d → b</td></tr><tr><td>10</td><td>A → END</td></tr><tr><td>11</td><td>END → A</td></tr><tr><td>12</td><td>b → END</td></tr><tr><td>13</td><td>END → b</td></tr></tbody></table>"
      ]
     },
     "metadata": {},
     "output_type": "display_data"
    }
   ],
   "source": [
    "#load \"../common.fsx\"\n",
    "\n",
    "let parse input =\n",
    "    let node s =\n",
    "        match s with\n",
    "        | \"start\" -> Start\n",
    "        | \"end\" -> End\n",
    "        | x when x.ToUpperInvariant() = x -> Large x\n",
    "        | x when x.ToLowerInvariant() = x -> Small x\n",
    "        | _ -> failwith \"Unexpected input\"\n",
    "    readLines input \n",
    "    |> Seq.map (splitToTuple2 [|\"-\"|]) \n",
    "    |> Seq.map (fun (n1, n2) -> node n1, node n2)\n",
    "    |> Seq.collect (fun (x1,x2) -> [|x1,x2; x2,x1|])\n",
    "    |> Array.ofSeq\n",
    "\n",
    "#!share sampleRaw --from value\n",
    "#!share inputRaw --from value\n",
    "let sampleAdjacency = parse sampleRaw \n",
    "let actualAdjacency = parse inputRaw\n",
    "\n",
    "\"All adjacencies:\" |> display\n",
    "sampleAdjacency |> Array.map Formatting.formatNodePair |> display"
   ]
  },
  {
   "cell_type": "code",
   "execution_count": null,
   "metadata": {
    "dotnet_interactive": {
     "language": "fsharp"
    }
   },
   "outputs": [
    {
     "data": {
      "text/html": [
       "<div style=\"background-color:white;\">\r\n",
       "<script type=\"text/javascript\">\r\n",
       "\r\n",
       "loadMermaid_337403e14b224e1da2ee1318b8284b7d = () => {\r\n",
       " \r\n",
       "        (require.config({ 'paths': { 'context': '1.0.252001', 'mermaidUri' : 'https://colombod.github.io/dotnet-interactive-cdn/extensionlab/1.0.252001/mermaid/mermaidapi', 'urlArgs': 'cacheBuster=c1495c2b464f430e8335b80d754676c9' }}) || require)(['mermaidUri'], (mermaid) => {\r\n",
       "\r\n",
       "            let renderTarget = document.getElementById('337403e14b224e1da2ee1318b8284b7d');\r\n",
       "            mermaid.render( \r\n",
       "                'mermaid_337403e14b224e1da2ee1318b8284b7d', \r\n",
       "                `graph TD\n",
       "    START --- A{A}\n",
       "    START --- b(b)\n",
       "    A{A} --- c(c)\n",
       "    A{A} --- b(b)\n",
       "    b(b) --- d(d)\n",
       "    END --- A{A}\n",
       "    END --- b(b)`, \r\n",
       "                g => {\r\n",
       "                    renderTarget.innerHTML = g \r\n",
       "                });\r\n",
       "        },\r\n",
       "        (error) => {\r\n",
       "            console.log(error);\r\n",
       "        });\r\n",
       "}\r\n",
       "// ensure `require` is available globally\r\n",
       "if ((typeof(require) !==  typeof(Function)) || (typeof(require.config) !== typeof(Function))) {\r\n",
       "    let require_script = document.createElement('script');\r\n",
       "    require_script.setAttribute('src', 'https://cdnjs.cloudflare.com/ajax/libs/require.js/2.3.6/require.min.js');\r\n",
       "    require_script.setAttribute('type', 'text/javascript');\r\n",
       "    \r\n",
       "    \r\n",
       "    require_script.onload = function() {\r\n",
       "        loadMermaid_337403e14b224e1da2ee1318b8284b7d();\r\n",
       "    };\r\n",
       "\r\n",
       "    document.getElementsByTagName('head')[0].appendChild(require_script);\r\n",
       "}\r\n",
       "else {\r\n",
       "    loadMermaid_337403e14b224e1da2ee1318b8284b7d();\r\n",
       "}\r\n",
       "\r\n",
       "</script>\r\n",
       "<div id=\"337403e14b224e1da2ee1318b8284b7d\"></div>\r\n",
       "</div>\r\n"
      ]
     },
     "metadata": {},
     "output_type": "display_data"
    }
   ],
   "source": [
    "Formatting.displayGraph sampleAdjacency"
   ]
  },
  {
   "cell_type": "code",
   "execution_count": null,
   "metadata": {
    "dotnet_interactive": {
     "language": "fsharp"
    }
   },
   "outputs": [
    {
     "data": {
      "text/html": [
       "<div style=\"background-color:white;\">\r\n",
       "<script type=\"text/javascript\">\r\n",
       "\r\n",
       "loadMermaid_619af42a8e46455dae65d04496c57cbf = () => {\r\n",
       " \r\n",
       "        (require.config({ 'paths': { 'context': '1.0.252001', 'mermaidUri' : 'https://colombod.github.io/dotnet-interactive-cdn/extensionlab/1.0.252001/mermaid/mermaidapi', 'urlArgs': 'cacheBuster=c1495c2b464f430e8335b80d754676c9' }}) || require)(['mermaidUri'], (mermaid) => {\r\n",
       "\r\n",
       "            let renderTarget = document.getElementById('619af42a8e46455dae65d04496c57cbf');\r\n",
       "            mermaid.render( \r\n",
       "                'mermaid_619af42a8e46455dae65d04496c57cbf', \r\n",
       "                `graph TD\n",
       "    dr(dr) --- of(of)\n",
       "    START --- KT{KT}\n",
       "    sk(sk) --- yj(yj)\n",
       "    START --- gb(gb)\n",
       "    START --- of(of)\n",
       "    END --- IJ{IJ}\n",
       "    VT{VT} --- sk(sk)\n",
       "    END --- sk(sk)\n",
       "    VT{VT} --- km(km)\n",
       "    END --- KT{KT}\n",
       "    IJ{IJ} --- of(of)\n",
       "    IJ{IJ} --- dr(dr)\n",
       "    IJ{IJ} --- yj(yj)\n",
       "    KT{KT} --- yj(yj)\n",
       "    VT{VT} --- gb(gb)\n",
       "    dr(dr) --- yj(yj)\n",
       "    VT{VT} --- of(of)\n",
       "    PZ{PZ} --- dr(dr)\n",
       "    KT{KT} --- of(of)\n",
       "    KT{KT} --- gb(gb)\n",
       "    gb(gb) --- of(of)\n",
       "    dr(dr) --- sk(sk)\n",
       "    VT{VT} --- dr(dr)`, \r\n",
       "                g => {\r\n",
       "                    renderTarget.innerHTML = g \r\n",
       "                });\r\n",
       "        },\r\n",
       "        (error) => {\r\n",
       "            console.log(error);\r\n",
       "        });\r\n",
       "}\r\n",
       "// ensure `require` is available globally\r\n",
       "if ((typeof(require) !==  typeof(Function)) || (typeof(require.config) !== typeof(Function))) {\r\n",
       "    let require_script = document.createElement('script');\r\n",
       "    require_script.setAttribute('src', 'https://cdnjs.cloudflare.com/ajax/libs/require.js/2.3.6/require.min.js');\r\n",
       "    require_script.setAttribute('type', 'text/javascript');\r\n",
       "    \r\n",
       "    \r\n",
       "    require_script.onload = function() {\r\n",
       "        loadMermaid_619af42a8e46455dae65d04496c57cbf();\r\n",
       "    };\r\n",
       "\r\n",
       "    document.getElementsByTagName('head')[0].appendChild(require_script);\r\n",
       "}\r\n",
       "else {\r\n",
       "    loadMermaid_619af42a8e46455dae65d04496c57cbf();\r\n",
       "}\r\n",
       "\r\n",
       "</script>\r\n",
       "<div id=\"619af42a8e46455dae65d04496c57cbf\"></div>\r\n",
       "</div>\r\n"
      ]
     },
     "metadata": {},
     "output_type": "display_data"
    }
   ],
   "source": [
    "Formatting.displayGraph actualAdjacency"
   ]
  },
  {
   "cell_type": "code",
   "execution_count": null,
   "metadata": {
    "dotnet_interactive": {
     "language": "fsharp"
    }
   },
   "outputs": [],
   "source": [
    "let rec findPaths currentNode toNode adjacencies (visited: Map<Node, int>) visitCriteria =\n",
    "    let newVisited = Map.change currentNode (fun x -> Some ((defaultArg x 0) + 1)) visited\n",
    "    if (currentNode = toNode)\n",
    "    then [[toNode]]\n",
    "    else\n",
    "        let whereCanGo = \n",
    "            adjacencies\n",
    "            |> Array.where (fst >> ((=)currentNode)) |> Array.map snd\n",
    "            |> Array.filter (visitCriteria newVisited)\n",
    "        whereCanGo\n",
    "        |> Array.map (fun candidate -> findPaths candidate toNode adjacencies newVisited visitCriteria)\n",
    "        |> List.ofArray\n",
    "        |> List.collect id\n",
    "        |> List.map (fun x -> currentNode::x)\n",
    "        |> List.distinct"
   ]
  },
  {
   "cell_type": "code",
   "execution_count": null,
   "metadata": {
    "dotnet_interactive": {
     "language": "fsharp"
    }
   },
   "outputs": [],
   "source": [
    "let part1CanVisitCriteria visited candidate = \n",
    "    match candidate with\n",
    "    | Start -> not <| Map.containsKey Start visited\n",
    "    | End -> not <| Map.containsKey End visited\n",
    "    | Large _ -> true\n",
    "    | Small x -> not <| Map.containsKey (Small x) visited\n",
    "    "
   ]
  },
  {
   "cell_type": "code",
   "execution_count": null,
   "metadata": {
    "dotnet_interactive": {
     "language": "fsharp"
    }
   },
   "outputs": [
    {
     "data": {
      "text/html": [
       "<table><thead><tr><th><i>index</i></th><th>value</th></tr></thead><tbody><tr><td>0</td><td>START → A → c → A → b → A → END</td></tr><tr><td>1</td><td>START → A → c → A → b → END</td></tr><tr><td>2</td><td>START → A → c → A → END</td></tr><tr><td>3</td><td>START → A → b → A → c → A → END</td></tr><tr><td>4</td><td>START → A → b → A → END</td></tr><tr><td>5</td><td>START → A → b → END</td></tr><tr><td>6</td><td>START → A → END</td></tr><tr><td>7</td><td>START → b → A → c → A → END</td></tr><tr><td>8</td><td>START → b → A → END</td></tr><tr><td>9</td><td>START → b → END</td></tr></tbody></table>"
      ]
     },
     "metadata": {},
     "output_type": "display_data"
    }
   ],
   "source": [
    "findPaths Start End sampleAdjacency Map.empty part1CanVisitCriteria\n",
    "|> List.map Formatting.formatPath"
   ]
  },
  {
   "cell_type": "code",
   "execution_count": null,
   "metadata": {
    "dotnet_interactive": {
     "language": "fsharp"
    }
   },
   "outputs": [
    {
     "data": {
      "text/html": [
       "<div class=\"dni-plaintext\">4691</div>"
      ]
     },
     "metadata": {},
     "output_type": "display_data"
    }
   ],
   "source": [
    "findPaths Start End actualAdjacency Map.empty part1CanVisitCriteria \n",
    "|> List.length"
   ]
  },
  {
   "cell_type": "code",
   "execution_count": null,
   "metadata": {
    "dotnet_interactive": {
     "language": "fsharp"
    }
   },
   "outputs": [],
   "source": [
    "let part2CanVisitCriteria visited candidate =\n",
    "    match candidate with\n",
    "    | Start -> not <| Map.containsKey Start visited\n",
    "    | End -> not <| Map.containsKey End visited\n",
    "    | Large _ -> true\n",
    "    | Small x -> not <| Map.containsKey (Small x) visited\n",
    "                || visited\n",
    "                   |> Map.toSeq\n",
    "                   |> Seq.choose (fun (node, visitCount) -> match node with | Small y -> Some visitCount | _ -> None)\n",
    "                   |> Seq.forall (fun smallVisits -> smallVisits < 2)\n"
   ]
  },
  {
   "cell_type": "code",
   "execution_count": null,
   "metadata": {
    "dotnet_interactive": {
     "language": "fsharp"
    }
   },
   "outputs": [
    {
     "data": {
      "text/html": [
       "<table><thead><tr><th><i>index</i></th><th>value</th></tr></thead><tbody><tr><td>0</td><td>START → A → c → A → c → A → b → A → END</td></tr><tr><td>1</td><td>START → A → c → A → c → A → b → END</td></tr><tr><td>2</td><td>START → A → c → A → c → A → END</td></tr><tr><td>3</td><td>START → A → c → A → b → A → c → A → END</td></tr><tr><td>4</td><td>START → A → c → A → b → A → b → A → END</td></tr><tr><td>5</td><td>START → A → c → A → b → A → b → END</td></tr><tr><td>6</td><td>START → A → c → A → b → A → END</td></tr><tr><td>7</td><td>START → A → c → A → b → d → b → A → END</td></tr><tr><td>8</td><td>START → A → c → A → b → d → b → END</td></tr><tr><td>9</td><td>START → A → c → A → b → END</td></tr><tr><td>10</td><td>START → A → c → A → END</td></tr><tr><td>11</td><td>START → A → b → A → c → A → c → A → END</td></tr><tr><td>12</td><td>START → A → b → A → c → A → b → A → END</td></tr><tr><td>13</td><td>START → A → b → A → c → A → b → END</td></tr><tr><td>14</td><td>START → A → b → A → c → A → END</td></tr><tr><td>15</td><td>START → A → b → A → b → A → c → A → END</td></tr><tr><td>16</td><td>START → A → b → A → b → A → END</td></tr><tr><td>17</td><td>START → A → b → A → b → END</td></tr><tr><td>18</td><td>START → A → b → A → END</td></tr><tr><td>19</td><td>START → A → b → d → b → A → c → A → END</td></tr><tr><td>20</td><td>START → A → b → d → b → A → END</td></tr><tr><td>21</td><td>START → A → b → d → b → END</td></tr><tr><td>22</td><td>START → A → b → END</td></tr><tr><td>23</td><td>START → A → END</td></tr><tr><td>24</td><td>START → b → A → c → A → c → A → END</td></tr><tr><td>25</td><td>START → b → A → c → A → b → A → END</td></tr><tr><td>26</td><td>START → b → A → c → A → b → END</td></tr><tr><td>27</td><td>START → b → A → c → A → END</td></tr><tr><td>28</td><td>START → b → A → b → A → c → A → END</td></tr><tr><td>29</td><td>START → b → A → b → A → END</td></tr><tr><td>30</td><td>START → b → A → b → END</td></tr><tr><td>31</td><td>START → b → A → END</td></tr><tr><td>32</td><td>START → b → d → b → A → c → A → END</td></tr><tr><td>33</td><td>START → b → d → b → A → END</td></tr><tr><td>34</td><td>START → b → d → b → END</td></tr><tr><td>35</td><td>START → b → END</td></tr></tbody></table>"
      ]
     },
     "metadata": {},
     "output_type": "display_data"
    }
   ],
   "source": [
    "Formatter.ListExpansionLimit <- 50\n",
    "\n",
    "findPaths Start End sampleAdjacency Map.empty part2CanVisitCriteria\n",
    "|> List.map Formatting.formatPath"
   ]
  },
  {
   "cell_type": "code",
   "execution_count": null,
   "metadata": {
    "dotnet_interactive": {
     "language": "fsharp"
    }
   },
   "outputs": [
    {
     "data": {
      "text/html": [
       "<div class=\"dni-plaintext\">140718</div>"
      ]
     },
     "metadata": {},
     "output_type": "display_data"
    }
   ],
   "source": [
    "findPaths Start End actualAdjacency Map.empty part2CanVisitCriteria \n",
    "|> List.length"
   ]
  }
 ],
 "metadata": {
  "kernelspec": {
   "display_name": ".NET (F#)",
   "language": "F#",
   "name": ".net-fsharp"
  },
  "language_info": {
   "name": "F#"
  }
 },
 "nbformat": 4,
 "nbformat_minor": 2
}

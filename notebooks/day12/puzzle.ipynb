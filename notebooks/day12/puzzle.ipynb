{
 "cells": [
  {
   "cell_type": "markdown",
   "metadata": {
    "dotnet_interactive": {
     "language": "fsharp"
    }
   },
   "source": [
    "## Day 12: Passage Pathing\n",
    "[link](https://adventofcode.com/2021/day/12)"
   ]
  },
  {
   "cell_type": "code",
   "execution_count": null,
   "metadata": {
    "dotnet_interactive": {
     "language": "fsharp"
    }
   },
   "outputs": [],
   "source": [
    "#!value --name sampleRaw\n",
    "start-A\n",
    "start-b\n",
    "A-c\n",
    "A-b\n",
    "b-d\n",
    "A-end\n",
    "b-end"
   ]
  },
  {
   "cell_type": "code",
   "execution_count": null,
   "metadata": {
    "dotnet_interactive": {
     "language": "fsharp"
    }
   },
   "outputs": [],
   "source": [
    "#!value --name inputRaw\n",
    "dr-of\n",
    "start-KT\n",
    "yj-sk\n",
    "start-gb\n",
    "of-start\n",
    "IJ-end\n",
    "VT-sk\n",
    "end-sk\n",
    "VT-km\n",
    "KT-end\n",
    "IJ-of\n",
    "dr-IJ\n",
    "yj-IJ\n",
    "KT-yj\n",
    "gb-VT\n",
    "dr-yj\n",
    "VT-of\n",
    "PZ-dr\n",
    "KT-of\n",
    "KT-gb\n",
    "of-gb\n",
    "dr-sk\n",
    "dr-VT"
   ]
  },
  {
   "cell_type": "code",
   "execution_count": null,
   "metadata": {
    "dotnet_interactive": {
     "language": "fsharp"
    }
   },
   "outputs": [],
   "source": [
    "type Node = \n",
    "    | Start\n",
    "    | End\n",
    "    | Large of string\n",
    "    | Small of string\n",
    "type Path = Node list"
   ]
  },
  {
   "cell_type": "code",
   "execution_count": null,
   "metadata": {
    "dotnet_interactive": {
     "language": "fsharp"
    }
   },
   "outputs": [],
   "source": [
    "module Formatting =\n",
    "    let formatNode node =\n",
    "        match node with\n",
    "        | Start -> \"START\"\n",
    "        | End -> \"END\"\n",
    "        | Large x -> x.ToUpperInvariant()\n",
    "        | Small x -> x.ToLowerInvariant()\n",
    "    let displayNode = formatNode >> display\n",
    "    let formatNodePair (n1, n2) = \n",
    "        $\"{formatNode n1} → {formatNode n2}\"\n",
    "    let displayNodePair = formatNodePair >> display\n",
    "    let formatPath list = \n",
    "        String.Join(\" → \", (list |> List.map (formatNode)))\n",
    "    let displayPath = formatPath >> display"
   ]
  },
  {
   "cell_type": "code",
   "execution_count": null,
   "metadata": {
    "dotnet_interactive": {
     "language": "fsharp"
    }
   },
   "outputs": [
    {
     "data": {
      "text/plain": [
       "All adjacencies:"
      ]
     },
     "metadata": {},
     "output_type": "display_data"
    },
    {
     "data": {
      "text/html": [
       "<table><thead><tr><th><i>index</i></th><th>value</th></tr></thead><tbody><tr><td>0</td><td>START → A</td></tr><tr><td>1</td><td>A → START</td></tr><tr><td>2</td><td>START → b</td></tr><tr><td>3</td><td>b → START</td></tr><tr><td>4</td><td>A → c</td></tr><tr><td>5</td><td>c → A</td></tr><tr><td>6</td><td>A → b</td></tr><tr><td>7</td><td>b → A</td></tr><tr><td>8</td><td>b → d</td></tr><tr><td>9</td><td>d → b</td></tr><tr><td>10</td><td>A → END</td></tr><tr><td>11</td><td>END → A</td></tr><tr><td>12</td><td>b → END</td></tr><tr><td>13</td><td>END → b</td></tr></tbody></table>"
      ]
     },
     "metadata": {},
     "output_type": "display_data"
    }
   ],
   "source": [
    "#load \"../common.fsx\"\n",
    "\n",
    "let parse input =\n",
    "    let node s =\n",
    "        match s with\n",
    "        | \"start\" -> Start\n",
    "        | \"end\" -> End\n",
    "        | x when x.ToUpperInvariant() = x -> Large x\n",
    "        | x when x.ToLowerInvariant() = x -> Small x\n",
    "        | _ -> failwith \"Unexpected input\"\n",
    "    readLines input \n",
    "    |> Seq.map (splitToTuple2 [|\"-\"|]) \n",
    "    |> Seq.map (fun (n1, n2) -> node n1, node n2)\n",
    "    |> Seq.collect (fun (x1,x2) -> [|x1,x2; x2,x1|])\n",
    "    |> Array.ofSeq\n",
    "\n",
    "#!share sampleRaw --from value\n",
    "#!share inputRaw --from value\n",
    "let sampleAdjacency = parse sampleRaw \n",
    "let actualAdjacency = parse inputRaw\n",
    "\n",
    "\"All adjacencies:\" |> display\n",
    "sampleAdjacency |> Array.map Formatting.formatNodePair |> display"
   ]
  },
  {
   "cell_type": "code",
   "execution_count": null,
   "metadata": {
    "dotnet_interactive": {
     "language": "fsharp"
    }
   },
   "outputs": [],
   "source": [
    "let rec findPaths currentNode toNode adjacencies (visited: Map<Node, int>) visitCriteria =\n",
    "    let newVisited = Map.change currentNode (fun x -> Some ((defaultArg x 0) + 1)) visited\n",
    "    if (currentNode = toNode)\n",
    "    then [[toNode]]\n",
    "    else\n",
    "        let whereCanGo = \n",
    "            adjacencies\n",
    "            |> Array.where (fst >> ((=)currentNode)) |> Array.map snd\n",
    "            |> Array.filter (visitCriteria newVisited)\n",
    "        whereCanGo\n",
    "        |> Array.map (fun candidate -> findPaths candidate toNode adjacencies newVisited visitCriteria)\n",
    "        |> List.ofArray\n",
    "        |> List.collect id\n",
    "        |> List.map (fun x -> currentNode::x)\n",
    "        |> List.distinct"
   ]
  },
  {
   "cell_type": "code",
   "execution_count": null,
   "metadata": {
    "dotnet_interactive": {
     "language": "fsharp"
    }
   },
   "outputs": [],
   "source": [
    "let part1CanVisitCriteria visited candidate = \n",
    "    match candidate with\n",
    "    | Start -> not <| Map.containsKey Start visited\n",
    "    | End -> not <| Map.containsKey End visited\n",
    "    | Large _ -> true\n",
    "    | Small x -> not <| Map.containsKey (Small x) visited\n",
    "    "
   ]
  },
  {
   "cell_type": "code",
   "execution_count": null,
   "metadata": {
    "dotnet_interactive": {
     "language": "fsharp"
    }
   },
   "outputs": [
    {
     "data": {
      "text/html": [
       "<table><thead><tr><th><i>index</i></th><th>value</th></tr></thead><tbody><tr><td>0</td><td>START → A → c → A → b → A → END</td></tr><tr><td>1</td><td>START → A → c → A → b → END</td></tr><tr><td>2</td><td>START → A → c → A → END</td></tr><tr><td>3</td><td>START → A → b → A → c → A → END</td></tr><tr><td>4</td><td>START → A → b → A → END</td></tr><tr><td>5</td><td>START → A → b → END</td></tr><tr><td>6</td><td>START → A → END</td></tr><tr><td>7</td><td>START → b → A → c → A → END</td></tr><tr><td>8</td><td>START → b → A → END</td></tr><tr><td>9</td><td>START → b → END</td></tr></tbody></table>"
      ]
     },
     "metadata": {},
     "output_type": "display_data"
    }
   ],
   "source": [
    "findPaths Start End sampleAdjacency Map.empty part1CanVisitCriteria\n",
    "|> List.map Formatting.formatPath"
   ]
  },
  {
   "cell_type": "code",
   "execution_count": null,
   "metadata": {
    "dotnet_interactive": {
     "language": "fsharp"
    }
   },
   "outputs": [
    {
     "data": {
      "text/html": [
       "<div class=\"dni-plaintext\">4691</div>"
      ]
     },
     "metadata": {},
     "output_type": "display_data"
    }
   ],
   "source": [
    "findPaths Start End actualAdjacency Map.empty part1CanVisitCriteria \n",
    "|> List.length"
   ]
  },
  {
   "cell_type": "code",
   "execution_count": null,
   "metadata": {
    "dotnet_interactive": {
     "language": "fsharp"
    }
   },
   "outputs": [],
   "source": [
    "let part2CanVisitCriteria visited candidate =\n",
    "    match candidate with\n",
    "    | Start -> not <| Map.containsKey Start visited\n",
    "    | End -> not <| Map.containsKey End visited\n",
    "    | Large _ -> true\n",
    "    | Small x -> not <| Map.containsKey (Small x) visited\n",
    "                || visited\n",
    "                   |> Map.toSeq\n",
    "                   |> Seq.choose (fun (node, visitCount) -> match node with | Small y -> Some visitCount | _ -> None)\n",
    "                   |> Seq.forall (fun smallVisits -> smallVisits < 2)\n"
   ]
  },
  {
   "cell_type": "code",
   "execution_count": null,
   "metadata": {
    "dotnet_interactive": {
     "language": "fsharp"
    }
   },
   "outputs": [
    {
     "data": {
      "text/html": [
       "<table><thead><tr><th><i>index</i></th><th>value</th></tr></thead><tbody><tr><td>0</td><td>START → A → c → A → c → A → b → A → END</td></tr><tr><td>1</td><td>START → A → c → A → c → A → b → END</td></tr><tr><td>2</td><td>START → A → c → A → c → A → END</td></tr><tr><td>3</td><td>START → A → c → A → b → A → c → A → END</td></tr><tr><td>4</td><td>START → A → c → A → b → A → b → A → END</td></tr><tr><td>5</td><td>START → A → c → A → b → A → b → END</td></tr><tr><td>6</td><td>START → A → c → A → b → A → END</td></tr><tr><td>7</td><td>START → A → c → A → b → d → b → A → END</td></tr><tr><td>8</td><td>START → A → c → A → b → d → b → END</td></tr><tr><td>9</td><td>START → A → c → A → b → END</td></tr><tr><td>10</td><td>START → A → c → A → END</td></tr><tr><td>11</td><td>START → A → b → A → c → A → c → A → END</td></tr><tr><td>12</td><td>START → A → b → A → c → A → b → A → END</td></tr><tr><td>13</td><td>START → A → b → A → c → A → b → END</td></tr><tr><td>14</td><td>START → A → b → A → c → A → END</td></tr><tr><td>15</td><td>START → A → b → A → b → A → c → A → END</td></tr><tr><td>16</td><td>START → A → b → A → b → A → END</td></tr><tr><td>17</td><td>START → A → b → A → b → END</td></tr><tr><td>18</td><td>START → A → b → A → END</td></tr><tr><td>19</td><td>START → A → b → d → b → A → c → A → END</td></tr><tr><td>20</td><td>START → A → b → d → b → A → END</td></tr><tr><td>21</td><td>START → A → b → d → b → END</td></tr><tr><td>22</td><td>START → A → b → END</td></tr><tr><td>23</td><td>START → A → END</td></tr><tr><td>24</td><td>START → b → A → c → A → c → A → END</td></tr><tr><td>25</td><td>START → b → A → c → A → b → A → END</td></tr><tr><td>26</td><td>START → b → A → c → A → b → END</td></tr><tr><td>27</td><td>START → b → A → c → A → END</td></tr><tr><td>28</td><td>START → b → A → b → A → c → A → END</td></tr><tr><td>29</td><td>START → b → A → b → A → END</td></tr><tr><td>30</td><td>START → b → A → b → END</td></tr><tr><td>31</td><td>START → b → A → END</td></tr><tr><td>32</td><td>START → b → d → b → A → c → A → END</td></tr><tr><td>33</td><td>START → b → d → b → A → END</td></tr><tr><td>34</td><td>START → b → d → b → END</td></tr><tr><td>35</td><td>START → b → END</td></tr></tbody></table>"
      ]
     },
     "metadata": {},
     "output_type": "display_data"
    }
   ],
   "source": [
    "Formatter.ListExpansionLimit <- 50\n",
    "\n",
    "findPaths Start End sampleAdjacency Map.empty part2CanVisitCriteria\n",
    "|> List.map Formatting.formatPath"
   ]
  },
  {
   "cell_type": "code",
   "execution_count": null,
   "metadata": {
    "dotnet_interactive": {
     "language": "fsharp"
    }
   },
   "outputs": [
    {
     "data": {
      "text/html": [
       "<div class=\"dni-plaintext\">140718</div>"
      ]
     },
     "metadata": {},
     "output_type": "display_data"
    }
   ],
   "source": [
    "findPaths Start End actualAdjacency Map.empty part2CanVisitCriteria \n",
    "|> List.length"
   ]
  }
 ],
 "metadata": {
  "kernelspec": {
   "display_name": ".NET (F#)",
   "language": "F#",
   "name": ".net-fsharp"
  },
  "language_info": {
   "name": "F#"
  }
 },
 "nbformat": 4,
 "nbformat_minor": 2
}

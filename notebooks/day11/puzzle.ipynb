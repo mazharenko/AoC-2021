{
 "cells": [
  {
   "cell_type": "markdown",
   "metadata": {
    "dotnet_interactive": {
     "language": "fsharp"
    }
   },
   "source": [
    "## Day 11: Dumbo Octopus\n",
    "\n",
    "[![nbviewer](https://raw.githubusercontent.com/jupyter/design/master/logos/Badges/nbviewer_badge.svg)](https://nbviewer.org/github/mazharenko/AoC-2021/tree/HEAD/notebooks/day11/puzzle.ipynb)\n",
    "\n",
    "[Problem statement](https://adventofcode.com/2021/day/11)"
   ]
  },
  {
   "cell_type": "code",
   "execution_count": null,
   "metadata": {
    "dotnet_interactive": {
     "language": "fsharp"
    }
   },
   "outputs": [],
   "source": [
    "#!value --name sampleRaw\n",
    "5483143223\n",
    "2745854711\n",
    "5264556173\n",
    "6141336146\n",
    "6357385478\n",
    "4167524645\n",
    "2176841721\n",
    "6882881134\n",
    "4846848554\n",
    "5283751526"
   ]
  },
  {
   "cell_type": "code",
   "execution_count": null,
   "metadata": {
    "dotnet_interactive": {
     "language": "fsharp"
    }
   },
   "outputs": [],
   "source": [
    "#!value --name inputRaw\n",
    "8826876714\n",
    "3127787238\n",
    "8182852861\n",
    "4655371483\n",
    "3864551365\n",
    "1878253581\n",
    "8317422437\n",
    "1517254266\n",
    "2621124761\n",
    "3473331514"
   ]
  },
  {
   "cell_type": "code",
   "execution_count": null,
   "metadata": {
    "dotnet_interactive": {
     "language": "fsharp"
    }
   },
   "outputs": [],
   "source": [
    "type Octopus =\n",
    "| Gaining of int\n",
    "| Flashing\n",
    "| Flashed"
   ]
  },
  {
   "cell_type": "code",
   "execution_count": null,
   "metadata": {
    "dotnet_interactive": {
     "language": "fsharp"
    }
   },
   "outputs": [],
   "source": [
    "let countFlashes grid = \n",
    "    grid\n",
    "    |> Seq.cast<int*Octopus>\n",
    "    |> Seq.map fst \n",
    "    |> Seq.sum"
   ]
  },
  {
   "cell_type": "code",
   "execution_count": null,
   "metadata": {
    "dotnet_interactive": {
     "language": "fsharp"
    }
   },
   "outputs": [],
   "source": [
    "#load \"../formatting.fsx\"\n",
    "let private formatOctopus el =\n",
    "    match el with\n",
    "    | Gaining energy -> string energy\n",
    "    | Flashing -> \"🌟\"\n",
    "    | Flashed -> \"<span style=\\\"filter: grayscale(80%);\\\">⭐</span>\"\n",
    "\n",
    "Formatter.Register<Octopus[,]>((fun (octopuses) -> formatTable formatOctopus octopuses), \"text/html\")\n",
    "Formatter.Register<(int*Octopus)[,]>((fun (octopuses) -> $\"flashes: {countFlashes octopuses}\" + formatTable (snd >> formatOctopus) octopuses), \"text/html\")"
   ]
  },
  {
   "cell_type": "code",
   "execution_count": null,
   "metadata": {
    "dotnet_interactive": {
     "language": "fsharp"
    }
   },
   "outputs": [
    {
     "data": {
      "text/html": [
       "flashes: 0<table><tr><td>5</td><td>4</td><td>8</td><td>3</td><td>1</td><td>4</td><td>3</td><td>2</td><td>2</td><td>3</td></tr><tr><td>2</td><td>7</td><td>4</td><td>5</td><td>8</td><td>5</td><td>4</td><td>7</td><td>1</td><td>1</td></tr><tr><td>5</td><td>2</td><td>6</td><td>4</td><td>5</td><td>5</td><td>6</td><td>1</td><td>7</td><td>3</td></tr><tr><td>6</td><td>1</td><td>4</td><td>1</td><td>3</td><td>3</td><td>6</td><td>1</td><td>4</td><td>6</td></tr><tr><td>6</td><td>3</td><td>5</td><td>7</td><td>3</td><td>8</td><td>5</td><td>4</td><td>7</td><td>8</td></tr><tr><td>4</td><td>1</td><td>6</td><td>7</td><td>5</td><td>2</td><td>4</td><td>6</td><td>4</td><td>5</td></tr><tr><td>2</td><td>1</td><td>7</td><td>6</td><td>8</td><td>4</td><td>1</td><td>7</td><td>2</td><td>1</td></tr><tr><td>6</td><td>8</td><td>8</td><td>2</td><td>8</td><td>8</td><td>1</td><td>1</td><td>3</td><td>4</td></tr><tr><td>4</td><td>8</td><td>4</td><td>6</td><td>8</td><td>4</td><td>8</td><td>5</td><td>5</td><td>4</td></tr><tr><td>5</td><td>2</td><td>8</td><td>3</td><td>7</td><td>5</td><td>1</td><td>5</td><td>2</td><td>6</td></tr></table>"
      ]
     },
     "metadata": {},
     "output_type": "display_data"
    }
   ],
   "source": [
    "#!share sampleRaw --from value\n",
    "#!share inputRaw --from value\n",
    "\n",
    "#load \"../common.fsx\"\n",
    "\n",
    "let parse input = \n",
    "    read2d input |> Array2D.map (fun c -> 0, Gaining (c |> string |> int))\n",
    "\n",
    "let sampleGrid = parse sampleRaw |> displayPipe\n",
    "let actualGrid = parse inputRaw"
   ]
  },
  {
   "cell_type": "code",
   "execution_count": null,
   "metadata": {
    "dotnet_interactive": {
     "language": "fsharp"
    }
   },
   "outputs": [],
   "source": [
    "let private inc (flashes, octo) =\n",
    "    match octo with\n",
    "    | Flashed -> flashes, Gaining 1\n",
    "    | Gaining energy -> flashes, Gaining (1 + energy)\n",
    "    | Flashing -> failwith \"Flashing state was not expected\"\n",
    "\n",
    "let private triggerFlashing (flashes, octo) =\n",
    "    match octo with\n",
    "    | Gaining 10 -> flashes, Flashing\n",
    "    | Gaining e -> flashes, Gaining e\n",
    "    | _ -> flashes, octo\n",
    "\n",
    "let private replyToFlashes (grid : (int*Octopus)[,]) i j (flashes, octo) =\n",
    "    match octo with\n",
    "    | Gaining energy ->\n",
    "        let flashingAdjacent =\n",
    "            [|\n",
    "                // use slicing opertator in order not to check boundaries.\n",
    "                grid.[i-1 .. i-1, j-1 .. j+1]\n",
    "                grid.[i .. i, j-1 .. j-1]\n",
    "                grid.[i .. i, j+1 .. j+1]\n",
    "                grid.[i+1 .. i+1, j-1 .. j+1]\n",
    "            |]\n",
    "            |> Array.collect (Array2D.toArray)\n",
    "            |> Array.map snd\n",
    "            |> Array.filter ((=)Flashing)\n",
    "        flashes, Gaining (min (energy + (flashingAdjacent |> Array.length)) 10)\n",
    "    | _ -> flashes, octo\n",
    "\n",
    "let private fade (flashes, octo) =\n",
    "    match octo with\n",
    "    | Flashing -> flashes, Flashed\n",
    "    | _ -> flashes, octo\n",
    "\n",
    "let private countFlashed (flashes, octo) =\n",
    "    match octo with\n",
    "    | Flashed -> flashes + 1, Flashed\n",
    "    | Flashing -> flashes, failwith \"Flashing state was not expected\"\n",
    "    | Gaining x -> flashes, Gaining x\n",
    "\n",
    "let step (grid: (int*Octopus)[,]) =\n",
    "    let incremented = Array2D.map (inc >> triggerFlashing) grid\n",
    "    let rec flashingProcess g =\n",
    "        let newGrid = \n",
    "            g |> Array2D.mapi (replyToFlashes g)\n",
    "            |> Array2D.map fade\n",
    "            |> Array2D.map triggerFlashing\n",
    "        if (newGrid |> Array2D.toArray |> Array.forall (fun (_, octo) -> octo <> Flashing))\n",
    "        then newGrid\n",
    "        else flashingProcess newGrid\n",
    "    flashingProcess incremented\n",
    "    |> Array2D.map countFlashed"
   ]
  },
  {
   "cell_type": "code",
   "execution_count": null,
   "metadata": {
    "dotnet_interactive": {
     "language": "fsharp"
    }
   },
   "outputs": [],
   "source": [
    "let simulateInfinitely grid = \n",
    "    Seq.unfold (fun g ->\n",
    "        let thisStepGrid = step g\n",
    "        Some (thisStepGrid, thisStepGrid)\n",
    "    ) grid\n",
    "    |> Seq.append [grid]"
   ]
  },
  {
   "cell_type": "code",
   "execution_count": null,
   "metadata": {
    "dotnet_interactive": {
     "language": "fsharp"
    }
   },
   "outputs": [
    {
     "data": {
      "text/html": [
       "<table><thead><tr><th><i>index</i></th><th>Item1</th><th>Item2</th></tr></thead><tbody><tr><td>0</td><td><div class=\"dni-plaintext\">0</div></td><td>flashes: 0<table><tr><td>5</td><td>4</td><td>8</td><td>3</td><td>1</td><td>4</td><td>3</td><td>2</td><td>2</td><td>3</td></tr><tr><td>2</td><td>7</td><td>4</td><td>5</td><td>8</td><td>5</td><td>4</td><td>7</td><td>1</td><td>1</td></tr><tr><td>5</td><td>2</td><td>6</td><td>4</td><td>5</td><td>5</td><td>6</td><td>1</td><td>7</td><td>3</td></tr><tr><td>6</td><td>1</td><td>4</td><td>1</td><td>3</td><td>3</td><td>6</td><td>1</td><td>4</td><td>6</td></tr><tr><td>6</td><td>3</td><td>5</td><td>7</td><td>3</td><td>8</td><td>5</td><td>4</td><td>7</td><td>8</td></tr><tr><td>4</td><td>1</td><td>6</td><td>7</td><td>5</td><td>2</td><td>4</td><td>6</td><td>4</td><td>5</td></tr><tr><td>2</td><td>1</td><td>7</td><td>6</td><td>8</td><td>4</td><td>1</td><td>7</td><td>2</td><td>1</td></tr><tr><td>6</td><td>8</td><td>8</td><td>2</td><td>8</td><td>8</td><td>1</td><td>1</td><td>3</td><td>4</td></tr><tr><td>4</td><td>8</td><td>4</td><td>6</td><td>8</td><td>4</td><td>8</td><td>5</td><td>5</td><td>4</td></tr><tr><td>5</td><td>2</td><td>8</td><td>3</td><td>7</td><td>5</td><td>1</td><td>5</td><td>2</td><td>6</td></tr></table></td></tr><tr><td>1</td><td><div class=\"dni-plaintext\">1</div></td><td>flashes: 0<table><tr><td>6</td><td>5</td><td>9</td><td>4</td><td>2</td><td>5</td><td>4</td><td>3</td><td>3</td><td>4</td></tr><tr><td>3</td><td>8</td><td>5</td><td>6</td><td>9</td><td>6</td><td>5</td><td>8</td><td>2</td><td>2</td></tr><tr><td>6</td><td>3</td><td>7</td><td>5</td><td>6</td><td>6</td><td>7</td><td>2</td><td>8</td><td>4</td></tr><tr><td>7</td><td>2</td><td>5</td><td>2</td><td>4</td><td>4</td><td>7</td><td>2</td><td>5</td><td>7</td></tr><tr><td>7</td><td>4</td><td>6</td><td>8</td><td>4</td><td>9</td><td>6</td><td>5</td><td>8</td><td>9</td></tr><tr><td>5</td><td>2</td><td>7</td><td>8</td><td>6</td><td>3</td><td>5</td><td>7</td><td>5</td><td>6</td></tr><tr><td>3</td><td>2</td><td>8</td><td>7</td><td>9</td><td>5</td><td>2</td><td>8</td><td>3</td><td>2</td></tr><tr><td>7</td><td>9</td><td>9</td><td>3</td><td>9</td><td>9</td><td>2</td><td>2</td><td>4</td><td>5</td></tr><tr><td>5</td><td>9</td><td>5</td><td>7</td><td>9</td><td>5</td><td>9</td><td>6</td><td>6</td><td>5</td></tr><tr><td>6</td><td>3</td><td>9</td><td>4</td><td>8</td><td>6</td><td>2</td><td>6</td><td>3</td><td>7</td></tr></table></td></tr><tr><td>2</td><td><div class=\"dni-plaintext\">2</div></td><td>flashes: 35<table><tr><td>8</td><td>8</td><td><span style=\"filter: grayscale(80%);\">⭐</span></td><td>7</td><td>4</td><td>7</td><td>6</td><td>5</td><td>5</td><td>5</td></tr><tr><td>5</td><td><span style=\"filter: grayscale(80%);\">⭐</span></td><td>8</td><td>9</td><td><span style=\"filter: grayscale(80%);\">⭐</span></td><td>8</td><td>7</td><td><span style=\"filter: grayscale(80%);\">⭐</span></td><td>5</td><td>4</td></tr><tr><td>8</td><td>5</td><td>9</td><td>7</td><td>8</td><td>8</td><td>9</td><td>6</td><td><span style=\"filter: grayscale(80%);\">⭐</span></td><td>8</td></tr><tr><td>8</td><td>4</td><td>8</td><td>5</td><td>7</td><td>6</td><td>9</td><td>6</td><td><span style=\"filter: grayscale(80%);\">⭐</span></td><td><span style=\"filter: grayscale(80%);\">⭐</span></td></tr><tr><td>8</td><td>7</td><td><span style=\"filter: grayscale(80%);\">⭐</span></td><td><span style=\"filter: grayscale(80%);\">⭐</span></td><td>9</td><td><span style=\"filter: grayscale(80%);\">⭐</span></td><td>8</td><td>8</td><td><span style=\"filter: grayscale(80%);\">⭐</span></td><td><span style=\"filter: grayscale(80%);\">⭐</span></td></tr><tr><td>6</td><td>6</td><td><span style=\"filter: grayscale(80%);\">⭐</span></td><td><span style=\"filter: grayscale(80%);\">⭐</span></td><td><span style=\"filter: grayscale(80%);\">⭐</span></td><td>8</td><td>8</td><td>9</td><td>8</td><td>9</td></tr><tr><td>6</td><td>8</td><td><span style=\"filter: grayscale(80%);\">⭐</span></td><td><span style=\"filter: grayscale(80%);\">⭐</span></td><td><span style=\"filter: grayscale(80%);\">⭐</span></td><td><span style=\"filter: grayscale(80%);\">⭐</span></td><td>5</td><td>9</td><td>4</td><td>3</td></tr><tr><td><span style=\"filter: grayscale(80%);\">⭐</span></td><td><span style=\"filter: grayscale(80%);\">⭐</span></td><td><span style=\"filter: grayscale(80%);\">⭐</span></td><td><span style=\"filter: grayscale(80%);\">⭐</span></td><td><span style=\"filter: grayscale(80%);\">⭐</span></td><td><span style=\"filter: grayscale(80%);\">⭐</span></td><td>7</td><td>4</td><td>5</td><td>6</td></tr><tr><td>9</td><td><span style=\"filter: grayscale(80%);\">⭐</span></td><td><span style=\"filter: grayscale(80%);\">⭐</span></td><td><span style=\"filter: grayscale(80%);\">⭐</span></td><td><span style=\"filter: grayscale(80%);\">⭐</span></td><td><span style=\"filter: grayscale(80%);\">⭐</span></td><td><span style=\"filter: grayscale(80%);\">⭐</span></td><td>8</td><td>7</td><td>6</td></tr><tr><td>8</td><td>7</td><td><span style=\"filter: grayscale(80%);\">⭐</span></td><td><span style=\"filter: grayscale(80%);\">⭐</span></td><td><span style=\"filter: grayscale(80%);\">⭐</span></td><td><span style=\"filter: grayscale(80%);\">⭐</span></td><td>6</td><td>8</td><td>4</td><td>8</td></tr></table></td></tr><tr><td>3</td><td><div class=\"dni-plaintext\">3</div></td><td>flashes: 80<table><tr><td><span style=\"filter: grayscale(80%);\">⭐</span></td><td><span style=\"filter: grayscale(80%);\">⭐</span></td><td>5</td><td><span style=\"filter: grayscale(80%);\">⭐</span></td><td>9</td><td><span style=\"filter: grayscale(80%);\">⭐</span></td><td><span style=\"filter: grayscale(80%);\">⭐</span></td><td>8</td><td>6</td><td>6</td></tr><tr><td>8</td><td>5</td><td><span style=\"filter: grayscale(80%);\">⭐</span></td><td><span style=\"filter: grayscale(80%);\">⭐</span></td><td>8</td><td><span style=\"filter: grayscale(80%);\">⭐</span></td><td><span style=\"filter: grayscale(80%);\">⭐</span></td><td>5</td><td>7</td><td>5</td></tr><tr><td>9</td><td>9</td><td><span style=\"filter: grayscale(80%);\">⭐</span></td><td><span style=\"filter: grayscale(80%);\">⭐</span></td><td><span style=\"filter: grayscale(80%);\">⭐</span></td><td><span style=\"filter: grayscale(80%);\">⭐</span></td><td><span style=\"filter: grayscale(80%);\">⭐</span></td><td><span style=\"filter: grayscale(80%);\">⭐</span></td><td>3</td><td>9</td></tr><tr><td>9</td><td>7</td><td><span style=\"filter: grayscale(80%);\">⭐</span></td><td><span style=\"filter: grayscale(80%);\">⭐</span></td><td><span style=\"filter: grayscale(80%);\">⭐</span></td><td><span style=\"filter: grayscale(80%);\">⭐</span></td><td><span style=\"filter: grayscale(80%);\">⭐</span></td><td><span style=\"filter: grayscale(80%);\">⭐</span></td><td>4</td><td>1</td></tr><tr><td>9</td><td>9</td><td>3</td><td>5</td><td><span style=\"filter: grayscale(80%);\">⭐</span></td><td>8</td><td><span style=\"filter: grayscale(80%);\">⭐</span></td><td><span style=\"filter: grayscale(80%);\">⭐</span></td><td>6</td><td>3</td></tr><tr><td>7</td><td>7</td><td>1</td><td>2</td><td>3</td><td><span style=\"filter: grayscale(80%);\">⭐</span></td><td><span style=\"filter: grayscale(80%);\">⭐</span></td><td><span style=\"filter: grayscale(80%);\">⭐</span></td><td><span style=\"filter: grayscale(80%);\">⭐</span></td><td><span style=\"filter: grayscale(80%);\">⭐</span></td></tr><tr><td>7</td><td>9</td><td>1</td><td>1</td><td>2</td><td>5</td><td><span style=\"filter: grayscale(80%);\">⭐</span></td><td><span style=\"filter: grayscale(80%);\">⭐</span></td><td><span style=\"filter: grayscale(80%);\">⭐</span></td><td>9</td></tr><tr><td>2</td><td>2</td><td>1</td><td>1</td><td>1</td><td>3</td><td><span style=\"filter: grayscale(80%);\">⭐</span></td><td><span style=\"filter: grayscale(80%);\">⭐</span></td><td><span style=\"filter: grayscale(80%);\">⭐</span></td><td><span style=\"filter: grayscale(80%);\">⭐</span></td></tr><tr><td><span style=\"filter: grayscale(80%);\">⭐</span></td><td>4</td><td>2</td><td>1</td><td>1</td><td>2</td><td>5</td><td><span style=\"filter: grayscale(80%);\">⭐</span></td><td><span style=\"filter: grayscale(80%);\">⭐</span></td><td><span style=\"filter: grayscale(80%);\">⭐</span></td></tr><tr><td><span style=\"filter: grayscale(80%);\">⭐</span></td><td><span style=\"filter: grayscale(80%);\">⭐</span></td><td>2</td><td>1</td><td>1</td><td>1</td><td>9</td><td><span style=\"filter: grayscale(80%);\">⭐</span></td><td><span style=\"filter: grayscale(80%);\">⭐</span></td><td><span style=\"filter: grayscale(80%);\">⭐</span></td></tr></table></td></tr><tr><td>4</td><td><div class=\"dni-plaintext\">4</div></td><td>flashes: 96<table><tr><td>2</td><td>2</td><td>6</td><td>3</td><td><span style=\"filter: grayscale(80%);\">⭐</span></td><td>3</td><td>1</td><td>9</td><td>7</td><td>7</td></tr><tr><td><span style=\"filter: grayscale(80%);\">⭐</span></td><td>9</td><td>2</td><td>3</td><td><span style=\"filter: grayscale(80%);\">⭐</span></td><td>3</td><td>1</td><td>6</td><td>9</td><td>7</td></tr><tr><td><span style=\"filter: grayscale(80%);\">⭐</span></td><td><span style=\"filter: grayscale(80%);\">⭐</span></td><td>3</td><td>2</td><td>2</td><td>2</td><td>1</td><td>1</td><td>5</td><td><span style=\"filter: grayscale(80%);\">⭐</span></td></tr><tr><td><span style=\"filter: grayscale(80%);\">⭐</span></td><td><span style=\"filter: grayscale(80%);\">⭐</span></td><td>4</td><td>1</td><td>1</td><td>1</td><td>1</td><td>1</td><td>6</td><td>3</td></tr><tr><td><span style=\"filter: grayscale(80%);\">⭐</span></td><td><span style=\"filter: grayscale(80%);\">⭐</span></td><td>7</td><td>6</td><td>1</td><td>9</td><td>1</td><td>1</td><td>7</td><td>4</td></tr><tr><td><span style=\"filter: grayscale(80%);\">⭐</span></td><td><span style=\"filter: grayscale(80%);\">⭐</span></td><td>5</td><td>3</td><td>4</td><td>1</td><td>1</td><td>1</td><td>2</td><td>2</td></tr><tr><td><span style=\"filter: grayscale(80%);\">⭐</span></td><td><span style=\"filter: grayscale(80%);\">⭐</span></td><td>4</td><td>2</td><td>3</td><td>6</td><td>1</td><td>1</td><td>2</td><td><span style=\"filter: grayscale(80%);\">⭐</span></td></tr><tr><td>5</td><td>5</td><td>3</td><td>2</td><td>2</td><td>4</td><td>1</td><td>1</td><td>2</td><td>2</td></tr><tr><td>1</td><td>5</td><td>3</td><td>2</td><td>2</td><td>4</td><td>7</td><td>2</td><td>1</td><td>1</td></tr><tr><td>1</td><td>1</td><td>3</td><td>2</td><td>2</td><td>3</td><td><span style=\"filter: grayscale(80%);\">⭐</span></td><td>2</td><td>1</td><td>1</td></tr></table></td></tr><tr><td>5</td><td><div class=\"dni-plaintext\">100</div></td><td>flashes: 1656<table><tr><td><span style=\"filter: grayscale(80%);\">⭐</span></td><td>3</td><td>9</td><td>7</td><td>6</td><td>6</td><td>6</td><td>8</td><td>6</td><td>6</td></tr><tr><td><span style=\"filter: grayscale(80%);\">⭐</span></td><td>7</td><td>4</td><td>9</td><td>7</td><td>6</td><td>6</td><td>9</td><td>1</td><td>8</td></tr><tr><td><span style=\"filter: grayscale(80%);\">⭐</span></td><td><span style=\"filter: grayscale(80%);\">⭐</span></td><td>5</td><td>3</td><td>9</td><td>7</td><td>6</td><td>9</td><td>3</td><td>3</td></tr><tr><td><span style=\"filter: grayscale(80%);\">⭐</span></td><td><span style=\"filter: grayscale(80%);\">⭐</span></td><td><span style=\"filter: grayscale(80%);\">⭐</span></td><td>4</td><td>2</td><td>9</td><td>7</td><td>8</td><td>2</td><td>2</td></tr><tr><td><span style=\"filter: grayscale(80%);\">⭐</span></td><td><span style=\"filter: grayscale(80%);\">⭐</span></td><td><span style=\"filter: grayscale(80%);\">⭐</span></td><td>4</td><td>2</td><td>2</td><td>9</td><td>8</td><td>9</td><td>2</td></tr><tr><td><span style=\"filter: grayscale(80%);\">⭐</span></td><td><span style=\"filter: grayscale(80%);\">⭐</span></td><td>5</td><td>3</td><td>2</td><td>2</td><td>2</td><td>8</td><td>7</td><td>7</td></tr><tr><td><span style=\"filter: grayscale(80%);\">⭐</span></td><td>5</td><td>3</td><td>2</td><td>2</td><td>2</td><td>2</td><td>9</td><td>6</td><td>6</td></tr><tr><td>9</td><td>3</td><td>2</td><td>2</td><td>2</td><td>2</td><td>8</td><td>9</td><td>6</td><td>6</td></tr><tr><td>7</td><td>9</td><td>2</td><td>2</td><td>2</td><td>8</td><td>6</td><td>8</td><td>6</td><td>6</td></tr><tr><td>6</td><td>7</td><td>8</td><td>9</td><td>9</td><td>9</td><td>8</td><td>7</td><td>6</td><td>6</td></tr></table></td></tr></tbody></table>"
      ]
     },
     "metadata": {},
     "output_type": "display_data"
    }
   ],
   "source": [
    "let private sample100 = \n",
    "    simulateInfinitely sampleGrid |> Seq.mapi (fun i x -> i,x)\n",
    "    |> Seq.takeWhile (fun (i, _) -> i <= 100)\n",
    "    |> Seq.toArray\n",
    "    \n",
    "Array.append sample100.[0..4] [|sample100.[^0]|]"
   ]
  },
  {
   "cell_type": "code",
   "execution_count": null,
   "metadata": {
    "dotnet_interactive": {
     "language": "fsharp"
    }
   },
   "outputs": [
    {
     "data": {
      "text/html": [
       "flashes: 1683<table><tr><td>1</td><td>1</td><td>1</td><td>3</td><td>2</td><td>2</td><td>7</td><td>5</td><td>4</td><td>8</td></tr><tr><td>1</td><td>1</td><td>5</td><td>3</td><td>2</td><td>2</td><td>2</td><td>6</td><td>4</td><td>4</td></tr><tr><td>1</td><td>6</td><td>3</td><td>2</td><td>2</td><td>2</td><td>3</td><td>8</td><td>5</td><td>4</td></tr><tr><td>1</td><td>5</td><td>2</td><td>2</td><td>2</td><td>3</td><td>5</td><td>1</td><td>8</td><td>6</td></tr><tr><td>1</td><td>5</td><td>2</td><td>2</td><td>3</td><td>5</td><td>1</td><td>1</td><td>1</td><td>1</td></tr><tr><td>1</td><td>4</td><td>2</td><td>3</td><td>5</td><td>1</td><td>1</td><td>1</td><td>1</td><td>1</td></tr><tr><td>3</td><td>4</td><td>4</td><td>6</td><td>1</td><td>1</td><td>1</td><td>1</td><td>1</td><td>1</td></tr><tr><td>9</td><td>9</td><td>1</td><td>2</td><td>3</td><td>3</td><td>2</td><td>1</td><td>1</td><td>7</td></tr><tr><td>8</td><td>1</td><td>2</td><td>4</td><td><span style=\"filter: grayscale(80%);\">⭐</span></td><td><span style=\"filter: grayscale(80%);\">⭐</span></td><td>4</td><td>2</td><td>7</td><td>5</td></tr><tr><td>7</td><td>1</td><td>2</td><td><span style=\"filter: grayscale(80%);\">⭐</span></td><td><span style=\"filter: grayscale(80%);\">⭐</span></td><td><span style=\"filter: grayscale(80%);\">⭐</span></td><td><span style=\"filter: grayscale(80%);\">⭐</span></td><td>7</td><td>5</td><td>4</td></tr></table>"
      ]
     },
     "metadata": {},
     "output_type": "display_data"
    }
   ],
   "source": [
    "simulateInfinitely actualGrid\n",
    "    |> Seq.skip 100\n",
    "    |> Seq.head"
   ]
  },
  {
   "cell_type": "code",
   "execution_count": null,
   "metadata": {
    "dotnet_interactive": {
     "language": "fsharp"
    }
   },
   "outputs": [],
   "source": [
    "let findFirstAllFlashed grid = \n",
    "    simulateInfinitely grid \n",
    "    |> Seq.mapi (fun i x -> i, x)\n",
    "    |> Seq.filter (fun (i, x) -> x |> Seq.cast<int*Octopus> |> Seq.forall (fun (_,o) -> o = Flashed))\n",
    "    |> Seq.head"
   ]
  },
  {
   "cell_type": "code",
   "execution_count": null,
   "metadata": {
    "dotnet_interactive": {
     "language": "fsharp"
    }
   },
   "outputs": [
    {
     "data": {
      "text/html": [
       "<div class=\"dni-plaintext\">195</div>"
      ]
     },
     "metadata": {},
     "output_type": "display_data"
    },
    {
     "data": {
      "text/html": [
       "flashes: 3125<table><tr><td><span style=\"filter: grayscale(80%);\">⭐</span></td><td><span style=\"filter: grayscale(80%);\">⭐</span></td><td><span style=\"filter: grayscale(80%);\">⭐</span></td><td><span style=\"filter: grayscale(80%);\">⭐</span></td><td><span style=\"filter: grayscale(80%);\">⭐</span></td><td><span style=\"filter: grayscale(80%);\">⭐</span></td><td><span style=\"filter: grayscale(80%);\">⭐</span></td><td><span style=\"filter: grayscale(80%);\">⭐</span></td><td><span style=\"filter: grayscale(80%);\">⭐</span></td><td><span style=\"filter: grayscale(80%);\">⭐</span></td></tr><tr><td><span style=\"filter: grayscale(80%);\">⭐</span></td><td><span style=\"filter: grayscale(80%);\">⭐</span></td><td><span style=\"filter: grayscale(80%);\">⭐</span></td><td><span style=\"filter: grayscale(80%);\">⭐</span></td><td><span style=\"filter: grayscale(80%);\">⭐</span></td><td><span style=\"filter: grayscale(80%);\">⭐</span></td><td><span style=\"filter: grayscale(80%);\">⭐</span></td><td><span style=\"filter: grayscale(80%);\">⭐</span></td><td><span style=\"filter: grayscale(80%);\">⭐</span></td><td><span style=\"filter: grayscale(80%);\">⭐</span></td></tr><tr><td><span style=\"filter: grayscale(80%);\">⭐</span></td><td><span style=\"filter: grayscale(80%);\">⭐</span></td><td><span style=\"filter: grayscale(80%);\">⭐</span></td><td><span style=\"filter: grayscale(80%);\">⭐</span></td><td><span style=\"filter: grayscale(80%);\">⭐</span></td><td><span style=\"filter: grayscale(80%);\">⭐</span></td><td><span style=\"filter: grayscale(80%);\">⭐</span></td><td><span style=\"filter: grayscale(80%);\">⭐</span></td><td><span style=\"filter: grayscale(80%);\">⭐</span></td><td><span style=\"filter: grayscale(80%);\">⭐</span></td></tr><tr><td><span style=\"filter: grayscale(80%);\">⭐</span></td><td><span style=\"filter: grayscale(80%);\">⭐</span></td><td><span style=\"filter: grayscale(80%);\">⭐</span></td><td><span style=\"filter: grayscale(80%);\">⭐</span></td><td><span style=\"filter: grayscale(80%);\">⭐</span></td><td><span style=\"filter: grayscale(80%);\">⭐</span></td><td><span style=\"filter: grayscale(80%);\">⭐</span></td><td><span style=\"filter: grayscale(80%);\">⭐</span></td><td><span style=\"filter: grayscale(80%);\">⭐</span></td><td><span style=\"filter: grayscale(80%);\">⭐</span></td></tr><tr><td><span style=\"filter: grayscale(80%);\">⭐</span></td><td><span style=\"filter: grayscale(80%);\">⭐</span></td><td><span style=\"filter: grayscale(80%);\">⭐</span></td><td><span style=\"filter: grayscale(80%);\">⭐</span></td><td><span style=\"filter: grayscale(80%);\">⭐</span></td><td><span style=\"filter: grayscale(80%);\">⭐</span></td><td><span style=\"filter: grayscale(80%);\">⭐</span></td><td><span style=\"filter: grayscale(80%);\">⭐</span></td><td><span style=\"filter: grayscale(80%);\">⭐</span></td><td><span style=\"filter: grayscale(80%);\">⭐</span></td></tr><tr><td><span style=\"filter: grayscale(80%);\">⭐</span></td><td><span style=\"filter: grayscale(80%);\">⭐</span></td><td><span style=\"filter: grayscale(80%);\">⭐</span></td><td><span style=\"filter: grayscale(80%);\">⭐</span></td><td><span style=\"filter: grayscale(80%);\">⭐</span></td><td><span style=\"filter: grayscale(80%);\">⭐</span></td><td><span style=\"filter: grayscale(80%);\">⭐</span></td><td><span style=\"filter: grayscale(80%);\">⭐</span></td><td><span style=\"filter: grayscale(80%);\">⭐</span></td><td><span style=\"filter: grayscale(80%);\">⭐</span></td></tr><tr><td><span style=\"filter: grayscale(80%);\">⭐</span></td><td><span style=\"filter: grayscale(80%);\">⭐</span></td><td><span style=\"filter: grayscale(80%);\">⭐</span></td><td><span style=\"filter: grayscale(80%);\">⭐</span></td><td><span style=\"filter: grayscale(80%);\">⭐</span></td><td><span style=\"filter: grayscale(80%);\">⭐</span></td><td><span style=\"filter: grayscale(80%);\">⭐</span></td><td><span style=\"filter: grayscale(80%);\">⭐</span></td><td><span style=\"filter: grayscale(80%);\">⭐</span></td><td><span style=\"filter: grayscale(80%);\">⭐</span></td></tr><tr><td><span style=\"filter: grayscale(80%);\">⭐</span></td><td><span style=\"filter: grayscale(80%);\">⭐</span></td><td><span style=\"filter: grayscale(80%);\">⭐</span></td><td><span style=\"filter: grayscale(80%);\">⭐</span></td><td><span style=\"filter: grayscale(80%);\">⭐</span></td><td><span style=\"filter: grayscale(80%);\">⭐</span></td><td><span style=\"filter: grayscale(80%);\">⭐</span></td><td><span style=\"filter: grayscale(80%);\">⭐</span></td><td><span style=\"filter: grayscale(80%);\">⭐</span></td><td><span style=\"filter: grayscale(80%);\">⭐</span></td></tr><tr><td><span style=\"filter: grayscale(80%);\">⭐</span></td><td><span style=\"filter: grayscale(80%);\">⭐</span></td><td><span style=\"filter: grayscale(80%);\">⭐</span></td><td><span style=\"filter: grayscale(80%);\">⭐</span></td><td><span style=\"filter: grayscale(80%);\">⭐</span></td><td><span style=\"filter: grayscale(80%);\">⭐</span></td><td><span style=\"filter: grayscale(80%);\">⭐</span></td><td><span style=\"filter: grayscale(80%);\">⭐</span></td><td><span style=\"filter: grayscale(80%);\">⭐</span></td><td><span style=\"filter: grayscale(80%);\">⭐</span></td></tr><tr><td><span style=\"filter: grayscale(80%);\">⭐</span></td><td><span style=\"filter: grayscale(80%);\">⭐</span></td><td><span style=\"filter: grayscale(80%);\">⭐</span></td><td><span style=\"filter: grayscale(80%);\">⭐</span></td><td><span style=\"filter: grayscale(80%);\">⭐</span></td><td><span style=\"filter: grayscale(80%);\">⭐</span></td><td><span style=\"filter: grayscale(80%);\">⭐</span></td><td><span style=\"filter: grayscale(80%);\">⭐</span></td><td><span style=\"filter: grayscale(80%);\">⭐</span></td><td><span style=\"filter: grayscale(80%);\">⭐</span></td></tr></table>"
      ]
     },
     "metadata": {},
     "output_type": "display_data"
    }
   ],
   "source": [
    "let (private allFlashedStep, private allFlashed) = findFirstAllFlashed sampleGrid\n",
    "allFlashedStep |> display\n",
    "allFlashed |> display"
   ]
  },
  {
   "cell_type": "code",
   "execution_count": null,
   "metadata": {
    "dotnet_interactive": {
     "language": "fsharp"
    }
   },
   "outputs": [
    {
     "data": {
      "text/html": [
       "<div class=\"dni-plaintext\">788</div>"
      ]
     },
     "metadata": {},
     "output_type": "display_data"
    },
    {
     "data": {
      "text/html": [
       "flashes: 12583<table><tr><td><span style=\"filter: grayscale(80%);\">⭐</span></td><td><span style=\"filter: grayscale(80%);\">⭐</span></td><td><span style=\"filter: grayscale(80%);\">⭐</span></td><td><span style=\"filter: grayscale(80%);\">⭐</span></td><td><span style=\"filter: grayscale(80%);\">⭐</span></td><td><span style=\"filter: grayscale(80%);\">⭐</span></td><td><span style=\"filter: grayscale(80%);\">⭐</span></td><td><span style=\"filter: grayscale(80%);\">⭐</span></td><td><span style=\"filter: grayscale(80%);\">⭐</span></td><td><span style=\"filter: grayscale(80%);\">⭐</span></td></tr><tr><td><span style=\"filter: grayscale(80%);\">⭐</span></td><td><span style=\"filter: grayscale(80%);\">⭐</span></td><td><span style=\"filter: grayscale(80%);\">⭐</span></td><td><span style=\"filter: grayscale(80%);\">⭐</span></td><td><span style=\"filter: grayscale(80%);\">⭐</span></td><td><span style=\"filter: grayscale(80%);\">⭐</span></td><td><span style=\"filter: grayscale(80%);\">⭐</span></td><td><span style=\"filter: grayscale(80%);\">⭐</span></td><td><span style=\"filter: grayscale(80%);\">⭐</span></td><td><span style=\"filter: grayscale(80%);\">⭐</span></td></tr><tr><td><span style=\"filter: grayscale(80%);\">⭐</span></td><td><span style=\"filter: grayscale(80%);\">⭐</span></td><td><span style=\"filter: grayscale(80%);\">⭐</span></td><td><span style=\"filter: grayscale(80%);\">⭐</span></td><td><span style=\"filter: grayscale(80%);\">⭐</span></td><td><span style=\"filter: grayscale(80%);\">⭐</span></td><td><span style=\"filter: grayscale(80%);\">⭐</span></td><td><span style=\"filter: grayscale(80%);\">⭐</span></td><td><span style=\"filter: grayscale(80%);\">⭐</span></td><td><span style=\"filter: grayscale(80%);\">⭐</span></td></tr><tr><td><span style=\"filter: grayscale(80%);\">⭐</span></td><td><span style=\"filter: grayscale(80%);\">⭐</span></td><td><span style=\"filter: grayscale(80%);\">⭐</span></td><td><span style=\"filter: grayscale(80%);\">⭐</span></td><td><span style=\"filter: grayscale(80%);\">⭐</span></td><td><span style=\"filter: grayscale(80%);\">⭐</span></td><td><span style=\"filter: grayscale(80%);\">⭐</span></td><td><span style=\"filter: grayscale(80%);\">⭐</span></td><td><span style=\"filter: grayscale(80%);\">⭐</span></td><td><span style=\"filter: grayscale(80%);\">⭐</span></td></tr><tr><td><span style=\"filter: grayscale(80%);\">⭐</span></td><td><span style=\"filter: grayscale(80%);\">⭐</span></td><td><span style=\"filter: grayscale(80%);\">⭐</span></td><td><span style=\"filter: grayscale(80%);\">⭐</span></td><td><span style=\"filter: grayscale(80%);\">⭐</span></td><td><span style=\"filter: grayscale(80%);\">⭐</span></td><td><span style=\"filter: grayscale(80%);\">⭐</span></td><td><span style=\"filter: grayscale(80%);\">⭐</span></td><td><span style=\"filter: grayscale(80%);\">⭐</span></td><td><span style=\"filter: grayscale(80%);\">⭐</span></td></tr><tr><td><span style=\"filter: grayscale(80%);\">⭐</span></td><td><span style=\"filter: grayscale(80%);\">⭐</span></td><td><span style=\"filter: grayscale(80%);\">⭐</span></td><td><span style=\"filter: grayscale(80%);\">⭐</span></td><td><span style=\"filter: grayscale(80%);\">⭐</span></td><td><span style=\"filter: grayscale(80%);\">⭐</span></td><td><span style=\"filter: grayscale(80%);\">⭐</span></td><td><span style=\"filter: grayscale(80%);\">⭐</span></td><td><span style=\"filter: grayscale(80%);\">⭐</span></td><td><span style=\"filter: grayscale(80%);\">⭐</span></td></tr><tr><td><span style=\"filter: grayscale(80%);\">⭐</span></td><td><span style=\"filter: grayscale(80%);\">⭐</span></td><td><span style=\"filter: grayscale(80%);\">⭐</span></td><td><span style=\"filter: grayscale(80%);\">⭐</span></td><td><span style=\"filter: grayscale(80%);\">⭐</span></td><td><span style=\"filter: grayscale(80%);\">⭐</span></td><td><span style=\"filter: grayscale(80%);\">⭐</span></td><td><span style=\"filter: grayscale(80%);\">⭐</span></td><td><span style=\"filter: grayscale(80%);\">⭐</span></td><td><span style=\"filter: grayscale(80%);\">⭐</span></td></tr><tr><td><span style=\"filter: grayscale(80%);\">⭐</span></td><td><span style=\"filter: grayscale(80%);\">⭐</span></td><td><span style=\"filter: grayscale(80%);\">⭐</span></td><td><span style=\"filter: grayscale(80%);\">⭐</span></td><td><span style=\"filter: grayscale(80%);\">⭐</span></td><td><span style=\"filter: grayscale(80%);\">⭐</span></td><td><span style=\"filter: grayscale(80%);\">⭐</span></td><td><span style=\"filter: grayscale(80%);\">⭐</span></td><td><span style=\"filter: grayscale(80%);\">⭐</span></td><td><span style=\"filter: grayscale(80%);\">⭐</span></td></tr><tr><td><span style=\"filter: grayscale(80%);\">⭐</span></td><td><span style=\"filter: grayscale(80%);\">⭐</span></td><td><span style=\"filter: grayscale(80%);\">⭐</span></td><td><span style=\"filter: grayscale(80%);\">⭐</span></td><td><span style=\"filter: grayscale(80%);\">⭐</span></td><td><span style=\"filter: grayscale(80%);\">⭐</span></td><td><span style=\"filter: grayscale(80%);\">⭐</span></td><td><span style=\"filter: grayscale(80%);\">⭐</span></td><td><span style=\"filter: grayscale(80%);\">⭐</span></td><td><span style=\"filter: grayscale(80%);\">⭐</span></td></tr><tr><td><span style=\"filter: grayscale(80%);\">⭐</span></td><td><span style=\"filter: grayscale(80%);\">⭐</span></td><td><span style=\"filter: grayscale(80%);\">⭐</span></td><td><span style=\"filter: grayscale(80%);\">⭐</span></td><td><span style=\"filter: grayscale(80%);\">⭐</span></td><td><span style=\"filter: grayscale(80%);\">⭐</span></td><td><span style=\"filter: grayscale(80%);\">⭐</span></td><td><span style=\"filter: grayscale(80%);\">⭐</span></td><td><span style=\"filter: grayscale(80%);\">⭐</span></td><td><span style=\"filter: grayscale(80%);\">⭐</span></td></tr></table>"
      ]
     },
     "metadata": {},
     "output_type": "display_data"
    }
   ],
   "source": [
    "let (private allFlashedStep, private allFlashed) = findFirstAllFlashed actualGrid\n",
    "allFlashedStep |> display\n",
    "allFlashed |> display"
   ]
  }
 ],
 "metadata": {
  "kernelspec": {
   "display_name": ".NET (F#)",
   "language": "F#",
   "name": ".net-fsharp"
  },
  "language_info": {
   "name": "F#"
  }
 },
 "nbformat": 4,
 "nbformat_minor": 2
}

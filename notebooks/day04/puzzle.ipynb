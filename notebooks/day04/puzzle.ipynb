{
 "cells": [
  {
   "cell_type": "markdown",
   "metadata": {
    "dotnet_interactive": {
     "language": "fsharp"
    }
   },
   "source": [
    "## Day 4: Giant Squid\n",
    "[link](https://adventofcode.com/2021/day/4)"
   ]
  },
  {
   "cell_type": "markdown",
   "metadata": {},
   "source": [
    "### Parsing"
   ]
  },
  {
   "cell_type": "code",
   "execution_count": null,
   "metadata": {
    "dotnet_interactive": {
     "language": "fsharp"
    }
   },
   "outputs": [],
   "source": [
    "#!value --name sampleRaw\n",
    "\n",
    "7,4,9,5,11,17,23,2,0,14,21,24,10,16,13,6,15,25,12,22,18,20,8,19,3,26,1\n",
    "\n",
    "22 13 17 11  0\n",
    " 8  2 23  4 24\n",
    "21  9 14 16  7\n",
    " 6 10  3 18  5\n",
    " 1 12 20 15 19\n",
    "\n",
    " 3 15  0  2 22\n",
    " 9 18 13 17  5\n",
    "19  8  7 25 23\n",
    "20 11 10 24  4\n",
    "14 21 16 12  6\n",
    "\n",
    "14 21 17 24  4\n",
    "10 16 15  9 19\n",
    "18  8 23 26 20\n",
    "22 11 13  6  5\n",
    " 2  0 12  3  7"
   ]
  },
  {
   "cell_type": "markdown",
   "metadata": {},
   "source": [
    "Let us not invent anything sophisticated for parsing data. Good old `String.Split` should be fine.\n",
    "\n",
    "When parsing, we construct a jagged array (array of arrays) which then can simply be converted to a two-dimensional array. F# slices feature should do the trick today.\n",
    "\n",
    "Additionally, in type `Board` we will store the info about marked values."
   ]
  },
  {
   "cell_type": "code",
   "execution_count": null,
   "metadata": {
    "dotnet_interactive": {
     "language": "fsharp"
    }
   },
   "outputs": [],
   "source": [
    "#load \"../common.fsx\""
   ]
  },
  {
   "cell_type": "code",
   "execution_count": null,
   "metadata": {
    "dotnet_interactive": {
     "language": "fsharp"
    }
   },
   "outputs": [],
   "source": [
    "type Draws = int list\n",
    "type Number = | Number of int * bool\n",
    "type Board = | Board of Number[,]\n",
    "let parse (input : string) = \n",
    "    let split = input.Split([|\"\\r\\n\\r\\n\"; \"\\n\\n\"|], StringSplitOptions.RemoveEmptyEntries)\n",
    "    let draws = split.[0].Split(\",\") |> Seq.map int |> List.ofSeq\n",
    "    let boards = \n",
    "        split \n",
    "        |> Seq.skip 1 \n",
    "        |> Seq.map (fun boardRaw -> \n",
    "                        boardRaw.Split([|'\\n'; '\\r'|], StringSplitOptions.RemoveEmptyEntries)\n",
    "                        |> Array.map(fun boardRow -> boardRow.Split(' ', StringSplitOptions.RemoveEmptyEntries))\n",
    "                        |> array2D\n",
    "                        |> Array2D.map (fun number -> Number(int number, false))\n",
    "                    )\n",
    "        |> Seq.map Board\n",
    "        |> Array.ofSeq\n",
    "    boards, draws\n"
   ]
  },
  {
   "cell_type": "markdown",
   "metadata": {},
   "source": [
    "For beauty and visibility, override the formatting rule for the `Board` type "
   ]
  },
  {
   "cell_type": "code",
   "execution_count": null,
   "metadata": {
    "dotnet_interactive": {
     "language": "fsharp"
    }
   },
   "outputs": [],
   "source": [
    "#load \"../formatting.fsx\"\n",
    "let private formatBoardElement el =\n",
    "    match el with\n",
    "    | Number (num, true) -> $\"<u><b>{num}</b></u>\"\n",
    "    | Number (num, false) -> string num    \n",
    "\n",
    "Formatter.Register<Board>((fun (Board (board)) -> formatTable formatBoardElement board), \"text/html\")"
   ]
  },
  {
   "cell_type": "code",
   "execution_count": null,
   "metadata": {
    "dotnet_interactive": {
     "language": "fsharp"
    }
   },
   "outputs": [
    {
     "data": {
      "text/html": [
       "<table><thead><tr><th><i>index</i></th><th>value</th></tr></thead><tbody><tr><td>0</td><td><table><tr><td>22</td><td>13</td><td>17</td><td>11</td><td>0</td></tr><tr><td>8</td><td>2</td><td>23</td><td>4</td><td>24</td></tr><tr><td>21</td><td>9</td><td>14</td><td>16</td><td>7</td></tr><tr><td>6</td><td>10</td><td>3</td><td>18</td><td>5</td></tr><tr><td>1</td><td>12</td><td>20</td><td>15</td><td>19</td></tr></table></td></tr><tr><td>1</td><td><table><tr><td>3</td><td>15</td><td>0</td><td>2</td><td>22</td></tr><tr><td>9</td><td>18</td><td>13</td><td>17</td><td>5</td></tr><tr><td>19</td><td>8</td><td>7</td><td>25</td><td>23</td></tr><tr><td>20</td><td>11</td><td>10</td><td>24</td><td>4</td></tr><tr><td>14</td><td>21</td><td>16</td><td>12</td><td>6</td></tr></table></td></tr><tr><td>2</td><td><table><tr><td>14</td><td>21</td><td>17</td><td>24</td><td>4</td></tr><tr><td>10</td><td>16</td><td>15</td><td>9</td><td>19</td></tr><tr><td>18</td><td>8</td><td>23</td><td>26</td><td>20</td></tr><tr><td>22</td><td>11</td><td>13</td><td>6</td><td>5</td></tr><tr><td>2</td><td>0</td><td>12</td><td>3</td><td>7</td></tr></table></td></tr></tbody></table>"
      ]
     },
     "metadata": {},
     "output_type": "display_data"
    }
   ],
   "source": [
    "#!share sampleRaw --from value\n",
    "let (sampleBoards, sampleDraws) = parse sampleRaw\n",
    "sampleBoards"
   ]
  },
  {
   "cell_type": "markdown",
   "metadata": {},
   "source": [
    "### Helpers"
   ]
  },
  {
   "cell_type": "markdown",
   "metadata": {},
   "source": [
    "Each stage of the game will be represented by the following type. During the game numbers will be drown from `Draws`, all the `Boards` marked and in case of some Board winning  this Board will be removed from `Boards` and added to `Winners` along with the number."
   ]
  },
  {
   "cell_type": "code",
   "execution_count": null,
   "metadata": {
    "dotnet_interactive": {
     "language": "fsharp"
    }
   },
   "outputs": [],
   "source": [
    "type State = { Boards : Board list; Winners : (Board * int) list; Draws : Draws }"
   ]
  },
  {
   "cell_type": "markdown",
   "metadata": {},
   "source": [
    "A separate function to mark a number in a Board."
   ]
  },
  {
   "cell_type": "code",
   "execution_count": null,
   "metadata": {
    "dotnet_interactive": {
     "language": "fsharp"
    }
   },
   "outputs": [],
   "source": [
    "let mark number (Board board) = \n",
    "    Array2D.map (fun (Number (num, marked)) -> Number (num, marked || (num = number))) board\n",
    "    |> Board"
   ]
  },
  {
   "cell_type": "markdown",
   "metadata": {},
   "source": [
    "A separate function to check if a Board has at least one complete row or column of marked numbers"
   ]
  },
  {
   "cell_type": "code",
   "execution_count": null,
   "metadata": {
    "dotnet_interactive": {
     "language": "fsharp"
    }
   },
   "outputs": [],
   "source": [
    "let check (Board board) = \n",
    "    let check vector = \n",
    "        Seq.forall (fun (Number (_, marked)) -> marked) vector\n",
    "    [|0..(Array2D.length1 board - 1)|]\n",
    "    |> Array.exists (fun i -> board.[i, *] |> check)\n",
    "    ||\n",
    "    [|0..(Array2D.length2 board - 1)|]\n",
    "    |> Array.exists (fun j -> board.[*, j] |> check)"
   ]
  },
  {
   "cell_type": "markdown",
   "metadata": {},
   "source": [
    "For example:"
   ]
  },
  {
   "cell_type": "code",
   "execution_count": null,
   "metadata": {
    "dotnet_interactive": {
     "language": "fsharp"
    }
   },
   "outputs": [
    {
     "data": {
      "text/html": [
       "<table><tr><td>22</td><td>13</td><td>17</td><td>11</td><td>0</td></tr><tr><td><u><b>8</b></u></td><td><u><b>2</b></u></td><td><u><b>23</b></u></td><td>4</td><td><u><b>24</b></u></td></tr><tr><td>21</td><td>9</td><td>14</td><td><u><b>16</b></u></td><td>7</td></tr><tr><td>6</td><td>10</td><td>3</td><td>18</td><td>5</td></tr><tr><td>1</td><td>12</td><td>20</td><td>15</td><td>19</td></tr></table>"
      ]
     },
     "metadata": {},
     "output_type": "display_data"
    },
    {
     "data": {
      "text/html": [
       "<div class=\"dni-plaintext\">False</div>"
      ]
     },
     "metadata": {},
     "output_type": "display_data"
    }
   ],
   "source": [
    "let notMarkedYet = \n",
    "    [24; 23; 2; 8; 16]\n",
    "    |> List.fold (fun acc num -> mark num acc) sampleBoards.[0]\n",
    "    |> displayPipe\n",
    "\n",
    "notMarkedYet\n",
    "    |> check"
   ]
  },
  {
   "cell_type": "code",
   "execution_count": null,
   "metadata": {
    "dotnet_interactive": {
     "language": "fsharp"
    }
   },
   "outputs": [
    {
     "data": {
      "text/html": [
       "<table><tr><td>22</td><td>13</td><td>17</td><td>11</td><td>0</td></tr><tr><td><u><b>8</b></u></td><td><u><b>2</b></u></td><td><u><b>23</b></u></td><td><u><b>4</b></u></td><td><u><b>24</b></u></td></tr><tr><td>21</td><td>9</td><td>14</td><td><u><b>16</b></u></td><td>7</td></tr><tr><td>6</td><td>10</td><td>3</td><td>18</td><td>5</td></tr><tr><td>1</td><td>12</td><td>20</td><td>15</td><td>19</td></tr></table>"
      ]
     },
     "metadata": {},
     "output_type": "display_data"
    },
    {
     "data": {
      "text/html": [
       "<div class=\"dni-plaintext\">True</div>"
      ]
     },
     "metadata": {},
     "output_type": "display_data"
    }
   ],
   "source": [
    "notMarkedYet |> mark 4\n",
    "|> displayPipe\n",
    "|> check\n",
    "|> display"
   ]
  },
  {
   "cell_type": "code",
   "execution_count": null,
   "metadata": {
    "dotnet_interactive": {
     "language": "fsharp"
    }
   },
   "outputs": [
    {
     "data": {
      "text/html": [
       "<table><tr><td>22</td><td>13</td><td>17</td><td>11</td><td><u><b>0</b></u></td></tr><tr><td><u><b>8</b></u></td><td><u><b>2</b></u></td><td><u><b>23</b></u></td><td>4</td><td><u><b>24</b></u></td></tr><tr><td>21</td><td>9</td><td>14</td><td><u><b>16</b></u></td><td><u><b>7</b></u></td></tr><tr><td>6</td><td>10</td><td>3</td><td>18</td><td><u><b>5</b></u></td></tr><tr><td>1</td><td>12</td><td>20</td><td>15</td><td><u><b>19</b></u></td></tr></table>"
      ]
     },
     "metadata": {},
     "output_type": "display_data"
    },
    {
     "data": {
      "text/html": [
       "<div class=\"dni-plaintext\">True</div>"
      ]
     },
     "metadata": {},
     "output_type": "display_data"
    }
   ],
   "source": [
    "[0; 7; 5; 19]\n",
    "|> List.fold (fun acc num -> mark num acc) notMarkedYet\n",
    "|> displayPipe\n",
    "|> check\n",
    "|> display\n"
   ]
  },
  {
   "cell_type": "markdown",
   "metadata": {},
   "source": [
    "### Game"
   ]
  },
  {
   "cell_type": "markdown",
   "metadata": {},
   "source": [
    "The game stops when there is nothing more to draw or no boards was left. Otherwise, mark (immutably) numbers on the boards, then move winners to another list, and repeat. When game stops, the `Winner` list will consist of all the winners in reverse order. The immutable nature of all processes guarantees that they will have the state they had when won."
   ]
  },
  {
   "cell_type": "code",
   "execution_count": null,
   "metadata": {
    "dotnet_interactive": {
     "language": "fsharp"
    }
   },
   "outputs": [],
   "source": [
    "let mutable demo = true\n",
    "\n",
    "let rec game (state : State) = \n",
    "    match state with\n",
    "    | { Draws = [] } -> state\n",
    "    | { Boards = [] } -> state\n",
    "    | { Draws = draw::drawsRest; Boards = boards} ->\n",
    "        if (demo) then $\"Draw {draw}.\" |> display |> ignore\n",
    "        let markedBoards = List.map (mark draw) boards\n",
    "        let (wonBoards, notWonBoards) = List.partition check markedBoards\n",
    "        if (demo && not (List.isEmpty wonBoards)) then  \n",
    "            $\"Winners:\" |> display |> ignore\n",
    "            wonBoards |> display |> ignore\n",
    "        let wonBoardsWithCurrentDraw = wonBoards |> List.map (fun b -> b, draw)\n",
    "        game { Boards = notWonBoards; Winners = wonBoardsWithCurrentDraw @ state.Winners; Draws = drawsRest }"
   ]
  },
  {
   "cell_type": "code",
   "execution_count": null,
   "metadata": {
    "dotnet_interactive": {
     "language": "fsharp"
    }
   },
   "outputs": [
    {
     "data": {
      "text/plain": [
       "Draw 7."
      ]
     },
     "metadata": {},
     "output_type": "display_data"
    },
    {
     "data": {
      "text/plain": [
       "Draw 4."
      ]
     },
     "metadata": {},
     "output_type": "display_data"
    },
    {
     "data": {
      "text/plain": [
       "Draw 9."
      ]
     },
     "metadata": {},
     "output_type": "display_data"
    },
    {
     "data": {
      "text/plain": [
       "Draw 5."
      ]
     },
     "metadata": {},
     "output_type": "display_data"
    },
    {
     "data": {
      "text/plain": [
       "Draw 11."
      ]
     },
     "metadata": {},
     "output_type": "display_data"
    },
    {
     "data": {
      "text/plain": [
       "Draw 17."
      ]
     },
     "metadata": {},
     "output_type": "display_data"
    },
    {
     "data": {
      "text/plain": [
       "Draw 23."
      ]
     },
     "metadata": {},
     "output_type": "display_data"
    },
    {
     "data": {
      "text/plain": [
       "Draw 2."
      ]
     },
     "metadata": {},
     "output_type": "display_data"
    },
    {
     "data": {
      "text/plain": [
       "Draw 0."
      ]
     },
     "metadata": {},
     "output_type": "display_data"
    },
    {
     "data": {
      "text/plain": [
       "Draw 14."
      ]
     },
     "metadata": {},
     "output_type": "display_data"
    },
    {
     "data": {
      "text/plain": [
       "Draw 21."
      ]
     },
     "metadata": {},
     "output_type": "display_data"
    },
    {
     "data": {
      "text/plain": [
       "Draw 24."
      ]
     },
     "metadata": {},
     "output_type": "display_data"
    },
    {
     "data": {
      "text/plain": [
       "Winners:"
      ]
     },
     "metadata": {},
     "output_type": "display_data"
    },
    {
     "data": {
      "text/html": [
       "<table><thead><tr><th><i>index</i></th><th>value</th></tr></thead><tbody><tr><td>0</td><td><table><tr><td><u><b>14</b></u></td><td><u><b>21</b></u></td><td><u><b>17</b></u></td><td><u><b>24</b></u></td><td><u><b>4</b></u></td></tr><tr><td>10</td><td>16</td><td>15</td><td><u><b>9</b></u></td><td>19</td></tr><tr><td>18</td><td>8</td><td><u><b>23</b></u></td><td>26</td><td>20</td></tr><tr><td>22</td><td><u><b>11</b></u></td><td>13</td><td>6</td><td><u><b>5</b></u></td></tr><tr><td><u><b>2</b></u></td><td><u><b>0</b></u></td><td>12</td><td>3</td><td><u><b>7</b></u></td></tr></table></td></tr></tbody></table>"
      ]
     },
     "metadata": {},
     "output_type": "display_data"
    },
    {
     "data": {
      "text/plain": [
       "Draw 10."
      ]
     },
     "metadata": {},
     "output_type": "display_data"
    },
    {
     "data": {
      "text/plain": [
       "Draw 16."
      ]
     },
     "metadata": {},
     "output_type": "display_data"
    },
    {
     "data": {
      "text/plain": [
       "Winners:"
      ]
     },
     "metadata": {},
     "output_type": "display_data"
    },
    {
     "data": {
      "text/html": [
       "<table><thead><tr><th><i>index</i></th><th>value</th></tr></thead><tbody><tr><td>0</td><td><table><tr><td>22</td><td>13</td><td><u><b>17</b></u></td><td><u><b>11</b></u></td><td><u><b>0</b></u></td></tr><tr><td>8</td><td><u><b>2</b></u></td><td><u><b>23</b></u></td><td><u><b>4</b></u></td><td><u><b>24</b></u></td></tr><tr><td><u><b>21</b></u></td><td><u><b>9</b></u></td><td><u><b>14</b></u></td><td><u><b>16</b></u></td><td><u><b>7</b></u></td></tr><tr><td>6</td><td><u><b>10</b></u></td><td>3</td><td>18</td><td><u><b>5</b></u></td></tr><tr><td>1</td><td>12</td><td>20</td><td>15</td><td>19</td></tr></table></td></tr></tbody></table>"
      ]
     },
     "metadata": {},
     "output_type": "display_data"
    },
    {
     "data": {
      "text/plain": [
       "Draw 13."
      ]
     },
     "metadata": {},
     "output_type": "display_data"
    },
    {
     "data": {
      "text/plain": [
       "Winners:"
      ]
     },
     "metadata": {},
     "output_type": "display_data"
    },
    {
     "data": {
      "text/html": [
       "<table><thead><tr><th><i>index</i></th><th>value</th></tr></thead><tbody><tr><td>0</td><td><table><tr><td>3</td><td>15</td><td><u><b>0</b></u></td><td><u><b>2</b></u></td><td>22</td></tr><tr><td><u><b>9</b></u></td><td>18</td><td><u><b>13</b></u></td><td><u><b>17</b></u></td><td><u><b>5</b></u></td></tr><tr><td>19</td><td>8</td><td><u><b>7</b></u></td><td>25</td><td><u><b>23</b></u></td></tr><tr><td>20</td><td><u><b>11</b></u></td><td><u><b>10</b></u></td><td><u><b>24</b></u></td><td><u><b>4</b></u></td></tr><tr><td><u><b>14</b></u></td><td><u><b>21</b></u></td><td><u><b>16</b></u></td><td>12</td><td>6</td></tr></table></td></tr></tbody></table>"
      ]
     },
     "metadata": {},
     "output_type": "display_data"
    }
   ],
   "source": [
    "demo <- true\n",
    "game {Draws = sampleDraws; Boards = sampleBoards |> List.ofArray; Winners = []} |> ignore"
   ]
  },
  {
   "cell_type": "markdown",
   "metadata": {},
   "source": [
    "### Actual data"
   ]
  },
  {
   "cell_type": "markdown",
   "metadata": {
    "dotnet_interactive": {
     "language": "fsharp"
    }
   },
   "source": [
    "Now, we can simulate the game for the actual input once. The first and the last winning Boards will be found as the last and the first elements of `Winners` respectively."
   ]
  },
  {
   "cell_type": "code",
   "execution_count": null,
   "metadata": {
    "dotnet_interactive": {
     "language": "fsharp"
    }
   },
   "outputs": [],
   "source": [
    "#!value --name inputRaw --from-file ./data"
   ]
  },
  {
   "cell_type": "code",
   "execution_count": null,
   "metadata": {
    "dotnet_interactive": {
     "language": "fsharp"
    }
   },
   "outputs": [],
   "source": [
    "demo <- false\n",
    "\n",
    "#!share inputRaw --from value\n",
    "let (boards, draws) = parse inputRaw\n",
    "let {State.Winners = winners} = game {Draws = draws; Boards = boards |> List.ofArray; Winners = []}"
   ]
  },
  {
   "cell_type": "markdown",
   "metadata": {},
   "source": [
    "First winning Board:"
   ]
  },
  {
   "cell_type": "code",
   "execution_count": null,
   "metadata": {
    "dotnet_interactive": {
     "language": "fsharp"
    }
   },
   "outputs": [
    {
     "data": {
      "text/html": [
       "<table><tr><td>24</td><td>9</td><td>94</td><td>69</td><td><u><b>65</b></u></td></tr><tr><td>97</td><td><u><b>84</b></u></td><td>85</td><td>53</td><td><u><b>5</b></u></td></tr><tr><td>92</td><td>11</td><td>61</td><td><u><b>77</b></u></td><td>8</td></tr><tr><td><u><b>21</b></u></td><td><u><b>75</b></u></td><td><u><b>33</b></u></td><td><u><b>57</b></u></td><td><u><b>63</b></u></td></tr><tr><td><u><b>43</b></u></td><td>68</td><td>55</td><td>52</td><td>93</td></tr></table>"
      ]
     },
     "metadata": {},
     "output_type": "display_data"
    },
    {
     "data": {
      "text/html": [
       "<div class=\"dni-plaintext\">75</div>"
      ]
     },
     "metadata": {},
     "output_type": "display_data"
    },
    {
     "data": {
      "text/html": [
       "<div class=\"dni-plaintext\">65325</div>"
      ]
     },
     "metadata": {},
     "output_type": "display_data"
    }
   ],
   "source": [
    "let (private firstWinningBoard, private firstWinningDraw) = List.last winners\n",
    "firstWinningBoard |> display\n",
    "firstWinningDraw |> display\n",
    "\n",
    "let calculateScore (Board winningBoard) winningDraw = \n",
    "    winningBoard |> Array2D.toArray \n",
    "    |> Array.choose (fun (Number (num, marked)) -> if (marked) then None else Some num) \n",
    "    |> Array.sum\n",
    "    |> (*) winningDraw\n",
    "\n",
    "calculateScore firstWinningBoard firstWinningDraw\n"
   ]
  },
  {
   "cell_type": "markdown",
   "metadata": {},
   "source": [
    "Last winning Board:"
   ]
  },
  {
   "cell_type": "code",
   "execution_count": null,
   "metadata": {
    "dotnet_interactive": {
     "language": "fsharp"
    }
   },
   "outputs": [
    {
     "data": {
      "text/html": [
       "<table><tr><td><u><b>84</b></u></td><td>86</td><td><u><b>77</b></u></td><td>97</td><td><u><b>28</b></u></td></tr><tr><td><u><b>37</b></u></td><td><u><b>87</b></u></td><td>2</td><td><u><b>93</b></u></td><td><u><b>5</b></u></td></tr><tr><td><u><b>16</b></u></td><td><u><b>64</b></u></td><td><u><b>35</b></u></td><td><u><b>61</b></u></td><td><u><b>27</b></u></td></tr><tr><td><u><b>8</b></u></td><td><u><b>3</b></u></td><td><u><b>36</b></u></td><td><u><b>10</b></u></td><td>73</td></tr><tr><td>31</td><td><u><b>65</b></u></td><td><u><b>94</b></u></td><td><u><b>63</b></u></td><td><u><b>13</b></u></td></tr></table>"
      ]
     },
     "metadata": {},
     "output_type": "display_data"
    },
    {
     "data": {
      "text/html": [
       "<div class=\"dni-plaintext\">16</div>"
      ]
     },
     "metadata": {},
     "output_type": "display_data"
    },
    {
     "data": {
      "text/html": [
       "<div class=\"dni-plaintext\">4624</div>"
      ]
     },
     "metadata": {},
     "output_type": "display_data"
    }
   ],
   "source": [
    "let (private lastWinningBoard, private lastWinningDraw) = List.head winners\n",
    "lastWinningBoard |> display\n",
    "lastWinningDraw |> display\n",
    "\n",
    "calculateScore lastWinningBoard lastWinningDraw\n"
   ]
  }
 ],
 "metadata": {
  "kernelspec": {
   "display_name": ".NET (F#)",
   "language": "F#",
   "name": ".net-fsharp"
  },
  "language_info": {
   "name": "F#"
  }
 },
 "nbformat": 4,
 "nbformat_minor": 2
}

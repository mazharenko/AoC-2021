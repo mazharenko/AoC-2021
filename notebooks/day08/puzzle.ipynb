{
 "cells": [
  {
   "cell_type": "markdown",
   "metadata": {},
   "source": [
    "## Day 8: Seven Segment Search\n",
    "[link](https://adventofcode.com/2021/day/8)"
   ]
  },
  {
   "cell_type": "markdown",
   "metadata": {},
   "source": [
    "### Parsing"
   ]
  },
  {
   "cell_type": "code",
   "execution_count": null,
   "metadata": {
    "dotnet_interactive": {
     "language": "fsharp"
    }
   },
   "outputs": [],
   "source": [
    "#load \"../common.fsx\"\n",
    "\n",
    "module Segments = \n",
    "    type T = private Segments of Set<char> with\n",
    "        static member (/) ((Segments s1), (Segments s2)) =\n",
    "            Segments (Set.difference s1 s2)\n",
    "        static member (+) ((Segments s1), (Segments s2)) =\n",
    "            Segments (Set.union s2 s1)\n",
    "        override this.ToString() = \n",
    "            let (Segments chars) = this\n",
    "            new string(Set.toArray chars)\n",
    "    let create s = \n",
    "        Segments (s |> Set.ofSeq)\n",
    "    let apply f (Segments chars) = f chars\n",
    "    let value seg = apply id seg\n",
    "    let count = apply Set.count\n",
    "    let contains (Segments sub) (Segments super) =\n",
    "        Set.isSubset sub super\n"
   ]
  },
  {
   "cell_type": "code",
   "execution_count": null,
   "metadata": {
    "dotnet_interactive": {
     "language": "fsharp"
    }
   },
   "outputs": [],
   "source": [
    "let private parseSegmentsLine (s : string) = \n",
    "    s.Split(\" \")\n",
    "    |> Array.map Segments.create\n",
    "let parse (input : string) = \n",
    "    input.Split([|\"\\n\"; \"\\r\"|], StringSplitOptions.RemoveEmptyEntries)\n",
    "    |> Array.map (fun line -> splitToTuple2 [|\" | \"|] line)\n",
    "    |> Array.map (fun (patterns, output) -> parseSegmentsLine patterns, parseSegmentsLine output)"
   ]
  },
  {
   "cell_type": "code",
   "execution_count": null,
   "metadata": {
    "dotnet_interactive": {
     "language": "fsharp"
    }
   },
   "outputs": [],
   "source": [
    "#!value --name sampleRaw --from-file ./sample\n",
    "#!value --name inputRaw --from-file ./data"
   ]
  },
  {
   "cell_type": "code",
   "execution_count": null,
   "metadata": {
    "dotnet_interactive": {
     "language": "fsharp"
    }
   },
   "outputs": [
    {
     "data": {
      "text/html": [
       "<table><thead><tr><th><i>index</i></th><th>Item1</th><th>Item2</th></tr></thead><tbody><tr><td>0</td><td><div class=\"dni-plaintext\">[ be, abcdefg, bcdefg, acdefg, bceg, cdefg, abdefg, bcdef, abcdf, bde ]</div></td><td><div class=\"dni-plaintext\">[ abcdefg, bcdef, bcdefg, bceg ]</div></td></tr><tr><td>1</td><td><div class=\"dni-plaintext\">[ abdefg, bcdeg, bcg, cg, abcdefg, bdefg, abcdfg, abcde, bcdefg, cefg ]</div></td><td><div class=\"dni-plaintext\">[ bcdefg, bcg, abcdefg, cg ]</div></td></tr><tr><td>2</td><td><div class=\"dni-plaintext\">[ abdefg, cg, abcde, abdfg, abcdfg, bcdefg, abcdg, acfg, bcg, abcdefg ]</div></td><td><div class=\"dni-plaintext\">[ cg, cg, abcdfg, bcg ]</div></td></tr><tr><td>3</td><td><div class=\"dni-plaintext\">[ bcdefg, bcd, abcdef, abdeg, abcf, bc, acdef, abcde, acdefg, abcdefg ]</div></td><td><div class=\"dni-plaintext\">[ abcdef, abcde, acdefg, bc ]</div></td></tr><tr><td>4</td><td><div class=\"dni-plaintext\">[ abcdefg, bfg, fg, abefg, abdef, cefg, abceg, abcefg, abcdeg, abcdfg ]</div></td><td><div class=\"dni-plaintext\">[ cefg, abcdefg, bfg, abefg ]</div></td></tr><tr><td>5</td><td><div class=\"dni-plaintext\">[ abefg, ac, abcefg, abcdefg, acdefg, bcdfg, abce, abdefg, abcfg, acf ]</div></td><td><div class=\"dni-plaintext\">[ abcdefg, abce, ac, abcdefg ]</div></td></tr><tr><td>6</td><td><div class=\"dni-plaintext\">[ bcdfg, dfg, abcdefg, cefg, abdefg, abcdef, bcdef, abcdg, bcdefg, fg ]</div></td><td><div class=\"dni-plaintext\">[ cefg, bcdef, cefg, abcdefg ]</div></td></tr><tr><td>7</td><td><div class=\"dni-plaintext\">[ bcdefg, abcefg, bcefg, acdefg, abcdg, de, bdef, cde, abcdefg, bcdeg ]</div></td><td><div class=\"dni-plaintext\">[ de, abcefg, abcdg, bcefg ]</div></td></tr><tr><td>8</td><td><div class=\"dni-plaintext\">[ abdefg, bcdefg, cdeg, abcef, bcg, abcdefg, cg, abcdfg, bdefg, bcefg ]</div></td><td><div class=\"dni-plaintext\">[ abcdefg, bcg, cg, bcg ]</div></td></tr><tr><td>9</td><td><div class=\"dni-plaintext\">[ abcfg, cfg, abcdefg, abceg, fg, abcdeg, aefg, abcefg, abcdf, bcdefg ]</div></td><td><div class=\"dni-plaintext\">[ aefg, abcfg, fg, abceg ]</div></td></tr></tbody></table>"
      ]
     },
     "metadata": {},
     "output_type": "display_data"
    }
   ],
   "source": [
    "#!share sampleRaw --from value\n",
    "#!share inputRaw --from value\n",
    "let sampleInput = parse sampleRaw\n",
    "let actualInput = parse inputRaw\n",
    "sampleInput"
   ]
  },
  {
   "cell_type": "markdown",
   "metadata": {},
   "source": [
    "### Part 1"
   ]
  },
  {
   "cell_type": "code",
   "execution_count": null,
   "metadata": {
    "dotnet_interactive": {
     "language": "fsharp"
    }
   },
   "outputs": [
    {
     "data": {
      "text/html": [
       "<div class=\"dni-plaintext\">26</div>"
      ]
     },
     "metadata": {},
     "output_type": "display_data"
    },
    {
     "data": {
      "text/html": [
       "<div class=\"dni-plaintext\">532</div>"
      ]
     },
     "metadata": {},
     "output_type": "display_data"
    }
   ],
   "source": [
    "\n",
    "let part1 input = \n",
    "    input\n",
    "    |> Array.collect snd\n",
    "    |> Array.filter (fun s -> match (Set.count (Segments.value s)) with | 2 | 4 | 3 | 7 -> true | _ -> false)\n",
    "    |> Array.length\n",
    "\n",
    "sampleInput |> part1 |> display\n",
    "actualInput |> part1 |> display"
   ]
  },
  {
   "cell_type": "markdown",
   "metadata": {},
   "source": [
    "### Part 2"
   ]
  },
  {
   "cell_type": "markdown",
   "metadata": {},
   "source": [
    "The main piece of information using which we can differentiate digits is segments count. Next, it is beneficial to consider digits with the same amount together.\n",
    "\n",
    "```\n",
    "2 segments:\n",
    " ....  \n",
    ".    c \n",
    ".    c \n",
    " ....  \n",
    ".    f \n",
    ".    f \n",
    " ....  \n",
    "\n",
    "3 segments:\n",
    " aaaa  \n",
    ".    c \n",
    ".    c \n",
    " ....  \n",
    ".    f \n",
    ".    f \n",
    " ....  \n",
    "\n",
    "4 segments:\n",
    " ....\n",
    "b    c\n",
    "b    c\n",
    " dddd\n",
    ".    f\n",
    ".    f\n",
    " ....\n",
    "\n",
    "7 segments:\n",
    " aaaa  \n",
    "b    c \n",
    "b    c \n",
    " dddd  \n",
    "e    f \n",
    "e    f \n",
    " gggg  \n",
    "```\n",
    "\n",
    "So, we can identify digits `1`, `4`, `7`, `8` only by segments count.\n",
    "\n",
    "For the rest digits:\n",
    "\n",
    "```\n",
    "5 segments:\n",
    " aaaa      aaaa      aaaa  \n",
    ".    c    .    c    b    . \n",
    ".    c    .    c    b    . \n",
    " dddd      dddd      dddd  \n",
    "e    .    .    f    .    f \n",
    "e    .    .    f    .    f \n",
    " gggg      gggg      gggg  \n",
    "\n",
    "6 segments:\n",
    " aaaa      aaaa      aaaa\n",
    "b    c    b    .    b    c\n",
    "b    c    b    .    b    c\n",
    " ....      dddd      dddd\n",
    "e    f    e    f    .    f\n",
    "e    f    e    f    .    f\n",
    " gggg      gggg      gggg\n",
    "```\n",
    "\n",
    "Here, we can see that, for instance, digit `3` is the only in its group which contains digit `1` in it.\\\n",
    "Digit `5` is the only in its group which contains segments of `4 / 7` in it.\\\n",
    "Digit `2` is the only in its group which contains segments of `8 / 4` in it.\\\n",
    "Digit `9` is the only in its group which contains digit `4` in it.\\\n",
    "Digit `6` is the only in its group which does not contain digit `7` in it.\\\n",
    "Digit `0` is the only in its group which contains segments of `8 / 4 + 1` in it.\n",
    "\n"
   ]
  },
  {
   "cell_type": "code",
   "execution_count": null,
   "metadata": {
    "dotnet_interactive": {
     "language": "fsharp"
    }
   },
   "outputs": [],
   "source": [
    "let resolveDigits (segments: Segments.T array) = \n",
    "    let byLen = segments |> Array.groupBy Segments.count |> Map.ofArray\n",
    "    let ``1`` = byLen.[2] |> Array.exactlyOne\n",
    "    let ``4`` = byLen.[4] |> Array.exactlyOne\n",
    "    let ``7`` = byLen.[3] |> Array.exactlyOne\n",
    "    let ``8`` = byLen.[7] |> Array.exactlyOne\n",
    "    let ``3`` = byLen.[5] |> Array.filter (Segments.contains ``1``) |> Array.exactlyOne\n",
    "    let ``5`` = byLen.[5] |> Array.filter (Segments.contains (``4`` / ``7``)) |> Array.exactlyOne\n",
    "    let ``2`` = byLen.[5] |> Array.filter (Segments.contains (``8`` / ``4``)) |> Array.exactlyOne\n",
    "    let ``9`` = byLen.[6] |> Array.filter (Segments.contains ``4``) |> Array.exactlyOne\n",
    "    let ``6`` = byLen.[6] |> Array.filter (not << Segments.contains ``7``) |> Array.exactlyOne\n",
    "    let ``0`` = byLen.[6] |> Array.filter (Segments.contains (``8`` / ``4`` + ``1``)) |> Array.exactlyOne\n",
    "    [\n",
    "        ``0``, 0\n",
    "        ``1``, 1\n",
    "        ``2``, 2\n",
    "        ``3``, 3\n",
    "        ``4``, 4\n",
    "        ``5``, 5\n",
    "        ``6``, 6\n",
    "        ``7``, 7\n",
    "        ``8``, 8\n",
    "        ``9``, 9\n",
    "    ] |> Map.ofList\n",
    "\n",
    "let calculate (segments: Segments.T array) (segmentsMap: Map<Segments.T, int>) = \n",
    "    let len = Array.length segments\n",
    "    segments \n",
    "    |> Array.mapi (fun i seg -> segmentsMap.[seg] * (pown 10 (len - 1 - i)))\n",
    "    |> Array.sum\n"
   ]
  },
  {
   "cell_type": "code",
   "execution_count": null,
   "metadata": {
    "dotnet_interactive": {
     "language": "fsharp"
    }
   },
   "outputs": [
    {
     "data": {
      "text/html": [
       "<div class=\"dni-plaintext\">61229</div>"
      ]
     },
     "metadata": {},
     "output_type": "display_data"
    },
    {
     "data": {
      "text/html": [
       "<div class=\"dni-plaintext\">1011284</div>"
      ]
     },
     "metadata": {},
     "output_type": "display_data"
    }
   ],
   "source": [
    "let part2 input = \n",
    "    input \n",
    "    |> Array.map (fun (patterns, output) -> calculate output (resolveDigits patterns))\n",
    "    |> Array.sum\n",
    "\n",
    "sampleInput |> part2 |> display\n",
    "actualInput |> part2 |> display"
   ]
  }
 ],
 "metadata": {
  "kernelspec": {
   "display_name": ".NET (F#)",
   "language": "F#",
   "name": ".net-fsharp"
  },
  "language_info": {
   "name": "F#"
  }
 },
 "nbformat": 4,
 "nbformat_minor": 2
}

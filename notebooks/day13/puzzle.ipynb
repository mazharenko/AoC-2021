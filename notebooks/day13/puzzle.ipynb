{
 "cells": [
  {
   "cell_type": "markdown",
   "metadata": {},
   "source": [
    "## Day 13: Transparent Origami\n",
    "[link](https://adventofcode.com/2021/day/13)"
   ]
  },
  {
   "cell_type": "code",
   "execution_count": null,
   "metadata": {
    "dotnet_interactive": {
     "language": "fsharp"
    }
   },
   "outputs": [],
   "source": [
    "#!value --name sampleRaw\n",
    "6,10\n",
    "0,14\n",
    "9,10\n",
    "0,3\n",
    "10,4\n",
    "4,11\n",
    "6,0\n",
    "6,12\n",
    "4,1\n",
    "0,13\n",
    "10,12\n",
    "3,4\n",
    "3,0\n",
    "8,4\n",
    "1,10\n",
    "2,14\n",
    "8,10\n",
    "9,0\n",
    "\n",
    "fold along y=7\n",
    "fold along x=5"
   ]
  },
  {
   "cell_type": "code",
   "execution_count": null,
   "metadata": {
    "dotnet_interactive": {
     "language": "fsharp"
    }
   },
   "outputs": [],
   "source": [
    "#!value --name inputRaw --from-file ./data"
   ]
  },
  {
   "cell_type": "code",
   "execution_count": null,
   "metadata": {
    "dotnet_interactive": {
     "language": "fsharp"
    }
   },
   "outputs": [],
   "source": [
    "let foldy coord points =\n",
    "    let foldPoint coord (x,y) =\n",
    "        if (y < coord) then (x,y)\n",
    "        elif (y > coord) then (x, coord - (y - coord))\n",
    "        else failwith \"y = coord\"\n",
    "    points\n",
    "    |> Array.map (foldPoint coord)\n",
    "    |> Array.distinct\n",
    "    \n",
    "let foldx coord points =\n",
    "    let foldPoint coord (x,y) =\n",
    "        if (x < coord) then (x,y)\n",
    "        elif (x > coord) then (coord - (x - coord), y)\n",
    "        else failwith \"x = coord\"\n",
    "    points\n",
    "    |> Array.map (foldPoint coord)\n",
    "    |> Array.distinct"
   ]
  },
  {
   "cell_type": "code",
   "execution_count": null,
   "metadata": {
    "dotnet_interactive": {
     "language": "fsharp"
    }
   },
   "outputs": [],
   "source": [
    "#load \"../common.fsx\"\n",
    "\n",
    "#!share sampleRaw --from value\n",
    "#!share inputRaw --from value\n",
    "\n",
    "let parsePoints input =\n",
    "    readLines input\n",
    "    |> Seq.filter (fun x -> x.Contains \",\")\n",
    "    |> Seq.map (splitToTuple2 [|\",\"|]) \n",
    "    |> Seq.map (fun (s1, s2) -> (int s1, int s2))\n",
    "    |> Seq.toArray\n",
    "\n",
    "let parseFolds input = \n",
    "    readLines input\n",
    "    |> Seq.filter (fun x -> x.Contains \"fold\")\n",
    "    |> Seq.map (fun x -> \n",
    "        let (asix, coord) = splitToTuple2 [|\"fold along \"; \"=\"|] x\n",
    "        if (asix = \"x\") then foldx (int coord)\n",
    "        else foldy (int coord)\n",
    "    )\n",
    "    |> Seq.toArray\n"
   ]
  },
  {
   "cell_type": "code",
   "execution_count": null,
   "metadata": {
    "dotnet_interactive": {
     "language": "fsharp"
    }
   },
   "outputs": [],
   "source": [
    "\n",
    "let samplePoints = parsePoints sampleRaw\n",
    "let actualPoints = parsePoints inputRaw\n",
    "\n",
    "let sampleFolds = parseFolds sampleRaw\n",
    "let actualFolds = parseFolds inputRaw\n"
   ]
  },
  {
   "cell_type": "code",
   "execution_count": null,
   "metadata": {
    "dotnet_interactive": {
     "language": "fsharp"
    }
   },
   "outputs": [
    {
     "data": {
      "text/html": [
       "<div class=\"dni-plaintext\">17</div>"
      ]
     },
     "metadata": {},
     "output_type": "display_data"
    },
    {
     "data": {
      "text/html": [
       "<div class=\"dni-plaintext\">661</div>"
      ]
     },
     "metadata": {},
     "output_type": "display_data"
    }
   ],
   "source": [
    "let private firstFoldPoints points folds = points |> Array.head folds\n",
    "\n",
    "firstFoldPoints samplePoints sampleFolds |> Array.length |> display\n",
    "firstFoldPoints actualPoints actualFolds |> Array.length |> display"
   ]
  },
  {
   "cell_type": "code",
   "execution_count": null,
   "metadata": {
    "dotnet_interactive": {
     "language": "fsharp"
    }
   },
   "outputs": [],
   "source": [
    "let private foldComplete points folds =\n",
    "    folds \n",
    "    |> Array.fold (fun p fold -> fold p) points\n",
    "\n",
    "let sampleFolded = foldComplete samplePoints sampleFolds\n",
    "let actualFolded = foldComplete actualPoints actualFolds"
   ]
  },
  {
   "cell_type": "code",
   "execution_count": null,
   "metadata": {
    "dotnet_interactive": {
     "language": "html"
    }
   },
   "outputs": [
    {
     "data": {
      "text/html": [
       "<script src=\"../drawMatrix.mjs\"/>"
      ]
     },
     "metadata": {},
     "output_type": "display_data"
    }
   ],
   "source": [
    "<script src=\"../drawMatrix.mjs\"/>"
   ]
  },
  {
   "cell_type": "code",
   "execution_count": null,
   "metadata": {
    "dotnet_interactive": {
     "language": "javascript"
    }
   },
   "outputs": [],
   "source": [
    "draw = (canvasId, points) => {\n",
    "    var maxX = Math.max(...points.map(p => p.Item1))\n",
    "    var maxY = Math.max(...points.map(p => p.Item2))\n",
    "    var canvas = document.getElementById(canvasId);\n",
    "    canvas.width = maxX * 5 + 5\n",
    "    canvas.height = maxY * 5 + 5\n",
    "    drawPoints(points, \"green\", canvas, 5);\n",
    "}"
   ]
  },
  {
   "cell_type": "code",
   "execution_count": null,
   "metadata": {
    "dotnet_interactive": {
     "language": "html"
    }
   },
   "outputs": [
    {
     "data": {
      "text/html": [
       "<canvas id=\"sampleFolded\"></canvas>"
      ]
     },
     "metadata": {},
     "output_type": "display_data"
    }
   ],
   "source": [
    "<canvas id=\"sampleFolded\"></canvas>"
   ]
  },
  {
   "cell_type": "code",
   "execution_count": null,
   "metadata": {
    "dotnet_interactive": {
     "language": "html"
    }
   },
   "outputs": [
    {
     "data": {
      "text/html": [
       "<canvas id=\"actualFolded\"></canvas>"
      ]
     },
     "metadata": {},
     "output_type": "display_data"
    }
   ],
   "source": [
    "<canvas id=\"actualFolded\"></canvas>"
   ]
  },
  {
   "cell_type": "code",
   "execution_count": null,
   "metadata": {
    "dotnet_interactive": {
     "language": "javascript"
    }
   },
   "outputs": [],
   "source": [
    "#!share --from fsharp sampleFolded\n",
    "#!share --from fsharp actualFolded\n",
    "\n",
    "draw (\"sampleFolded\", sampleFolded)\n",
    "draw (\"actualFolded\", actualFolded)"
   ]
  }
 ],
 "metadata": {
  "kernelspec": {
   "display_name": ".NET (F#)",
   "language": "F#",
   "name": ".net-fsharp"
  },
  "language_info": {
   "name": "F#"
  }
 },
 "nbformat": 4,
 "nbformat_minor": 2
}

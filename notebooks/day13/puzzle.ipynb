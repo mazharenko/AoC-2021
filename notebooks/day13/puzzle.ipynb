{
 "cells": [
  {
   "cell_type": "markdown",
   "metadata": {},
   "source": [
    "## Day 13: Transparent Origami\n",
    "\n",
    "[![nbviewer](https://raw.githubusercontent.com/jupyter/design/master/logos/Badges/nbviewer_badge.svg)](https://nbviewer.org/github/mazharenko/AoC-2021/tree/HEAD/notebooks/day13/puzzle.ipynb)\n",
    "\n",
    "[Problem statement](https://adventofcode.com/2021/day/13)"
   ]
  },
  {
   "cell_type": "code",
   "execution_count": null,
   "metadata": {
    "dotnet_interactive": {
     "language": "fsharp"
    }
   },
   "outputs": [],
   "source": [
    "#!value --name sampleRaw\n",
    "6,10\n",
    "0,14\n",
    "9,10\n",
    "0,3\n",
    "10,4\n",
    "4,11\n",
    "6,0\n",
    "6,12\n",
    "4,1\n",
    "0,13\n",
    "10,12\n",
    "3,4\n",
    "3,0\n",
    "8,4\n",
    "1,10\n",
    "2,14\n",
    "8,10\n",
    "9,0\n",
    "\n",
    "fold along y=7\n",
    "fold along x=5"
   ]
  },
  {
   "cell_type": "code",
   "execution_count": null,
   "metadata": {
    "dotnet_interactive": {
     "language": "fsharp"
    }
   },
   "outputs": [],
   "source": [
    "#!value --name inputRaw --from-file ./data"
   ]
  },
  {
   "cell_type": "code",
   "execution_count": null,
   "metadata": {
    "dotnet_interactive": {
     "language": "fsharp"
    }
   },
   "outputs": [],
   "source": [
    "let foldy coord points =\n",
    "    let foldPoint coord (x,y) =\n",
    "        if (y < coord) then (x,y)\n",
    "        elif (y > coord) then (x, coord - (y - coord))\n",
    "        else failwith \"y = coord\"\n",
    "    points\n",
    "    |> Array.map (foldPoint coord)\n",
    "    |> Array.distinct\n",
    "    \n",
    "let foldx coord points =\n",
    "    let foldPoint coord (x,y) =\n",
    "        if (x < coord) then (x,y)\n",
    "        elif (x > coord) then (coord - (x - coord), y)\n",
    "        else failwith \"x = coord\"\n",
    "    points\n",
    "    |> Array.map (foldPoint coord)\n",
    "    |> Array.distinct"
   ]
  },
  {
   "cell_type": "code",
   "execution_count": null,
   "metadata": {
    "dotnet_interactive": {
     "language": "fsharp"
    }
   },
   "outputs": [],
   "source": [
    "#load \"../common.fsx\"\n",
    "\n",
    "#!share sampleRaw --from value\n",
    "#!share inputRaw --from value\n",
    "\n",
    "let parsePoints input =\n",
    "    readLines input\n",
    "    |> Seq.filter (fun x -> x.Contains \",\")\n",
    "    |> Seq.map (splitToTuple2 [|\",\"|]) \n",
    "    |> Seq.map (fun (s1, s2) -> (int s1, int s2))\n",
    "    |> Seq.toArray\n",
    "\n",
    "let parseFolds input = \n",
    "    readLines input\n",
    "    |> Seq.filter (fun x -> x.Contains \"fold\")\n",
    "    |> Seq.map (fun x -> \n",
    "        let (asix, coord) = splitToTuple2 [|\"fold along \"; \"=\"|] x\n",
    "        if (asix = \"x\") then foldx (int coord)\n",
    "        else foldy (int coord)\n",
    "    )\n",
    "    |> Seq.toArray\n"
   ]
  },
  {
   "cell_type": "code",
   "execution_count": null,
   "metadata": {
    "dotnet_interactive": {
     "language": "fsharp"
    }
   },
   "outputs": [],
   "source": [
    "\n",
    "let samplePoints = parsePoints sampleRaw\n",
    "let actualPoints = parsePoints inputRaw\n",
    "\n",
    "let sampleFolds = parseFolds sampleRaw\n",
    "let actualFolds = parseFolds inputRaw\n"
   ]
  },
  {
   "cell_type": "code",
   "execution_count": null,
   "metadata": {
    "dotnet_interactive": {
     "language": "fsharp"
    }
   },
   "outputs": [
    {
     "data": {
      "text/html": [
       "<div class=\"dni-plaintext\">17</div>"
      ]
     },
     "metadata": {},
     "output_type": "display_data"
    },
    {
     "data": {
      "text/html": [
       "<div class=\"dni-plaintext\">661</div>"
      ]
     },
     "metadata": {},
     "output_type": "display_data"
    }
   ],
   "source": [
    "let private firstFoldPoints points folds = points |> Array.head folds\n",
    "\n",
    "firstFoldPoints samplePoints sampleFolds |> Array.length |> display\n",
    "firstFoldPoints actualPoints actualFolds |> Array.length |> display"
   ]
  },
  {
   "cell_type": "code",
   "execution_count": null,
   "metadata": {
    "dotnet_interactive": {
     "language": "fsharp"
    }
   },
   "outputs": [],
   "source": [
    "let private foldComplete points folds =\n",
    "    folds \n",
    "    |> Array.fold (fun p fold -> fold p) points\n",
    "\n",
    "let sampleFolded = foldComplete samplePoints sampleFolds\n",
    "let actualFolded = foldComplete actualPoints actualFolds"
   ]
  },
  {
   "cell_type": "code",
   "execution_count": null,
   "metadata": {
    "dotnet_interactive": {
     "language": "fsharp"
    }
   },
   "outputs": [
    {
     "data": {
      "text/html": [
       "<div><div></div><div></div><div><strong>Installed Packages</strong><ul><li><span>XPlot.Plotly.Interactive, 4.0.6</span></li></ul></div></div>"
      ]
     },
     "metadata": {},
     "output_type": "display_data"
    },
    {
     "data": {
      "text/html": [
       "<!DOCTYPE html>\r\n",
       "<div style=\"width: 900px; height: 500px;\" id=\"54751970-8493-4207-87b5-74caa44bceb3\"></div><script type=\"text/javascript\">\r\n",
       "\n",
       "var renderPlotly = function() {\n",
       "    var xplotRequire = require.config({context:'xplot-3.0.1',paths:{plotly:'https://cdn.plot.ly/plotly-1.49.2.min'}}) || require;\n",
       "    xplotRequire(['plotly'], function(Plotly) { \r\n",
       "\n",
       "            var data = [{\"type\":\"scatter\",\"x\":[3,23,15,10,0,5,20,5,31,0,30,25,10,25,35,25,8,17,11,30,31,32,28,36,26,30,5,15,26,35,13,38,6,22,30,15,27,0,20,15,22,15,21,5,5,20,18,13,0,37,20,30,15,38,35,22,12,0,5,28,7,16,3,30,32,10,12,27,37,35,35,35,2,1,12,25,10,7,0,33,36,1,23,2,10,20,10,6,20],\"y\":[2,5,1,2,5,5,3,4,0,2,0,2,0,4,1,1,0,5,2,3,2,2,1,3,0,1,3,2,5,2,5,1,2,4,4,5,5,3,4,3,3,4,2,2,1,0,5,0,4,3,1,2,0,2,0,1,4,1,0,4,2,5,1,5,0,1,1,0,0,3,5,4,3,0,3,3,3,0,0,0,0,3,0,0,5,2,4,0,5],\"mode\":\"markers\",\"marker\":{\"size\":18}}];\n",
       "           var layout = {\"height\":140.0,\"margin\":{\"l\":0.0,\"r\":0.0,\"t\":0.0,\"b\":0.0},\"yaxis\":{\"autorange\":\"reversed\",\"_isSubplotObj\":true}};\n",
       "           Plotly.newPlot('54751970-8493-4207-87b5-74caa44bceb3', data, layout);\n",
       "        \r\n",
       "});\n",
       "};\r\n",
       "// ensure `require` is available globally\r\n",
       "if ((typeof(require) !==  typeof(Function)) || (typeof(require.config) !== typeof(Function))) {\r\n",
       "    let require_script = document.createElement('script');\r\n",
       "    require_script.setAttribute('src', 'https://cdnjs.cloudflare.com/ajax/libs/require.js/2.3.6/require.min.js');\r\n",
       "    require_script.setAttribute('type', 'text/javascript');\r\n",
       "    \r\n",
       "    \r\n",
       "    require_script.onload = function() {\r\n",
       "        renderPlotly();\r\n",
       "    };\r\n",
       "\r\n",
       "    document.getElementsByTagName('head')[0].appendChild(require_script);\r\n",
       "}\r\n",
       "else {\r\n",
       "    renderPlotly();\r\n",
       "}\r\n",
       "\r\n",
       "</script>\r\n"
      ]
     },
     "metadata": {},
     "output_type": "display_data"
    }
   ],
   "source": [
    "#r \"nuget: XPlot.Plotly.Interactive, 4.0.6\"\n",
    "open XPlot.Plotly\n",
    "\n",
    "let styledLayout =\n",
    "    Layout(\n",
    "        height = 140,\n",
    "        margin = Margin(b = 0, l = 0, t = 0, r = 0),\n",
    "        yaxis =\n",
    "            Yaxis(\n",
    "                autorange = \"reversed\"\n",
    "            )\n",
    "    )\n",
    "Scatter (x = (actualFolded |> Seq.map fst), y = (actualFolded |> Seq.map snd), mode = \"markers\", marker = Marker(size = 18))\n",
    "|> Chart.Plot\n",
    "|> Chart.WithLayout styledLayout"
   ]
  }
 ],
 "metadata": {
  "kernelspec": {
   "display_name": ".NET (F#)",
   "language": "F#",
   "name": ".net-fsharp"
  },
  "language_info": {
   "name": "F#"
  }
 },
 "nbformat": 4,
 "nbformat_minor": 2
}

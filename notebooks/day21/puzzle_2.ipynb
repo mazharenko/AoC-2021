{
 "cells": [
  {
   "cell_type": "markdown",
   "metadata": {
    "dotnet_interactive": {
     "language": "fsharp"
    }
   },
   "source": [
    "## Day 21: Trench Map\n",
    "\n",
    "[![nbviewer](https://raw.githubusercontent.com/jupyter/design/master/logos/Badges/nbviewer_badge.svg)](https://nbviewer.org/github/mazharenko/AoC-2021/tree/HEAD/notebooks/day21/puzzle.ipynb)\n",
    "\n",
    "[Problem statement](https://adventofcode.com/2021/day/21)"
   ]
  },
  {
   "cell_type": "markdown",
   "metadata": {},
   "source": [
    "### Part 2"
   ]
  },
  {
   "cell_type": "code",
   "execution_count": null,
   "metadata": {
    "dotnet_interactive": {
     "language": "fsharp"
    }
   },
   "outputs": [],
   "source": [
    "type PlayerState =\n",
    "    { Position: int\n",
    "      Score: int }\n",
    "    member this.Move(steps) =\n",
    "        let newPos = (this.Position + steps - 1) % 10 + 1\n",
    "\n",
    "        { Position = newPos\n",
    "          Score = this.Score + newPos }\n",
    "\n",
    "type Die =\n",
    "    { Rolled: int }\n",
    "    // rolling quantum d3 three times is the\n",
    "    // same as rolling quantum d27 once.\n",
    "    static member Split() =\n",
    "        [ for i in [ 1 .. 3 ] do\n",
    "              for j in [ 1 .. 3 ] do\n",
    "                  for k in [ 1 .. 3 ] do\n",
    "                      yield { Rolled = i + j + k } ]\n",
    "                      \n",
    "type GameState = { Players: PlayerState*PlayerState }\n",
    "\n",
    "type WinStat = WinStat of int64*int64 with\n",
    "    static member (+)\n",
    "        (WinStat (stat1p1, stat1p2), WinStat (stat2p1, stat2p2)) =\n",
    "        WinStat (stat1p1 + stat2p1, stat1p2 + stat2p2)\n",
    "    static member get_Zero() = WinStat (0L, 0L)\n",
    "    \n",
    "let swap (WinStat (p1, p2)) =\n",
    "    WinStat (p2, p1)"
   ]
  },
  {
   "cell_type": "code",
   "execution_count": null,
   "metadata": {
    "dotnet_interactive": {
     "language": "fsharp"
    }
   },
   "outputs": [],
   "source": [
    "open System.Collections.Generic\n",
    "\n",
    "let memoize f =\n",
    "    let cache = Dictionary<_, _>()    \n",
    "    fun x ->\n",
    "        match cache.TryGetValue(x) with\n",
    "        | true, value -> value\n",
    "        | _ ->\n",
    "            let value = f x\n",
    "            cache.Add(x, value)\n",
    "            value"
   ]
  },
  {
   "cell_type": "code",
   "execution_count": null,
   "metadata": {
    "dotnet_interactive": {
     "language": "fsharp"
    }
   },
   "outputs": [],
   "source": [
    "let sampleGame = {\n",
    "    Players = \n",
    "        {Position = 4; Score = 0;},\n",
    "        {Position = 8; Score = 0;}\n",
    "}\n",
    "\n",
    "let actualGame = {\n",
    "    Players =\n",
    "        {Position = 6; Score = 0;},\n",
    "        {Position = 9; Score = 0;}\n",
    "}"
   ]
  },
  {
   "cell_type": "code",
   "execution_count": null,
   "metadata": {
    "dotnet_interactive": {
     "language": "fsharp"
    }
   },
   "outputs": [],
   "source": [
    "\n",
    "#nowarn \"40\" \n",
    "let rec play =\n",
    "    memoize (fun state ->        \n",
    "        let (playerCurrent, playerNext) = state.Players\n",
    "\n",
    "        if (playerCurrent.Score >= 21) then\n",
    "            WinStat (1L, 0L)\n",
    "        elif (playerNext.Score >= 21) then\n",
    "            WinStat (0L, 1L)\n",
    "        else\n",
    "            let dice = Die.Split()\n",
    "            dice\n",
    "            |> List.map (fun die ->\n",
    "                play {\n",
    "                    Players = ( // swap players\n",
    "                        playerNext,\n",
    "                        playerCurrent.Move die.Rolled\n",
    "                    )\n",
    "                }\n",
    "            )\n",
    "            |> List.map swap // and so swap results back\n",
    "            |> List.sum\n",
    ")"
   ]
  },
  {
   "cell_type": "code",
   "execution_count": null,
   "metadata": {
    "dotnet_interactive": {
     "language": "fsharp"
    }
   },
   "outputs": [
    {
     "data": {
      "text/html": [
       "<table><thead><tr><th>Item1</th><th>Item2</th></tr></thead><tbody><tr><td><div class=\"dni-plaintext\">444356092776315</div></td><td><div class=\"dni-plaintext\">341960390180808</div></td></tr></tbody></table>"
      ]
     },
     "metadata": {},
     "output_type": "display_data"
    },
    {
     "data": {
      "text/html": [
       "<table><thead><tr><th>Item1</th><th>Item2</th></tr></thead><tbody><tr><td><div class=\"dni-plaintext\">486638407378784</div></td><td><div class=\"dni-plaintext\">413013330504401</div></td></tr></tbody></table>"
      ]
     },
     "metadata": {},
     "output_type": "display_data"
    }
   ],
   "source": [
    "sampleGame |> play |> display\n",
    "actualGame |> play |> display"
   ]
  }
 ],
 "metadata": {
  "kernelspec": {
   "display_name": ".NET (F#)",
   "language": "F#",
   "name": ".net-fsharp"
  },
  "language_info": {
   "name": "F#"
  }
 },
 "nbformat": 4,
 "nbformat_minor": 2
}

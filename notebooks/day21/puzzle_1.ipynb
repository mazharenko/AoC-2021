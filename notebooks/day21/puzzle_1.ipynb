{
 "cells": [
  {
   "cell_type": "markdown",
   "metadata": {
    "dotnet_interactive": {
     "language": "fsharp"
    }
   },
   "source": [
    "## Day 21: Dirac Dice\n",
    "\n",
    "[![nbviewer](https://raw.githubusercontent.com/jupyter/design/master/logos/Badges/nbviewer_badge.svg)](https://nbviewer.org/github/mazharenko/AoC-2021/tree/HEAD/notebooks/day21/puzzle.ipynb)\n"
   ]
  },
  {
   "cell_type": "markdown",
   "metadata": {
    "dotnet_interactive": {
     "language": "fsharp"
    }
   },
   "source": [
    "### Part 1"
   ]
  },
  {
   "cell_type": "code",
   "execution_count": null,
   "metadata": {
    "dotnet_interactive": {
     "language": "fsharp"
    }
   },
   "outputs": [],
   "source": [
    "#load \"../common.fsx\"\n",
    "\n",
    "type PlayerState =\n",
    "    { Position: int; Score: int }\n",
    "    member this.Move(steps) =\n",
    "        let newPos = (this.Position + steps - 1) % 10 + 1\n",
    "        {Position = newPos; Score = this.Score + newPos}\n",
    "\n",
    "type DieState =\n",
    "    { RolledTimes: int; RolledNumber: int option}\n",
    "    member this.Roll() =\n",
    "        let rolled = (defaultArg this.RolledNumber 0) + 1 % 100\n",
    "        rolled, {RolledTimes = this.RolledTimes + 1; RolledNumber = Some rolled}\n",
    "    \n",
    "type GameState = {Players : PlayerState*PlayerState; Die: DieState;}\n"
   ]
  },
  {
   "cell_type": "code",
   "execution_count": null,
   "metadata": {
    "dotnet_interactive": {
     "language": "fsharp"
    }
   },
   "outputs": [],
   "source": [
    "let sampleGame = {\n",
    "    Players = \n",
    "        {Position = 4; Score = 0;},\n",
    "        {Position = 8; Score = 0;}\n",
    "    Die = {RolledTimes = 0; RolledNumber = None}\n",
    "}\n",
    "\n",
    "let actualGame = {\n",
    "    Players =\n",
    "        {Position = 6; Score = 0;},\n",
    "        {Position = 9; Score = 0;}\n",
    "    Die = {RolledTimes = 0; RolledNumber = None}\n",
    "}"
   ]
  },
  {
   "cell_type": "code",
   "execution_count": null,
   "metadata": {
    "dotnet_interactive": {
     "language": "fsharp"
    }
   },
   "outputs": [],
   "source": [
    "let rec play state =\n",
    "    let playerCurrent, playerNext = state.Players\n",
    "    if (playerCurrent.Score >= 1000 || playerNext.Score >= 1000)\n",
    "    then state\n",
    "    else\n",
    "        let rolls, newDieState = \n",
    "            [1..3] |> List.mapFold (fun (die:DieState) _ -> die.Roll()) state.Die\n",
    "        let points = rolls |> List.sum\n",
    "        play {\n",
    "            Players = (\n",
    "                playerNext,\n",
    "                playerCurrent.Move(points)\n",
    "            )\n",
    "            Die = newDieState\n",
    "        }"
   ]
  },
  {
   "cell_type": "code",
   "execution_count": null,
   "metadata": {
    "dotnet_interactive": {
     "language": "fsharp"
    }
   },
   "outputs": [],
   "source": [
    "let calculate result =\n",
    "    let (p1, p2) = result.Players\n",
    "    min p1.Score p2.Score\n",
    "    * result.Die.RolledNumber.Value"
   ]
  },
  {
   "cell_type": "code",
   "execution_count": null,
   "metadata": {
    "dotnet_interactive": {
     "language": "fsharp"
    }
   },
   "outputs": [
    {
     "data": {
      "text/html": [
       "<table><thead><tr><th>Players</th><th>Die</th></tr></thead><tbody><tr><td><div class=\"dni-plaintext\">( { { Position = 3\n",
       "  Score = 745 }: Position: 3, Score: 745 }, { { Position = 10\n",
       "  Score = 1000 }: Position: 10, Score: 1000 } )</div></td><td><div class=\"dni-plaintext\">{ { RolledTimes = 993\n",
       "  RolledNumber = Some 993 }: RolledTimes: 993, RolledNumber: { Some(993): Value: 993 } }</div></td></tr></tbody></table>"
      ]
     },
     "metadata": {},
     "output_type": "display_data"
    },
    {
     "data": {
      "text/html": [
       "<div class=\"dni-plaintext\">739785</div>"
      ]
     },
     "metadata": {},
     "output_type": "display_data"
    }
   ],
   "source": [
    "sampleGame |> play |> displayPipe |> calculate |> display"
   ]
  },
  {
   "cell_type": "code",
   "execution_count": null,
   "metadata": {
    "dotnet_interactive": {
     "language": "fsharp"
    }
   },
   "outputs": [
    {
     "data": {
      "text/html": [
       "<table><thead><tr><th>Players</th><th>Die</th></tr></thead><tbody><tr><td><div class=\"dni-plaintext\">( { { Position = 2\n",
       "  Score = 921 }: Position: 2, Score: 921 }, { { Position = 8\n",
       "  Score = 1006 }: Position: 8, Score: 1006 } )</div></td><td><div class=\"dni-plaintext\">{ { RolledTimes = 1005\n",
       "  RolledNumber = Some 1005 }: RolledTimes: 1005, RolledNumber: { Some(1005): Value: 1005 } }</div></td></tr></tbody></table>"
      ]
     },
     "metadata": {},
     "output_type": "display_data"
    },
    {
     "data": {
      "text/html": [
       "<div class=\"dni-plaintext\">925605</div>"
      ]
     },
     "metadata": {},
     "output_type": "display_data"
    }
   ],
   "source": [
    "actualGame |> play |> displayPipe |> calculate |> display"
   ]
  }
 ],
 "metadata": {
  "kernelspec": {
   "display_name": ".NET (F#)",
   "language": "F#",
   "name": ".net-fsharp"
  },
  "language_info": {
   "name": "F#"
  }
 },
 "nbformat": 4,
 "nbformat_minor": 2
}

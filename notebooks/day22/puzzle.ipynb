{
 "cells": [
  {
   "cell_type": "markdown",
   "metadata": {
    "dotnet_interactive": {
     "language": "fsharp"
    }
   },
   "source": [
    "## Day 22: Reactor Reboot\n",
    "\n",
    "[![nbviewer](https://raw.githubusercontent.com/jupyter/design/master/logos/Badges/nbviewer_badge.svg)](https://nbviewer.org/github/mazharenko/AoC-2021/tree/HEAD/notebooks/day22/puzzle.ipynb)"
   ]
  },
  {
   "cell_type": "markdown",
   "metadata": {},
   "source": [
    "### Idea\n",
    "\n",
    "Apparently, simulating the grid as a 3-dimensional array is going to take a while and a bunch of memory.\n",
    "\n",
    "Instead, we might be able to simulate the process in terms of cuboids. But in order not to count a cube twice in case of cuboid intersection, we will split one of them into separate cuboids and not count the intersection."
   ]
  },
  {
   "cell_type": "markdown",
   "metadata": {},
   "source": [
    "### Preparation\n",
    "\n",
    "Let's introduce some miscellaneous types and functions.\n",
    "\n",
    "First, `Range` for a pair of coordinates."
   ]
  },
  {
   "cell_type": "code",
   "execution_count": null,
   "metadata": {
    "dotnet_interactive": {
     "language": "fsharp"
    }
   },
   "outputs": [],
   "source": [
    "module Range = \n",
    "\n",
    "    type T = int * int\n",
    "\n",
    "    let contains x (from, to') = from <= x && x <= to'\n",
    "\n",
    "    let includes ((fromSuper, toSuper) : T) ((fromSub, toSub) : T) =\n",
    "        fromSuper <= fromSub && toSub <= toSuper\n",
    "        \n",
    "    let overlap ((from1, to1) : T) ((from2, to2) : T) =\n",
    "        (to1 < from2 || to2 < from1)\n",
    "        |> not\n",
    "        \n",
    "    let start ((from, _) : T) = from\n",
    "    let finish ((_, to') : T) = to'\n",
    "\n",
    "    let isEmpty ((from, to') : T) =\n",
    "        to' < from\n",
    "    \n",
    "    let len ((from, to') : T) = \n",
    "        if isEmpty (from, to') then 0\n",
    "        else to' - from + 1\n",
    "    "
   ]
  },
  {
   "cell_type": "markdown",
   "metadata": {},
   "source": [
    "Second, three ranges define a single cuboid"
   ]
  },
  {
   "cell_type": "code",
   "execution_count": null,
   "metadata": {
    "dotnet_interactive": {
     "language": "fsharp"
    }
   },
   "outputs": [],
   "source": [
    "module Cuboid =\n",
    "    type T = { \n",
    "        X: Range.T;\n",
    "        Y: Range.T;\n",
    "        Z: Range.T  \n",
    "    }\n",
    "\n",
    "    let fullValue c =\n",
    "        int64 (Range.len c.X)\n",
    "        * int64 (Range.len c.Y)\n",
    "        * int64 (Range.len c.Z)\n",
    "    \n",
    "    let isEmpty c =\n",
    "        Range.isEmpty c.X\n",
    "        || Range.isEmpty c.Y\n",
    "        || Range.isEmpty c.Z\n",
    "\n",
    "\n",
    "module Cuboids = \n",
    "    type T = Cuboid.T list    \n",
    "    let empty : T = []"
   ]
  },
  {
   "cell_type": "markdown",
   "metadata": {},
   "source": [
    "Now, it is worth investing into visualizing cuboids"
   ]
  },
  {
   "cell_type": "code",
   "execution_count": null,
   "metadata": {
    "dotnet_interactive": {
     "language": "fsharp"
    }
   },
   "outputs": [
    {
     "data": {
      "text/html": [
       "<div><div></div><div></div><div><strong>Installed Packages</strong><ul><li><span>Plotly.NET, 2.0.0-preview.16</span></li><li><span>Plotly.NET.Interactive, 2.0.0-preview.16</span></li></ul></div></div>"
      ]
     },
     "metadata": {},
     "output_type": "display_data"
    }
   ],
   "source": [
    "type Mesh = { X: int list; Y: int list; Z: int list; i: int list; j: int list; k: int list}\n",
    "\n",
    "let meshfromCuboid (cuboid : Cuboid.T) = \n",
    "    {\n",
    "        X = [\n",
    "            Range.start cuboid.X\n",
    "            Range.finish cuboid.X + 1\n",
    "            Range.start cuboid.X\n",
    "            Range.finish cuboid.X + 1\n",
    "            Range.start cuboid.X\n",
    "            Range.finish cuboid.X + 1\n",
    "            Range.start cuboid.X\n",
    "            Range.finish cuboid.X + 1\n",
    "        ]\n",
    "        Y = [\n",
    "            Range.start cuboid.Y\n",
    "            Range.start cuboid.Y\n",
    "            Range.finish cuboid.Y + 1\n",
    "            Range.finish cuboid.Y + 1\n",
    "            Range.start cuboid.Y\n",
    "            Range.start cuboid.Y\n",
    "            Range.finish cuboid.Y + 1\n",
    "            Range.finish cuboid.Y + 1\n",
    "        ]\n",
    "        Z = [\n",
    "            Range.start cuboid.Z\n",
    "            Range.start cuboid.Z\n",
    "            Range.start cuboid.Z\n",
    "            Range.start cuboid.Z\n",
    "            Range.finish cuboid.Z + 1\n",
    "            Range.finish cuboid.Z + 1\n",
    "            Range.finish cuboid.Z + 1\n",
    "            Range.finish cuboid.Z + 1\n",
    "        ]\n",
    "        i = [0;0;0;0;0;0;3;3;4;4;7;7]\n",
    "        j = [3;3;6;6;5;5;6;6;7;7;1;1]\n",
    "        k = [1;2;2;4;4;1;2;7;6;5;3;5]\n",
    "    }\n",
    "\n",
    "#r \"nuget: Plotly.NET, 2.0.0-preview.16\"\n",
    "#r \"nuget: Plotly.NET.Interactive, 2.0.0-preview.16\"\n",
    "open Plotly.NET\n",
    "\n",
    "let private mesh3d (mesh : Mesh) = \n",
    "    Chart.Mesh3D(\n",
    "        mesh.X, mesh.Y, mesh.Z,\n",
    "        mesh.i, mesh.j, mesh.k,\n",
    "        FlatShading = true,\n",
    "        Opacity = 0.5\n",
    "    )\n",
    "\n",
    "open Microsoft.DotNet.Interactive.Formatting\n",
    "\n",
    "Formatter.Register<Cuboid.T>(\n",
    "    FormatDelegate<_>\n",
    "        (fun cuboid context ->\n",
    "            let chart = cuboid |> meshfromCuboid |> mesh3d\n",
    "            Formatter.GetPreferredFormatterFor(typedefof<GenericChart.GenericChart>, HtmlFormatter.MimeType).Format(chart, context)\n",
    "        ),\n",
    "        HtmlFormatter.MimeType\n",
    "    )\n",
    "\n",
    "Formatter.Register<Cuboids.T>(\n",
    "    FormatDelegate<_>\n",
    "        (fun cuboids context ->\n",
    "            let meshes = cuboids |> List.map meshfromCuboid\n",
    "            let chart = \n",
    "                meshes\n",
    "                |> List.map mesh3d\n",
    "                |> Chart.combine\n",
    "            Formatter.GetPreferredFormatterFor(typedefof<GenericChart.GenericChart>, HtmlFormatter.MimeType).Format(chart, context)\n",
    "        ),\n",
    "        HtmlFormatter.MimeType\n",
    "    )\n"
   ]
  },
  {
   "cell_type": "markdown",
   "metadata": {},
   "source": [
    "### Implementation\n",
    "\n",
    "Now we want to learn how to subtract two cuboids. Let's consider the most extreme example of mutual position of two cuboids. This is when the minuend includes the whole subtrahend into it."
   ]
  },
  {
   "cell_type": "code",
   "execution_count": null,
   "metadata": {
    "dotnet_interactive": {
     "language": "fsharp"
    }
   },
   "outputs": [
    {
     "data": {
      "text/html": [
       "<div id=\"e8355092-c203-450c-b92b-ed4ae7eb371a\"><!-- Plotly chart will be drawn inside this DIV --></div>\r\n",
       "<script type=\"text/javascript\">\r\n",
       "\r\n",
       "            var renderPlotly_e8355092c203450cb92bed4ae7eb371a = function() {\r\n",
       "            var fsharpPlotlyRequire = requirejs.config({context:'fsharp-plotly',paths:{plotly:'https://cdn.plot.ly/plotly-2.6.3.min'}}) || require;\r\n",
       "            fsharpPlotlyRequire(['plotly'], function(Plotly) {\r\n",
       "\r\n",
       "            var data = [{\"type\":\"mesh3d\",\"opacity\":0.5,\"x\":[0,10,0,10,0,10,0,10],\"y\":[0,0,10,10,0,0,10,10],\"z\":[0,0,0,0,10,10,10,10],\"i\":[0,0,0,0,0,0,3,3,4,4,7,7],\"j\":[3,3,6,6,5,5,6,6,7,7,1,1],\"k\":[1,2,2,4,4,1,2,7,6,5,3,5],\"flatshading\":true},{\"type\":\"mesh3d\",\"opacity\":0.5,\"x\":[4,6,4,6,4,6,4,6],\"y\":[4,4,6,6,4,4,6,6],\"z\":[4,4,4,4,6,6,6,6],\"i\":[0,0,0,0,0,0,3,3,4,4,7,7],\"j\":[3,3,6,6,5,5,6,6,7,7,1,1],\"k\":[1,2,2,4,4,1,2,7,6,5,3,5],\"flatshading\":true}];\r\n",
       "            var layout = {\"width\":600,\"height\":600,\"template\":{\"layout\":{\"title\":{\"x\":0.05},\"font\":{\"color\":\"rgba(42, 63, 95, 1.0)\"},\"paper_bgcolor\":\"rgba(255, 255, 255, 1.0)\",\"plot_bgcolor\":\"rgba(229, 236, 246, 1.0)\",\"autotypenumbers\":\"strict\",\"colorscale\":{\"diverging\":[[0.0,\"#8e0152\"],[0.1,\"#c51b7d\"],[0.2,\"#de77ae\"],[0.3,\"#f1b6da\"],[0.4,\"#fde0ef\"],[0.5,\"#f7f7f7\"],[0.6,\"#e6f5d0\"],[0.7,\"#b8e186\"],[0.8,\"#7fbc41\"],[0.9,\"#4d9221\"],[1.0,\"#276419\"]],\"sequential\":[[0.0,\"#0d0887\"],[0.1111111111111111,\"#46039f\"],[0.2222222222222222,\"#7201a8\"],[0.3333333333333333,\"#9c179e\"],[0.4444444444444444,\"#bd3786\"],[0.5555555555555556,\"#d8576b\"],[0.6666666666666666,\"#ed7953\"],[0.7777777777777778,\"#fb9f3a\"],[0.8888888888888888,\"#fdca26\"],[1.0,\"#f0f921\"]],\"sequentialminus\":[[0.0,\"#0d0887\"],[0.1111111111111111,\"#46039f\"],[0.2222222222222222,\"#7201a8\"],[0.3333333333333333,\"#9c179e\"],[0.4444444444444444,\"#bd3786\"],[0.5555555555555556,\"#d8576b\"],[0.6666666666666666,\"#ed7953\"],[0.7777777777777778,\"#fb9f3a\"],[0.8888888888888888,\"#fdca26\"],[1.0,\"#f0f921\"]]},\"hovermode\":\"closest\",\"hoverlabel\":{\"align\":\"left\"},\"coloraxis\":{\"colorbar\":{\"outlinewidth\":0.0,\"ticks\":\"\"}},\"geo\":{\"showland\":true,\"landcolor\":\"rgba(229, 236, 246, 1.0)\",\"showlakes\":true,\"lakecolor\":\"rgba(255, 255, 255, 1.0)\",\"subunitcolor\":\"rgba(255, 255, 255, 1.0)\",\"bgcolor\":\"rgba(255, 255, 255, 1.0)\"},\"mapbox\":{\"style\":\"light\"},\"polar\":{\"bgcolor\":\"rgba(229, 236, 246, 1.0)\",\"radialaxis\":{\"linecolor\":\"rgba(255, 255, 255, 1.0)\",\"gridcolor\":\"rgba(255, 255, 255, 1.0)\",\"ticks\":\"\"},\"angularaxis\":{\"linecolor\":\"rgba(255, 255, 255, 1.0)\",\"gridcolor\":\"rgba(255, 255, 255, 1.0)\",\"ticks\":\"\"}},\"scene\":{\"xaxis\":{\"ticks\":\"\",\"linecolor\":\"rgba(255, 255, 255, 1.0)\",\"gridcolor\":\"rgba(255, 255, 255, 1.0)\",\"gridwidth\":2.0,\"zerolinecolor\":\"rgba(255, 255, 255, 1.0)\",\"backgroundcolor\":\"rgba(229, 236, 246, 1.0)\",\"showbackground\":true},\"yaxis\":{\"ticks\":\"\",\"linecolor\":\"rgba(255, 255, 255, 1.0)\",\"gridcolor\":\"rgba(255, 255, 255, 1.0)\",\"gridwidth\":2.0,\"zerolinecolor\":\"rgba(255, 255, 255, 1.0)\",\"backgroundcolor\":\"rgba(229, 236, 246, 1.0)\",\"showbackground\":true},\"zaxis\":{\"ticks\":\"\",\"linecolor\":\"rgba(255, 255, 255, 1.0)\",\"gridcolor\":\"rgba(255, 255, 255, 1.0)\",\"gridwidth\":2.0,\"zerolinecolor\":\"rgba(255, 255, 255, 1.0)\",\"backgroundcolor\":\"rgba(229, 236, 246, 1.0)\",\"showbackground\":true}},\"ternary\":{\"aaxis\":{\"ticks\":\"\",\"linecolor\":\"rgba(255, 255, 255, 1.0)\",\"gridcolor\":\"rgba(255, 255, 255, 1.0)\"},\"baxis\":{\"ticks\":\"\",\"linecolor\":\"rgba(255, 255, 255, 1.0)\",\"gridcolor\":\"rgba(255, 255, 255, 1.0)\"},\"caxis\":{\"ticks\":\"\",\"linecolor\":\"rgba(255, 255, 255, 1.0)\",\"gridcolor\":\"rgba(255, 255, 255, 1.0)\"},\"bgcolor\":\"rgba(229, 236, 246, 1.0)\"},\"xaxis\":{\"title\":{\"standoff\":15},\"ticks\":\"\",\"automargin\":true,\"linecolor\":\"rgba(255, 255, 255, 1.0)\",\"gridcolor\":\"rgba(255, 255, 255, 1.0)\",\"zerolinecolor\":\"rgba(255, 255, 255, 1.0)\",\"zerolinewidth\":2.0},\"yaxis\":{\"title\":{\"standoff\":15},\"ticks\":\"\",\"automargin\":true,\"linecolor\":\"rgba(255, 255, 255, 1.0)\",\"gridcolor\":\"rgba(255, 255, 255, 1.0)\",\"zerolinecolor\":\"rgba(255, 255, 255, 1.0)\",\"zerolinewidth\":2.0},\"annotationdefaults\":{\"arrowcolor\":\"#2a3f5f\",\"arrowhead\":0,\"arrowwidth\":1},\"shapedefaults\":{\"line\":{\"color\":\"rgba(42, 63, 95, 1.0)\"}},\"colorway\":[\"rgba(99, 110, 250, 1.0)\",\"rgba(239, 85, 59, 1.0)\",\"rgba(0, 204, 150, 1.0)\",\"rgba(171, 99, 250, 1.0)\",\"rgba(255, 161, 90, 1.0)\",\"rgba(25, 211, 243, 1.0)\",\"rgba(255, 102, 146, 1.0)\",\"rgba(182, 232, 128, 1.0)\",\"rgba(255, 151, 255, 1.0)\",\"rgba(254, 203, 82, 1.0)\"]},\"data\":{\"bar\":[{\"marker\":{\"line\":{\"color\":\"rgba(229, 236, 246, 1.0)\",\"width\":0.5},\"pattern\":{\"fillmode\":\"overlay\",\"size\":10,\"solidity\":0.2}},\"errorx\":{\"color\":\"rgba(42, 63, 95, 1.0)\"},\"errory\":{\"color\":\"rgba(42, 63, 95, 1.0)\"}}],\"barpolar\":[{\"marker\":{\"line\":{\"color\":\"rgba(229, 236, 246, 1.0)\",\"width\":0.5},\"pattern\":{\"fillmode\":\"overlay\",\"size\":10,\"solidity\":0.2}}}],\"carpet\":[{\"aaxis\":{\"linecolor\":\"rgba(255, 255, 255, 1.0)\",\"gridcolor\":\"rgba(255, 255, 255, 1.0)\",\"endlinecolor\":\"rgba(42, 63, 95, 1.0)\",\"minorgridcolor\":\"rgba(255, 255, 255, 1.0)\",\"startlinecolor\":\"rgba(42, 63, 95, 1.0)\"},\"baxis\":{\"linecolor\":\"rgba(255, 255, 255, 1.0)\",\"gridcolor\":\"rgba(255, 255, 255, 1.0)\",\"endlinecolor\":\"rgba(42, 63, 95, 1.0)\",\"minorgridcolor\":\"rgba(255, 255, 255, 1.0)\",\"startlinecolor\":\"rgba(42, 63, 95, 1.0)\"}}],\"choropleth\":[{\"colorbar\":{\"outlinewidth\":0.0,\"ticks\":\"\"},\"colorscale\":[[0.0,\"#0d0887\"],[0.1111111111111111,\"#46039f\"],[0.2222222222222222,\"#7201a8\"],[0.3333333333333333,\"#9c179e\"],[0.4444444444444444,\"#bd3786\"],[0.5555555555555556,\"#d8576b\"],[0.6666666666666666,\"#ed7953\"],[0.7777777777777778,\"#fb9f3a\"],[0.8888888888888888,\"#fdca26\"],[1.0,\"#f0f921\"]]}],\"contour\":[{\"colorbar\":{\"outlinewidth\":0.0,\"ticks\":\"\"},\"colorscale\":[[0.0,\"#0d0887\"],[0.1111111111111111,\"#46039f\"],[0.2222222222222222,\"#7201a8\"],[0.3333333333333333,\"#9c179e\"],[0.4444444444444444,\"#bd3786\"],[0.5555555555555556,\"#d8576b\"],[0.6666666666666666,\"#ed7953\"],[0.7777777777777778,\"#fb9f3a\"],[0.8888888888888888,\"#fdca26\"],[1.0,\"#f0f921\"]]}],\"contourcarpet\":[{\"colorbar\":{\"outlinewidth\":0.0,\"ticks\":\"\"}}],\"heatmap\":[{\"colorbar\":{\"outlinewidth\":0.0,\"ticks\":\"\"},\"colorscale\":[[0.0,\"#0d0887\"],[0.1111111111111111,\"#46039f\"],[0.2222222222222222,\"#7201a8\"],[0.3333333333333333,\"#9c179e\"],[0.4444444444444444,\"#bd3786\"],[0.5555555555555556,\"#d8576b\"],[0.6666666666666666,\"#ed7953\"],[0.7777777777777778,\"#fb9f3a\"],[0.8888888888888888,\"#fdca26\"],[1.0,\"#f0f921\"]]}],\"heatmapgl\":[{\"colorbar\":{\"outlinewidth\":0.0,\"ticks\":\"\"},\"colorscale\":[[0.0,\"#0d0887\"],[0.1111111111111111,\"#46039f\"],[0.2222222222222222,\"#7201a8\"],[0.3333333333333333,\"#9c179e\"],[0.4444444444444444,\"#bd3786\"],[0.5555555555555556,\"#d8576b\"],[0.6666666666666666,\"#ed7953\"],[0.7777777777777778,\"#fb9f3a\"],[0.8888888888888888,\"#fdca26\"],[1.0,\"#f0f921\"]]}],\"histogram\":[{\"marker\":{\"pattern\":{\"fillmode\":\"overlay\",\"size\":10,\"solidity\":0.2}}}],\"histogram2d\":[{\"colorbar\":{\"outlinewidth\":0.0,\"ticks\":\"\"},\"colorscale\":[[0.0,\"#0d0887\"],[0.1111111111111111,\"#46039f\"],[0.2222222222222222,\"#7201a8\"],[0.3333333333333333,\"#9c179e\"],[0.4444444444444444,\"#bd3786\"],[0.5555555555555556,\"#d8576b\"],[0.6666666666666666,\"#ed7953\"],[0.7777777777777778,\"#fb9f3a\"],[0.8888888888888888,\"#fdca26\"],[1.0,\"#f0f921\"]]}],\"histogram2dcontour\":[{\"colorbar\":{\"outlinewidth\":0.0,\"ticks\":\"\"},\"colorscale\":[[0.0,\"#0d0887\"],[0.1111111111111111,\"#46039f\"],[0.2222222222222222,\"#7201a8\"],[0.3333333333333333,\"#9c179e\"],[0.4444444444444444,\"#bd3786\"],[0.5555555555555556,\"#d8576b\"],[0.6666666666666666,\"#ed7953\"],[0.7777777777777778,\"#fb9f3a\"],[0.8888888888888888,\"#fdca26\"],[1.0,\"#f0f921\"]]}],\"mesh3d\":[{\"colorbar\":{\"outlinewidth\":0.0,\"ticks\":\"\"}}],\"parcoords\":[{\"line\":{\"colorbar\":{\"outlinewidth\":0.0,\"ticks\":\"\"}}}],\"pie\":[{\"automargin\":true}],\"scatter\":[{\"marker\":{\"colorbar\":{\"outlinewidth\":0.0,\"ticks\":\"\"}}}],\"scatter3d\":[{\"marker\":{\"colorbar\":{\"outlinewidth\":0.0,\"ticks\":\"\"}},\"line\":{\"colorbar\":{\"outlinewidth\":0.0,\"ticks\":\"\"}}}],\"scattercarpet\":[{\"marker\":{\"colorbar\":{\"outlinewidth\":0.0,\"ticks\":\"\"}}}],\"scattergeo\":[{\"marker\":{\"colorbar\":{\"outlinewidth\":0.0,\"ticks\":\"\"}}}],\"scattergl\":[{\"marker\":{\"colorbar\":{\"outlinewidth\":0.0,\"ticks\":\"\"}}}],\"scattermapbox\":[{\"marker\":{\"colorbar\":{\"outlinewidth\":0.0,\"ticks\":\"\"}}}],\"scatterpolar\":[{\"marker\":{\"colorbar\":{\"outlinewidth\":0.0,\"ticks\":\"\"}}}],\"scatterpolargl\":[{\"marker\":{\"colorbar\":{\"outlinewidth\":0.0,\"ticks\":\"\"}}}],\"scatterternary\":[{\"marker\":{\"colorbar\":{\"outlinewidth\":0.0,\"ticks\":\"\"}}}],\"surface\":[{\"colorbar\":{\"outlinewidth\":0.0,\"ticks\":\"\"},\"colorscale\":[[0.0,\"#0d0887\"],[0.1111111111111111,\"#46039f\"],[0.2222222222222222,\"#7201a8\"],[0.3333333333333333,\"#9c179e\"],[0.4444444444444444,\"#bd3786\"],[0.5555555555555556,\"#d8576b\"],[0.6666666666666666,\"#ed7953\"],[0.7777777777777778,\"#fb9f3a\"],[0.8888888888888888,\"#fdca26\"],[1.0,\"#f0f921\"]]}],\"table\":[{\"cells\":{\"fill\":{\"color\":\"rgba(235, 240, 248, 1.0)\"},\"line\":{\"color\":\"rgba(255, 255, 255, 1.0)\"}},\"header\":{\"fill\":{\"color\":\"rgba(200, 212, 227, 1.0)\"},\"line\":{\"color\":\"rgba(255, 255, 255, 1.0)\"}}}]}}};\r\n",
       "            var config = {\"responsive\":true};\r\n",
       "            Plotly.newPlot('e8355092-c203-450c-b92b-ed4ae7eb371a', data, layout, config);\r\n",
       "});\r\n",
       "            };\r\n",
       "            if ((typeof(requirejs) !==  typeof(Function)) || (typeof(requirejs.config) !== typeof(Function))) {\r\n",
       "                var script = document.createElement(\"script\");\r\n",
       "                script.setAttribute(\"src\", \"https://cdnjs.cloudflare.com/ajax/libs/require.js/2.3.6/require.min.js\");\r\n",
       "                script.onload = function(){\r\n",
       "                    renderPlotly_e8355092c203450cb92bed4ae7eb371a();\r\n",
       "                };\r\n",
       "                document.getElementsByTagName(\"head\")[0].appendChild(script);\r\n",
       "            }\r\n",
       "            else {\r\n",
       "                renderPlotly_e8355092c203450cb92bed4ae7eb371a();\r\n",
       "            }\r\n",
       "</script>\r\n"
      ]
     },
     "metadata": {},
     "output_type": "display_data"
    }
   ],
   "source": [
    "[\n",
    "    { Cuboid.T.X = 0,9; Cuboid.T.Y = 0,9; Cuboid.T.Z = 0,9 }\n",
    "    { Cuboid.T.X = 4,5; Cuboid.T.Y = 4,5; Cuboid.T.Z = 4,5 }\n",
    "]"
   ]
  },
  {
   "cell_type": "markdown",
   "metadata": {},
   "source": [
    "We can split one cuboid by the other one's *faces*, producing the following:"
   ]
  },
  {
   "cell_type": "code",
   "execution_count": null,
   "metadata": {
    "dotnet_interactive": {
     "language": "fsharp"
    }
   },
   "outputs": [
    {
     "data": {
      "text/html": [
       "<div id=\"67e86fa4-8294-43bf-8916-e9d0d3204d28\"><!-- Plotly chart will be drawn inside this DIV --></div>\r\n",
       "<script type=\"text/javascript\">\r\n",
       "\r\n",
       "            var renderPlotly_67e86fa4829443bf8916e9d0d3204d28 = function() {\r\n",
       "            var fsharpPlotlyRequire = requirejs.config({context:'fsharp-plotly',paths:{plotly:'https://cdn.plot.ly/plotly-2.6.3.min'}}) || require;\r\n",
       "            fsharpPlotlyRequire(['plotly'], function(Plotly) {\r\n",
       "\r\n",
       "            var data = [{\"type\":\"mesh3d\",\"opacity\":0.5,\"x\":[0,10,0,10,0,10,0,10],\"y\":[6,6,10,10,6,6,10,10],\"z\":[0,0,0,0,10,10,10,10],\"i\":[0,0,0,0,0,0,3,3,4,4,7,7],\"j\":[3,3,6,6,5,5,6,6,7,7,1,1],\"k\":[1,2,2,4,4,1,2,7,6,5,3,5],\"flatshading\":true},{\"type\":\"mesh3d\",\"opacity\":0.5,\"x\":[0,10,0,10,0,10,0,10],\"y\":[0,0,4,4,0,0,4,4],\"z\":[0,0,0,0,10,10,10,10],\"i\":[0,0,0,0,0,0,3,3,4,4,7,7],\"j\":[3,3,6,6,5,5,6,6,7,7,1,1],\"k\":[1,2,2,4,4,1,2,7,6,5,3,5],\"flatshading\":true},{\"type\":\"mesh3d\",\"opacity\":0.5,\"x\":[0,4,0,4,0,4,0,4],\"y\":[4,4,6,6,4,4,6,6],\"z\":[0,0,0,0,10,10,10,10],\"i\":[0,0,0,0,0,0,3,3,4,4,7,7],\"j\":[3,3,6,6,5,5,6,6,7,7,1,1],\"k\":[1,2,2,4,4,1,2,7,6,5,3,5],\"flatshading\":true},{\"type\":\"mesh3d\",\"opacity\":0.5,\"x\":[6,10,6,10,6,10,6,10],\"y\":[4,4,6,6,4,4,6,6],\"z\":[0,0,0,0,10,10,10,10],\"i\":[0,0,0,0,0,0,3,3,4,4,7,7],\"j\":[3,3,6,6,5,5,6,6,7,7,1,1],\"k\":[1,2,2,4,4,1,2,7,6,5,3,5],\"flatshading\":true},{\"type\":\"mesh3d\",\"opacity\":0.5,\"x\":[4,6,4,6,4,6,4,6],\"y\":[4,4,6,6,4,4,6,6],\"z\":[0,0,0,0,4,4,4,4],\"i\":[0,0,0,0,0,0,3,3,4,4,7,7],\"j\":[3,3,6,6,5,5,6,6,7,7,1,1],\"k\":[1,2,2,4,4,1,2,7,6,5,3,5],\"flatshading\":true},{\"type\":\"mesh3d\",\"opacity\":0.5,\"x\":[4,6,4,6,4,6,4,6],\"y\":[4,4,6,6,4,4,6,6],\"z\":[6,6,6,6,10,10,10,10],\"i\":[0,0,0,0,0,0,3,3,4,4,7,7],\"j\":[3,3,6,6,5,5,6,6,7,7,1,1],\"k\":[1,2,2,4,4,1,2,7,6,5,3,5],\"flatshading\":true}];\r\n",
       "            var layout = {\"width\":600,\"height\":600,\"template\":{\"layout\":{\"title\":{\"x\":0.05},\"font\":{\"color\":\"rgba(42, 63, 95, 1.0)\"},\"paper_bgcolor\":\"rgba(255, 255, 255, 1.0)\",\"plot_bgcolor\":\"rgba(229, 236, 246, 1.0)\",\"autotypenumbers\":\"strict\",\"colorscale\":{\"diverging\":[[0.0,\"#8e0152\"],[0.1,\"#c51b7d\"],[0.2,\"#de77ae\"],[0.3,\"#f1b6da\"],[0.4,\"#fde0ef\"],[0.5,\"#f7f7f7\"],[0.6,\"#e6f5d0\"],[0.7,\"#b8e186\"],[0.8,\"#7fbc41\"],[0.9,\"#4d9221\"],[1.0,\"#276419\"]],\"sequential\":[[0.0,\"#0d0887\"],[0.1111111111111111,\"#46039f\"],[0.2222222222222222,\"#7201a8\"],[0.3333333333333333,\"#9c179e\"],[0.4444444444444444,\"#bd3786\"],[0.5555555555555556,\"#d8576b\"],[0.6666666666666666,\"#ed7953\"],[0.7777777777777778,\"#fb9f3a\"],[0.8888888888888888,\"#fdca26\"],[1.0,\"#f0f921\"]],\"sequentialminus\":[[0.0,\"#0d0887\"],[0.1111111111111111,\"#46039f\"],[0.2222222222222222,\"#7201a8\"],[0.3333333333333333,\"#9c179e\"],[0.4444444444444444,\"#bd3786\"],[0.5555555555555556,\"#d8576b\"],[0.6666666666666666,\"#ed7953\"],[0.7777777777777778,\"#fb9f3a\"],[0.8888888888888888,\"#fdca26\"],[1.0,\"#f0f921\"]]},\"hovermode\":\"closest\",\"hoverlabel\":{\"align\":\"left\"},\"coloraxis\":{\"colorbar\":{\"outlinewidth\":0.0,\"ticks\":\"\"}},\"geo\":{\"showland\":true,\"landcolor\":\"rgba(229, 236, 246, 1.0)\",\"showlakes\":true,\"lakecolor\":\"rgba(255, 255, 255, 1.0)\",\"subunitcolor\":\"rgba(255, 255, 255, 1.0)\",\"bgcolor\":\"rgba(255, 255, 255, 1.0)\"},\"mapbox\":{\"style\":\"light\"},\"polar\":{\"bgcolor\":\"rgba(229, 236, 246, 1.0)\",\"radialaxis\":{\"linecolor\":\"rgba(255, 255, 255, 1.0)\",\"gridcolor\":\"rgba(255, 255, 255, 1.0)\",\"ticks\":\"\"},\"angularaxis\":{\"linecolor\":\"rgba(255, 255, 255, 1.0)\",\"gridcolor\":\"rgba(255, 255, 255, 1.0)\",\"ticks\":\"\"}},\"scene\":{\"xaxis\":{\"ticks\":\"\",\"linecolor\":\"rgba(255, 255, 255, 1.0)\",\"gridcolor\":\"rgba(255, 255, 255, 1.0)\",\"gridwidth\":2.0,\"zerolinecolor\":\"rgba(255, 255, 255, 1.0)\",\"backgroundcolor\":\"rgba(229, 236, 246, 1.0)\",\"showbackground\":true},\"yaxis\":{\"ticks\":\"\",\"linecolor\":\"rgba(255, 255, 255, 1.0)\",\"gridcolor\":\"rgba(255, 255, 255, 1.0)\",\"gridwidth\":2.0,\"zerolinecolor\":\"rgba(255, 255, 255, 1.0)\",\"backgroundcolor\":\"rgba(229, 236, 246, 1.0)\",\"showbackground\":true},\"zaxis\":{\"ticks\":\"\",\"linecolor\":\"rgba(255, 255, 255, 1.0)\",\"gridcolor\":\"rgba(255, 255, 255, 1.0)\",\"gridwidth\":2.0,\"zerolinecolor\":\"rgba(255, 255, 255, 1.0)\",\"backgroundcolor\":\"rgba(229, 236, 246, 1.0)\",\"showbackground\":true}},\"ternary\":{\"aaxis\":{\"ticks\":\"\",\"linecolor\":\"rgba(255, 255, 255, 1.0)\",\"gridcolor\":\"rgba(255, 255, 255, 1.0)\"},\"baxis\":{\"ticks\":\"\",\"linecolor\":\"rgba(255, 255, 255, 1.0)\",\"gridcolor\":\"rgba(255, 255, 255, 1.0)\"},\"caxis\":{\"ticks\":\"\",\"linecolor\":\"rgba(255, 255, 255, 1.0)\",\"gridcolor\":\"rgba(255, 255, 255, 1.0)\"},\"bgcolor\":\"rgba(229, 236, 246, 1.0)\"},\"xaxis\":{\"title\":{\"standoff\":15},\"ticks\":\"\",\"automargin\":true,\"linecolor\":\"rgba(255, 255, 255, 1.0)\",\"gridcolor\":\"rgba(255, 255, 255, 1.0)\",\"zerolinecolor\":\"rgba(255, 255, 255, 1.0)\",\"zerolinewidth\":2.0},\"yaxis\":{\"title\":{\"standoff\":15},\"ticks\":\"\",\"automargin\":true,\"linecolor\":\"rgba(255, 255, 255, 1.0)\",\"gridcolor\":\"rgba(255, 255, 255, 1.0)\",\"zerolinecolor\":\"rgba(255, 255, 255, 1.0)\",\"zerolinewidth\":2.0},\"annotationdefaults\":{\"arrowcolor\":\"#2a3f5f\",\"arrowhead\":0,\"arrowwidth\":1},\"shapedefaults\":{\"line\":{\"color\":\"rgba(42, 63, 95, 1.0)\"}},\"colorway\":[\"rgba(99, 110, 250, 1.0)\",\"rgba(239, 85, 59, 1.0)\",\"rgba(0, 204, 150, 1.0)\",\"rgba(171, 99, 250, 1.0)\",\"rgba(255, 161, 90, 1.0)\",\"rgba(25, 211, 243, 1.0)\",\"rgba(255, 102, 146, 1.0)\",\"rgba(182, 232, 128, 1.0)\",\"rgba(255, 151, 255, 1.0)\",\"rgba(254, 203, 82, 1.0)\"]},\"data\":{\"bar\":[{\"marker\":{\"line\":{\"color\":\"rgba(229, 236, 246, 1.0)\",\"width\":0.5},\"pattern\":{\"fillmode\":\"overlay\",\"size\":10,\"solidity\":0.2}},\"errorx\":{\"color\":\"rgba(42, 63, 95, 1.0)\"},\"errory\":{\"color\":\"rgba(42, 63, 95, 1.0)\"}}],\"barpolar\":[{\"marker\":{\"line\":{\"color\":\"rgba(229, 236, 246, 1.0)\",\"width\":0.5},\"pattern\":{\"fillmode\":\"overlay\",\"size\":10,\"solidity\":0.2}}}],\"carpet\":[{\"aaxis\":{\"linecolor\":\"rgba(255, 255, 255, 1.0)\",\"gridcolor\":\"rgba(255, 255, 255, 1.0)\",\"endlinecolor\":\"rgba(42, 63, 95, 1.0)\",\"minorgridcolor\":\"rgba(255, 255, 255, 1.0)\",\"startlinecolor\":\"rgba(42, 63, 95, 1.0)\"},\"baxis\":{\"linecolor\":\"rgba(255, 255, 255, 1.0)\",\"gridcolor\":\"rgba(255, 255, 255, 1.0)\",\"endlinecolor\":\"rgba(42, 63, 95, 1.0)\",\"minorgridcolor\":\"rgba(255, 255, 255, 1.0)\",\"startlinecolor\":\"rgba(42, 63, 95, 1.0)\"}}],\"choropleth\":[{\"colorbar\":{\"outlinewidth\":0.0,\"ticks\":\"\"},\"colorscale\":[[0.0,\"#0d0887\"],[0.1111111111111111,\"#46039f\"],[0.2222222222222222,\"#7201a8\"],[0.3333333333333333,\"#9c179e\"],[0.4444444444444444,\"#bd3786\"],[0.5555555555555556,\"#d8576b\"],[0.6666666666666666,\"#ed7953\"],[0.7777777777777778,\"#fb9f3a\"],[0.8888888888888888,\"#fdca26\"],[1.0,\"#f0f921\"]]}],\"contour\":[{\"colorbar\":{\"outlinewidth\":0.0,\"ticks\":\"\"},\"colorscale\":[[0.0,\"#0d0887\"],[0.1111111111111111,\"#46039f\"],[0.2222222222222222,\"#7201a8\"],[0.3333333333333333,\"#9c179e\"],[0.4444444444444444,\"#bd3786\"],[0.5555555555555556,\"#d8576b\"],[0.6666666666666666,\"#ed7953\"],[0.7777777777777778,\"#fb9f3a\"],[0.8888888888888888,\"#fdca26\"],[1.0,\"#f0f921\"]]}],\"contourcarpet\":[{\"colorbar\":{\"outlinewidth\":0.0,\"ticks\":\"\"}}],\"heatmap\":[{\"colorbar\":{\"outlinewidth\":0.0,\"ticks\":\"\"},\"colorscale\":[[0.0,\"#0d0887\"],[0.1111111111111111,\"#46039f\"],[0.2222222222222222,\"#7201a8\"],[0.3333333333333333,\"#9c179e\"],[0.4444444444444444,\"#bd3786\"],[0.5555555555555556,\"#d8576b\"],[0.6666666666666666,\"#ed7953\"],[0.7777777777777778,\"#fb9f3a\"],[0.8888888888888888,\"#fdca26\"],[1.0,\"#f0f921\"]]}],\"heatmapgl\":[{\"colorbar\":{\"outlinewidth\":0.0,\"ticks\":\"\"},\"colorscale\":[[0.0,\"#0d0887\"],[0.1111111111111111,\"#46039f\"],[0.2222222222222222,\"#7201a8\"],[0.3333333333333333,\"#9c179e\"],[0.4444444444444444,\"#bd3786\"],[0.5555555555555556,\"#d8576b\"],[0.6666666666666666,\"#ed7953\"],[0.7777777777777778,\"#fb9f3a\"],[0.8888888888888888,\"#fdca26\"],[1.0,\"#f0f921\"]]}],\"histogram\":[{\"marker\":{\"pattern\":{\"fillmode\":\"overlay\",\"size\":10,\"solidity\":0.2}}}],\"histogram2d\":[{\"colorbar\":{\"outlinewidth\":0.0,\"ticks\":\"\"},\"colorscale\":[[0.0,\"#0d0887\"],[0.1111111111111111,\"#46039f\"],[0.2222222222222222,\"#7201a8\"],[0.3333333333333333,\"#9c179e\"],[0.4444444444444444,\"#bd3786\"],[0.5555555555555556,\"#d8576b\"],[0.6666666666666666,\"#ed7953\"],[0.7777777777777778,\"#fb9f3a\"],[0.8888888888888888,\"#fdca26\"],[1.0,\"#f0f921\"]]}],\"histogram2dcontour\":[{\"colorbar\":{\"outlinewidth\":0.0,\"ticks\":\"\"},\"colorscale\":[[0.0,\"#0d0887\"],[0.1111111111111111,\"#46039f\"],[0.2222222222222222,\"#7201a8\"],[0.3333333333333333,\"#9c179e\"],[0.4444444444444444,\"#bd3786\"],[0.5555555555555556,\"#d8576b\"],[0.6666666666666666,\"#ed7953\"],[0.7777777777777778,\"#fb9f3a\"],[0.8888888888888888,\"#fdca26\"],[1.0,\"#f0f921\"]]}],\"mesh3d\":[{\"colorbar\":{\"outlinewidth\":0.0,\"ticks\":\"\"}}],\"parcoords\":[{\"line\":{\"colorbar\":{\"outlinewidth\":0.0,\"ticks\":\"\"}}}],\"pie\":[{\"automargin\":true}],\"scatter\":[{\"marker\":{\"colorbar\":{\"outlinewidth\":0.0,\"ticks\":\"\"}}}],\"scatter3d\":[{\"marker\":{\"colorbar\":{\"outlinewidth\":0.0,\"ticks\":\"\"}},\"line\":{\"colorbar\":{\"outlinewidth\":0.0,\"ticks\":\"\"}}}],\"scattercarpet\":[{\"marker\":{\"colorbar\":{\"outlinewidth\":0.0,\"ticks\":\"\"}}}],\"scattergeo\":[{\"marker\":{\"colorbar\":{\"outlinewidth\":0.0,\"ticks\":\"\"}}}],\"scattergl\":[{\"marker\":{\"colorbar\":{\"outlinewidth\":0.0,\"ticks\":\"\"}}}],\"scattermapbox\":[{\"marker\":{\"colorbar\":{\"outlinewidth\":0.0,\"ticks\":\"\"}}}],\"scatterpolar\":[{\"marker\":{\"colorbar\":{\"outlinewidth\":0.0,\"ticks\":\"\"}}}],\"scatterpolargl\":[{\"marker\":{\"colorbar\":{\"outlinewidth\":0.0,\"ticks\":\"\"}}}],\"scatterternary\":[{\"marker\":{\"colorbar\":{\"outlinewidth\":0.0,\"ticks\":\"\"}}}],\"surface\":[{\"colorbar\":{\"outlinewidth\":0.0,\"ticks\":\"\"},\"colorscale\":[[0.0,\"#0d0887\"],[0.1111111111111111,\"#46039f\"],[0.2222222222222222,\"#7201a8\"],[0.3333333333333333,\"#9c179e\"],[0.4444444444444444,\"#bd3786\"],[0.5555555555555556,\"#d8576b\"],[0.6666666666666666,\"#ed7953\"],[0.7777777777777778,\"#fb9f3a\"],[0.8888888888888888,\"#fdca26\"],[1.0,\"#f0f921\"]]}],\"table\":[{\"cells\":{\"fill\":{\"color\":\"rgba(235, 240, 248, 1.0)\"},\"line\":{\"color\":\"rgba(255, 255, 255, 1.0)\"}},\"header\":{\"fill\":{\"color\":\"rgba(200, 212, 227, 1.0)\"},\"line\":{\"color\":\"rgba(255, 255, 255, 1.0)\"}}}]}}};\r\n",
       "            var config = {\"responsive\":true};\r\n",
       "            Plotly.newPlot('67e86fa4-8294-43bf-8916-e9d0d3204d28', data, layout, config);\r\n",
       "});\r\n",
       "            };\r\n",
       "            if ((typeof(requirejs) !==  typeof(Function)) || (typeof(requirejs.config) !== typeof(Function))) {\r\n",
       "                var script = document.createElement(\"script\");\r\n",
       "                script.setAttribute(\"src\", \"https://cdnjs.cloudflare.com/ajax/libs/require.js/2.3.6/require.min.js\");\r\n",
       "                script.onload = function(){\r\n",
       "                    renderPlotly_67e86fa4829443bf8916e9d0d3204d28();\r\n",
       "                };\r\n",
       "                document.getElementsByTagName(\"head\")[0].appendChild(script);\r\n",
       "            }\r\n",
       "            else {\r\n",
       "                renderPlotly_67e86fa4829443bf8916e9d0d3204d28();\r\n",
       "            }\r\n",
       "</script>\r\n"
      ]
     },
     "metadata": {},
     "output_type": "display_data"
    }
   ],
   "source": [
    "[\n",
    "    { Cuboid.T.X = 0,9; Cuboid.T.Y = 6,9; Cuboid.T.Z = 0,9 }\n",
    "    { Cuboid.T.X = 0,9; Cuboid.T.Y = 0,3; Cuboid.T.Z = 0,9 }\n",
    "    { Cuboid.T.X = 0,3; Cuboid.T.Y = 4,5; Cuboid.T.Z = 0,9 }\n",
    "    { Cuboid.T.X = 6,9; Cuboid.T.Y = 4,5; Cuboid.T.Z = 0,9 }\n",
    "    { Cuboid.T.X = 4,5; Cuboid.T.Y = 4,5; Cuboid.T.Z = 0,3 }\n",
    "    { Cuboid.T.X = 4,5; Cuboid.T.Y = 4,5; Cuboid.T.Z = 6,9 }\n",
    "]"
   ]
  },
  {
   "cell_type": "markdown",
   "metadata": {},
   "source": [
    "Any of the subtrahend's faces can be either inside or outside the minuend. It seems like the coordinates of all six cuboids (at most) can be found comparing corresponding faces of two operands."
   ]
  },
  {
   "cell_type": "code",
   "execution_count": null,
   "metadata": {
    "dotnet_interactive": {
     "language": "fsharp"
    }
   },
   "outputs": [],
   "source": [
    "module Cuboid = \n",
    "    let subtract (subtrahend : Cuboid.T) (minuend : Cuboid.T) =\n",
    "        if (not <| Range.overlap subtrahend.X minuend.X\n",
    "            || not <| Range.overlap subtrahend.Y minuend.Y\n",
    "            || not <| Range.overlap subtrahend.Z minuend.Z) then \n",
    "            [minuend]\n",
    "        else\n",
    "            [\n",
    "               {\n",
    "                   X = minuend.X\n",
    "                   Y = Range.end' subtrahend.Y + 1, Range.end' minuend.Y\n",
    "                   Z = minuend.Z\n",
    "               }\n",
    "               {\n",
    "                   X = minuend.X\n",
    "                   Y = Range.start minuend.Y, Range.start subtrahend.Y - 1\n",
    "                   Z = minuend.Z\n",
    "               }\n",
    "               {\n",
    "                   X = Range.start minuend.X, Range.start subtrahend.X - 1\n",
    "                   Y = max (Range.start subtrahend.Y) (Range.start minuend.Y), min (Range.end' subtrahend.Y) (Range.end' minuend.Y)\n",
    "                   Z = minuend.Z\n",
    "               }\n",
    "               {\n",
    "                   X = Range.end' subtrahend.X + 1, Range.end' minuend.X\n",
    "                   Y = max (Range.start subtrahend.Y) (Range.start minuend.Y), min (Range.end' subtrahend.Y) (Range.end' minuend.Y)\n",
    "                   Z = minuend.Z\n",
    "               }\n",
    "               {\n",
    "                   X = max (Range.start subtrahend.X) (Range.start minuend.X), min (Range.end' subtrahend.X) (Range.end' minuend.X)\n",
    "                   Y = max (Range.start subtrahend.Y) (Range.start minuend.Y), min (Range.end' subtrahend.Y) (Range.end' minuend.Y)\n",
    "                   Z = Range.start minuend.Z, Range.start subtrahend.Z - 1\n",
    "               }\n",
    "               {\n",
    "                   X = max (Range.start subtrahend.X) (Range.start minuend.X), min (Range.end' subtrahend.X) (Range.end' minuend.X)\n",
    "                   Y = max (Range.start subtrahend.Y) (Range.start minuend.Y), min (Range.end' subtrahend.Y) (Range.end' minuend.Y)\n",
    "                   Z = Range.end' subtrahend.Z + 1, Range.end' minuend.Z\n",
    "               }\n",
    "           ] |> List.filter (not << Cuboid.isEmpty)\n",
    "    "
   ]
  },
  {
   "cell_type": "markdown",
   "metadata": {},
   "source": [
    "Below are some examples of cuboids mutually positioned in different ways and their subtractions."
   ]
  },
  {
   "cell_type": "code",
   "execution_count": null,
   "metadata": {
    "dotnet_interactive": {
     "language": "fsharp"
    }
   },
   "outputs": [
    {
     "data": {
      "text/html": [
       "<div id=\"d1c49ee0-976d-4dc5-a809-f80d9b433677\"><!-- Plotly chart will be drawn inside this DIV --></div>\r\n",
       "<script type=\"text/javascript\">\r\n",
       "\r\n",
       "            var renderPlotly_d1c49ee0976d4dc5a809f80d9b433677 = function() {\r\n",
       "            var fsharpPlotlyRequire = requirejs.config({context:'fsharp-plotly',paths:{plotly:'https://cdn.plot.ly/plotly-2.6.3.min'}}) || require;\r\n",
       "            fsharpPlotlyRequire(['plotly'], function(Plotly) {\r\n",
       "\r\n",
       "            var data = [{\"type\":\"mesh3d\",\"opacity\":0.5,\"x\":[-1,3,-1,3,-1,3,-1,3],\"y\":[3,3,7,7,3,3,7,7],\"z\":[3,3,3,3,7,7,7,7],\"i\":[0,0,0,0,0,0,3,3,4,4,7,7],\"j\":[3,3,6,6,5,5,6,6,7,7,1,1],\"k\":[1,2,2,4,4,1,2,7,6,5,3,5],\"flatshading\":true},{\"type\":\"mesh3d\",\"opacity\":0.5,\"x\":[0,6,0,6,0,6,0,6],\"y\":[0,0,6,6,0,0,6,6],\"z\":[0,0,0,0,6,6,6,6],\"i\":[0,0,0,0,0,0,3,3,4,4,7,7],\"j\":[3,3,6,6,5,5,6,6,7,7,1,1],\"k\":[1,2,2,4,4,1,2,7,6,5,3,5],\"flatshading\":true}];\r\n",
       "            var layout = {\"width\":600,\"height\":600,\"template\":{\"layout\":{\"title\":{\"x\":0.05},\"font\":{\"color\":\"rgba(42, 63, 95, 1.0)\"},\"paper_bgcolor\":\"rgba(255, 255, 255, 1.0)\",\"plot_bgcolor\":\"rgba(229, 236, 246, 1.0)\",\"autotypenumbers\":\"strict\",\"colorscale\":{\"diverging\":[[0.0,\"#8e0152\"],[0.1,\"#c51b7d\"],[0.2,\"#de77ae\"],[0.3,\"#f1b6da\"],[0.4,\"#fde0ef\"],[0.5,\"#f7f7f7\"],[0.6,\"#e6f5d0\"],[0.7,\"#b8e186\"],[0.8,\"#7fbc41\"],[0.9,\"#4d9221\"],[1.0,\"#276419\"]],\"sequential\":[[0.0,\"#0d0887\"],[0.1111111111111111,\"#46039f\"],[0.2222222222222222,\"#7201a8\"],[0.3333333333333333,\"#9c179e\"],[0.4444444444444444,\"#bd3786\"],[0.5555555555555556,\"#d8576b\"],[0.6666666666666666,\"#ed7953\"],[0.7777777777777778,\"#fb9f3a\"],[0.8888888888888888,\"#fdca26\"],[1.0,\"#f0f921\"]],\"sequentialminus\":[[0.0,\"#0d0887\"],[0.1111111111111111,\"#46039f\"],[0.2222222222222222,\"#7201a8\"],[0.3333333333333333,\"#9c179e\"],[0.4444444444444444,\"#bd3786\"],[0.5555555555555556,\"#d8576b\"],[0.6666666666666666,\"#ed7953\"],[0.7777777777777778,\"#fb9f3a\"],[0.8888888888888888,\"#fdca26\"],[1.0,\"#f0f921\"]]},\"hovermode\":\"closest\",\"hoverlabel\":{\"align\":\"left\"},\"coloraxis\":{\"colorbar\":{\"outlinewidth\":0.0,\"ticks\":\"\"}},\"geo\":{\"showland\":true,\"landcolor\":\"rgba(229, 236, 246, 1.0)\",\"showlakes\":true,\"lakecolor\":\"rgba(255, 255, 255, 1.0)\",\"subunitcolor\":\"rgba(255, 255, 255, 1.0)\",\"bgcolor\":\"rgba(255, 255, 255, 1.0)\"},\"mapbox\":{\"style\":\"light\"},\"polar\":{\"bgcolor\":\"rgba(229, 236, 246, 1.0)\",\"radialaxis\":{\"linecolor\":\"rgba(255, 255, 255, 1.0)\",\"gridcolor\":\"rgba(255, 255, 255, 1.0)\",\"ticks\":\"\"},\"angularaxis\":{\"linecolor\":\"rgba(255, 255, 255, 1.0)\",\"gridcolor\":\"rgba(255, 255, 255, 1.0)\",\"ticks\":\"\"}},\"scene\":{\"xaxis\":{\"ticks\":\"\",\"linecolor\":\"rgba(255, 255, 255, 1.0)\",\"gridcolor\":\"rgba(255, 255, 255, 1.0)\",\"gridwidth\":2.0,\"zerolinecolor\":\"rgba(255, 255, 255, 1.0)\",\"backgroundcolor\":\"rgba(229, 236, 246, 1.0)\",\"showbackground\":true},\"yaxis\":{\"ticks\":\"\",\"linecolor\":\"rgba(255, 255, 255, 1.0)\",\"gridcolor\":\"rgba(255, 255, 255, 1.0)\",\"gridwidth\":2.0,\"zerolinecolor\":\"rgba(255, 255, 255, 1.0)\",\"backgroundcolor\":\"rgba(229, 236, 246, 1.0)\",\"showbackground\":true},\"zaxis\":{\"ticks\":\"\",\"linecolor\":\"rgba(255, 255, 255, 1.0)\",\"gridcolor\":\"rgba(255, 255, 255, 1.0)\",\"gridwidth\":2.0,\"zerolinecolor\":\"rgba(255, 255, 255, 1.0)\",\"backgroundcolor\":\"rgba(229, 236, 246, 1.0)\",\"showbackground\":true}},\"ternary\":{\"aaxis\":{\"ticks\":\"\",\"linecolor\":\"rgba(255, 255, 255, 1.0)\",\"gridcolor\":\"rgba(255, 255, 255, 1.0)\"},\"baxis\":{\"ticks\":\"\",\"linecolor\":\"rgba(255, 255, 255, 1.0)\",\"gridcolor\":\"rgba(255, 255, 255, 1.0)\"},\"caxis\":{\"ticks\":\"\",\"linecolor\":\"rgba(255, 255, 255, 1.0)\",\"gridcolor\":\"rgba(255, 255, 255, 1.0)\"},\"bgcolor\":\"rgba(229, 236, 246, 1.0)\"},\"xaxis\":{\"title\":{\"standoff\":15},\"ticks\":\"\",\"automargin\":true,\"linecolor\":\"rgba(255, 255, 255, 1.0)\",\"gridcolor\":\"rgba(255, 255, 255, 1.0)\",\"zerolinecolor\":\"rgba(255, 255, 255, 1.0)\",\"zerolinewidth\":2.0},\"yaxis\":{\"title\":{\"standoff\":15},\"ticks\":\"\",\"automargin\":true,\"linecolor\":\"rgba(255, 255, 255, 1.0)\",\"gridcolor\":\"rgba(255, 255, 255, 1.0)\",\"zerolinecolor\":\"rgba(255, 255, 255, 1.0)\",\"zerolinewidth\":2.0},\"annotationdefaults\":{\"arrowcolor\":\"#2a3f5f\",\"arrowhead\":0,\"arrowwidth\":1},\"shapedefaults\":{\"line\":{\"color\":\"rgba(42, 63, 95, 1.0)\"}},\"colorway\":[\"rgba(99, 110, 250, 1.0)\",\"rgba(239, 85, 59, 1.0)\",\"rgba(0, 204, 150, 1.0)\",\"rgba(171, 99, 250, 1.0)\",\"rgba(255, 161, 90, 1.0)\",\"rgba(25, 211, 243, 1.0)\",\"rgba(255, 102, 146, 1.0)\",\"rgba(182, 232, 128, 1.0)\",\"rgba(255, 151, 255, 1.0)\",\"rgba(254, 203, 82, 1.0)\"]},\"data\":{\"bar\":[{\"marker\":{\"line\":{\"color\":\"rgba(229, 236, 246, 1.0)\",\"width\":0.5},\"pattern\":{\"fillmode\":\"overlay\",\"size\":10,\"solidity\":0.2}},\"errorx\":{\"color\":\"rgba(42, 63, 95, 1.0)\"},\"errory\":{\"color\":\"rgba(42, 63, 95, 1.0)\"}}],\"barpolar\":[{\"marker\":{\"line\":{\"color\":\"rgba(229, 236, 246, 1.0)\",\"width\":0.5},\"pattern\":{\"fillmode\":\"overlay\",\"size\":10,\"solidity\":0.2}}}],\"carpet\":[{\"aaxis\":{\"linecolor\":\"rgba(255, 255, 255, 1.0)\",\"gridcolor\":\"rgba(255, 255, 255, 1.0)\",\"endlinecolor\":\"rgba(42, 63, 95, 1.0)\",\"minorgridcolor\":\"rgba(255, 255, 255, 1.0)\",\"startlinecolor\":\"rgba(42, 63, 95, 1.0)\"},\"baxis\":{\"linecolor\":\"rgba(255, 255, 255, 1.0)\",\"gridcolor\":\"rgba(255, 255, 255, 1.0)\",\"endlinecolor\":\"rgba(42, 63, 95, 1.0)\",\"minorgridcolor\":\"rgba(255, 255, 255, 1.0)\",\"startlinecolor\":\"rgba(42, 63, 95, 1.0)\"}}],\"choropleth\":[{\"colorbar\":{\"outlinewidth\":0.0,\"ticks\":\"\"},\"colorscale\":[[0.0,\"#0d0887\"],[0.1111111111111111,\"#46039f\"],[0.2222222222222222,\"#7201a8\"],[0.3333333333333333,\"#9c179e\"],[0.4444444444444444,\"#bd3786\"],[0.5555555555555556,\"#d8576b\"],[0.6666666666666666,\"#ed7953\"],[0.7777777777777778,\"#fb9f3a\"],[0.8888888888888888,\"#fdca26\"],[1.0,\"#f0f921\"]]}],\"contour\":[{\"colorbar\":{\"outlinewidth\":0.0,\"ticks\":\"\"},\"colorscale\":[[0.0,\"#0d0887\"],[0.1111111111111111,\"#46039f\"],[0.2222222222222222,\"#7201a8\"],[0.3333333333333333,\"#9c179e\"],[0.4444444444444444,\"#bd3786\"],[0.5555555555555556,\"#d8576b\"],[0.6666666666666666,\"#ed7953\"],[0.7777777777777778,\"#fb9f3a\"],[0.8888888888888888,\"#fdca26\"],[1.0,\"#f0f921\"]]}],\"contourcarpet\":[{\"colorbar\":{\"outlinewidth\":0.0,\"ticks\":\"\"}}],\"heatmap\":[{\"colorbar\":{\"outlinewidth\":0.0,\"ticks\":\"\"},\"colorscale\":[[0.0,\"#0d0887\"],[0.1111111111111111,\"#46039f\"],[0.2222222222222222,\"#7201a8\"],[0.3333333333333333,\"#9c179e\"],[0.4444444444444444,\"#bd3786\"],[0.5555555555555556,\"#d8576b\"],[0.6666666666666666,\"#ed7953\"],[0.7777777777777778,\"#fb9f3a\"],[0.8888888888888888,\"#fdca26\"],[1.0,\"#f0f921\"]]}],\"heatmapgl\":[{\"colorbar\":{\"outlinewidth\":0.0,\"ticks\":\"\"},\"colorscale\":[[0.0,\"#0d0887\"],[0.1111111111111111,\"#46039f\"],[0.2222222222222222,\"#7201a8\"],[0.3333333333333333,\"#9c179e\"],[0.4444444444444444,\"#bd3786\"],[0.5555555555555556,\"#d8576b\"],[0.6666666666666666,\"#ed7953\"],[0.7777777777777778,\"#fb9f3a\"],[0.8888888888888888,\"#fdca26\"],[1.0,\"#f0f921\"]]}],\"histogram\":[{\"marker\":{\"pattern\":{\"fillmode\":\"overlay\",\"size\":10,\"solidity\":0.2}}}],\"histogram2d\":[{\"colorbar\":{\"outlinewidth\":0.0,\"ticks\":\"\"},\"colorscale\":[[0.0,\"#0d0887\"],[0.1111111111111111,\"#46039f\"],[0.2222222222222222,\"#7201a8\"],[0.3333333333333333,\"#9c179e\"],[0.4444444444444444,\"#bd3786\"],[0.5555555555555556,\"#d8576b\"],[0.6666666666666666,\"#ed7953\"],[0.7777777777777778,\"#fb9f3a\"],[0.8888888888888888,\"#fdca26\"],[1.0,\"#f0f921\"]]}],\"histogram2dcontour\":[{\"colorbar\":{\"outlinewidth\":0.0,\"ticks\":\"\"},\"colorscale\":[[0.0,\"#0d0887\"],[0.1111111111111111,\"#46039f\"],[0.2222222222222222,\"#7201a8\"],[0.3333333333333333,\"#9c179e\"],[0.4444444444444444,\"#bd3786\"],[0.5555555555555556,\"#d8576b\"],[0.6666666666666666,\"#ed7953\"],[0.7777777777777778,\"#fb9f3a\"],[0.8888888888888888,\"#fdca26\"],[1.0,\"#f0f921\"]]}],\"mesh3d\":[{\"colorbar\":{\"outlinewidth\":0.0,\"ticks\":\"\"}}],\"parcoords\":[{\"line\":{\"colorbar\":{\"outlinewidth\":0.0,\"ticks\":\"\"}}}],\"pie\":[{\"automargin\":true}],\"scatter\":[{\"marker\":{\"colorbar\":{\"outlinewidth\":0.0,\"ticks\":\"\"}}}],\"scatter3d\":[{\"marker\":{\"colorbar\":{\"outlinewidth\":0.0,\"ticks\":\"\"}},\"line\":{\"colorbar\":{\"outlinewidth\":0.0,\"ticks\":\"\"}}}],\"scattercarpet\":[{\"marker\":{\"colorbar\":{\"outlinewidth\":0.0,\"ticks\":\"\"}}}],\"scattergeo\":[{\"marker\":{\"colorbar\":{\"outlinewidth\":0.0,\"ticks\":\"\"}}}],\"scattergl\":[{\"marker\":{\"colorbar\":{\"outlinewidth\":0.0,\"ticks\":\"\"}}}],\"scattermapbox\":[{\"marker\":{\"colorbar\":{\"outlinewidth\":0.0,\"ticks\":\"\"}}}],\"scatterpolar\":[{\"marker\":{\"colorbar\":{\"outlinewidth\":0.0,\"ticks\":\"\"}}}],\"scatterpolargl\":[{\"marker\":{\"colorbar\":{\"outlinewidth\":0.0,\"ticks\":\"\"}}}],\"scatterternary\":[{\"marker\":{\"colorbar\":{\"outlinewidth\":0.0,\"ticks\":\"\"}}}],\"surface\":[{\"colorbar\":{\"outlinewidth\":0.0,\"ticks\":\"\"},\"colorscale\":[[0.0,\"#0d0887\"],[0.1111111111111111,\"#46039f\"],[0.2222222222222222,\"#7201a8\"],[0.3333333333333333,\"#9c179e\"],[0.4444444444444444,\"#bd3786\"],[0.5555555555555556,\"#d8576b\"],[0.6666666666666666,\"#ed7953\"],[0.7777777777777778,\"#fb9f3a\"],[0.8888888888888888,\"#fdca26\"],[1.0,\"#f0f921\"]]}],\"table\":[{\"cells\":{\"fill\":{\"color\":\"rgba(235, 240, 248, 1.0)\"},\"line\":{\"color\":\"rgba(255, 255, 255, 1.0)\"}},\"header\":{\"fill\":{\"color\":\"rgba(200, 212, 227, 1.0)\"},\"line\":{\"color\":\"rgba(255, 255, 255, 1.0)\"}}}]}}};\r\n",
       "            var config = {\"responsive\":true};\r\n",
       "            Plotly.newPlot('d1c49ee0-976d-4dc5-a809-f80d9b433677', data, layout, config);\r\n",
       "});\r\n",
       "            };\r\n",
       "            if ((typeof(requirejs) !==  typeof(Function)) || (typeof(requirejs.config) !== typeof(Function))) {\r\n",
       "                var script = document.createElement(\"script\");\r\n",
       "                script.setAttribute(\"src\", \"https://cdnjs.cloudflare.com/ajax/libs/require.js/2.3.6/require.min.js\");\r\n",
       "                script.onload = function(){\r\n",
       "                    renderPlotly_d1c49ee0976d4dc5a809f80d9b433677();\r\n",
       "                };\r\n",
       "                document.getElementsByTagName(\"head\")[0].appendChild(script);\r\n",
       "            }\r\n",
       "            else {\r\n",
       "                renderPlotly_d1c49ee0976d4dc5a809f80d9b433677();\r\n",
       "            }\r\n",
       "</script>\r\n"
      ]
     },
     "metadata": {},
     "output_type": "display_data"
    },
    {
     "data": {
      "text/html": [
       "<div id=\"62e17a99-1cb7-4643-a330-79fd055eda35\"><!-- Plotly chart will be drawn inside this DIV --></div>\r\n",
       "<script type=\"text/javascript\">\r\n",
       "\r\n",
       "            var renderPlotly_62e17a991cb74643a33079fd055eda35 = function() {\r\n",
       "            var fsharpPlotlyRequire = requirejs.config({context:'fsharp-plotly',paths:{plotly:'https://cdn.plot.ly/plotly-2.6.3.min'}}) || require;\r\n",
       "            fsharpPlotlyRequire(['plotly'], function(Plotly) {\r\n",
       "\r\n",
       "            var data = [{\"type\":\"mesh3d\",\"opacity\":0.5,\"x\":[0,6,0,6,0,6,0,6],\"y\":[0,0,3,3,0,0,3,3],\"z\":[0,0,0,0,6,6,6,6],\"i\":[0,0,0,0,0,0,3,3,4,4,7,7],\"j\":[3,3,6,6,5,5,6,6,7,7,1,1],\"k\":[1,2,2,4,4,1,2,7,6,5,3,5],\"flatshading\":true},{\"type\":\"mesh3d\",\"opacity\":0.5,\"x\":[3,6,3,6,3,6,3,6],\"y\":[3,3,6,6,3,3,6,6],\"z\":[0,0,0,0,6,6,6,6],\"i\":[0,0,0,0,0,0,3,3,4,4,7,7],\"j\":[3,3,6,6,5,5,6,6,7,7,1,1],\"k\":[1,2,2,4,4,1,2,7,6,5,3,5],\"flatshading\":true},{\"type\":\"mesh3d\",\"opacity\":0.5,\"x\":[0,3,0,3,0,3,0,3],\"y\":[3,3,6,6,3,3,6,6],\"z\":[0,0,0,0,3,3,3,3],\"i\":[0,0,0,0,0,0,3,3,4,4,7,7],\"j\":[3,3,6,6,5,5,6,6,7,7,1,1],\"k\":[1,2,2,4,4,1,2,7,6,5,3,5],\"flatshading\":true}];\r\n",
       "            var layout = {\"width\":600,\"height\":600,\"template\":{\"layout\":{\"title\":{\"x\":0.05},\"font\":{\"color\":\"rgba(42, 63, 95, 1.0)\"},\"paper_bgcolor\":\"rgba(255, 255, 255, 1.0)\",\"plot_bgcolor\":\"rgba(229, 236, 246, 1.0)\",\"autotypenumbers\":\"strict\",\"colorscale\":{\"diverging\":[[0.0,\"#8e0152\"],[0.1,\"#c51b7d\"],[0.2,\"#de77ae\"],[0.3,\"#f1b6da\"],[0.4,\"#fde0ef\"],[0.5,\"#f7f7f7\"],[0.6,\"#e6f5d0\"],[0.7,\"#b8e186\"],[0.8,\"#7fbc41\"],[0.9,\"#4d9221\"],[1.0,\"#276419\"]],\"sequential\":[[0.0,\"#0d0887\"],[0.1111111111111111,\"#46039f\"],[0.2222222222222222,\"#7201a8\"],[0.3333333333333333,\"#9c179e\"],[0.4444444444444444,\"#bd3786\"],[0.5555555555555556,\"#d8576b\"],[0.6666666666666666,\"#ed7953\"],[0.7777777777777778,\"#fb9f3a\"],[0.8888888888888888,\"#fdca26\"],[1.0,\"#f0f921\"]],\"sequentialminus\":[[0.0,\"#0d0887\"],[0.1111111111111111,\"#46039f\"],[0.2222222222222222,\"#7201a8\"],[0.3333333333333333,\"#9c179e\"],[0.4444444444444444,\"#bd3786\"],[0.5555555555555556,\"#d8576b\"],[0.6666666666666666,\"#ed7953\"],[0.7777777777777778,\"#fb9f3a\"],[0.8888888888888888,\"#fdca26\"],[1.0,\"#f0f921\"]]},\"hovermode\":\"closest\",\"hoverlabel\":{\"align\":\"left\"},\"coloraxis\":{\"colorbar\":{\"outlinewidth\":0.0,\"ticks\":\"\"}},\"geo\":{\"showland\":true,\"landcolor\":\"rgba(229, 236, 246, 1.0)\",\"showlakes\":true,\"lakecolor\":\"rgba(255, 255, 255, 1.0)\",\"subunitcolor\":\"rgba(255, 255, 255, 1.0)\",\"bgcolor\":\"rgba(255, 255, 255, 1.0)\"},\"mapbox\":{\"style\":\"light\"},\"polar\":{\"bgcolor\":\"rgba(229, 236, 246, 1.0)\",\"radialaxis\":{\"linecolor\":\"rgba(255, 255, 255, 1.0)\",\"gridcolor\":\"rgba(255, 255, 255, 1.0)\",\"ticks\":\"\"},\"angularaxis\":{\"linecolor\":\"rgba(255, 255, 255, 1.0)\",\"gridcolor\":\"rgba(255, 255, 255, 1.0)\",\"ticks\":\"\"}},\"scene\":{\"xaxis\":{\"ticks\":\"\",\"linecolor\":\"rgba(255, 255, 255, 1.0)\",\"gridcolor\":\"rgba(255, 255, 255, 1.0)\",\"gridwidth\":2.0,\"zerolinecolor\":\"rgba(255, 255, 255, 1.0)\",\"backgroundcolor\":\"rgba(229, 236, 246, 1.0)\",\"showbackground\":true},\"yaxis\":{\"ticks\":\"\",\"linecolor\":\"rgba(255, 255, 255, 1.0)\",\"gridcolor\":\"rgba(255, 255, 255, 1.0)\",\"gridwidth\":2.0,\"zerolinecolor\":\"rgba(255, 255, 255, 1.0)\",\"backgroundcolor\":\"rgba(229, 236, 246, 1.0)\",\"showbackground\":true},\"zaxis\":{\"ticks\":\"\",\"linecolor\":\"rgba(255, 255, 255, 1.0)\",\"gridcolor\":\"rgba(255, 255, 255, 1.0)\",\"gridwidth\":2.0,\"zerolinecolor\":\"rgba(255, 255, 255, 1.0)\",\"backgroundcolor\":\"rgba(229, 236, 246, 1.0)\",\"showbackground\":true}},\"ternary\":{\"aaxis\":{\"ticks\":\"\",\"linecolor\":\"rgba(255, 255, 255, 1.0)\",\"gridcolor\":\"rgba(255, 255, 255, 1.0)\"},\"baxis\":{\"ticks\":\"\",\"linecolor\":\"rgba(255, 255, 255, 1.0)\",\"gridcolor\":\"rgba(255, 255, 255, 1.0)\"},\"caxis\":{\"ticks\":\"\",\"linecolor\":\"rgba(255, 255, 255, 1.0)\",\"gridcolor\":\"rgba(255, 255, 255, 1.0)\"},\"bgcolor\":\"rgba(229, 236, 246, 1.0)\"},\"xaxis\":{\"title\":{\"standoff\":15},\"ticks\":\"\",\"automargin\":true,\"linecolor\":\"rgba(255, 255, 255, 1.0)\",\"gridcolor\":\"rgba(255, 255, 255, 1.0)\",\"zerolinecolor\":\"rgba(255, 255, 255, 1.0)\",\"zerolinewidth\":2.0},\"yaxis\":{\"title\":{\"standoff\":15},\"ticks\":\"\",\"automargin\":true,\"linecolor\":\"rgba(255, 255, 255, 1.0)\",\"gridcolor\":\"rgba(255, 255, 255, 1.0)\",\"zerolinecolor\":\"rgba(255, 255, 255, 1.0)\",\"zerolinewidth\":2.0},\"annotationdefaults\":{\"arrowcolor\":\"#2a3f5f\",\"arrowhead\":0,\"arrowwidth\":1},\"shapedefaults\":{\"line\":{\"color\":\"rgba(42, 63, 95, 1.0)\"}},\"colorway\":[\"rgba(99, 110, 250, 1.0)\",\"rgba(239, 85, 59, 1.0)\",\"rgba(0, 204, 150, 1.0)\",\"rgba(171, 99, 250, 1.0)\",\"rgba(255, 161, 90, 1.0)\",\"rgba(25, 211, 243, 1.0)\",\"rgba(255, 102, 146, 1.0)\",\"rgba(182, 232, 128, 1.0)\",\"rgba(255, 151, 255, 1.0)\",\"rgba(254, 203, 82, 1.0)\"]},\"data\":{\"bar\":[{\"marker\":{\"line\":{\"color\":\"rgba(229, 236, 246, 1.0)\",\"width\":0.5},\"pattern\":{\"fillmode\":\"overlay\",\"size\":10,\"solidity\":0.2}},\"errorx\":{\"color\":\"rgba(42, 63, 95, 1.0)\"},\"errory\":{\"color\":\"rgba(42, 63, 95, 1.0)\"}}],\"barpolar\":[{\"marker\":{\"line\":{\"color\":\"rgba(229, 236, 246, 1.0)\",\"width\":0.5},\"pattern\":{\"fillmode\":\"overlay\",\"size\":10,\"solidity\":0.2}}}],\"carpet\":[{\"aaxis\":{\"linecolor\":\"rgba(255, 255, 255, 1.0)\",\"gridcolor\":\"rgba(255, 255, 255, 1.0)\",\"endlinecolor\":\"rgba(42, 63, 95, 1.0)\",\"minorgridcolor\":\"rgba(255, 255, 255, 1.0)\",\"startlinecolor\":\"rgba(42, 63, 95, 1.0)\"},\"baxis\":{\"linecolor\":\"rgba(255, 255, 255, 1.0)\",\"gridcolor\":\"rgba(255, 255, 255, 1.0)\",\"endlinecolor\":\"rgba(42, 63, 95, 1.0)\",\"minorgridcolor\":\"rgba(255, 255, 255, 1.0)\",\"startlinecolor\":\"rgba(42, 63, 95, 1.0)\"}}],\"choropleth\":[{\"colorbar\":{\"outlinewidth\":0.0,\"ticks\":\"\"},\"colorscale\":[[0.0,\"#0d0887\"],[0.1111111111111111,\"#46039f\"],[0.2222222222222222,\"#7201a8\"],[0.3333333333333333,\"#9c179e\"],[0.4444444444444444,\"#bd3786\"],[0.5555555555555556,\"#d8576b\"],[0.6666666666666666,\"#ed7953\"],[0.7777777777777778,\"#fb9f3a\"],[0.8888888888888888,\"#fdca26\"],[1.0,\"#f0f921\"]]}],\"contour\":[{\"colorbar\":{\"outlinewidth\":0.0,\"ticks\":\"\"},\"colorscale\":[[0.0,\"#0d0887\"],[0.1111111111111111,\"#46039f\"],[0.2222222222222222,\"#7201a8\"],[0.3333333333333333,\"#9c179e\"],[0.4444444444444444,\"#bd3786\"],[0.5555555555555556,\"#d8576b\"],[0.6666666666666666,\"#ed7953\"],[0.7777777777777778,\"#fb9f3a\"],[0.8888888888888888,\"#fdca26\"],[1.0,\"#f0f921\"]]}],\"contourcarpet\":[{\"colorbar\":{\"outlinewidth\":0.0,\"ticks\":\"\"}}],\"heatmap\":[{\"colorbar\":{\"outlinewidth\":0.0,\"ticks\":\"\"},\"colorscale\":[[0.0,\"#0d0887\"],[0.1111111111111111,\"#46039f\"],[0.2222222222222222,\"#7201a8\"],[0.3333333333333333,\"#9c179e\"],[0.4444444444444444,\"#bd3786\"],[0.5555555555555556,\"#d8576b\"],[0.6666666666666666,\"#ed7953\"],[0.7777777777777778,\"#fb9f3a\"],[0.8888888888888888,\"#fdca26\"],[1.0,\"#f0f921\"]]}],\"heatmapgl\":[{\"colorbar\":{\"outlinewidth\":0.0,\"ticks\":\"\"},\"colorscale\":[[0.0,\"#0d0887\"],[0.1111111111111111,\"#46039f\"],[0.2222222222222222,\"#7201a8\"],[0.3333333333333333,\"#9c179e\"],[0.4444444444444444,\"#bd3786\"],[0.5555555555555556,\"#d8576b\"],[0.6666666666666666,\"#ed7953\"],[0.7777777777777778,\"#fb9f3a\"],[0.8888888888888888,\"#fdca26\"],[1.0,\"#f0f921\"]]}],\"histogram\":[{\"marker\":{\"pattern\":{\"fillmode\":\"overlay\",\"size\":10,\"solidity\":0.2}}}],\"histogram2d\":[{\"colorbar\":{\"outlinewidth\":0.0,\"ticks\":\"\"},\"colorscale\":[[0.0,\"#0d0887\"],[0.1111111111111111,\"#46039f\"],[0.2222222222222222,\"#7201a8\"],[0.3333333333333333,\"#9c179e\"],[0.4444444444444444,\"#bd3786\"],[0.5555555555555556,\"#d8576b\"],[0.6666666666666666,\"#ed7953\"],[0.7777777777777778,\"#fb9f3a\"],[0.8888888888888888,\"#fdca26\"],[1.0,\"#f0f921\"]]}],\"histogram2dcontour\":[{\"colorbar\":{\"outlinewidth\":0.0,\"ticks\":\"\"},\"colorscale\":[[0.0,\"#0d0887\"],[0.1111111111111111,\"#46039f\"],[0.2222222222222222,\"#7201a8\"],[0.3333333333333333,\"#9c179e\"],[0.4444444444444444,\"#bd3786\"],[0.5555555555555556,\"#d8576b\"],[0.6666666666666666,\"#ed7953\"],[0.7777777777777778,\"#fb9f3a\"],[0.8888888888888888,\"#fdca26\"],[1.0,\"#f0f921\"]]}],\"mesh3d\":[{\"colorbar\":{\"outlinewidth\":0.0,\"ticks\":\"\"}}],\"parcoords\":[{\"line\":{\"colorbar\":{\"outlinewidth\":0.0,\"ticks\":\"\"}}}],\"pie\":[{\"automargin\":true}],\"scatter\":[{\"marker\":{\"colorbar\":{\"outlinewidth\":0.0,\"ticks\":\"\"}}}],\"scatter3d\":[{\"marker\":{\"colorbar\":{\"outlinewidth\":0.0,\"ticks\":\"\"}},\"line\":{\"colorbar\":{\"outlinewidth\":0.0,\"ticks\":\"\"}}}],\"scattercarpet\":[{\"marker\":{\"colorbar\":{\"outlinewidth\":0.0,\"ticks\":\"\"}}}],\"scattergeo\":[{\"marker\":{\"colorbar\":{\"outlinewidth\":0.0,\"ticks\":\"\"}}}],\"scattergl\":[{\"marker\":{\"colorbar\":{\"outlinewidth\":0.0,\"ticks\":\"\"}}}],\"scattermapbox\":[{\"marker\":{\"colorbar\":{\"outlinewidth\":0.0,\"ticks\":\"\"}}}],\"scatterpolar\":[{\"marker\":{\"colorbar\":{\"outlinewidth\":0.0,\"ticks\":\"\"}}}],\"scatterpolargl\":[{\"marker\":{\"colorbar\":{\"outlinewidth\":0.0,\"ticks\":\"\"}}}],\"scatterternary\":[{\"marker\":{\"colorbar\":{\"outlinewidth\":0.0,\"ticks\":\"\"}}}],\"surface\":[{\"colorbar\":{\"outlinewidth\":0.0,\"ticks\":\"\"},\"colorscale\":[[0.0,\"#0d0887\"],[0.1111111111111111,\"#46039f\"],[0.2222222222222222,\"#7201a8\"],[0.3333333333333333,\"#9c179e\"],[0.4444444444444444,\"#bd3786\"],[0.5555555555555556,\"#d8576b\"],[0.6666666666666666,\"#ed7953\"],[0.7777777777777778,\"#fb9f3a\"],[0.8888888888888888,\"#fdca26\"],[1.0,\"#f0f921\"]]}],\"table\":[{\"cells\":{\"fill\":{\"color\":\"rgba(235, 240, 248, 1.0)\"},\"line\":{\"color\":\"rgba(255, 255, 255, 1.0)\"}},\"header\":{\"fill\":{\"color\":\"rgba(200, 212, 227, 1.0)\"},\"line\":{\"color\":\"rgba(255, 255, 255, 1.0)\"}}}]}}};\r\n",
       "            var config = {\"responsive\":true};\r\n",
       "            Plotly.newPlot('62e17a99-1cb7-4643-a330-79fd055eda35', data, layout, config);\r\n",
       "});\r\n",
       "            };\r\n",
       "            if ((typeof(requirejs) !==  typeof(Function)) || (typeof(requirejs.config) !== typeof(Function))) {\r\n",
       "                var script = document.createElement(\"script\");\r\n",
       "                script.setAttribute(\"src\", \"https://cdnjs.cloudflare.com/ajax/libs/require.js/2.3.6/require.min.js\");\r\n",
       "                script.onload = function(){\r\n",
       "                    renderPlotly_62e17a991cb74643a33079fd055eda35();\r\n",
       "                };\r\n",
       "                document.getElementsByTagName(\"head\")[0].appendChild(script);\r\n",
       "            }\r\n",
       "            else {\r\n",
       "                renderPlotly_62e17a991cb74643a33079fd055eda35();\r\n",
       "            }\r\n",
       "</script>\r\n"
      ]
     },
     "metadata": {},
     "output_type": "display_data"
    }
   ],
   "source": [
    "let private subtrahend = { Cuboid.T.X = -1,2; Cuboid.T.Y = 3,6; Cuboid.T.Z = 3,6 }\n",
    "let private minuend = { Cuboid.T.X = 0,5; Cuboid.T.Y = 0,5; Cuboid.T.Z = 0,5 }\n",
    "[subtrahend; minuend] |> display\n",
    "Cuboid.subtract subtrahend minuend"
   ]
  },
  {
   "cell_type": "code",
   "execution_count": null,
   "metadata": {
    "dotnet_interactive": {
     "language": "fsharp"
    }
   },
   "outputs": [
    {
     "data": {
      "text/html": [
       "<div id=\"6ca59d3d-4817-4d39-9c7b-0fb9aab12b6d\"><!-- Plotly chart will be drawn inside this DIV --></div>\r\n",
       "<script type=\"text/javascript\">\r\n",
       "\r\n",
       "            var renderPlotly_6ca59d3d48174d399c7b0fb9aab12b6d = function() {\r\n",
       "            var fsharpPlotlyRequire = requirejs.config({context:'fsharp-plotly',paths:{plotly:'https://cdn.plot.ly/plotly-2.6.3.min'}}) || require;\r\n",
       "            fsharpPlotlyRequire(['plotly'], function(Plotly) {\r\n",
       "\r\n",
       "            var data = [{\"type\":\"mesh3d\",\"opacity\":0.5,\"x\":[-1,8,-1,8,-1,8,-1,8],\"y\":[-1,-1,1,1,-1,-1,1,1],\"z\":[4,4,4,4,7,7,7,7],\"i\":[0,0,0,0,0,0,3,3,4,4,7,7],\"j\":[3,3,6,6,5,5,6,6,7,7,1,1],\"k\":[1,2,2,4,4,1,2,7,6,5,3,5],\"flatshading\":true},{\"type\":\"mesh3d\",\"opacity\":0.5,\"x\":[0,6,0,6,0,6,0,6],\"y\":[0,0,6,6,0,0,6,6],\"z\":[0,0,0,0,6,6,6,6],\"i\":[0,0,0,0,0,0,3,3,4,4,7,7],\"j\":[3,3,6,6,5,5,6,6,7,7,1,1],\"k\":[1,2,2,4,4,1,2,7,6,5,3,5],\"flatshading\":true}];\r\n",
       "            var layout = {\"width\":600,\"height\":600,\"template\":{\"layout\":{\"title\":{\"x\":0.05},\"font\":{\"color\":\"rgba(42, 63, 95, 1.0)\"},\"paper_bgcolor\":\"rgba(255, 255, 255, 1.0)\",\"plot_bgcolor\":\"rgba(229, 236, 246, 1.0)\",\"autotypenumbers\":\"strict\",\"colorscale\":{\"diverging\":[[0.0,\"#8e0152\"],[0.1,\"#c51b7d\"],[0.2,\"#de77ae\"],[0.3,\"#f1b6da\"],[0.4,\"#fde0ef\"],[0.5,\"#f7f7f7\"],[0.6,\"#e6f5d0\"],[0.7,\"#b8e186\"],[0.8,\"#7fbc41\"],[0.9,\"#4d9221\"],[1.0,\"#276419\"]],\"sequential\":[[0.0,\"#0d0887\"],[0.1111111111111111,\"#46039f\"],[0.2222222222222222,\"#7201a8\"],[0.3333333333333333,\"#9c179e\"],[0.4444444444444444,\"#bd3786\"],[0.5555555555555556,\"#d8576b\"],[0.6666666666666666,\"#ed7953\"],[0.7777777777777778,\"#fb9f3a\"],[0.8888888888888888,\"#fdca26\"],[1.0,\"#f0f921\"]],\"sequentialminus\":[[0.0,\"#0d0887\"],[0.1111111111111111,\"#46039f\"],[0.2222222222222222,\"#7201a8\"],[0.3333333333333333,\"#9c179e\"],[0.4444444444444444,\"#bd3786\"],[0.5555555555555556,\"#d8576b\"],[0.6666666666666666,\"#ed7953\"],[0.7777777777777778,\"#fb9f3a\"],[0.8888888888888888,\"#fdca26\"],[1.0,\"#f0f921\"]]},\"hovermode\":\"closest\",\"hoverlabel\":{\"align\":\"left\"},\"coloraxis\":{\"colorbar\":{\"outlinewidth\":0.0,\"ticks\":\"\"}},\"geo\":{\"showland\":true,\"landcolor\":\"rgba(229, 236, 246, 1.0)\",\"showlakes\":true,\"lakecolor\":\"rgba(255, 255, 255, 1.0)\",\"subunitcolor\":\"rgba(255, 255, 255, 1.0)\",\"bgcolor\":\"rgba(255, 255, 255, 1.0)\"},\"mapbox\":{\"style\":\"light\"},\"polar\":{\"bgcolor\":\"rgba(229, 236, 246, 1.0)\",\"radialaxis\":{\"linecolor\":\"rgba(255, 255, 255, 1.0)\",\"gridcolor\":\"rgba(255, 255, 255, 1.0)\",\"ticks\":\"\"},\"angularaxis\":{\"linecolor\":\"rgba(255, 255, 255, 1.0)\",\"gridcolor\":\"rgba(255, 255, 255, 1.0)\",\"ticks\":\"\"}},\"scene\":{\"xaxis\":{\"ticks\":\"\",\"linecolor\":\"rgba(255, 255, 255, 1.0)\",\"gridcolor\":\"rgba(255, 255, 255, 1.0)\",\"gridwidth\":2.0,\"zerolinecolor\":\"rgba(255, 255, 255, 1.0)\",\"backgroundcolor\":\"rgba(229, 236, 246, 1.0)\",\"showbackground\":true},\"yaxis\":{\"ticks\":\"\",\"linecolor\":\"rgba(255, 255, 255, 1.0)\",\"gridcolor\":\"rgba(255, 255, 255, 1.0)\",\"gridwidth\":2.0,\"zerolinecolor\":\"rgba(255, 255, 255, 1.0)\",\"backgroundcolor\":\"rgba(229, 236, 246, 1.0)\",\"showbackground\":true},\"zaxis\":{\"ticks\":\"\",\"linecolor\":\"rgba(255, 255, 255, 1.0)\",\"gridcolor\":\"rgba(255, 255, 255, 1.0)\",\"gridwidth\":2.0,\"zerolinecolor\":\"rgba(255, 255, 255, 1.0)\",\"backgroundcolor\":\"rgba(229, 236, 246, 1.0)\",\"showbackground\":true}},\"ternary\":{\"aaxis\":{\"ticks\":\"\",\"linecolor\":\"rgba(255, 255, 255, 1.0)\",\"gridcolor\":\"rgba(255, 255, 255, 1.0)\"},\"baxis\":{\"ticks\":\"\",\"linecolor\":\"rgba(255, 255, 255, 1.0)\",\"gridcolor\":\"rgba(255, 255, 255, 1.0)\"},\"caxis\":{\"ticks\":\"\",\"linecolor\":\"rgba(255, 255, 255, 1.0)\",\"gridcolor\":\"rgba(255, 255, 255, 1.0)\"},\"bgcolor\":\"rgba(229, 236, 246, 1.0)\"},\"xaxis\":{\"title\":{\"standoff\":15},\"ticks\":\"\",\"automargin\":true,\"linecolor\":\"rgba(255, 255, 255, 1.0)\",\"gridcolor\":\"rgba(255, 255, 255, 1.0)\",\"zerolinecolor\":\"rgba(255, 255, 255, 1.0)\",\"zerolinewidth\":2.0},\"yaxis\":{\"title\":{\"standoff\":15},\"ticks\":\"\",\"automargin\":true,\"linecolor\":\"rgba(255, 255, 255, 1.0)\",\"gridcolor\":\"rgba(255, 255, 255, 1.0)\",\"zerolinecolor\":\"rgba(255, 255, 255, 1.0)\",\"zerolinewidth\":2.0},\"annotationdefaults\":{\"arrowcolor\":\"#2a3f5f\",\"arrowhead\":0,\"arrowwidth\":1},\"shapedefaults\":{\"line\":{\"color\":\"rgba(42, 63, 95, 1.0)\"}},\"colorway\":[\"rgba(99, 110, 250, 1.0)\",\"rgba(239, 85, 59, 1.0)\",\"rgba(0, 204, 150, 1.0)\",\"rgba(171, 99, 250, 1.0)\",\"rgba(255, 161, 90, 1.0)\",\"rgba(25, 211, 243, 1.0)\",\"rgba(255, 102, 146, 1.0)\",\"rgba(182, 232, 128, 1.0)\",\"rgba(255, 151, 255, 1.0)\",\"rgba(254, 203, 82, 1.0)\"]},\"data\":{\"bar\":[{\"marker\":{\"line\":{\"color\":\"rgba(229, 236, 246, 1.0)\",\"width\":0.5},\"pattern\":{\"fillmode\":\"overlay\",\"size\":10,\"solidity\":0.2}},\"errorx\":{\"color\":\"rgba(42, 63, 95, 1.0)\"},\"errory\":{\"color\":\"rgba(42, 63, 95, 1.0)\"}}],\"barpolar\":[{\"marker\":{\"line\":{\"color\":\"rgba(229, 236, 246, 1.0)\",\"width\":0.5},\"pattern\":{\"fillmode\":\"overlay\",\"size\":10,\"solidity\":0.2}}}],\"carpet\":[{\"aaxis\":{\"linecolor\":\"rgba(255, 255, 255, 1.0)\",\"gridcolor\":\"rgba(255, 255, 255, 1.0)\",\"endlinecolor\":\"rgba(42, 63, 95, 1.0)\",\"minorgridcolor\":\"rgba(255, 255, 255, 1.0)\",\"startlinecolor\":\"rgba(42, 63, 95, 1.0)\"},\"baxis\":{\"linecolor\":\"rgba(255, 255, 255, 1.0)\",\"gridcolor\":\"rgba(255, 255, 255, 1.0)\",\"endlinecolor\":\"rgba(42, 63, 95, 1.0)\",\"minorgridcolor\":\"rgba(255, 255, 255, 1.0)\",\"startlinecolor\":\"rgba(42, 63, 95, 1.0)\"}}],\"choropleth\":[{\"colorbar\":{\"outlinewidth\":0.0,\"ticks\":\"\"},\"colorscale\":[[0.0,\"#0d0887\"],[0.1111111111111111,\"#46039f\"],[0.2222222222222222,\"#7201a8\"],[0.3333333333333333,\"#9c179e\"],[0.4444444444444444,\"#bd3786\"],[0.5555555555555556,\"#d8576b\"],[0.6666666666666666,\"#ed7953\"],[0.7777777777777778,\"#fb9f3a\"],[0.8888888888888888,\"#fdca26\"],[1.0,\"#f0f921\"]]}],\"contour\":[{\"colorbar\":{\"outlinewidth\":0.0,\"ticks\":\"\"},\"colorscale\":[[0.0,\"#0d0887\"],[0.1111111111111111,\"#46039f\"],[0.2222222222222222,\"#7201a8\"],[0.3333333333333333,\"#9c179e\"],[0.4444444444444444,\"#bd3786\"],[0.5555555555555556,\"#d8576b\"],[0.6666666666666666,\"#ed7953\"],[0.7777777777777778,\"#fb9f3a\"],[0.8888888888888888,\"#fdca26\"],[1.0,\"#f0f921\"]]}],\"contourcarpet\":[{\"colorbar\":{\"outlinewidth\":0.0,\"ticks\":\"\"}}],\"heatmap\":[{\"colorbar\":{\"outlinewidth\":0.0,\"ticks\":\"\"},\"colorscale\":[[0.0,\"#0d0887\"],[0.1111111111111111,\"#46039f\"],[0.2222222222222222,\"#7201a8\"],[0.3333333333333333,\"#9c179e\"],[0.4444444444444444,\"#bd3786\"],[0.5555555555555556,\"#d8576b\"],[0.6666666666666666,\"#ed7953\"],[0.7777777777777778,\"#fb9f3a\"],[0.8888888888888888,\"#fdca26\"],[1.0,\"#f0f921\"]]}],\"heatmapgl\":[{\"colorbar\":{\"outlinewidth\":0.0,\"ticks\":\"\"},\"colorscale\":[[0.0,\"#0d0887\"],[0.1111111111111111,\"#46039f\"],[0.2222222222222222,\"#7201a8\"],[0.3333333333333333,\"#9c179e\"],[0.4444444444444444,\"#bd3786\"],[0.5555555555555556,\"#d8576b\"],[0.6666666666666666,\"#ed7953\"],[0.7777777777777778,\"#fb9f3a\"],[0.8888888888888888,\"#fdca26\"],[1.0,\"#f0f921\"]]}],\"histogram\":[{\"marker\":{\"pattern\":{\"fillmode\":\"overlay\",\"size\":10,\"solidity\":0.2}}}],\"histogram2d\":[{\"colorbar\":{\"outlinewidth\":0.0,\"ticks\":\"\"},\"colorscale\":[[0.0,\"#0d0887\"],[0.1111111111111111,\"#46039f\"],[0.2222222222222222,\"#7201a8\"],[0.3333333333333333,\"#9c179e\"],[0.4444444444444444,\"#bd3786\"],[0.5555555555555556,\"#d8576b\"],[0.6666666666666666,\"#ed7953\"],[0.7777777777777778,\"#fb9f3a\"],[0.8888888888888888,\"#fdca26\"],[1.0,\"#f0f921\"]]}],\"histogram2dcontour\":[{\"colorbar\":{\"outlinewidth\":0.0,\"ticks\":\"\"},\"colorscale\":[[0.0,\"#0d0887\"],[0.1111111111111111,\"#46039f\"],[0.2222222222222222,\"#7201a8\"],[0.3333333333333333,\"#9c179e\"],[0.4444444444444444,\"#bd3786\"],[0.5555555555555556,\"#d8576b\"],[0.6666666666666666,\"#ed7953\"],[0.7777777777777778,\"#fb9f3a\"],[0.8888888888888888,\"#fdca26\"],[1.0,\"#f0f921\"]]}],\"mesh3d\":[{\"colorbar\":{\"outlinewidth\":0.0,\"ticks\":\"\"}}],\"parcoords\":[{\"line\":{\"colorbar\":{\"outlinewidth\":0.0,\"ticks\":\"\"}}}],\"pie\":[{\"automargin\":true}],\"scatter\":[{\"marker\":{\"colorbar\":{\"outlinewidth\":0.0,\"ticks\":\"\"}}}],\"scatter3d\":[{\"marker\":{\"colorbar\":{\"outlinewidth\":0.0,\"ticks\":\"\"}},\"line\":{\"colorbar\":{\"outlinewidth\":0.0,\"ticks\":\"\"}}}],\"scattercarpet\":[{\"marker\":{\"colorbar\":{\"outlinewidth\":0.0,\"ticks\":\"\"}}}],\"scattergeo\":[{\"marker\":{\"colorbar\":{\"outlinewidth\":0.0,\"ticks\":\"\"}}}],\"scattergl\":[{\"marker\":{\"colorbar\":{\"outlinewidth\":0.0,\"ticks\":\"\"}}}],\"scattermapbox\":[{\"marker\":{\"colorbar\":{\"outlinewidth\":0.0,\"ticks\":\"\"}}}],\"scatterpolar\":[{\"marker\":{\"colorbar\":{\"outlinewidth\":0.0,\"ticks\":\"\"}}}],\"scatterpolargl\":[{\"marker\":{\"colorbar\":{\"outlinewidth\":0.0,\"ticks\":\"\"}}}],\"scatterternary\":[{\"marker\":{\"colorbar\":{\"outlinewidth\":0.0,\"ticks\":\"\"}}}],\"surface\":[{\"colorbar\":{\"outlinewidth\":0.0,\"ticks\":\"\"},\"colorscale\":[[0.0,\"#0d0887\"],[0.1111111111111111,\"#46039f\"],[0.2222222222222222,\"#7201a8\"],[0.3333333333333333,\"#9c179e\"],[0.4444444444444444,\"#bd3786\"],[0.5555555555555556,\"#d8576b\"],[0.6666666666666666,\"#ed7953\"],[0.7777777777777778,\"#fb9f3a\"],[0.8888888888888888,\"#fdca26\"],[1.0,\"#f0f921\"]]}],\"table\":[{\"cells\":{\"fill\":{\"color\":\"rgba(235, 240, 248, 1.0)\"},\"line\":{\"color\":\"rgba(255, 255, 255, 1.0)\"}},\"header\":{\"fill\":{\"color\":\"rgba(200, 212, 227, 1.0)\"},\"line\":{\"color\":\"rgba(255, 255, 255, 1.0)\"}}}]}}};\r\n",
       "            var config = {\"responsive\":true};\r\n",
       "            Plotly.newPlot('6ca59d3d-4817-4d39-9c7b-0fb9aab12b6d', data, layout, config);\r\n",
       "});\r\n",
       "            };\r\n",
       "            if ((typeof(requirejs) !==  typeof(Function)) || (typeof(requirejs.config) !== typeof(Function))) {\r\n",
       "                var script = document.createElement(\"script\");\r\n",
       "                script.setAttribute(\"src\", \"https://cdnjs.cloudflare.com/ajax/libs/require.js/2.3.6/require.min.js\");\r\n",
       "                script.onload = function(){\r\n",
       "                    renderPlotly_6ca59d3d48174d399c7b0fb9aab12b6d();\r\n",
       "                };\r\n",
       "                document.getElementsByTagName(\"head\")[0].appendChild(script);\r\n",
       "            }\r\n",
       "            else {\r\n",
       "                renderPlotly_6ca59d3d48174d399c7b0fb9aab12b6d();\r\n",
       "            }\r\n",
       "</script>\r\n"
      ]
     },
     "metadata": {},
     "output_type": "display_data"
    },
    {
     "data": {
      "text/html": [
       "<div id=\"9fcd83e1-48c8-4f22-be05-ec448b3a70be\"><!-- Plotly chart will be drawn inside this DIV --></div>\r\n",
       "<script type=\"text/javascript\">\r\n",
       "\r\n",
       "            var renderPlotly_9fcd83e148c84f22be05ec448b3a70be = function() {\r\n",
       "            var fsharpPlotlyRequire = requirejs.config({context:'fsharp-plotly',paths:{plotly:'https://cdn.plot.ly/plotly-2.6.3.min'}}) || require;\r\n",
       "            fsharpPlotlyRequire(['plotly'], function(Plotly) {\r\n",
       "\r\n",
       "            var data = [{\"type\":\"mesh3d\",\"opacity\":0.5,\"x\":[0,6,0,6,0,6,0,6],\"y\":[1,1,6,6,1,1,6,6],\"z\":[0,0,0,0,6,6,6,6],\"i\":[0,0,0,0,0,0,3,3,4,4,7,7],\"j\":[3,3,6,6,5,5,6,6,7,7,1,1],\"k\":[1,2,2,4,4,1,2,7,6,5,3,5],\"flatshading\":true},{\"type\":\"mesh3d\",\"opacity\":0.5,\"x\":[0,6,0,6,0,6,0,6],\"y\":[0,0,1,1,0,0,1,1],\"z\":[0,0,0,0,4,4,4,4],\"i\":[0,0,0,0,0,0,3,3,4,4,7,7],\"j\":[3,3,6,6,5,5,6,6,7,7,1,1],\"k\":[1,2,2,4,4,1,2,7,6,5,3,5],\"flatshading\":true}];\r\n",
       "            var layout = {\"width\":600,\"height\":600,\"template\":{\"layout\":{\"title\":{\"x\":0.05},\"font\":{\"color\":\"rgba(42, 63, 95, 1.0)\"},\"paper_bgcolor\":\"rgba(255, 255, 255, 1.0)\",\"plot_bgcolor\":\"rgba(229, 236, 246, 1.0)\",\"autotypenumbers\":\"strict\",\"colorscale\":{\"diverging\":[[0.0,\"#8e0152\"],[0.1,\"#c51b7d\"],[0.2,\"#de77ae\"],[0.3,\"#f1b6da\"],[0.4,\"#fde0ef\"],[0.5,\"#f7f7f7\"],[0.6,\"#e6f5d0\"],[0.7,\"#b8e186\"],[0.8,\"#7fbc41\"],[0.9,\"#4d9221\"],[1.0,\"#276419\"]],\"sequential\":[[0.0,\"#0d0887\"],[0.1111111111111111,\"#46039f\"],[0.2222222222222222,\"#7201a8\"],[0.3333333333333333,\"#9c179e\"],[0.4444444444444444,\"#bd3786\"],[0.5555555555555556,\"#d8576b\"],[0.6666666666666666,\"#ed7953\"],[0.7777777777777778,\"#fb9f3a\"],[0.8888888888888888,\"#fdca26\"],[1.0,\"#f0f921\"]],\"sequentialminus\":[[0.0,\"#0d0887\"],[0.1111111111111111,\"#46039f\"],[0.2222222222222222,\"#7201a8\"],[0.3333333333333333,\"#9c179e\"],[0.4444444444444444,\"#bd3786\"],[0.5555555555555556,\"#d8576b\"],[0.6666666666666666,\"#ed7953\"],[0.7777777777777778,\"#fb9f3a\"],[0.8888888888888888,\"#fdca26\"],[1.0,\"#f0f921\"]]},\"hovermode\":\"closest\",\"hoverlabel\":{\"align\":\"left\"},\"coloraxis\":{\"colorbar\":{\"outlinewidth\":0.0,\"ticks\":\"\"}},\"geo\":{\"showland\":true,\"landcolor\":\"rgba(229, 236, 246, 1.0)\",\"showlakes\":true,\"lakecolor\":\"rgba(255, 255, 255, 1.0)\",\"subunitcolor\":\"rgba(255, 255, 255, 1.0)\",\"bgcolor\":\"rgba(255, 255, 255, 1.0)\"},\"mapbox\":{\"style\":\"light\"},\"polar\":{\"bgcolor\":\"rgba(229, 236, 246, 1.0)\",\"radialaxis\":{\"linecolor\":\"rgba(255, 255, 255, 1.0)\",\"gridcolor\":\"rgba(255, 255, 255, 1.0)\",\"ticks\":\"\"},\"angularaxis\":{\"linecolor\":\"rgba(255, 255, 255, 1.0)\",\"gridcolor\":\"rgba(255, 255, 255, 1.0)\",\"ticks\":\"\"}},\"scene\":{\"xaxis\":{\"ticks\":\"\",\"linecolor\":\"rgba(255, 255, 255, 1.0)\",\"gridcolor\":\"rgba(255, 255, 255, 1.0)\",\"gridwidth\":2.0,\"zerolinecolor\":\"rgba(255, 255, 255, 1.0)\",\"backgroundcolor\":\"rgba(229, 236, 246, 1.0)\",\"showbackground\":true},\"yaxis\":{\"ticks\":\"\",\"linecolor\":\"rgba(255, 255, 255, 1.0)\",\"gridcolor\":\"rgba(255, 255, 255, 1.0)\",\"gridwidth\":2.0,\"zerolinecolor\":\"rgba(255, 255, 255, 1.0)\",\"backgroundcolor\":\"rgba(229, 236, 246, 1.0)\",\"showbackground\":true},\"zaxis\":{\"ticks\":\"\",\"linecolor\":\"rgba(255, 255, 255, 1.0)\",\"gridcolor\":\"rgba(255, 255, 255, 1.0)\",\"gridwidth\":2.0,\"zerolinecolor\":\"rgba(255, 255, 255, 1.0)\",\"backgroundcolor\":\"rgba(229, 236, 246, 1.0)\",\"showbackground\":true}},\"ternary\":{\"aaxis\":{\"ticks\":\"\",\"linecolor\":\"rgba(255, 255, 255, 1.0)\",\"gridcolor\":\"rgba(255, 255, 255, 1.0)\"},\"baxis\":{\"ticks\":\"\",\"linecolor\":\"rgba(255, 255, 255, 1.0)\",\"gridcolor\":\"rgba(255, 255, 255, 1.0)\"},\"caxis\":{\"ticks\":\"\",\"linecolor\":\"rgba(255, 255, 255, 1.0)\",\"gridcolor\":\"rgba(255, 255, 255, 1.0)\"},\"bgcolor\":\"rgba(229, 236, 246, 1.0)\"},\"xaxis\":{\"title\":{\"standoff\":15},\"ticks\":\"\",\"automargin\":true,\"linecolor\":\"rgba(255, 255, 255, 1.0)\",\"gridcolor\":\"rgba(255, 255, 255, 1.0)\",\"zerolinecolor\":\"rgba(255, 255, 255, 1.0)\",\"zerolinewidth\":2.0},\"yaxis\":{\"title\":{\"standoff\":15},\"ticks\":\"\",\"automargin\":true,\"linecolor\":\"rgba(255, 255, 255, 1.0)\",\"gridcolor\":\"rgba(255, 255, 255, 1.0)\",\"zerolinecolor\":\"rgba(255, 255, 255, 1.0)\",\"zerolinewidth\":2.0},\"annotationdefaults\":{\"arrowcolor\":\"#2a3f5f\",\"arrowhead\":0,\"arrowwidth\":1},\"shapedefaults\":{\"line\":{\"color\":\"rgba(42, 63, 95, 1.0)\"}},\"colorway\":[\"rgba(99, 110, 250, 1.0)\",\"rgba(239, 85, 59, 1.0)\",\"rgba(0, 204, 150, 1.0)\",\"rgba(171, 99, 250, 1.0)\",\"rgba(255, 161, 90, 1.0)\",\"rgba(25, 211, 243, 1.0)\",\"rgba(255, 102, 146, 1.0)\",\"rgba(182, 232, 128, 1.0)\",\"rgba(255, 151, 255, 1.0)\",\"rgba(254, 203, 82, 1.0)\"]},\"data\":{\"bar\":[{\"marker\":{\"line\":{\"color\":\"rgba(229, 236, 246, 1.0)\",\"width\":0.5},\"pattern\":{\"fillmode\":\"overlay\",\"size\":10,\"solidity\":0.2}},\"errorx\":{\"color\":\"rgba(42, 63, 95, 1.0)\"},\"errory\":{\"color\":\"rgba(42, 63, 95, 1.0)\"}}],\"barpolar\":[{\"marker\":{\"line\":{\"color\":\"rgba(229, 236, 246, 1.0)\",\"width\":0.5},\"pattern\":{\"fillmode\":\"overlay\",\"size\":10,\"solidity\":0.2}}}],\"carpet\":[{\"aaxis\":{\"linecolor\":\"rgba(255, 255, 255, 1.0)\",\"gridcolor\":\"rgba(255, 255, 255, 1.0)\",\"endlinecolor\":\"rgba(42, 63, 95, 1.0)\",\"minorgridcolor\":\"rgba(255, 255, 255, 1.0)\",\"startlinecolor\":\"rgba(42, 63, 95, 1.0)\"},\"baxis\":{\"linecolor\":\"rgba(255, 255, 255, 1.0)\",\"gridcolor\":\"rgba(255, 255, 255, 1.0)\",\"endlinecolor\":\"rgba(42, 63, 95, 1.0)\",\"minorgridcolor\":\"rgba(255, 255, 255, 1.0)\",\"startlinecolor\":\"rgba(42, 63, 95, 1.0)\"}}],\"choropleth\":[{\"colorbar\":{\"outlinewidth\":0.0,\"ticks\":\"\"},\"colorscale\":[[0.0,\"#0d0887\"],[0.1111111111111111,\"#46039f\"],[0.2222222222222222,\"#7201a8\"],[0.3333333333333333,\"#9c179e\"],[0.4444444444444444,\"#bd3786\"],[0.5555555555555556,\"#d8576b\"],[0.6666666666666666,\"#ed7953\"],[0.7777777777777778,\"#fb9f3a\"],[0.8888888888888888,\"#fdca26\"],[1.0,\"#f0f921\"]]}],\"contour\":[{\"colorbar\":{\"outlinewidth\":0.0,\"ticks\":\"\"},\"colorscale\":[[0.0,\"#0d0887\"],[0.1111111111111111,\"#46039f\"],[0.2222222222222222,\"#7201a8\"],[0.3333333333333333,\"#9c179e\"],[0.4444444444444444,\"#bd3786\"],[0.5555555555555556,\"#d8576b\"],[0.6666666666666666,\"#ed7953\"],[0.7777777777777778,\"#fb9f3a\"],[0.8888888888888888,\"#fdca26\"],[1.0,\"#f0f921\"]]}],\"contourcarpet\":[{\"colorbar\":{\"outlinewidth\":0.0,\"ticks\":\"\"}}],\"heatmap\":[{\"colorbar\":{\"outlinewidth\":0.0,\"ticks\":\"\"},\"colorscale\":[[0.0,\"#0d0887\"],[0.1111111111111111,\"#46039f\"],[0.2222222222222222,\"#7201a8\"],[0.3333333333333333,\"#9c179e\"],[0.4444444444444444,\"#bd3786\"],[0.5555555555555556,\"#d8576b\"],[0.6666666666666666,\"#ed7953\"],[0.7777777777777778,\"#fb9f3a\"],[0.8888888888888888,\"#fdca26\"],[1.0,\"#f0f921\"]]}],\"heatmapgl\":[{\"colorbar\":{\"outlinewidth\":0.0,\"ticks\":\"\"},\"colorscale\":[[0.0,\"#0d0887\"],[0.1111111111111111,\"#46039f\"],[0.2222222222222222,\"#7201a8\"],[0.3333333333333333,\"#9c179e\"],[0.4444444444444444,\"#bd3786\"],[0.5555555555555556,\"#d8576b\"],[0.6666666666666666,\"#ed7953\"],[0.7777777777777778,\"#fb9f3a\"],[0.8888888888888888,\"#fdca26\"],[1.0,\"#f0f921\"]]}],\"histogram\":[{\"marker\":{\"pattern\":{\"fillmode\":\"overlay\",\"size\":10,\"solidity\":0.2}}}],\"histogram2d\":[{\"colorbar\":{\"outlinewidth\":0.0,\"ticks\":\"\"},\"colorscale\":[[0.0,\"#0d0887\"],[0.1111111111111111,\"#46039f\"],[0.2222222222222222,\"#7201a8\"],[0.3333333333333333,\"#9c179e\"],[0.4444444444444444,\"#bd3786\"],[0.5555555555555556,\"#d8576b\"],[0.6666666666666666,\"#ed7953\"],[0.7777777777777778,\"#fb9f3a\"],[0.8888888888888888,\"#fdca26\"],[1.0,\"#f0f921\"]]}],\"histogram2dcontour\":[{\"colorbar\":{\"outlinewidth\":0.0,\"ticks\":\"\"},\"colorscale\":[[0.0,\"#0d0887\"],[0.1111111111111111,\"#46039f\"],[0.2222222222222222,\"#7201a8\"],[0.3333333333333333,\"#9c179e\"],[0.4444444444444444,\"#bd3786\"],[0.5555555555555556,\"#d8576b\"],[0.6666666666666666,\"#ed7953\"],[0.7777777777777778,\"#fb9f3a\"],[0.8888888888888888,\"#fdca26\"],[1.0,\"#f0f921\"]]}],\"mesh3d\":[{\"colorbar\":{\"outlinewidth\":0.0,\"ticks\":\"\"}}],\"parcoords\":[{\"line\":{\"colorbar\":{\"outlinewidth\":0.0,\"ticks\":\"\"}}}],\"pie\":[{\"automargin\":true}],\"scatter\":[{\"marker\":{\"colorbar\":{\"outlinewidth\":0.0,\"ticks\":\"\"}}}],\"scatter3d\":[{\"marker\":{\"colorbar\":{\"outlinewidth\":0.0,\"ticks\":\"\"}},\"line\":{\"colorbar\":{\"outlinewidth\":0.0,\"ticks\":\"\"}}}],\"scattercarpet\":[{\"marker\":{\"colorbar\":{\"outlinewidth\":0.0,\"ticks\":\"\"}}}],\"scattergeo\":[{\"marker\":{\"colorbar\":{\"outlinewidth\":0.0,\"ticks\":\"\"}}}],\"scattergl\":[{\"marker\":{\"colorbar\":{\"outlinewidth\":0.0,\"ticks\":\"\"}}}],\"scattermapbox\":[{\"marker\":{\"colorbar\":{\"outlinewidth\":0.0,\"ticks\":\"\"}}}],\"scatterpolar\":[{\"marker\":{\"colorbar\":{\"outlinewidth\":0.0,\"ticks\":\"\"}}}],\"scatterpolargl\":[{\"marker\":{\"colorbar\":{\"outlinewidth\":0.0,\"ticks\":\"\"}}}],\"scatterternary\":[{\"marker\":{\"colorbar\":{\"outlinewidth\":0.0,\"ticks\":\"\"}}}],\"surface\":[{\"colorbar\":{\"outlinewidth\":0.0,\"ticks\":\"\"},\"colorscale\":[[0.0,\"#0d0887\"],[0.1111111111111111,\"#46039f\"],[0.2222222222222222,\"#7201a8\"],[0.3333333333333333,\"#9c179e\"],[0.4444444444444444,\"#bd3786\"],[0.5555555555555556,\"#d8576b\"],[0.6666666666666666,\"#ed7953\"],[0.7777777777777778,\"#fb9f3a\"],[0.8888888888888888,\"#fdca26\"],[1.0,\"#f0f921\"]]}],\"table\":[{\"cells\":{\"fill\":{\"color\":\"rgba(235, 240, 248, 1.0)\"},\"line\":{\"color\":\"rgba(255, 255, 255, 1.0)\"}},\"header\":{\"fill\":{\"color\":\"rgba(200, 212, 227, 1.0)\"},\"line\":{\"color\":\"rgba(255, 255, 255, 1.0)\"}}}]}}};\r\n",
       "            var config = {\"responsive\":true};\r\n",
       "            Plotly.newPlot('9fcd83e1-48c8-4f22-be05-ec448b3a70be', data, layout, config);\r\n",
       "});\r\n",
       "            };\r\n",
       "            if ((typeof(requirejs) !==  typeof(Function)) || (typeof(requirejs.config) !== typeof(Function))) {\r\n",
       "                var script = document.createElement(\"script\");\r\n",
       "                script.setAttribute(\"src\", \"https://cdnjs.cloudflare.com/ajax/libs/require.js/2.3.6/require.min.js\");\r\n",
       "                script.onload = function(){\r\n",
       "                    renderPlotly_9fcd83e148c84f22be05ec448b3a70be();\r\n",
       "                };\r\n",
       "                document.getElementsByTagName(\"head\")[0].appendChild(script);\r\n",
       "            }\r\n",
       "            else {\r\n",
       "                renderPlotly_9fcd83e148c84f22be05ec448b3a70be();\r\n",
       "            }\r\n",
       "</script>\r\n"
      ]
     },
     "metadata": {},
     "output_type": "display_data"
    }
   ],
   "source": [
    "let private subtrahend = { Cuboid.T.X = -1,7; Cuboid.T.Y = -1,0; Cuboid.T.Z = 4,6 }\n",
    "let private minuend = { Cuboid.T.X = 0,5; Cuboid.T.Y = 0,5; Cuboid.T.Z = 0,5 }\n",
    "[subtrahend; minuend] |> display\n",
    "Cuboid.subtract subtrahend minuend"
   ]
  },
  {
   "cell_type": "code",
   "execution_count": null,
   "metadata": {
    "dotnet_interactive": {
     "language": "fsharp"
    }
   },
   "outputs": [
    {
     "data": {
      "text/html": [
       "<div id=\"1aec043a-1379-4b16-b7b3-051a8216c0ae\"><!-- Plotly chart will be drawn inside this DIV --></div>\r\n",
       "<script type=\"text/javascript\">\r\n",
       "\r\n",
       "            var renderPlotly_1aec043a13794b16b7b3051a8216c0ae = function() {\r\n",
       "            var fsharpPlotlyRequire = requirejs.config({context:'fsharp-plotly',paths:{plotly:'https://cdn.plot.ly/plotly-2.6.3.min'}}) || require;\r\n",
       "            fsharpPlotlyRequire(['plotly'], function(Plotly) {\r\n",
       "\r\n",
       "            var data = [{\"type\":\"mesh3d\",\"opacity\":0.5,\"x\":[-1,8,-1,8,-1,8,-1,8],\"y\":[2,2,4,4,2,2,4,4],\"z\":[-1,-1,-1,-1,2,2,2,2],\"i\":[0,0,0,0,0,0,3,3,4,4,7,7],\"j\":[3,3,6,6,5,5,6,6,7,7,1,1],\"k\":[1,2,2,4,4,1,2,7,6,5,3,5],\"flatshading\":true},{\"type\":\"mesh3d\",\"opacity\":0.5,\"x\":[0,6,0,6,0,6,0,6],\"y\":[0,0,6,6,0,0,6,6],\"z\":[0,0,0,0,6,6,6,6],\"i\":[0,0,0,0,0,0,3,3,4,4,7,7],\"j\":[3,3,6,6,5,5,6,6,7,7,1,1],\"k\":[1,2,2,4,4,1,2,7,6,5,3,5],\"flatshading\":true}];\r\n",
       "            var layout = {\"width\":600,\"height\":600,\"template\":{\"layout\":{\"title\":{\"x\":0.05},\"font\":{\"color\":\"rgba(42, 63, 95, 1.0)\"},\"paper_bgcolor\":\"rgba(255, 255, 255, 1.0)\",\"plot_bgcolor\":\"rgba(229, 236, 246, 1.0)\",\"autotypenumbers\":\"strict\",\"colorscale\":{\"diverging\":[[0.0,\"#8e0152\"],[0.1,\"#c51b7d\"],[0.2,\"#de77ae\"],[0.3,\"#f1b6da\"],[0.4,\"#fde0ef\"],[0.5,\"#f7f7f7\"],[0.6,\"#e6f5d0\"],[0.7,\"#b8e186\"],[0.8,\"#7fbc41\"],[0.9,\"#4d9221\"],[1.0,\"#276419\"]],\"sequential\":[[0.0,\"#0d0887\"],[0.1111111111111111,\"#46039f\"],[0.2222222222222222,\"#7201a8\"],[0.3333333333333333,\"#9c179e\"],[0.4444444444444444,\"#bd3786\"],[0.5555555555555556,\"#d8576b\"],[0.6666666666666666,\"#ed7953\"],[0.7777777777777778,\"#fb9f3a\"],[0.8888888888888888,\"#fdca26\"],[1.0,\"#f0f921\"]],\"sequentialminus\":[[0.0,\"#0d0887\"],[0.1111111111111111,\"#46039f\"],[0.2222222222222222,\"#7201a8\"],[0.3333333333333333,\"#9c179e\"],[0.4444444444444444,\"#bd3786\"],[0.5555555555555556,\"#d8576b\"],[0.6666666666666666,\"#ed7953\"],[0.7777777777777778,\"#fb9f3a\"],[0.8888888888888888,\"#fdca26\"],[1.0,\"#f0f921\"]]},\"hovermode\":\"closest\",\"hoverlabel\":{\"align\":\"left\"},\"coloraxis\":{\"colorbar\":{\"outlinewidth\":0.0,\"ticks\":\"\"}},\"geo\":{\"showland\":true,\"landcolor\":\"rgba(229, 236, 246, 1.0)\",\"showlakes\":true,\"lakecolor\":\"rgba(255, 255, 255, 1.0)\",\"subunitcolor\":\"rgba(255, 255, 255, 1.0)\",\"bgcolor\":\"rgba(255, 255, 255, 1.0)\"},\"mapbox\":{\"style\":\"light\"},\"polar\":{\"bgcolor\":\"rgba(229, 236, 246, 1.0)\",\"radialaxis\":{\"linecolor\":\"rgba(255, 255, 255, 1.0)\",\"gridcolor\":\"rgba(255, 255, 255, 1.0)\",\"ticks\":\"\"},\"angularaxis\":{\"linecolor\":\"rgba(255, 255, 255, 1.0)\",\"gridcolor\":\"rgba(255, 255, 255, 1.0)\",\"ticks\":\"\"}},\"scene\":{\"xaxis\":{\"ticks\":\"\",\"linecolor\":\"rgba(255, 255, 255, 1.0)\",\"gridcolor\":\"rgba(255, 255, 255, 1.0)\",\"gridwidth\":2.0,\"zerolinecolor\":\"rgba(255, 255, 255, 1.0)\",\"backgroundcolor\":\"rgba(229, 236, 246, 1.0)\",\"showbackground\":true},\"yaxis\":{\"ticks\":\"\",\"linecolor\":\"rgba(255, 255, 255, 1.0)\",\"gridcolor\":\"rgba(255, 255, 255, 1.0)\",\"gridwidth\":2.0,\"zerolinecolor\":\"rgba(255, 255, 255, 1.0)\",\"backgroundcolor\":\"rgba(229, 236, 246, 1.0)\",\"showbackground\":true},\"zaxis\":{\"ticks\":\"\",\"linecolor\":\"rgba(255, 255, 255, 1.0)\",\"gridcolor\":\"rgba(255, 255, 255, 1.0)\",\"gridwidth\":2.0,\"zerolinecolor\":\"rgba(255, 255, 255, 1.0)\",\"backgroundcolor\":\"rgba(229, 236, 246, 1.0)\",\"showbackground\":true}},\"ternary\":{\"aaxis\":{\"ticks\":\"\",\"linecolor\":\"rgba(255, 255, 255, 1.0)\",\"gridcolor\":\"rgba(255, 255, 255, 1.0)\"},\"baxis\":{\"ticks\":\"\",\"linecolor\":\"rgba(255, 255, 255, 1.0)\",\"gridcolor\":\"rgba(255, 255, 255, 1.0)\"},\"caxis\":{\"ticks\":\"\",\"linecolor\":\"rgba(255, 255, 255, 1.0)\",\"gridcolor\":\"rgba(255, 255, 255, 1.0)\"},\"bgcolor\":\"rgba(229, 236, 246, 1.0)\"},\"xaxis\":{\"title\":{\"standoff\":15},\"ticks\":\"\",\"automargin\":true,\"linecolor\":\"rgba(255, 255, 255, 1.0)\",\"gridcolor\":\"rgba(255, 255, 255, 1.0)\",\"zerolinecolor\":\"rgba(255, 255, 255, 1.0)\",\"zerolinewidth\":2.0},\"yaxis\":{\"title\":{\"standoff\":15},\"ticks\":\"\",\"automargin\":true,\"linecolor\":\"rgba(255, 255, 255, 1.0)\",\"gridcolor\":\"rgba(255, 255, 255, 1.0)\",\"zerolinecolor\":\"rgba(255, 255, 255, 1.0)\",\"zerolinewidth\":2.0},\"annotationdefaults\":{\"arrowcolor\":\"#2a3f5f\",\"arrowhead\":0,\"arrowwidth\":1},\"shapedefaults\":{\"line\":{\"color\":\"rgba(42, 63, 95, 1.0)\"}},\"colorway\":[\"rgba(99, 110, 250, 1.0)\",\"rgba(239, 85, 59, 1.0)\",\"rgba(0, 204, 150, 1.0)\",\"rgba(171, 99, 250, 1.0)\",\"rgba(255, 161, 90, 1.0)\",\"rgba(25, 211, 243, 1.0)\",\"rgba(255, 102, 146, 1.0)\",\"rgba(182, 232, 128, 1.0)\",\"rgba(255, 151, 255, 1.0)\",\"rgba(254, 203, 82, 1.0)\"]},\"data\":{\"bar\":[{\"marker\":{\"line\":{\"color\":\"rgba(229, 236, 246, 1.0)\",\"width\":0.5},\"pattern\":{\"fillmode\":\"overlay\",\"size\":10,\"solidity\":0.2}},\"errorx\":{\"color\":\"rgba(42, 63, 95, 1.0)\"},\"errory\":{\"color\":\"rgba(42, 63, 95, 1.0)\"}}],\"barpolar\":[{\"marker\":{\"line\":{\"color\":\"rgba(229, 236, 246, 1.0)\",\"width\":0.5},\"pattern\":{\"fillmode\":\"overlay\",\"size\":10,\"solidity\":0.2}}}],\"carpet\":[{\"aaxis\":{\"linecolor\":\"rgba(255, 255, 255, 1.0)\",\"gridcolor\":\"rgba(255, 255, 255, 1.0)\",\"endlinecolor\":\"rgba(42, 63, 95, 1.0)\",\"minorgridcolor\":\"rgba(255, 255, 255, 1.0)\",\"startlinecolor\":\"rgba(42, 63, 95, 1.0)\"},\"baxis\":{\"linecolor\":\"rgba(255, 255, 255, 1.0)\",\"gridcolor\":\"rgba(255, 255, 255, 1.0)\",\"endlinecolor\":\"rgba(42, 63, 95, 1.0)\",\"minorgridcolor\":\"rgba(255, 255, 255, 1.0)\",\"startlinecolor\":\"rgba(42, 63, 95, 1.0)\"}}],\"choropleth\":[{\"colorbar\":{\"outlinewidth\":0.0,\"ticks\":\"\"},\"colorscale\":[[0.0,\"#0d0887\"],[0.1111111111111111,\"#46039f\"],[0.2222222222222222,\"#7201a8\"],[0.3333333333333333,\"#9c179e\"],[0.4444444444444444,\"#bd3786\"],[0.5555555555555556,\"#d8576b\"],[0.6666666666666666,\"#ed7953\"],[0.7777777777777778,\"#fb9f3a\"],[0.8888888888888888,\"#fdca26\"],[1.0,\"#f0f921\"]]}],\"contour\":[{\"colorbar\":{\"outlinewidth\":0.0,\"ticks\":\"\"},\"colorscale\":[[0.0,\"#0d0887\"],[0.1111111111111111,\"#46039f\"],[0.2222222222222222,\"#7201a8\"],[0.3333333333333333,\"#9c179e\"],[0.4444444444444444,\"#bd3786\"],[0.5555555555555556,\"#d8576b\"],[0.6666666666666666,\"#ed7953\"],[0.7777777777777778,\"#fb9f3a\"],[0.8888888888888888,\"#fdca26\"],[1.0,\"#f0f921\"]]}],\"contourcarpet\":[{\"colorbar\":{\"outlinewidth\":0.0,\"ticks\":\"\"}}],\"heatmap\":[{\"colorbar\":{\"outlinewidth\":0.0,\"ticks\":\"\"},\"colorscale\":[[0.0,\"#0d0887\"],[0.1111111111111111,\"#46039f\"],[0.2222222222222222,\"#7201a8\"],[0.3333333333333333,\"#9c179e\"],[0.4444444444444444,\"#bd3786\"],[0.5555555555555556,\"#d8576b\"],[0.6666666666666666,\"#ed7953\"],[0.7777777777777778,\"#fb9f3a\"],[0.8888888888888888,\"#fdca26\"],[1.0,\"#f0f921\"]]}],\"heatmapgl\":[{\"colorbar\":{\"outlinewidth\":0.0,\"ticks\":\"\"},\"colorscale\":[[0.0,\"#0d0887\"],[0.1111111111111111,\"#46039f\"],[0.2222222222222222,\"#7201a8\"],[0.3333333333333333,\"#9c179e\"],[0.4444444444444444,\"#bd3786\"],[0.5555555555555556,\"#d8576b\"],[0.6666666666666666,\"#ed7953\"],[0.7777777777777778,\"#fb9f3a\"],[0.8888888888888888,\"#fdca26\"],[1.0,\"#f0f921\"]]}],\"histogram\":[{\"marker\":{\"pattern\":{\"fillmode\":\"overlay\",\"size\":10,\"solidity\":0.2}}}],\"histogram2d\":[{\"colorbar\":{\"outlinewidth\":0.0,\"ticks\":\"\"},\"colorscale\":[[0.0,\"#0d0887\"],[0.1111111111111111,\"#46039f\"],[0.2222222222222222,\"#7201a8\"],[0.3333333333333333,\"#9c179e\"],[0.4444444444444444,\"#bd3786\"],[0.5555555555555556,\"#d8576b\"],[0.6666666666666666,\"#ed7953\"],[0.7777777777777778,\"#fb9f3a\"],[0.8888888888888888,\"#fdca26\"],[1.0,\"#f0f921\"]]}],\"histogram2dcontour\":[{\"colorbar\":{\"outlinewidth\":0.0,\"ticks\":\"\"},\"colorscale\":[[0.0,\"#0d0887\"],[0.1111111111111111,\"#46039f\"],[0.2222222222222222,\"#7201a8\"],[0.3333333333333333,\"#9c179e\"],[0.4444444444444444,\"#bd3786\"],[0.5555555555555556,\"#d8576b\"],[0.6666666666666666,\"#ed7953\"],[0.7777777777777778,\"#fb9f3a\"],[0.8888888888888888,\"#fdca26\"],[1.0,\"#f0f921\"]]}],\"mesh3d\":[{\"colorbar\":{\"outlinewidth\":0.0,\"ticks\":\"\"}}],\"parcoords\":[{\"line\":{\"colorbar\":{\"outlinewidth\":0.0,\"ticks\":\"\"}}}],\"pie\":[{\"automargin\":true}],\"scatter\":[{\"marker\":{\"colorbar\":{\"outlinewidth\":0.0,\"ticks\":\"\"}}}],\"scatter3d\":[{\"marker\":{\"colorbar\":{\"outlinewidth\":0.0,\"ticks\":\"\"}},\"line\":{\"colorbar\":{\"outlinewidth\":0.0,\"ticks\":\"\"}}}],\"scattercarpet\":[{\"marker\":{\"colorbar\":{\"outlinewidth\":0.0,\"ticks\":\"\"}}}],\"scattergeo\":[{\"marker\":{\"colorbar\":{\"outlinewidth\":0.0,\"ticks\":\"\"}}}],\"scattergl\":[{\"marker\":{\"colorbar\":{\"outlinewidth\":0.0,\"ticks\":\"\"}}}],\"scattermapbox\":[{\"marker\":{\"colorbar\":{\"outlinewidth\":0.0,\"ticks\":\"\"}}}],\"scatterpolar\":[{\"marker\":{\"colorbar\":{\"outlinewidth\":0.0,\"ticks\":\"\"}}}],\"scatterpolargl\":[{\"marker\":{\"colorbar\":{\"outlinewidth\":0.0,\"ticks\":\"\"}}}],\"scatterternary\":[{\"marker\":{\"colorbar\":{\"outlinewidth\":0.0,\"ticks\":\"\"}}}],\"surface\":[{\"colorbar\":{\"outlinewidth\":0.0,\"ticks\":\"\"},\"colorscale\":[[0.0,\"#0d0887\"],[0.1111111111111111,\"#46039f\"],[0.2222222222222222,\"#7201a8\"],[0.3333333333333333,\"#9c179e\"],[0.4444444444444444,\"#bd3786\"],[0.5555555555555556,\"#d8576b\"],[0.6666666666666666,\"#ed7953\"],[0.7777777777777778,\"#fb9f3a\"],[0.8888888888888888,\"#fdca26\"],[1.0,\"#f0f921\"]]}],\"table\":[{\"cells\":{\"fill\":{\"color\":\"rgba(235, 240, 248, 1.0)\"},\"line\":{\"color\":\"rgba(255, 255, 255, 1.0)\"}},\"header\":{\"fill\":{\"color\":\"rgba(200, 212, 227, 1.0)\"},\"line\":{\"color\":\"rgba(255, 255, 255, 1.0)\"}}}]}}};\r\n",
       "            var config = {\"responsive\":true};\r\n",
       "            Plotly.newPlot('1aec043a-1379-4b16-b7b3-051a8216c0ae', data, layout, config);\r\n",
       "});\r\n",
       "            };\r\n",
       "            if ((typeof(requirejs) !==  typeof(Function)) || (typeof(requirejs.config) !== typeof(Function))) {\r\n",
       "                var script = document.createElement(\"script\");\r\n",
       "                script.setAttribute(\"src\", \"https://cdnjs.cloudflare.com/ajax/libs/require.js/2.3.6/require.min.js\");\r\n",
       "                script.onload = function(){\r\n",
       "                    renderPlotly_1aec043a13794b16b7b3051a8216c0ae();\r\n",
       "                };\r\n",
       "                document.getElementsByTagName(\"head\")[0].appendChild(script);\r\n",
       "            }\r\n",
       "            else {\r\n",
       "                renderPlotly_1aec043a13794b16b7b3051a8216c0ae();\r\n",
       "            }\r\n",
       "</script>\r\n"
      ]
     },
     "metadata": {},
     "output_type": "display_data"
    },
    {
     "data": {
      "text/html": [
       "<div id=\"1204f3b3-e365-4c53-abf9-cb779592b5ce\"><!-- Plotly chart will be drawn inside this DIV --></div>\r\n",
       "<script type=\"text/javascript\">\r\n",
       "\r\n",
       "            var renderPlotly_1204f3b3e3654c53abf9cb779592b5ce = function() {\r\n",
       "            var fsharpPlotlyRequire = requirejs.config({context:'fsharp-plotly',paths:{plotly:'https://cdn.plot.ly/plotly-2.6.3.min'}}) || require;\r\n",
       "            fsharpPlotlyRequire(['plotly'], function(Plotly) {\r\n",
       "\r\n",
       "            var data = [{\"type\":\"mesh3d\",\"opacity\":0.5,\"x\":[0,6,0,6,0,6,0,6],\"y\":[4,4,6,6,4,4,6,6],\"z\":[0,0,0,0,6,6,6,6],\"i\":[0,0,0,0,0,0,3,3,4,4,7,7],\"j\":[3,3,6,6,5,5,6,6,7,7,1,1],\"k\":[1,2,2,4,4,1,2,7,6,5,3,5],\"flatshading\":true},{\"type\":\"mesh3d\",\"opacity\":0.5,\"x\":[0,6,0,6,0,6,0,6],\"y\":[0,0,2,2,0,0,2,2],\"z\":[0,0,0,0,6,6,6,6],\"i\":[0,0,0,0,0,0,3,3,4,4,7,7],\"j\":[3,3,6,6,5,5,6,6,7,7,1,1],\"k\":[1,2,2,4,4,1,2,7,6,5,3,5],\"flatshading\":true},{\"type\":\"mesh3d\",\"opacity\":0.5,\"x\":[0,6,0,6,0,6,0,6],\"y\":[2,2,4,4,2,2,4,4],\"z\":[2,2,2,2,6,6,6,6],\"i\":[0,0,0,0,0,0,3,3,4,4,7,7],\"j\":[3,3,6,6,5,5,6,6,7,7,1,1],\"k\":[1,2,2,4,4,1,2,7,6,5,3,5],\"flatshading\":true}];\r\n",
       "            var layout = {\"width\":600,\"height\":600,\"template\":{\"layout\":{\"title\":{\"x\":0.05},\"font\":{\"color\":\"rgba(42, 63, 95, 1.0)\"},\"paper_bgcolor\":\"rgba(255, 255, 255, 1.0)\",\"plot_bgcolor\":\"rgba(229, 236, 246, 1.0)\",\"autotypenumbers\":\"strict\",\"colorscale\":{\"diverging\":[[0.0,\"#8e0152\"],[0.1,\"#c51b7d\"],[0.2,\"#de77ae\"],[0.3,\"#f1b6da\"],[0.4,\"#fde0ef\"],[0.5,\"#f7f7f7\"],[0.6,\"#e6f5d0\"],[0.7,\"#b8e186\"],[0.8,\"#7fbc41\"],[0.9,\"#4d9221\"],[1.0,\"#276419\"]],\"sequential\":[[0.0,\"#0d0887\"],[0.1111111111111111,\"#46039f\"],[0.2222222222222222,\"#7201a8\"],[0.3333333333333333,\"#9c179e\"],[0.4444444444444444,\"#bd3786\"],[0.5555555555555556,\"#d8576b\"],[0.6666666666666666,\"#ed7953\"],[0.7777777777777778,\"#fb9f3a\"],[0.8888888888888888,\"#fdca26\"],[1.0,\"#f0f921\"]],\"sequentialminus\":[[0.0,\"#0d0887\"],[0.1111111111111111,\"#46039f\"],[0.2222222222222222,\"#7201a8\"],[0.3333333333333333,\"#9c179e\"],[0.4444444444444444,\"#bd3786\"],[0.5555555555555556,\"#d8576b\"],[0.6666666666666666,\"#ed7953\"],[0.7777777777777778,\"#fb9f3a\"],[0.8888888888888888,\"#fdca26\"],[1.0,\"#f0f921\"]]},\"hovermode\":\"closest\",\"hoverlabel\":{\"align\":\"left\"},\"coloraxis\":{\"colorbar\":{\"outlinewidth\":0.0,\"ticks\":\"\"}},\"geo\":{\"showland\":true,\"landcolor\":\"rgba(229, 236, 246, 1.0)\",\"showlakes\":true,\"lakecolor\":\"rgba(255, 255, 255, 1.0)\",\"subunitcolor\":\"rgba(255, 255, 255, 1.0)\",\"bgcolor\":\"rgba(255, 255, 255, 1.0)\"},\"mapbox\":{\"style\":\"light\"},\"polar\":{\"bgcolor\":\"rgba(229, 236, 246, 1.0)\",\"radialaxis\":{\"linecolor\":\"rgba(255, 255, 255, 1.0)\",\"gridcolor\":\"rgba(255, 255, 255, 1.0)\",\"ticks\":\"\"},\"angularaxis\":{\"linecolor\":\"rgba(255, 255, 255, 1.0)\",\"gridcolor\":\"rgba(255, 255, 255, 1.0)\",\"ticks\":\"\"}},\"scene\":{\"xaxis\":{\"ticks\":\"\",\"linecolor\":\"rgba(255, 255, 255, 1.0)\",\"gridcolor\":\"rgba(255, 255, 255, 1.0)\",\"gridwidth\":2.0,\"zerolinecolor\":\"rgba(255, 255, 255, 1.0)\",\"backgroundcolor\":\"rgba(229, 236, 246, 1.0)\",\"showbackground\":true},\"yaxis\":{\"ticks\":\"\",\"linecolor\":\"rgba(255, 255, 255, 1.0)\",\"gridcolor\":\"rgba(255, 255, 255, 1.0)\",\"gridwidth\":2.0,\"zerolinecolor\":\"rgba(255, 255, 255, 1.0)\",\"backgroundcolor\":\"rgba(229, 236, 246, 1.0)\",\"showbackground\":true},\"zaxis\":{\"ticks\":\"\",\"linecolor\":\"rgba(255, 255, 255, 1.0)\",\"gridcolor\":\"rgba(255, 255, 255, 1.0)\",\"gridwidth\":2.0,\"zerolinecolor\":\"rgba(255, 255, 255, 1.0)\",\"backgroundcolor\":\"rgba(229, 236, 246, 1.0)\",\"showbackground\":true}},\"ternary\":{\"aaxis\":{\"ticks\":\"\",\"linecolor\":\"rgba(255, 255, 255, 1.0)\",\"gridcolor\":\"rgba(255, 255, 255, 1.0)\"},\"baxis\":{\"ticks\":\"\",\"linecolor\":\"rgba(255, 255, 255, 1.0)\",\"gridcolor\":\"rgba(255, 255, 255, 1.0)\"},\"caxis\":{\"ticks\":\"\",\"linecolor\":\"rgba(255, 255, 255, 1.0)\",\"gridcolor\":\"rgba(255, 255, 255, 1.0)\"},\"bgcolor\":\"rgba(229, 236, 246, 1.0)\"},\"xaxis\":{\"title\":{\"standoff\":15},\"ticks\":\"\",\"automargin\":true,\"linecolor\":\"rgba(255, 255, 255, 1.0)\",\"gridcolor\":\"rgba(255, 255, 255, 1.0)\",\"zerolinecolor\":\"rgba(255, 255, 255, 1.0)\",\"zerolinewidth\":2.0},\"yaxis\":{\"title\":{\"standoff\":15},\"ticks\":\"\",\"automargin\":true,\"linecolor\":\"rgba(255, 255, 255, 1.0)\",\"gridcolor\":\"rgba(255, 255, 255, 1.0)\",\"zerolinecolor\":\"rgba(255, 255, 255, 1.0)\",\"zerolinewidth\":2.0},\"annotationdefaults\":{\"arrowcolor\":\"#2a3f5f\",\"arrowhead\":0,\"arrowwidth\":1},\"shapedefaults\":{\"line\":{\"color\":\"rgba(42, 63, 95, 1.0)\"}},\"colorway\":[\"rgba(99, 110, 250, 1.0)\",\"rgba(239, 85, 59, 1.0)\",\"rgba(0, 204, 150, 1.0)\",\"rgba(171, 99, 250, 1.0)\",\"rgba(255, 161, 90, 1.0)\",\"rgba(25, 211, 243, 1.0)\",\"rgba(255, 102, 146, 1.0)\",\"rgba(182, 232, 128, 1.0)\",\"rgba(255, 151, 255, 1.0)\",\"rgba(254, 203, 82, 1.0)\"]},\"data\":{\"bar\":[{\"marker\":{\"line\":{\"color\":\"rgba(229, 236, 246, 1.0)\",\"width\":0.5},\"pattern\":{\"fillmode\":\"overlay\",\"size\":10,\"solidity\":0.2}},\"errorx\":{\"color\":\"rgba(42, 63, 95, 1.0)\"},\"errory\":{\"color\":\"rgba(42, 63, 95, 1.0)\"}}],\"barpolar\":[{\"marker\":{\"line\":{\"color\":\"rgba(229, 236, 246, 1.0)\",\"width\":0.5},\"pattern\":{\"fillmode\":\"overlay\",\"size\":10,\"solidity\":0.2}}}],\"carpet\":[{\"aaxis\":{\"linecolor\":\"rgba(255, 255, 255, 1.0)\",\"gridcolor\":\"rgba(255, 255, 255, 1.0)\",\"endlinecolor\":\"rgba(42, 63, 95, 1.0)\",\"minorgridcolor\":\"rgba(255, 255, 255, 1.0)\",\"startlinecolor\":\"rgba(42, 63, 95, 1.0)\"},\"baxis\":{\"linecolor\":\"rgba(255, 255, 255, 1.0)\",\"gridcolor\":\"rgba(255, 255, 255, 1.0)\",\"endlinecolor\":\"rgba(42, 63, 95, 1.0)\",\"minorgridcolor\":\"rgba(255, 255, 255, 1.0)\",\"startlinecolor\":\"rgba(42, 63, 95, 1.0)\"}}],\"choropleth\":[{\"colorbar\":{\"outlinewidth\":0.0,\"ticks\":\"\"},\"colorscale\":[[0.0,\"#0d0887\"],[0.1111111111111111,\"#46039f\"],[0.2222222222222222,\"#7201a8\"],[0.3333333333333333,\"#9c179e\"],[0.4444444444444444,\"#bd3786\"],[0.5555555555555556,\"#d8576b\"],[0.6666666666666666,\"#ed7953\"],[0.7777777777777778,\"#fb9f3a\"],[0.8888888888888888,\"#fdca26\"],[1.0,\"#f0f921\"]]}],\"contour\":[{\"colorbar\":{\"outlinewidth\":0.0,\"ticks\":\"\"},\"colorscale\":[[0.0,\"#0d0887\"],[0.1111111111111111,\"#46039f\"],[0.2222222222222222,\"#7201a8\"],[0.3333333333333333,\"#9c179e\"],[0.4444444444444444,\"#bd3786\"],[0.5555555555555556,\"#d8576b\"],[0.6666666666666666,\"#ed7953\"],[0.7777777777777778,\"#fb9f3a\"],[0.8888888888888888,\"#fdca26\"],[1.0,\"#f0f921\"]]}],\"contourcarpet\":[{\"colorbar\":{\"outlinewidth\":0.0,\"ticks\":\"\"}}],\"heatmap\":[{\"colorbar\":{\"outlinewidth\":0.0,\"ticks\":\"\"},\"colorscale\":[[0.0,\"#0d0887\"],[0.1111111111111111,\"#46039f\"],[0.2222222222222222,\"#7201a8\"],[0.3333333333333333,\"#9c179e\"],[0.4444444444444444,\"#bd3786\"],[0.5555555555555556,\"#d8576b\"],[0.6666666666666666,\"#ed7953\"],[0.7777777777777778,\"#fb9f3a\"],[0.8888888888888888,\"#fdca26\"],[1.0,\"#f0f921\"]]}],\"heatmapgl\":[{\"colorbar\":{\"outlinewidth\":0.0,\"ticks\":\"\"},\"colorscale\":[[0.0,\"#0d0887\"],[0.1111111111111111,\"#46039f\"],[0.2222222222222222,\"#7201a8\"],[0.3333333333333333,\"#9c179e\"],[0.4444444444444444,\"#bd3786\"],[0.5555555555555556,\"#d8576b\"],[0.6666666666666666,\"#ed7953\"],[0.7777777777777778,\"#fb9f3a\"],[0.8888888888888888,\"#fdca26\"],[1.0,\"#f0f921\"]]}],\"histogram\":[{\"marker\":{\"pattern\":{\"fillmode\":\"overlay\",\"size\":10,\"solidity\":0.2}}}],\"histogram2d\":[{\"colorbar\":{\"outlinewidth\":0.0,\"ticks\":\"\"},\"colorscale\":[[0.0,\"#0d0887\"],[0.1111111111111111,\"#46039f\"],[0.2222222222222222,\"#7201a8\"],[0.3333333333333333,\"#9c179e\"],[0.4444444444444444,\"#bd3786\"],[0.5555555555555556,\"#d8576b\"],[0.6666666666666666,\"#ed7953\"],[0.7777777777777778,\"#fb9f3a\"],[0.8888888888888888,\"#fdca26\"],[1.0,\"#f0f921\"]]}],\"histogram2dcontour\":[{\"colorbar\":{\"outlinewidth\":0.0,\"ticks\":\"\"},\"colorscale\":[[0.0,\"#0d0887\"],[0.1111111111111111,\"#46039f\"],[0.2222222222222222,\"#7201a8\"],[0.3333333333333333,\"#9c179e\"],[0.4444444444444444,\"#bd3786\"],[0.5555555555555556,\"#d8576b\"],[0.6666666666666666,\"#ed7953\"],[0.7777777777777778,\"#fb9f3a\"],[0.8888888888888888,\"#fdca26\"],[1.0,\"#f0f921\"]]}],\"mesh3d\":[{\"colorbar\":{\"outlinewidth\":0.0,\"ticks\":\"\"}}],\"parcoords\":[{\"line\":{\"colorbar\":{\"outlinewidth\":0.0,\"ticks\":\"\"}}}],\"pie\":[{\"automargin\":true}],\"scatter\":[{\"marker\":{\"colorbar\":{\"outlinewidth\":0.0,\"ticks\":\"\"}}}],\"scatter3d\":[{\"marker\":{\"colorbar\":{\"outlinewidth\":0.0,\"ticks\":\"\"}},\"line\":{\"colorbar\":{\"outlinewidth\":0.0,\"ticks\":\"\"}}}],\"scattercarpet\":[{\"marker\":{\"colorbar\":{\"outlinewidth\":0.0,\"ticks\":\"\"}}}],\"scattergeo\":[{\"marker\":{\"colorbar\":{\"outlinewidth\":0.0,\"ticks\":\"\"}}}],\"scattergl\":[{\"marker\":{\"colorbar\":{\"outlinewidth\":0.0,\"ticks\":\"\"}}}],\"scattermapbox\":[{\"marker\":{\"colorbar\":{\"outlinewidth\":0.0,\"ticks\":\"\"}}}],\"scatterpolar\":[{\"marker\":{\"colorbar\":{\"outlinewidth\":0.0,\"ticks\":\"\"}}}],\"scatterpolargl\":[{\"marker\":{\"colorbar\":{\"outlinewidth\":0.0,\"ticks\":\"\"}}}],\"scatterternary\":[{\"marker\":{\"colorbar\":{\"outlinewidth\":0.0,\"ticks\":\"\"}}}],\"surface\":[{\"colorbar\":{\"outlinewidth\":0.0,\"ticks\":\"\"},\"colorscale\":[[0.0,\"#0d0887\"],[0.1111111111111111,\"#46039f\"],[0.2222222222222222,\"#7201a8\"],[0.3333333333333333,\"#9c179e\"],[0.4444444444444444,\"#bd3786\"],[0.5555555555555556,\"#d8576b\"],[0.6666666666666666,\"#ed7953\"],[0.7777777777777778,\"#fb9f3a\"],[0.8888888888888888,\"#fdca26\"],[1.0,\"#f0f921\"]]}],\"table\":[{\"cells\":{\"fill\":{\"color\":\"rgba(235, 240, 248, 1.0)\"},\"line\":{\"color\":\"rgba(255, 255, 255, 1.0)\"}},\"header\":{\"fill\":{\"color\":\"rgba(200, 212, 227, 1.0)\"},\"line\":{\"color\":\"rgba(255, 255, 255, 1.0)\"}}}]}}};\r\n",
       "            var config = {\"responsive\":true};\r\n",
       "            Plotly.newPlot('1204f3b3-e365-4c53-abf9-cb779592b5ce', data, layout, config);\r\n",
       "});\r\n",
       "            };\r\n",
       "            if ((typeof(requirejs) !==  typeof(Function)) || (typeof(requirejs.config) !== typeof(Function))) {\r\n",
       "                var script = document.createElement(\"script\");\r\n",
       "                script.setAttribute(\"src\", \"https://cdnjs.cloudflare.com/ajax/libs/require.js/2.3.6/require.min.js\");\r\n",
       "                script.onload = function(){\r\n",
       "                    renderPlotly_1204f3b3e3654c53abf9cb779592b5ce();\r\n",
       "                };\r\n",
       "                document.getElementsByTagName(\"head\")[0].appendChild(script);\r\n",
       "            }\r\n",
       "            else {\r\n",
       "                renderPlotly_1204f3b3e3654c53abf9cb779592b5ce();\r\n",
       "            }\r\n",
       "</script>\r\n"
      ]
     },
     "metadata": {},
     "output_type": "display_data"
    }
   ],
   "source": [
    "let private subtrahend = { Cuboid.T.X = -1,7; Cuboid.T.Y = 2,3; Cuboid.T.Z = -1,1 }\n",
    "let private minuend = { Cuboid.T.X = 0,5; Cuboid.T.Y = 0,5; Cuboid.T.Z = 0,5 }\n",
    "[subtrahend; minuend] |> display\n",
    "Cuboid.subtract subtrahend minuend"
   ]
  },
  {
   "cell_type": "markdown",
   "metadata": {},
   "source": [
    "With subtraction implemented, addition is trivial. Also let's introduce subtraction from and addition to a list of cuboids"
   ]
  },
  {
   "cell_type": "code",
   "execution_count": null,
   "metadata": {
    "dotnet_interactive": {
     "language": "fsharp"
    }
   },
   "outputs": [],
   "source": [
    "module Cuboid = \n",
    "    let add c1 c2 =\n",
    "        c1::(Cuboid.subtract c1 c2)\n",
    "\n",
    "\n",
    "module Cuboids = \n",
    "    let add c cs : Cuboids.T =\n",
    "        c :: (List.collect (fun x -> Cuboid.subtract c x)) cs\n",
    "            \n",
    "    let subtract c cs : Cuboids.T =\n",
    "        (List.collect (fun x -> Cuboid.subtract c x)) cs"
   ]
  },
  {
   "cell_type": "markdown",
   "metadata": {},
   "source": [
    "The small example from the problem statement:"
   ]
  },
  {
   "cell_type": "code",
   "execution_count": null,
   "metadata": {
    "dotnet_interactive": {
     "language": "fsharp"
    }
   },
   "outputs": [
    {
     "data": {
      "text/html": [
       "<div id=\"b0ec7588-ebeb-42d5-9da5-f95d12eafbe9\"><!-- Plotly chart will be drawn inside this DIV --></div>\r\n",
       "<script type=\"text/javascript\">\r\n",
       "\r\n",
       "            var renderPlotly_b0ec7588ebeb42d59da5f95d12eafbe9 = function() {\r\n",
       "            var fsharpPlotlyRequire = requirejs.config({context:'fsharp-plotly',paths:{plotly:'https://cdn.plot.ly/plotly-2.6.3.min'}}) || require;\r\n",
       "            fsharpPlotlyRequire(['plotly'], function(Plotly) {\r\n",
       "\r\n",
       "            var data = [{\"type\":\"mesh3d\",\"opacity\":0.5,\"x\":[10,11,10,11,10,11,10,11],\"y\":[10,10,11,11,10,10,11,11],\"z\":[10,10,10,10,11,11,11,11],\"i\":[0,0,0,0,0,0,3,3,4,4,7,7],\"j\":[3,3,6,6,5,5,6,6,7,7,1,1],\"k\":[1,2,2,4,4,1,2,7,6,5,3,5],\"flatshading\":true},{\"type\":\"mesh3d\",\"opacity\":0.5,\"x\":[11,14,11,14,11,14,11,14],\"y\":[12,12,14,14,12,12,14,14],\"z\":[11,11,11,11,14,14,14,14],\"i\":[0,0,0,0,0,0,3,3,4,4,7,7],\"j\":[3,3,6,6,5,5,6,6,7,7,1,1],\"k\":[1,2,2,4,4,1,2,7,6,5,3,5],\"flatshading\":true},{\"type\":\"mesh3d\",\"opacity\":0.5,\"x\":[12,14,12,14,12,14,12,14],\"y\":[11,11,12,12,11,11,12,12],\"z\":[11,11,11,11,14,14,14,14],\"i\":[0,0,0,0,0,0,3,3,4,4,7,7],\"j\":[3,3,6,6,5,5,6,6,7,7,1,1],\"k\":[1,2,2,4,4,1,2,7,6,5,3,5],\"flatshading\":true},{\"type\":\"mesh3d\",\"opacity\":0.5,\"x\":[11,12,11,12,11,12,11,12],\"y\":[11,11,12,12,11,11,12,12],\"z\":[12,12,12,12,14,14,14,14],\"i\":[0,0,0,0,0,0,3,3,4,4,7,7],\"j\":[3,3,6,6,5,5,6,6,7,7,1,1],\"k\":[1,2,2,4,4,1,2,7,6,5,3,5],\"flatshading\":true},{\"type\":\"mesh3d\",\"opacity\":0.5,\"x\":[12,13,12,13,12,13,12,13],\"y\":[10,10,11,11,10,10,11,11],\"z\":[10,10,10,10,13,13,13,13],\"i\":[0,0,0,0,0,0,3,3,4,4,7,7],\"j\":[3,3,6,6,5,5,6,6,7,7,1,1],\"k\":[1,2,2,4,4,1,2,7,6,5,3,5],\"flatshading\":true},{\"type\":\"mesh3d\",\"opacity\":0.5,\"x\":[10,12,10,12,10,12,10,12],\"y\":[10,10,11,11,10,10,11,11],\"z\":[12,12,12,12,13,13,13,13],\"i\":[0,0,0,0,0,0,3,3,4,4,7,7],\"j\":[3,3,6,6,5,5,6,6,7,7,1,1],\"k\":[1,2,2,4,4,1,2,7,6,5,3,5],\"flatshading\":true},{\"type\":\"mesh3d\",\"opacity\":0.5,\"x\":[10,11,10,11,10,11,10,11],\"y\":[12,12,13,13,12,12,13,13],\"z\":[10,10,10,10,13,13,13,13],\"i\":[0,0,0,0,0,0,3,3,4,4,7,7],\"j\":[3,3,6,6,5,5,6,6,7,7,1,1],\"k\":[1,2,2,4,4,1,2,7,6,5,3,5],\"flatshading\":true},{\"type\":\"mesh3d\",\"opacity\":0.5,\"x\":[10,11,10,11,10,11,10,11],\"y\":[11,11,12,12,11,11,12,12],\"z\":[12,12,12,12,13,13,13,13],\"i\":[0,0,0,0,0,0,3,3,4,4,7,7],\"j\":[3,3,6,6,5,5,6,6,7,7,1,1],\"k\":[1,2,2,4,4,1,2,7,6,5,3,5],\"flatshading\":true},{\"type\":\"mesh3d\",\"opacity\":0.5,\"x\":[11,13,11,13,11,13,11,13],\"y\":[12,12,13,13,12,12,13,13],\"z\":[10,10,10,10,11,11,11,11],\"i\":[0,0,0,0,0,0,3,3,4,4,7,7],\"j\":[3,3,6,6,5,5,6,6,7,7,1,1],\"k\":[1,2,2,4,4,1,2,7,6,5,3,5],\"flatshading\":true},{\"type\":\"mesh3d\",\"opacity\":0.5,\"x\":[12,13,12,13,12,13,12,13],\"y\":[11,11,12,12,11,11,12,12],\"z\":[10,10,10,10,11,11,11,11],\"i\":[0,0,0,0,0,0,3,3,4,4,7,7],\"j\":[3,3,6,6,5,5,6,6,7,7,1,1],\"k\":[1,2,2,4,4,1,2,7,6,5,3,5],\"flatshading\":true}];\r\n",
       "            var layout = {\"width\":600,\"height\":600,\"template\":{\"layout\":{\"title\":{\"x\":0.05},\"font\":{\"color\":\"rgba(42, 63, 95, 1.0)\"},\"paper_bgcolor\":\"rgba(255, 255, 255, 1.0)\",\"plot_bgcolor\":\"rgba(229, 236, 246, 1.0)\",\"autotypenumbers\":\"strict\",\"colorscale\":{\"diverging\":[[0.0,\"#8e0152\"],[0.1,\"#c51b7d\"],[0.2,\"#de77ae\"],[0.3,\"#f1b6da\"],[0.4,\"#fde0ef\"],[0.5,\"#f7f7f7\"],[0.6,\"#e6f5d0\"],[0.7,\"#b8e186\"],[0.8,\"#7fbc41\"],[0.9,\"#4d9221\"],[1.0,\"#276419\"]],\"sequential\":[[0.0,\"#0d0887\"],[0.1111111111111111,\"#46039f\"],[0.2222222222222222,\"#7201a8\"],[0.3333333333333333,\"#9c179e\"],[0.4444444444444444,\"#bd3786\"],[0.5555555555555556,\"#d8576b\"],[0.6666666666666666,\"#ed7953\"],[0.7777777777777778,\"#fb9f3a\"],[0.8888888888888888,\"#fdca26\"],[1.0,\"#f0f921\"]],\"sequentialminus\":[[0.0,\"#0d0887\"],[0.1111111111111111,\"#46039f\"],[0.2222222222222222,\"#7201a8\"],[0.3333333333333333,\"#9c179e\"],[0.4444444444444444,\"#bd3786\"],[0.5555555555555556,\"#d8576b\"],[0.6666666666666666,\"#ed7953\"],[0.7777777777777778,\"#fb9f3a\"],[0.8888888888888888,\"#fdca26\"],[1.0,\"#f0f921\"]]},\"hovermode\":\"closest\",\"hoverlabel\":{\"align\":\"left\"},\"coloraxis\":{\"colorbar\":{\"outlinewidth\":0.0,\"ticks\":\"\"}},\"geo\":{\"showland\":true,\"landcolor\":\"rgba(229, 236, 246, 1.0)\",\"showlakes\":true,\"lakecolor\":\"rgba(255, 255, 255, 1.0)\",\"subunitcolor\":\"rgba(255, 255, 255, 1.0)\",\"bgcolor\":\"rgba(255, 255, 255, 1.0)\"},\"mapbox\":{\"style\":\"light\"},\"polar\":{\"bgcolor\":\"rgba(229, 236, 246, 1.0)\",\"radialaxis\":{\"linecolor\":\"rgba(255, 255, 255, 1.0)\",\"gridcolor\":\"rgba(255, 255, 255, 1.0)\",\"ticks\":\"\"},\"angularaxis\":{\"linecolor\":\"rgba(255, 255, 255, 1.0)\",\"gridcolor\":\"rgba(255, 255, 255, 1.0)\",\"ticks\":\"\"}},\"scene\":{\"xaxis\":{\"ticks\":\"\",\"linecolor\":\"rgba(255, 255, 255, 1.0)\",\"gridcolor\":\"rgba(255, 255, 255, 1.0)\",\"gridwidth\":2.0,\"zerolinecolor\":\"rgba(255, 255, 255, 1.0)\",\"backgroundcolor\":\"rgba(229, 236, 246, 1.0)\",\"showbackground\":true},\"yaxis\":{\"ticks\":\"\",\"linecolor\":\"rgba(255, 255, 255, 1.0)\",\"gridcolor\":\"rgba(255, 255, 255, 1.0)\",\"gridwidth\":2.0,\"zerolinecolor\":\"rgba(255, 255, 255, 1.0)\",\"backgroundcolor\":\"rgba(229, 236, 246, 1.0)\",\"showbackground\":true},\"zaxis\":{\"ticks\":\"\",\"linecolor\":\"rgba(255, 255, 255, 1.0)\",\"gridcolor\":\"rgba(255, 255, 255, 1.0)\",\"gridwidth\":2.0,\"zerolinecolor\":\"rgba(255, 255, 255, 1.0)\",\"backgroundcolor\":\"rgba(229, 236, 246, 1.0)\",\"showbackground\":true}},\"ternary\":{\"aaxis\":{\"ticks\":\"\",\"linecolor\":\"rgba(255, 255, 255, 1.0)\",\"gridcolor\":\"rgba(255, 255, 255, 1.0)\"},\"baxis\":{\"ticks\":\"\",\"linecolor\":\"rgba(255, 255, 255, 1.0)\",\"gridcolor\":\"rgba(255, 255, 255, 1.0)\"},\"caxis\":{\"ticks\":\"\",\"linecolor\":\"rgba(255, 255, 255, 1.0)\",\"gridcolor\":\"rgba(255, 255, 255, 1.0)\"},\"bgcolor\":\"rgba(229, 236, 246, 1.0)\"},\"xaxis\":{\"title\":{\"standoff\":15},\"ticks\":\"\",\"automargin\":true,\"linecolor\":\"rgba(255, 255, 255, 1.0)\",\"gridcolor\":\"rgba(255, 255, 255, 1.0)\",\"zerolinecolor\":\"rgba(255, 255, 255, 1.0)\",\"zerolinewidth\":2.0},\"yaxis\":{\"title\":{\"standoff\":15},\"ticks\":\"\",\"automargin\":true,\"linecolor\":\"rgba(255, 255, 255, 1.0)\",\"gridcolor\":\"rgba(255, 255, 255, 1.0)\",\"zerolinecolor\":\"rgba(255, 255, 255, 1.0)\",\"zerolinewidth\":2.0},\"annotationdefaults\":{\"arrowcolor\":\"#2a3f5f\",\"arrowhead\":0,\"arrowwidth\":1},\"shapedefaults\":{\"line\":{\"color\":\"rgba(42, 63, 95, 1.0)\"}},\"colorway\":[\"rgba(99, 110, 250, 1.0)\",\"rgba(239, 85, 59, 1.0)\",\"rgba(0, 204, 150, 1.0)\",\"rgba(171, 99, 250, 1.0)\",\"rgba(255, 161, 90, 1.0)\",\"rgba(25, 211, 243, 1.0)\",\"rgba(255, 102, 146, 1.0)\",\"rgba(182, 232, 128, 1.0)\",\"rgba(255, 151, 255, 1.0)\",\"rgba(254, 203, 82, 1.0)\"]},\"data\":{\"bar\":[{\"marker\":{\"line\":{\"color\":\"rgba(229, 236, 246, 1.0)\",\"width\":0.5},\"pattern\":{\"fillmode\":\"overlay\",\"size\":10,\"solidity\":0.2}},\"errorx\":{\"color\":\"rgba(42, 63, 95, 1.0)\"},\"errory\":{\"color\":\"rgba(42, 63, 95, 1.0)\"}}],\"barpolar\":[{\"marker\":{\"line\":{\"color\":\"rgba(229, 236, 246, 1.0)\",\"width\":0.5},\"pattern\":{\"fillmode\":\"overlay\",\"size\":10,\"solidity\":0.2}}}],\"carpet\":[{\"aaxis\":{\"linecolor\":\"rgba(255, 255, 255, 1.0)\",\"gridcolor\":\"rgba(255, 255, 255, 1.0)\",\"endlinecolor\":\"rgba(42, 63, 95, 1.0)\",\"minorgridcolor\":\"rgba(255, 255, 255, 1.0)\",\"startlinecolor\":\"rgba(42, 63, 95, 1.0)\"},\"baxis\":{\"linecolor\":\"rgba(255, 255, 255, 1.0)\",\"gridcolor\":\"rgba(255, 255, 255, 1.0)\",\"endlinecolor\":\"rgba(42, 63, 95, 1.0)\",\"minorgridcolor\":\"rgba(255, 255, 255, 1.0)\",\"startlinecolor\":\"rgba(42, 63, 95, 1.0)\"}}],\"choropleth\":[{\"colorbar\":{\"outlinewidth\":0.0,\"ticks\":\"\"},\"colorscale\":[[0.0,\"#0d0887\"],[0.1111111111111111,\"#46039f\"],[0.2222222222222222,\"#7201a8\"],[0.3333333333333333,\"#9c179e\"],[0.4444444444444444,\"#bd3786\"],[0.5555555555555556,\"#d8576b\"],[0.6666666666666666,\"#ed7953\"],[0.7777777777777778,\"#fb9f3a\"],[0.8888888888888888,\"#fdca26\"],[1.0,\"#f0f921\"]]}],\"contour\":[{\"colorbar\":{\"outlinewidth\":0.0,\"ticks\":\"\"},\"colorscale\":[[0.0,\"#0d0887\"],[0.1111111111111111,\"#46039f\"],[0.2222222222222222,\"#7201a8\"],[0.3333333333333333,\"#9c179e\"],[0.4444444444444444,\"#bd3786\"],[0.5555555555555556,\"#d8576b\"],[0.6666666666666666,\"#ed7953\"],[0.7777777777777778,\"#fb9f3a\"],[0.8888888888888888,\"#fdca26\"],[1.0,\"#f0f921\"]]}],\"contourcarpet\":[{\"colorbar\":{\"outlinewidth\":0.0,\"ticks\":\"\"}}],\"heatmap\":[{\"colorbar\":{\"outlinewidth\":0.0,\"ticks\":\"\"},\"colorscale\":[[0.0,\"#0d0887\"],[0.1111111111111111,\"#46039f\"],[0.2222222222222222,\"#7201a8\"],[0.3333333333333333,\"#9c179e\"],[0.4444444444444444,\"#bd3786\"],[0.5555555555555556,\"#d8576b\"],[0.6666666666666666,\"#ed7953\"],[0.7777777777777778,\"#fb9f3a\"],[0.8888888888888888,\"#fdca26\"],[1.0,\"#f0f921\"]]}],\"heatmapgl\":[{\"colorbar\":{\"outlinewidth\":0.0,\"ticks\":\"\"},\"colorscale\":[[0.0,\"#0d0887\"],[0.1111111111111111,\"#46039f\"],[0.2222222222222222,\"#7201a8\"],[0.3333333333333333,\"#9c179e\"],[0.4444444444444444,\"#bd3786\"],[0.5555555555555556,\"#d8576b\"],[0.6666666666666666,\"#ed7953\"],[0.7777777777777778,\"#fb9f3a\"],[0.8888888888888888,\"#fdca26\"],[1.0,\"#f0f921\"]]}],\"histogram\":[{\"marker\":{\"pattern\":{\"fillmode\":\"overlay\",\"size\":10,\"solidity\":0.2}}}],\"histogram2d\":[{\"colorbar\":{\"outlinewidth\":0.0,\"ticks\":\"\"},\"colorscale\":[[0.0,\"#0d0887\"],[0.1111111111111111,\"#46039f\"],[0.2222222222222222,\"#7201a8\"],[0.3333333333333333,\"#9c179e\"],[0.4444444444444444,\"#bd3786\"],[0.5555555555555556,\"#d8576b\"],[0.6666666666666666,\"#ed7953\"],[0.7777777777777778,\"#fb9f3a\"],[0.8888888888888888,\"#fdca26\"],[1.0,\"#f0f921\"]]}],\"histogram2dcontour\":[{\"colorbar\":{\"outlinewidth\":0.0,\"ticks\":\"\"},\"colorscale\":[[0.0,\"#0d0887\"],[0.1111111111111111,\"#46039f\"],[0.2222222222222222,\"#7201a8\"],[0.3333333333333333,\"#9c179e\"],[0.4444444444444444,\"#bd3786\"],[0.5555555555555556,\"#d8576b\"],[0.6666666666666666,\"#ed7953\"],[0.7777777777777778,\"#fb9f3a\"],[0.8888888888888888,\"#fdca26\"],[1.0,\"#f0f921\"]]}],\"mesh3d\":[{\"colorbar\":{\"outlinewidth\":0.0,\"ticks\":\"\"}}],\"parcoords\":[{\"line\":{\"colorbar\":{\"outlinewidth\":0.0,\"ticks\":\"\"}}}],\"pie\":[{\"automargin\":true}],\"scatter\":[{\"marker\":{\"colorbar\":{\"outlinewidth\":0.0,\"ticks\":\"\"}}}],\"scatter3d\":[{\"marker\":{\"colorbar\":{\"outlinewidth\":0.0,\"ticks\":\"\"}},\"line\":{\"colorbar\":{\"outlinewidth\":0.0,\"ticks\":\"\"}}}],\"scattercarpet\":[{\"marker\":{\"colorbar\":{\"outlinewidth\":0.0,\"ticks\":\"\"}}}],\"scattergeo\":[{\"marker\":{\"colorbar\":{\"outlinewidth\":0.0,\"ticks\":\"\"}}}],\"scattergl\":[{\"marker\":{\"colorbar\":{\"outlinewidth\":0.0,\"ticks\":\"\"}}}],\"scattermapbox\":[{\"marker\":{\"colorbar\":{\"outlinewidth\":0.0,\"ticks\":\"\"}}}],\"scatterpolar\":[{\"marker\":{\"colorbar\":{\"outlinewidth\":0.0,\"ticks\":\"\"}}}],\"scatterpolargl\":[{\"marker\":{\"colorbar\":{\"outlinewidth\":0.0,\"ticks\":\"\"}}}],\"scatterternary\":[{\"marker\":{\"colorbar\":{\"outlinewidth\":0.0,\"ticks\":\"\"}}}],\"surface\":[{\"colorbar\":{\"outlinewidth\":0.0,\"ticks\":\"\"},\"colorscale\":[[0.0,\"#0d0887\"],[0.1111111111111111,\"#46039f\"],[0.2222222222222222,\"#7201a8\"],[0.3333333333333333,\"#9c179e\"],[0.4444444444444444,\"#bd3786\"],[0.5555555555555556,\"#d8576b\"],[0.6666666666666666,\"#ed7953\"],[0.7777777777777778,\"#fb9f3a\"],[0.8888888888888888,\"#fdca26\"],[1.0,\"#f0f921\"]]}],\"table\":[{\"cells\":{\"fill\":{\"color\":\"rgba(235, 240, 248, 1.0)\"},\"line\":{\"color\":\"rgba(255, 255, 255, 1.0)\"}},\"header\":{\"fill\":{\"color\":\"rgba(200, 212, 227, 1.0)\"},\"line\":{\"color\":\"rgba(255, 255, 255, 1.0)\"}}}]}}};\r\n",
       "            var config = {\"responsive\":true};\r\n",
       "            Plotly.newPlot('b0ec7588-ebeb-42d5-9da5-f95d12eafbe9', data, layout, config);\r\n",
       "});\r\n",
       "            };\r\n",
       "            if ((typeof(requirejs) !==  typeof(Function)) || (typeof(requirejs.config) !== typeof(Function))) {\r\n",
       "                var script = document.createElement(\"script\");\r\n",
       "                script.setAttribute(\"src\", \"https://cdnjs.cloudflare.com/ajax/libs/require.js/2.3.6/require.min.js\");\r\n",
       "                script.onload = function(){\r\n",
       "                    renderPlotly_b0ec7588ebeb42d59da5f95d12eafbe9();\r\n",
       "                };\r\n",
       "                document.getElementsByTagName(\"head\")[0].appendChild(script);\r\n",
       "            }\r\n",
       "            else {\r\n",
       "                renderPlotly_b0ec7588ebeb42d59da5f95d12eafbe9();\r\n",
       "            }\r\n",
       "</script>\r\n"
      ]
     },
     "metadata": {},
     "output_type": "display_data"
    }
   ],
   "source": [
    "let r1 = { Cuboid.T.X = 10,12; Cuboid.T.Y = 10,12; Cuboid.T.Z = 10,12}\n",
    "let r2 = { Cuboid.T.X = 11,13; Cuboid.T.Y = 11,13; Cuboid.T.Z = 11,13}\n",
    "let r3 = { Cuboid.T.X = 9,11; Cuboid.T.Y = 9,11; Cuboid.T.Z = 9,11}\n",
    "let r4 = { Cuboid.T.X = 10,10; Cuboid.T.Y = 10,10; Cuboid.T.Z = 10,10}\n",
    "\n",
    "Cuboids.empty\n",
    "|> Cuboids.add r1\n",
    "|> Cuboids.add r2\n",
    "|> Cuboids.subtract r3\n",
    "|> Cuboids.add r4"
   ]
  },
  {
   "cell_type": "markdown",
   "metadata": {},
   "source": [
    "### Part 1"
   ]
  },
  {
   "cell_type": "code",
   "execution_count": null,
   "metadata": {
    "dotnet_interactive": {
     "language": "fsharp"
    }
   },
   "outputs": [
    {
     "data": {
      "text/html": [
       "<div><div></div><div></div><div><strong>Installed Packages</strong><ul><li><span>FSharp.Text.RegexProvider, 2.1.0</span></li></ul></div></div>"
      ]
     },
     "metadata": {},
     "output_type": "display_data"
    }
   ],
   "source": [
    "#r \"nuget:FSharp.Text.RegexProvider\"\n",
    "open FSharp.Text.RegexProvider\n",
    "open FSharp.Text.RegexExtensions\n",
    "type private TypeInputRegex =\n",
    "   Regex< @\"(?<Op>\\w+)\\sx=(?<FromX>-?\\d+)\\.\\.(?<ToX>-?\\d+),y=(?<FromY>-?\\d+)\\.\\.(?<ToY>-?\\d+),z=(?<FromZ>-?\\d+)\\.\\.(?<ToZ>-?\\d+)\" >\n",
    "\n",
    "let parseLine line =\n",
    "    match TypeInputRegex().TryTypedMatch(line) with\n",
    "    | None -> failwith \"unparsed\"\n",
    "    | Some match' ->\n",
    "        (match'.Op.Value,\n",
    "                        { Cuboid.T.X = match'.FromX.AsInt, match'.ToX.AsInt\n",
    "                          Cuboid.T.Y = match'.FromY.AsInt, match'.ToY.AsInt\n",
    "                          Cuboid.T.Z = match'.FromZ.AsInt, match'.ToZ.AsInt })"
   ]
  },
  {
   "cell_type": "code",
   "execution_count": null,
   "metadata": {
    "dotnet_interactive": {
     "language": "fsharp"
    }
   },
   "outputs": [],
   "source": [
    "#!value --name sample1Raw --from-file=./sample1"
   ]
  },
  {
   "cell_type": "code",
   "execution_count": null,
   "metadata": {
    "dotnet_interactive": {
     "language": "fsharp"
    }
   },
   "outputs": [],
   "source": [
    "#!value --name sample2Raw --from-file=./sample2"
   ]
  },
  {
   "cell_type": "code",
   "execution_count": null,
   "metadata": {
    "dotnet_interactive": {
     "language": "fsharp"
    }
   },
   "outputs": [],
   "source": [
    "#!value --name inputRaw --from-file=./data"
   ]
  },
  {
   "cell_type": "code",
   "execution_count": null,
   "metadata": {
    "dotnet_interactive": {
     "language": "fsharp"
    }
   },
   "outputs": [],
   "source": [
    "#!share sample1Raw --from value\n",
    "#!share sample2Raw --from value\n",
    "#!share inputRaw --from value\n",
    "\n",
    "#load \"../common.fsx\"\n",
    "let sample1Input = sample1Raw |> readLines |> Array.map parseLine\n",
    "let sample2Input = sample2Raw |> readLines |> Array.map parseLine\n",
    "let actualInput = inputRaw |> readLines |> Array.map parseLine"
   ]
  },
  {
   "cell_type": "code",
   "execution_count": null,
   "metadata": {
    "dotnet_interactive": {
     "language": "fsharp"
    }
   },
   "outputs": [],
   "source": [
    "let perform commands = \n",
    "    commands\n",
    "    |> Array.fold (fun cuboids (op, cuboid) -> \n",
    "                        (cuboid, cuboids) \n",
    "                        ||> match op with \n",
    "                            | \"on\" -> Cuboids.add \n",
    "                            | \"off\" -> Cuboids.subtract) Cuboids.empty\n",
    "     \n",
    " "
   ]
  },
  {
   "cell_type": "code",
   "execution_count": null,
   "metadata": {
    "dotnet_interactive": {
     "language": "fsharp"
    }
   },
   "outputs": [
    {
     "data": {
      "text/html": [
       "<div id=\"fab3dbaa-37df-4e58-97f2-068c7b2aad5e\"><!-- Plotly chart will be drawn inside this DIV --></div>\r\n",
       "<script type=\"text/javascript\">\r\n",
       "\r\n",
       "            var renderPlotly_fab3dbaa37df4e5897f2068c7b2aad5e = function() {\r\n",
       "            var fsharpPlotlyRequire = requirejs.config({context:'fsharp-plotly',paths:{plotly:'https://cdn.plot.ly/plotly-2.6.3.min'}}) || require;\r\n",
       "            fsharpPlotlyRequire(['plotly'], function(Plotly) {\r\n",
       "\r\n",
       "            var data = [{\"type\":\"mesh3d\",\"opacity\":0.5,\"x\":[-41,10,-41,10,-41,10,-41,10],\"y\":[-7,-7,44,44,-7,-7,44,44],\"z\":[-33,-33,-33,-33,16,16,16,16],\"i\":[0,0,0,0,0,0,3,3,4,4,7,7],\"j\":[3,3,6,6,5,5,6,6,7,7,1,1],\"k\":[1,2,2,4,4,1,2,7,6,5,3,5],\"flatshading\":true},{\"type\":\"mesh3d\",\"opacity\":0.5,\"x\":[-49,-4,-49,-4,-49,-4,-49,-4],\"y\":[44,44,46,46,44,44,46,46],\"z\":[-29,-29,-29,-29,19,19,19,19],\"i\":[0,0,0,0,0,0,3,3,4,4,7,7],\"j\":[3,3,6,6,5,5,6,6,7,7,1,1],\"k\":[1,2,2,4,4,1,2,7,6,5,3,5],\"flatshading\":true},{\"type\":\"mesh3d\",\"opacity\":0.5,\"x\":[-49,-41,-49,-41,-49,-41,-49,-41],\"y\":[-3,-3,44,44,-3,-3,44,44],\"z\":[-29,-29,-29,-29,19,19,19,19],\"i\":[0,0,0,0,0,0,3,3,4,4,7,7],\"j\":[3,3,6,6,5,5,6,6,7,7,1,1],\"k\":[1,2,2,4,4,1,2,7,6,5,3,5],\"flatshading\":true},{\"type\":\"mesh3d\",\"opacity\":0.5,\"x\":[-41,-4,-41,-4,-41,-4,-41,-4],\"y\":[-3,-3,44,44,-3,-3,44,44],\"z\":[16,16,16,16,19,19,19,19],\"i\":[0,0,0,0,0,0,3,3,4,4,7,7],\"j\":[3,3,6,6,5,5,6,6,7,7,1,1],\"k\":[1,2,2,4,4,1,2,7,6,5,3,5],\"flatshading\":true},{\"type\":\"mesh3d\",\"opacity\":0.5,\"x\":[10,36,10,36,10,36,10,36],\"y\":[-7,-7,-3,-3,-7,-7,-3,-3],\"z\":[-47,-47,-47,-47,7,7,7,7],\"i\":[0,0,0,0,0,0,3,3,4,4,7,7],\"j\":[3,3,6,6,5,5,6,6,7,7,1,1],\"k\":[1,2,2,4,4,1,2,7,6,5,3,5],\"flatshading\":true},{\"type\":\"mesh3d\",\"opacity\":0.5,\"x\":[-16,10,-16,10,-16,10,-16,10],\"y\":[-7,-7,-3,-3,-7,-7,-3,-3],\"z\":[-47,-47,-47,-47,-33,-33,-33,-33],\"i\":[0,0,0,0,0,0,3,3,4,4,7,7],\"j\":[3,3,6,6,5,5,6,6,7,7,1,1],\"k\":[1,2,2,4,4,1,2,7,6,5,3,5],\"flatshading\":true},{\"type\":\"mesh3d\",\"opacity\":0.5,\"x\":[-16,36,-16,36,-16,36,-16,36],\"y\":[-41,-41,-20,-20,-41,-41,-20,-20],\"z\":[-47,-47,-47,-47,7,7,7,7],\"i\":[0,0,0,0,0,0,3,3,4,4,7,7],\"j\":[3,3,6,6,5,5,6,6,7,7,1,1],\"k\":[1,2,2,4,4,1,2,7,6,5,3,5],\"flatshading\":true},{\"type\":\"mesh3d\",\"opacity\":0.5,\"x\":[-16,18,-16,18,-16,18,-16,18],\"y\":[-20,-20,-7,-7,-20,-20,-7,-7],\"z\":[-47,-47,-47,-47,7,7,7,7],\"i\":[0,0,0,0,0,0,3,3,4,4,7,7],\"j\":[3,3,6,6,5,5,6,6,7,7,1,1],\"k\":[1,2,2,4,4,1,2,7,6,5,3,5],\"flatshading\":true},{\"type\":\"mesh3d\",\"opacity\":0.5,\"x\":[31,36,31,36,31,36,31,36],\"y\":[-20,-20,-7,-7,-20,-20,-7,-7],\"z\":[-47,-47,-47,-47,7,7,7,7],\"i\":[0,0,0,0,0,0,3,3,4,4,7,7],\"j\":[3,3,6,6,5,5,6,6,7,7,1,1],\"k\":[1,2,2,4,4,1,2,7,6,5,3,5],\"flatshading\":true},{\"type\":\"mesh3d\",\"opacity\":0.5,\"x\":[18,31,18,31,18,31,18,31],\"y\":[-20,-20,-7,-7,-20,-20,-7,-7],\"z\":[-47,-47,-47,-47,-3,-3,-3,-3],\"i\":[0,0,0,0,0,0,3,3,4,4,7,7],\"j\":[3,3,6,6,5,5,6,6,7,7,1,1],\"k\":[1,2,2,4,4,1,2,7,6,5,3,5],\"flatshading\":true},{\"type\":\"mesh3d\",\"opacity\":0.5,\"x\":[10,36,10,36,10,36,10,36],\"y\":[-3,-3,11,11,-3,-3,11,11],\"z\":[-47,-47,-47,-47,7,7,7,7],\"i\":[0,0,0,0,0,0,3,3,4,4,7,7],\"j\":[3,3,6,6,5,5,6,6,7,7,1,1],\"k\":[1,2,2,4,4,1,2,7,6,5,3,5],\"flatshading\":true},{\"type\":\"mesh3d\",\"opacity\":0.5,\"x\":[-4,10,-4,10,-4,10,-4,10],\"y\":[-3,-3,11,11,-3,-3,11,11],\"z\":[-47,-47,-47,-47,-33,-33,-33,-33],\"i\":[0,0,0,0,0,0,3,3,4,4,7,7],\"j\":[3,3,6,6,5,5,6,6,7,7,1,1],\"k\":[1,2,2,4,4,1,2,7,6,5,3,5],\"flatshading\":true},{\"type\":\"mesh3d\",\"opacity\":0.5,\"x\":[-16,-4,-16,-4,-16,-4,-16,-4],\"y\":[-3,-3,11,11,-3,-3,11,11],\"z\":[-47,-47,-47,-47,-33,-33,-33,-33],\"i\":[0,0,0,0,0,0,3,3,4,4,7,7],\"j\":[3,3,6,6,5,5,6,6,7,7,1,1],\"k\":[1,2,2,4,4,1,2,7,6,5,3,5],\"flatshading\":true},{\"type\":\"mesh3d\",\"opacity\":0.5,\"x\":[10,27,10,27,10,27,10,27],\"y\":[11,11,16,16,11,11,16,16],\"z\":[-7,-7,-7,-7,47,47,47,47],\"i\":[0,0,0,0,0,0,3,3,4,4,7,7],\"j\":[3,3,6,6,5,5,6,6,7,7,1,1],\"k\":[1,2,2,4,4,1,2,7,6,5,3,5],\"flatshading\":true},{\"type\":\"mesh3d\",\"opacity\":0.5,\"x\":[-4,10,-4,10,-4,10,-4,10],\"y\":[11,11,16,16,11,11,16,16],\"z\":[16,16,16,16,47,47,47,47],\"i\":[0,0,0,0,0,0,3,3,4,4,7,7],\"j\":[3,3,6,6,5,5,6,6,7,7,1,1],\"k\":[1,2,2,4,4,1,2,7,6,5,3,5],\"flatshading\":true},{\"type\":\"mesh3d\",\"opacity\":0.5,\"x\":[-18,-4,-18,-4,-18,-4,-18,-4],\"y\":[11,11,16,16,11,11,16,16],\"z\":[19,19,19,19,47,47,47,47],\"i\":[0,0,0,0,0,0,3,3,4,4,7,7],\"j\":[3,3,6,6,5,5,6,6,7,7,1,1],\"k\":[1,2,2,4,4,1,2,7,6,5,3,5],\"flatshading\":true},{\"type\":\"mesh3d\",\"opacity\":0.5,\"x\":[-18,-16,-18,-16,-18,-16,-18,-16],\"y\":[-33,-33,-7,-7,-33,-33,-7,-7],\"z\":[-7,-7,-7,-7,47,47,47,47],\"i\":[0,0,0,0,0,0,3,3,4,4,7,7],\"j\":[3,3,6,6,5,5,6,6,7,7,1,1],\"k\":[1,2,2,4,4,1,2,7,6,5,3,5],\"flatshading\":true},{\"type\":\"mesh3d\",\"opacity\":0.5,\"x\":[-18,-16,-18,-16,-18,-16,-18,-16],\"y\":[-7,-7,-3,-3,-7,-7,-3,-3],\"z\":[16,16,16,16,47,47,47,47],\"i\":[0,0,0,0,0,0,3,3,4,4,7,7],\"j\":[3,3,6,6,5,5,6,6,7,7,1,1],\"k\":[1,2,2,4,4,1,2,7,6,5,3,5],\"flatshading\":true},{\"type\":\"mesh3d\",\"opacity\":0.5,\"x\":[-18,-16,-18,-16,-18,-16,-18,-16],\"y\":[-3,-3,11,11,-3,-3,11,11],\"z\":[19,19,19,19,47,47,47,47],\"i\":[0,0,0,0,0,0,3,3,4,4,7,7],\"j\":[3,3,6,6,5,5,6,6,7,7,1,1],\"k\":[1,2,2,4,4,1,2,7,6,5,3,5],\"flatshading\":true},{\"type\":\"mesh3d\",\"opacity\":0.5,\"x\":[10,27,10,27,10,27,10,27],\"y\":[-7,-7,-3,-3,-7,-7,-3,-3],\"z\":[7,7,7,7,47,47,47,47],\"i\":[0,0,0,0,0,0,3,3,4,4,7,7],\"j\":[3,3,6,6,5,5,6,6,7,7,1,1],\"k\":[1,2,2,4,4,1,2,7,6,5,3,5],\"flatshading\":true},{\"type\":\"mesh3d\",\"opacity\":0.5,\"x\":[-16,10,-16,10,-16,10,-16,10],\"y\":[-7,-7,-3,-3,-7,-7,-3,-3],\"z\":[16,16,16,16,47,47,47,47],\"i\":[0,0,0,0,0,0,3,3,4,4,7,7],\"j\":[3,3,6,6,5,5,6,6,7,7,1,1],\"k\":[1,2,2,4,4,1,2,7,6,5,3,5],\"flatshading\":true},{\"type\":\"mesh3d\",\"opacity\":0.5,\"x\":[-16,27,-16,27,-16,27,-16,27],\"y\":[-33,-33,-20,-20,-33,-33,-20,-20],\"z\":[7,7,7,7,47,47,47,47],\"i\":[0,0,0,0,0,0,3,3,4,4,7,7],\"j\":[3,3,6,6,5,5,6,6,7,7,1,1],\"k\":[1,2,2,4,4,1,2,7,6,5,3,5],\"flatshading\":true},{\"type\":\"mesh3d\",\"opacity\":0.5,\"x\":[-16,18,-16,18,-16,18,-16,18],\"y\":[-20,-20,-7,-7,-20,-20,-7,-7],\"z\":[7,7,7,7,47,47,47,47],\"i\":[0,0,0,0,0,0,3,3,4,4,7,7],\"j\":[3,3,6,6,5,5,6,6,7,7,1,1],\"k\":[1,2,2,4,4,1,2,7,6,5,3,5],\"flatshading\":true},{\"type\":\"mesh3d\",\"opacity\":0.5,\"x\":[18,27,18,27,18,27,18,27],\"y\":[-20,-20,-7,-7,-20,-20,-7,-7],\"z\":[14,14,14,14,47,47,47,47],\"i\":[0,0,0,0,0,0,3,3,4,4,7,7],\"j\":[3,3,6,6,5,5,6,6,7,7,1,1],\"k\":[1,2,2,4,4,1,2,7,6,5,3,5],\"flatshading\":true},{\"type\":\"mesh3d\",\"opacity\":0.5,\"x\":[10,27,10,27,10,27,10,27],\"y\":[-3,-3,11,11,-3,-3,11,11],\"z\":[7,7,7,7,47,47,47,47],\"i\":[0,0,0,0,0,0,3,3,4,4,7,7],\"j\":[3,3,6,6,5,5,6,6,7,7,1,1],\"k\":[1,2,2,4,4,1,2,7,6,5,3,5],\"flatshading\":true},{\"type\":\"mesh3d\",\"opacity\":0.5,\"x\":[-4,10,-4,10,-4,10,-4,10],\"y\":[-3,-3,11,11,-3,-3,11,11],\"z\":[16,16,16,16,47,47,47,47],\"i\":[0,0,0,0,0,0,3,3,4,4,7,7],\"j\":[3,3,6,6,5,5,6,6,7,7,1,1],\"k\":[1,2,2,4,4,1,2,7,6,5,3,5],\"flatshading\":true},{\"type\":\"mesh3d\",\"opacity\":0.5,\"x\":[-16,-4,-16,-4,-16,-4,-16,-4],\"y\":[-3,-3,11,11,-3,-3,11,11],\"z\":[19,19,19,19,47,47,47,47],\"i\":[0,0,0,0,0,0,3,3,4,4,7,7],\"j\":[3,3,6,6,5,5,6,6,7,7,1,1],\"k\":[1,2,2,4,4,1,2,7,6,5,3,5],\"flatshading\":true},{\"type\":\"mesh3d\",\"opacity\":0.5,\"x\":[-12,36,-12,36,-12,36,-12,36],\"y\":[46,46,51,51,46,46,51,51],\"z\":[-50,-50,-50,-50,-1,-1,-1,-1],\"i\":[0,0,0,0,0,0,3,3,4,4,7,7],\"j\":[3,3,6,6,5,5,6,6,7,7,1,1],\"k\":[1,2,2,4,4,1,2,7,6,5,3,5],\"flatshading\":true},{\"type\":\"mesh3d\",\"opacity\":0.5,\"x\":[-4,36,-4,36,-4,36,-4,36],\"y\":[44,44,46,46,44,44,46,46],\"z\":[-50,-50,-50,-50,-1,-1,-1,-1],\"i\":[0,0,0,0,0,0,3,3,4,4,7,7],\"j\":[3,3,6,6,5,5,6,6,7,7,1,1],\"k\":[1,2,2,4,4,1,2,7,6,5,3,5],\"flatshading\":true},{\"type\":\"mesh3d\",\"opacity\":0.5,\"x\":[10,36,10,36,10,36,10,36],\"y\":[16,16,44,44,16,16,44,44],\"z\":[-50,-50,-50,-50,-1,-1,-1,-1],\"i\":[0,0,0,0,0,0,3,3,4,4,7,7],\"j\":[3,3,6,6,5,5,6,6,7,7,1,1],\"k\":[1,2,2,4,4,1,2,7,6,5,3,5],\"flatshading\":true},{\"type\":\"mesh3d\",\"opacity\":0.5,\"x\":[-4,10,-4,10,-4,10,-4,10],\"y\":[16,16,44,44,16,16,44,44],\"z\":[-50,-50,-50,-50,-33,-33,-33,-33],\"i\":[0,0,0,0,0,0,3,3,4,4,7,7],\"j\":[3,3,6,6,5,5,6,6,7,7,1,1],\"k\":[1,2,2,4,4,1,2,7,6,5,3,5],\"flatshading\":true},{\"type\":\"mesh3d\",\"opacity\":0.5,\"x\":[-12,-4,-12,-4,-12,-4,-12,-4],\"y\":[44,44,46,46,44,44,46,46],\"z\":[-50,-50,-50,-50,-29,-29,-29,-29],\"i\":[0,0,0,0,0,0,3,3,4,4,7,7],\"j\":[3,3,6,6,5,5,6,6,7,7,1,1],\"k\":[1,2,2,4,4,1,2,7,6,5,3,5],\"flatshading\":true},{\"type\":\"mesh3d\",\"opacity\":0.5,\"x\":[-12,-4,-12,-4,-12,-4,-12,-4],\"y\":[16,16,44,44,16,16,44,44],\"z\":[-50,-50,-50,-50,-33,-33,-33,-33],\"i\":[0,0,0,0,0,0,3,3,4,4,7,7],\"j\":[3,3,6,6,5,5,6,6,7,7,1,1],\"k\":[1,2,2,4,4,1,2,7,6,5,3,5],\"flatshading\":true},{\"type\":\"mesh3d\",\"opacity\":0.5,\"x\":[27,36,27,36,27,36,27,36],\"y\":[11,11,16,16,11,11,16,16],\"z\":[-50,-50,-50,-50,-1,-1,-1,-1],\"i\":[0,0,0,0,0,0,3,3,4,4,7,7],\"j\":[3,3,6,6,5,5,6,6,7,7,1,1],\"k\":[1,2,2,4,4,1,2,7,6,5,3,5],\"flatshading\":true},{\"type\":\"mesh3d\",\"opacity\":0.5,\"x\":[27,36,27,36,27,36,27,36],\"y\":[6,6,11,11,6,6,11,11],\"z\":[-50,-50,-50,-50,-47,-47,-47,-47],\"i\":[0,0,0,0,0,0,3,3,4,4,7,7],\"j\":[3,3,6,6,5,5,6,6,7,7,1,1],\"k\":[1,2,2,4,4,1,2,7,6,5,3,5],\"flatshading\":true},{\"type\":\"mesh3d\",\"opacity\":0.5,\"x\":[10,27,10,27,10,27,10,27],\"y\":[11,11,16,16,11,11,16,16],\"z\":[-50,-50,-50,-50,-7,-7,-7,-7],\"i\":[0,0,0,0,0,0,3,3,4,4,7,7],\"j\":[3,3,6,6,5,5,6,6,7,7,1,1],\"k\":[1,2,2,4,4,1,2,7,6,5,3,5],\"flatshading\":true},{\"type\":\"mesh3d\",\"opacity\":0.5,\"x\":[-4,10,-4,10,-4,10,-4,10],\"y\":[11,11,16,16,11,11,16,16],\"z\":[-50,-50,-50,-50,-33,-33,-33,-33],\"i\":[0,0,0,0,0,0,3,3,4,4,7,7],\"j\":[3,3,6,6,5,5,6,6,7,7,1,1],\"k\":[1,2,2,4,4,1,2,7,6,5,3,5],\"flatshading\":true},{\"type\":\"mesh3d\",\"opacity\":0.5,\"x\":[-12,-4,-12,-4,-12,-4,-12,-4],\"y\":[11,11,16,16,11,11,16,16],\"z\":[-50,-50,-50,-50,-33,-33,-33,-33],\"i\":[0,0,0,0,0,0,3,3,4,4,7,7],\"j\":[3,3,6,6,5,5,6,6,7,7,1,1],\"k\":[1,2,2,4,4,1,2,7,6,5,3,5],\"flatshading\":true},{\"type\":\"mesh3d\",\"opacity\":0.5,\"x\":[-12,27,-12,27,-12,27,-12,27],\"y\":[6,6,11,11,6,6,11,11],\"z\":[-50,-50,-50,-50,-47,-47,-47,-47],\"i\":[0,0,0,0,0,0,3,3,4,4,7,7],\"j\":[3,3,6,6,5,5,6,6,7,7,1,1],\"k\":[1,2,2,4,4,1,2,7,6,5,3,5],\"flatshading\":true},{\"type\":\"mesh3d\",\"opacity\":0.5,\"x\":[-22,-18,-22,-18,-22,-18,-22,-18],\"y\":[-27,-27,-7,-7,-27,-27,-7,-7],\"z\":[-29,-29,-29,-29,20,20,20,20],\"i\":[0,0,0,0,0,0,3,3,4,4,7,7],\"j\":[3,3,6,6,5,5,6,6,7,7,1,1],\"k\":[1,2,2,4,4,1,2,7,6,5,3,5],\"flatshading\":true},{\"type\":\"mesh3d\",\"opacity\":0.5,\"x\":[-22,-18,-22,-18,-22,-18,-22,-18],\"y\":[-7,-7,-3,-3,-7,-7,-3,-3],\"z\":[16,16,16,16,20,20,20,20],\"i\":[0,0,0,0,0,0,3,3,4,4,7,7],\"j\":[3,3,6,6,5,5,6,6,7,7,1,1],\"k\":[1,2,2,4,4,1,2,7,6,5,3,5],\"flatshading\":true},{\"type\":\"mesh3d\",\"opacity\":0.5,\"x\":[-22,-18,-22,-18,-22,-18,-22,-18],\"y\":[-3,-3,6,6,-3,-3,6,6],\"z\":[19,19,19,19,20,20,20,20],\"i\":[0,0,0,0,0,0,3,3,4,4,7,7],\"j\":[3,3,6,6,5,5,6,6,7,7,1,1],\"k\":[1,2,2,4,4,1,2,7,6,5,3,5],\"flatshading\":true},{\"type\":\"mesh3d\",\"opacity\":0.5,\"x\":[-18,-16,-18,-16,-18,-16,-18,-16],\"y\":[-27,-27,-7,-7,-27,-27,-7,-7],\"z\":[-29,-29,-29,-29,-7,-7,-7,-7],\"i\":[0,0,0,0,0,0,3,3,4,4,7,7],\"j\":[3,3,6,6,5,5,6,6,7,7,1,1],\"k\":[1,2,2,4,4,1,2,7,6,5,3,5],\"flatshading\":true},{\"type\":\"mesh3d\",\"opacity\":0.5,\"x\":[-22,-12,-22,-12,-22,-12,-22,-12],\"y\":[16,16,21,21,16,16,21,21],\"z\":[19,19,19,19,20,20,20,20],\"i\":[0,0,0,0,0,0,3,3,4,4,7,7],\"j\":[3,3,6,6,5,5,6,6,7,7,1,1],\"k\":[1,2,2,4,4,1,2,7,6,5,3,5],\"flatshading\":true},{\"type\":\"mesh3d\",\"opacity\":0.5,\"x\":[-22,-18,-22,-18,-22,-18,-22,-18],\"y\":[6,6,16,16,6,6,16,16],\"z\":[19,19,19,19,20,20,20,20],\"i\":[0,0,0,0,0,0,3,3,4,4,7,7],\"j\":[3,3,6,6,5,5,6,6,7,7,1,1],\"k\":[1,2,2,4,4,1,2,7,6,5,3,5],\"flatshading\":true},{\"type\":\"mesh3d\",\"opacity\":0.5,\"x\":[10,27,10,27,10,27,10,27],\"y\":[16,16,21,21,16,16,21,21],\"z\":[-1,-1,-1,-1,20,20,20,20],\"i\":[0,0,0,0,0,0,3,3,4,4,7,7],\"j\":[3,3,6,6,5,5,6,6,7,7,1,1],\"k\":[1,2,2,4,4,1,2,7,6,5,3,5],\"flatshading\":true},{\"type\":\"mesh3d\",\"opacity\":0.5,\"x\":[-4,10,-4,10,-4,10,-4,10],\"y\":[16,16,21,21,16,16,21,21],\"z\":[16,16,16,16,20,20,20,20],\"i\":[0,0,0,0,0,0,3,3,4,4,7,7],\"j\":[3,3,6,6,5,5,6,6,7,7,1,1],\"k\":[1,2,2,4,4,1,2,7,6,5,3,5],\"flatshading\":true},{\"type\":\"mesh3d\",\"opacity\":0.5,\"x\":[-12,-4,-12,-4,-12,-4,-12,-4],\"y\":[16,16,21,21,16,16,21,21],\"z\":[19,19,19,19,20,20,20,20],\"i\":[0,0,0,0,0,0,3,3,4,4,7,7],\"j\":[3,3,6,6,5,5,6,6,7,7,1,1],\"k\":[1,2,2,4,4,1,2,7,6,5,3,5],\"flatshading\":true},{\"type\":\"mesh3d\",\"opacity\":0.5,\"x\":[-30,-12,-30,-12,-30,-12,-30,-12],\"y\":[31,31,44,44,31,31,44,44],\"z\":[19,19,19,19,35,35,35,35],\"i\":[0,0,0,0,0,0,3,3,4,4,7,7],\"j\":[3,3,6,6,5,5,6,6,7,7,1,1],\"k\":[1,2,2,4,4,1,2,7,6,5,3,5],\"flatshading\":true},{\"type\":\"mesh3d\",\"opacity\":0.5,\"x\":[-22,-12,-22,-12,-22,-12,-22,-12],\"y\":[21,21,31,31,21,21,31,31],\"z\":[19,19,19,19,35,35,35,35],\"i\":[0,0,0,0,0,0,3,3,4,4,7,7],\"j\":[3,3,6,6,5,5,6,6,7,7,1,1],\"k\":[1,2,2,4,4,1,2,7,6,5,3,5],\"flatshading\":true},{\"type\":\"mesh3d\",\"opacity\":0.5,\"x\":[-30,-22,-30,-22,-30,-22,-30,-22],\"y\":[21,21,31,31,21,21,31,31],\"z\":[19,19,19,19,35,35,35,35],\"i\":[0,0,0,0,0,0,3,3,4,4,7,7],\"j\":[3,3,6,6,5,5,6,6,7,7,1,1],\"k\":[1,2,2,4,4,1,2,7,6,5,3,5],\"flatshading\":true},{\"type\":\"mesh3d\",\"opacity\":0.5,\"x\":[10,22,10,22,10,22,10,22],\"y\":[21,21,44,44,21,21,44,44],\"z\":[-1,-1,-1,-1,35,35,35,35],\"i\":[0,0,0,0,0,0,3,3,4,4,7,7],\"j\":[3,3,6,6,5,5,6,6,7,7,1,1],\"k\":[1,2,2,4,4,1,2,7,6,5,3,5],\"flatshading\":true},{\"type\":\"mesh3d\",\"opacity\":0.5,\"x\":[-4,10,-4,10,-4,10,-4,10],\"y\":[21,21,44,44,21,21,44,44],\"z\":[16,16,16,16,35,35,35,35],\"i\":[0,0,0,0,0,0,3,3,4,4,7,7],\"j\":[3,3,6,6,5,5,6,6,7,7,1,1],\"k\":[1,2,2,4,4,1,2,7,6,5,3,5],\"flatshading\":true},{\"type\":\"mesh3d\",\"opacity\":0.5,\"x\":[-12,-4,-12,-4,-12,-4,-12,-4],\"y\":[21,21,44,44,21,21,44,44],\"z\":[19,19,19,19,35,35,35,35],\"i\":[0,0,0,0,0,0,3,3,4,4,7,7],\"j\":[3,3,6,6,5,5,6,6,7,7,1,1],\"k\":[1,2,2,4,4,1,2,7,6,5,3,5],\"flatshading\":true},{\"type\":\"mesh3d\",\"opacity\":0.5,\"x\":[-30,-22,-30,-22,-30,-22,-30,-22],\"y\":[-8,-8,-7,-7,-8,-8,-7,-7],\"z\":[-13,-13,-13,-13,35,35,35,35],\"i\":[0,0,0,0,0,0,3,3,4,4,7,7],\"j\":[3,3,6,6,5,5,6,6,7,7,1,1],\"k\":[1,2,2,4,4,1,2,7,6,5,3,5],\"flatshading\":true},{\"type\":\"mesh3d\",\"opacity\":0.5,\"x\":[-30,-22,-30,-22,-30,-22,-30,-22],\"y\":[-7,-7,-3,-3,-7,-7,-3,-3],\"z\":[16,16,16,16,35,35,35,35],\"i\":[0,0,0,0,0,0,3,3,4,4,7,7],\"j\":[3,3,6,6,5,5,6,6,7,7,1,1],\"k\":[1,2,2,4,4,1,2,7,6,5,3,5],\"flatshading\":true},{\"type\":\"mesh3d\",\"opacity\":0.5,\"x\":[-30,-22,-30,-22,-30,-22,-30,-22],\"y\":[-3,-3,11,11,-3,-3,11,11],\"z\":[19,19,19,19,35,35,35,35],\"i\":[0,0,0,0,0,0,3,3,4,4,7,7],\"j\":[3,3,6,6,5,5,6,6,7,7,1,1],\"k\":[1,2,2,4,4,1,2,7,6,5,3,5],\"flatshading\":true},{\"type\":\"mesh3d\",\"opacity\":0.5,\"x\":[-30,-22,-30,-22,-30,-22,-30,-22],\"y\":[11,11,21,21,11,11,21,21],\"z\":[19,19,19,19,35,35,35,35],\"i\":[0,0,0,0,0,0,3,3,4,4,7,7],\"j\":[3,3,6,6,5,5,6,6,7,7,1,1],\"k\":[1,2,2,4,4,1,2,7,6,5,3,5],\"flatshading\":true},{\"type\":\"mesh3d\",\"opacity\":0.5,\"x\":[-22,22,-22,22,-22,22,-22,22],\"y\":[16,16,21,21,16,16,21,21],\"z\":[20,20,20,20,35,35,35,35],\"i\":[0,0,0,0,0,0,3,3,4,4,7,7],\"j\":[3,3,6,6,5,5,6,6,7,7,1,1],\"k\":[1,2,2,4,4,1,2,7,6,5,3,5],\"flatshading\":true},{\"type\":\"mesh3d\",\"opacity\":0.5,\"x\":[-22,-18,-22,-18,-22,-18,-22,-18],\"y\":[-8,-8,16,16,-8,-8,16,16],\"z\":[20,20,20,20,35,35,35,35],\"i\":[0,0,0,0,0,0,3,3,4,4,7,7],\"j\":[3,3,6,6,5,5,6,6,7,7,1,1],\"k\":[1,2,2,4,4,1,2,7,6,5,3,5],\"flatshading\":true},{\"type\":\"mesh3d\",\"opacity\":0.5,\"x\":[-39,-12,-39,-12,-39,-12,-39,-12],\"y\":[46,46,48,48,46,46,48,48],\"z\":[-3,-3,-3,-3,45,45,45,45],\"i\":[0,0,0,0,0,0,3,3,4,4,7,7],\"j\":[3,3,6,6,5,5,6,6,7,7,1,1],\"k\":[1,2,2,4,4,1,2,7,6,5,3,5],\"flatshading\":true},{\"type\":\"mesh3d\",\"opacity\":0.5,\"x\":[-39,-12,-39,-12,-39,-12,-39,-12],\"y\":[44,44,46,46,44,44,46,46],\"z\":[19,19,19,19,45,45,45,45],\"i\":[0,0,0,0,0,0,3,3,4,4,7,7],\"j\":[3,3,6,6,5,5,6,6,7,7,1,1],\"k\":[1,2,2,4,4,1,2,7,6,5,3,5],\"flatshading\":true},{\"type\":\"mesh3d\",\"opacity\":0.5,\"x\":[-12,6,-12,6,-12,6,-12,6],\"y\":[46,46,48,48,46,46,48,48],\"z\":[-1,-1,-1,-1,45,45,45,45],\"i\":[0,0,0,0,0,0,3,3,4,4,7,7],\"j\":[3,3,6,6,5,5,6,6,7,7,1,1],\"k\":[1,2,2,4,4,1,2,7,6,5,3,5],\"flatshading\":true},{\"type\":\"mesh3d\",\"opacity\":0.5,\"x\":[-4,6,-4,6,-4,6,-4,6],\"y\":[44,44,46,46,44,44,46,46],\"z\":[-1,-1,-1,-1,45,45,45,45],\"i\":[0,0,0,0,0,0,3,3,4,4,7,7],\"j\":[3,3,6,6,5,5,6,6,7,7,1,1],\"k\":[1,2,2,4,4,1,2,7,6,5,3,5],\"flatshading\":true},{\"type\":\"mesh3d\",\"opacity\":0.5,\"x\":[-12,-4,-12,-4,-12,-4,-12,-4],\"y\":[44,44,46,46,44,44,46,46],\"z\":[19,19,19,19,45,45,45,45],\"i\":[0,0,0,0,0,0,3,3,4,4,7,7],\"j\":[3,3,6,6,5,5,6,6,7,7,1,1],\"k\":[1,2,2,4,4,1,2,7,6,5,3,5],\"flatshading\":true},{\"type\":\"mesh3d\",\"opacity\":0.5,\"x\":[-39,-30,-39,-30,-39,-30,-39,-30],\"y\":[31,31,44,44,31,31,44,44],\"z\":[19,19,19,19,45,45,45,45],\"i\":[0,0,0,0,0,0,3,3,4,4,7,7],\"j\":[3,3,6,6,5,5,6,6,7,7,1,1],\"k\":[1,2,2,4,4,1,2,7,6,5,3,5],\"flatshading\":true},{\"type\":\"mesh3d\",\"opacity\":0.5,\"x\":[-39,-30,-39,-30,-39,-30,-39,-30],\"y\":[-6,-6,-3,-3,-6,-6,-3,-3],\"z\":[16,16,16,16,45,45,45,45],\"i\":[0,0,0,0,0,0,3,3,4,4,7,7],\"j\":[3,3,6,6,5,5,6,6,7,7,1,1],\"k\":[1,2,2,4,4,1,2,7,6,5,3,5],\"flatshading\":true},{\"type\":\"mesh3d\",\"opacity\":0.5,\"x\":[-39,-30,-39,-30,-39,-30,-39,-30],\"y\":[-3,-3,11,11,-3,-3,11,11],\"z\":[19,19,19,19,45,45,45,45],\"i\":[0,0,0,0,0,0,3,3,4,4,7,7],\"j\":[3,3,6,6,5,5,6,6,7,7,1,1],\"k\":[1,2,2,4,4,1,2,7,6,5,3,5],\"flatshading\":true},{\"type\":\"mesh3d\",\"opacity\":0.5,\"x\":[-39,-32,-39,-32,-39,-32,-39,-32],\"y\":[11,11,31,31,11,11,31,31],\"z\":[19,19,19,19,45,45,45,45],\"i\":[0,0,0,0,0,0,3,3,4,4,7,7],\"j\":[3,3,6,6,5,5,6,6,7,7,1,1],\"k\":[1,2,2,4,4,1,2,7,6,5,3,5],\"flatshading\":true},{\"type\":\"mesh3d\",\"opacity\":0.5,\"x\":[-32,-30,-32,-30,-32,-30,-32,-30],\"y\":[11,11,31,31,11,11,31,31],\"z\":[19,19,19,19,45,45,45,45],\"i\":[0,0,0,0,0,0,3,3,4,4,7,7],\"j\":[3,3,6,6,5,5,6,6,7,7,1,1],\"k\":[1,2,2,4,4,1,2,7,6,5,3,5],\"flatshading\":true},{\"type\":\"mesh3d\",\"opacity\":0.5,\"x\":[-30,6,-30,6,-30,6,-30,6],\"y\":[16,16,44,44,16,16,44,44],\"z\":[35,35,35,35,45,45,45,45],\"i\":[0,0,0,0,0,0,3,3,4,4,7,7],\"j\":[3,3,6,6,5,5,6,6,7,7,1,1],\"k\":[1,2,2,4,4,1,2,7,6,5,3,5],\"flatshading\":true},{\"type\":\"mesh3d\",\"opacity\":0.5,\"x\":[-30,-18,-30,-18,-30,-18,-30,-18],\"y\":[-6,-6,16,16,-6,-6,16,16],\"z\":[35,35,35,35,45,45,45,45],\"i\":[0,0,0,0,0,0,3,3,4,4,7,7],\"j\":[3,3,6,6,5,5,6,6,7,7,1,1],\"k\":[1,2,2,4,4,1,2,7,6,5,3,5],\"flatshading\":true},{\"type\":\"mesh3d\",\"opacity\":0.5,\"x\":[-21,-18,-21,-18,-21,-18,-21,-18],\"y\":[-28,-28,-27,-27,-28,-28,-27,-27],\"z\":[-21,-21,-21,-21,30,30,30,30],\"i\":[0,0,0,0,0,0,3,3,4,4,7,7],\"j\":[3,3,6,6,5,5,6,6,7,7,1,1],\"k\":[1,2,2,4,4,1,2,7,6,5,3,5],\"flatshading\":true},{\"type\":\"mesh3d\",\"opacity\":0.5,\"x\":[-27,-21,-27,-21,-27,-21,-27,-21],\"y\":[-28,-28,-27,-27,-28,-28,-27,-27],\"z\":[-21,-21,-21,-21,23,23,23,23],\"i\":[0,0,0,0,0,0,3,3,4,4,7,7],\"j\":[3,3,6,6,5,5,6,6,7,7,1,1],\"k\":[1,2,2,4,4,1,2,7,6,5,3,5],\"flatshading\":true},{\"type\":\"mesh3d\",\"opacity\":0.5,\"x\":[-18,-16,-18,-16,-18,-16,-18,-16],\"y\":[-28,-28,-27,-27,-28,-28,-27,-27],\"z\":[-21,-21,-21,-21,-7,-7,-7,-7],\"i\":[0,0,0,0,0,0,3,3,4,4,7,7],\"j\":[3,3,6,6,5,5,6,6,7,7,1,1],\"k\":[1,2,2,4,4,1,2,7,6,5,3,5],\"flatshading\":true},{\"type\":\"mesh3d\",\"opacity\":0.5,\"x\":[-27,-22,-27,-22,-27,-22,-27,-22],\"y\":[-27,-27,-8,-8,-27,-27,-8,-8],\"z\":[-21,-21,-21,-21,30,30,30,30],\"i\":[0,0,0,0,0,0,3,3,4,4,7,7],\"j\":[3,3,6,6,5,5,6,6,7,7,1,1],\"k\":[1,2,2,4,4,1,2,7,6,5,3,5],\"flatshading\":true},{\"type\":\"mesh3d\",\"opacity\":0.5,\"x\":[-22,-18,-22,-18,-22,-18,-22,-18],\"y\":[-27,-27,-8,-8,-27,-27,-8,-8],\"z\":[20,20,20,20,30,30,30,30],\"i\":[0,0,0,0,0,0,3,3,4,4,7,7],\"j\":[3,3,6,6,5,5,6,6,7,7,1,1],\"k\":[1,2,2,4,4,1,2,7,6,5,3,5],\"flatshading\":true},{\"type\":\"mesh3d\",\"opacity\":0.5,\"x\":[-27,-22,-27,-22,-27,-22,-27,-22],\"y\":[-8,-8,-7,-7,-8,-8,-7,-7],\"z\":[-21,-21,-21,-21,-13,-13,-13,-13],\"i\":[0,0,0,0,0,0,3,3,4,4,7,7],\"j\":[3,3,6,6,5,5,6,6,7,7,1,1],\"k\":[1,2,2,4,4,1,2,7,6,5,3,5],\"flatshading\":true},{\"type\":\"mesh3d\",\"opacity\":0.5,\"x\":[22,24,22,24,22,24,22,24],\"y\":[21,21,27,27,21,21,27,27],\"z\":[-1,-1,-1,-1,30,30,30,30],\"i\":[0,0,0,0,0,0,3,3,4,4,7,7],\"j\":[3,3,6,6,5,5,6,6,7,7,1,1],\"k\":[1,2,2,4,4,1,2,7,6,5,3,5],\"flatshading\":true},{\"type\":\"mesh3d\",\"opacity\":0.5,\"x\":[22,24,22,24,22,24,22,24],\"y\":[16,16,21,21,16,16,21,21],\"z\":[20,20,20,20,30,30,30,30],\"i\":[0,0,0,0,0,0,3,3,4,4,7,7],\"j\":[3,3,6,6,5,5,6,6,7,7,1,1],\"k\":[1,2,2,4,4,1,2,7,6,5,3,5],\"flatshading\":true},{\"type\":\"mesh3d\",\"opacity\":0.5,\"x\":[36,48,36,48,36,48,36,48],\"y\":[21,21,23,23,21,21,23,23],\"z\":[-23,-23,-23,-23,28,28,28,28],\"i\":[0,0,0,0,0,0,3,3,4,4,7,7],\"j\":[3,3,6,6,5,5,6,6,7,7,1,1],\"k\":[1,2,2,4,4,1,2,7,6,5,3,5],\"flatshading\":true},{\"type\":\"mesh3d\",\"opacity\":0.5,\"x\":[24,36,24,36,24,36,24,36],\"y\":[21,21,23,23,21,21,23,23],\"z\":[-1,-1,-1,-1,28,28,28,28],\"i\":[0,0,0,0,0,0,3,3,4,4,7,7],\"j\":[3,3,6,6,5,5,6,6,7,7,1,1],\"k\":[1,2,2,4,4,1,2,7,6,5,3,5],\"flatshading\":true},{\"type\":\"mesh3d\",\"opacity\":0.5,\"x\":[36,48,36,48,36,48,36,48],\"y\":[-22,-22,6,6,-22,-22,6,6],\"z\":[-23,-23,-23,-23,28,28,28,28],\"i\":[0,0,0,0,0,0,3,3,4,4,7,7],\"j\":[3,3,6,6,5,5,6,6,7,7,1,1],\"k\":[1,2,2,4,4,1,2,7,6,5,3,5],\"flatshading\":true},{\"type\":\"mesh3d\",\"opacity\":0.5,\"x\":[27,36,27,36,27,36,27,36],\"y\":[-7,-7,6,6,-7,-7,6,6],\"z\":[7,7,7,7,28,28,28,28],\"i\":[0,0,0,0,0,0,3,3,4,4,7,7],\"j\":[3,3,6,6,5,5,6,6,7,7,1,1],\"k\":[1,2,2,4,4,1,2,7,6,5,3,5],\"flatshading\":true},{\"type\":\"mesh3d\",\"opacity\":0.5,\"x\":[27,36,27,36,27,36,27,36],\"y\":[-22,-22,-20,-20,-22,-22,-20,-20],\"z\":[7,7,7,7,28,28,28,28],\"i\":[0,0,0,0,0,0,3,3,4,4,7,7],\"j\":[3,3,6,6,5,5,6,6,7,7,1,1],\"k\":[1,2,2,4,4,1,2,7,6,5,3,5],\"flatshading\":true},{\"type\":\"mesh3d\",\"opacity\":0.5,\"x\":[31,36,31,36,31,36,31,36],\"y\":[-20,-20,-7,-7,-20,-20,-7,-7],\"z\":[7,7,7,7,28,28,28,28],\"i\":[0,0,0,0,0,0,3,3,4,4,7,7],\"j\":[3,3,6,6,5,5,6,6,7,7,1,1],\"k\":[1,2,2,4,4,1,2,7,6,5,3,5],\"flatshading\":true},{\"type\":\"mesh3d\",\"opacity\":0.5,\"x\":[27,31,27,31,27,31,27,31],\"y\":[-20,-20,-7,-7,-20,-20,-7,-7],\"z\":[14,14,14,14,28,28,28,28],\"i\":[0,0,0,0,0,0,3,3,4,4,7,7],\"j\":[3,3,6,6,5,5,6,6,7,7,1,1],\"k\":[1,2,2,4,4,1,2,7,6,5,3,5],\"flatshading\":true},{\"type\":\"mesh3d\",\"opacity\":0.5,\"x\":[36,48,36,48,36,48,36,48],\"y\":[6,6,21,21,6,6,21,21],\"z\":[-23,-23,-23,-23,28,28,28,28],\"i\":[0,0,0,0,0,0,3,3,4,4,7,7],\"j\":[3,3,6,6,5,5,6,6,7,7,1,1],\"k\":[1,2,2,4,4,1,2,7,6,5,3,5],\"flatshading\":true},{\"type\":\"mesh3d\",\"opacity\":0.5,\"x\":[27,36,27,36,27,36,27,36],\"y\":[11,11,21,21,11,11,21,21],\"z\":[-1,-1,-1,-1,28,28,28,28],\"i\":[0,0,0,0,0,0,3,3,4,4,7,7],\"j\":[3,3,6,6,5,5,6,6,7,7,1,1],\"k\":[1,2,2,4,4,1,2,7,6,5,3,5],\"flatshading\":true},{\"type\":\"mesh3d\",\"opacity\":0.5,\"x\":[27,36,27,36,27,36,27,36],\"y\":[6,6,11,11,6,6,11,11],\"z\":[7,7,7,7,28,28,28,28],\"i\":[0,0,0,0,0,0,3,3,4,4,7,7],\"j\":[3,3,6,6,5,5,6,6,7,7,1,1],\"k\":[1,2,2,4,4,1,2,7,6,5,3,5],\"flatshading\":true},{\"type\":\"mesh3d\",\"opacity\":0.5,\"x\":[24,27,24,27,24,27,24,27],\"y\":[16,16,21,21,16,16,21,21],\"z\":[20,20,20,20,28,28,28,28],\"i\":[0,0,0,0,0,0,3,3,4,4,7,7],\"j\":[3,3,6,6,5,5,6,6,7,7,1,1],\"k\":[1,2,2,4,4,1,2,7,6,5,3,5],\"flatshading\":true},{\"type\":\"mesh3d\",\"opacity\":0.5,\"x\":[-49,-39,-49,-39,-49,-39,-49,-39],\"y\":[46,46,47,47,46,46,47,47],\"z\":[-24,-24,-24,-24,29,29,29,29],\"i\":[0,0,0,0,0,0,3,3,4,4,7,7],\"j\":[3,3,6,6,5,5,6,6,7,7,1,1],\"k\":[1,2,2,4,4,1,2,7,6,5,3,5],\"flatshading\":true},{\"type\":\"mesh3d\",\"opacity\":0.5,\"x\":[-49,-39,-49,-39,-49,-39,-49,-39],\"y\":[27,27,46,46,27,27,46,46],\"z\":[19,19,19,19,29,29,29,29],\"i\":[0,0,0,0,0,0,3,3,4,4,7,7],\"j\":[3,3,6,6,5,5,6,6,7,7,1,1],\"k\":[1,2,2,4,4,1,2,7,6,5,3,5],\"flatshading\":true},{\"type\":\"mesh3d\",\"opacity\":0.5,\"x\":[-39,-12,-39,-12,-39,-12,-39,-12],\"y\":[46,46,47,47,46,46,47,47],\"z\":[-24,-24,-24,-24,-3,-3,-3,-3],\"i\":[0,0,0,0,0,0,3,3,4,4,7,7],\"j\":[3,3,6,6,5,5,6,6,7,7,1,1],\"k\":[1,2,2,4,4,1,2,7,6,5,3,5],\"flatshading\":true},{\"type\":\"mesh3d\",\"opacity\":0.5,\"x\":[-49,-39,-49,-39,-49,-39,-49,-39],\"y\":[-3,-3,27,27,-3,-3,27,27],\"z\":[19,19,19,19,29,29,29,29],\"i\":[0,0,0,0,0,0,3,3,4,4,7,7],\"j\":[3,3,6,6,5,5,6,6,7,7,1,1],\"k\":[1,2,2,4,4,1,2,7,6,5,3,5],\"flatshading\":true},{\"type\":\"mesh3d\",\"opacity\":0.5,\"x\":[-46,-41,-46,-41,-46,-41,-46,-41],\"y\":[-6,-6,-3,-3,-6,-6,-3,-3],\"z\":[-50,-50,-50,-50,0,0,0,0],\"i\":[0,0,0,0,0,0,3,3,4,4,7,7],\"j\":[3,3,6,6,5,5,6,6,7,7,1,1],\"k\":[1,2,2,4,4,1,2,7,6,5,3,5],\"flatshading\":true},{\"type\":\"mesh3d\",\"opacity\":0.5,\"x\":[-41,-39,-41,-39,-41,-39,-41,-39],\"y\":[-6,-6,-3,-3,-6,-6,-3,-3],\"z\":[-50,-50,-50,-50,-33,-33,-33,-33],\"i\":[0,0,0,0,0,0,3,3,4,4,7,7],\"j\":[3,3,6,6,5,5,6,6,7,7,1,1],\"k\":[1,2,2,4,4,1,2,7,6,5,3,5],\"flatshading\":true},{\"type\":\"mesh3d\",\"opacity\":0.5,\"x\":[-39,-30,-39,-30,-39,-30,-39,-30],\"y\":[-6,-6,-3,-3,-6,-6,-3,-3],\"z\":[-50,-50,-50,-50,-33,-33,-33,-33],\"i\":[0,0,0,0,0,0,3,3,4,4,7,7],\"j\":[3,3,6,6,5,5,6,6,7,7,1,1],\"k\":[1,2,2,4,4,1,2,7,6,5,3,5],\"flatshading\":true},{\"type\":\"mesh3d\",\"opacity\":0.5,\"x\":[-30,-27,-30,-27,-30,-27,-30,-27],\"y\":[-6,-6,-3,-3,-6,-6,-3,-3],\"z\":[-50,-50,-50,-50,-33,-33,-33,-33],\"i\":[0,0,0,0,0,0,3,3,4,4,7,7],\"j\":[3,3,6,6,5,5,6,6,7,7,1,1],\"k\":[1,2,2,4,4,1,2,7,6,5,3,5],\"flatshading\":true},{\"type\":\"mesh3d\",\"opacity\":0.5,\"x\":[-27,-22,-27,-22,-27,-22,-27,-22],\"y\":[-6,-6,-3,-3,-6,-6,-3,-3],\"z\":[-50,-50,-50,-50,-33,-33,-33,-33],\"i\":[0,0,0,0,0,0,3,3,4,4,7,7],\"j\":[3,3,6,6,5,5,6,6,7,7,1,1],\"k\":[1,2,2,4,4,1,2,7,6,5,3,5],\"flatshading\":true},{\"type\":\"mesh3d\",\"opacity\":0.5,\"x\":[-22,-16,-22,-16,-22,-16,-22,-16],\"y\":[-6,-6,-3,-3,-6,-6,-3,-3],\"z\":[-50,-50,-50,-50,-33,-33,-33,-33],\"i\":[0,0,0,0,0,0,3,3,4,4,7,7],\"j\":[3,3,6,6,5,5,6,6,7,7,1,1],\"k\":[1,2,2,4,4,1,2,7,6,5,3,5],\"flatshading\":true},{\"type\":\"mesh3d\",\"opacity\":0.5,\"x\":[-16,2,-16,2,-16,2,-16,2],\"y\":[-6,-6,-3,-3,-6,-6,-3,-3],\"z\":[-50,-50,-50,-50,-47,-47,-47,-47],\"i\":[0,0,0,0,0,0,3,3,4,4,7,7],\"j\":[3,3,6,6,5,5,6,6,7,7,1,1],\"k\":[1,2,2,4,4,1,2,7,6,5,3,5],\"flatshading\":true},{\"type\":\"mesh3d\",\"opacity\":0.5,\"x\":[2,8,2,8,2,8,2,8],\"y\":[-6,-6,-3,-3,-6,-6,-3,-3],\"z\":[-50,-50,-50,-50,-47,-47,-47,-47],\"i\":[0,0,0,0,0,0,3,3,4,4,7,7],\"j\":[3,3,6,6,5,5,6,6,7,7,1,1],\"k\":[1,2,2,4,4,1,2,7,6,5,3,5],\"flatshading\":true},{\"type\":\"mesh3d\",\"opacity\":0.5,\"x\":[6,8,6,8,6,8,6,8],\"y\":[44,44,47,47,44,44,47,47],\"z\":[-1,-1,-1,-1,0,0,0,0],\"i\":[0,0,0,0,0,0,3,3,4,4,7,7],\"j\":[3,3,6,6,5,5,6,6,7,7,1,1],\"k\":[1,2,2,4,4,1,2,7,6,5,3,5],\"flatshading\":true},{\"type\":\"mesh3d\",\"opacity\":0.5,\"x\":[2,8,2,8,2,8,2,8],\"y\":[-3,-3,6,6,-3,-3,6,6],\"z\":[-50,-50,-50,-50,-47,-47,-47,-47],\"i\":[0,0,0,0,0,0,3,3,4,4,7,7],\"j\":[3,3,6,6,5,5,6,6,7,7,1,1],\"k\":[1,2,2,4,4,1,2,7,6,5,3,5],\"flatshading\":true},{\"type\":\"mesh3d\",\"opacity\":0.5,\"x\":[-46,-12,-46,-12,-46,-12,-46,-12],\"y\":[46,46,47,47,46,46,47,47],\"z\":[-50,-50,-50,-50,-24,-24,-24,-24],\"i\":[0,0,0,0,0,0,3,3,4,4,7,7],\"j\":[3,3,6,6,5,5,6,6,7,7,1,1],\"k\":[1,2,2,4,4,1,2,7,6,5,3,5],\"flatshading\":true},{\"type\":\"mesh3d\",\"opacity\":0.5,\"x\":[-46,-12,-46,-12,-46,-12,-46,-12],\"y\":[44,44,46,46,44,44,46,46],\"z\":[-50,-50,-50,-50,-29,-29,-29,-29],\"i\":[0,0,0,0,0,0,3,3,4,4,7,7],\"j\":[3,3,6,6,5,5,6,6,7,7,1,1],\"k\":[1,2,2,4,4,1,2,7,6,5,3,5],\"flatshading\":true},{\"type\":\"mesh3d\",\"opacity\":0.5,\"x\":[-46,-41,-46,-41,-46,-41,-46,-41],\"y\":[42,42,44,44,42,42,44,44],\"z\":[-50,-50,-50,-50,-29,-29,-29,-29],\"i\":[0,0,0,0,0,0,3,3,4,4,7,7],\"j\":[3,3,6,6,5,5,6,6,7,7,1,1],\"k\":[1,2,2,4,4,1,2,7,6,5,3,5],\"flatshading\":true},{\"type\":\"mesh3d\",\"opacity\":0.5,\"x\":[-41,-12,-41,-12,-41,-12,-41,-12],\"y\":[42,42,44,44,42,42,44,44],\"z\":[-50,-50,-50,-50,-33,-33,-33,-33],\"i\":[0,0,0,0,0,0,3,3,4,4,7,7],\"j\":[3,3,6,6,5,5,6,6,7,7,1,1],\"k\":[1,2,2,4,4,1,2,7,6,5,3,5],\"flatshading\":true},{\"type\":\"mesh3d\",\"opacity\":0.5,\"x\":[-46,-41,-46,-41,-46,-41,-46,-41],\"y\":[21,21,26,26,21,21,26,26],\"z\":[-50,-50,-50,-50,-29,-29,-29,-29],\"i\":[0,0,0,0,0,0,3,3,4,4,7,7],\"j\":[3,3,6,6,5,5,6,6,7,7,1,1],\"k\":[1,2,2,4,4,1,2,7,6,5,3,5],\"flatshading\":true},{\"type\":\"mesh3d\",\"opacity\":0.5,\"x\":[-41,-12,-41,-12,-41,-12,-41,-12],\"y\":[21,21,26,26,21,21,26,26],\"z\":[-50,-50,-50,-50,-33,-33,-33,-33],\"i\":[0,0,0,0,0,0,3,3,4,4,7,7],\"j\":[3,3,6,6,5,5,6,6,7,7,1,1],\"k\":[1,2,2,4,4,1,2,7,6,5,3,5],\"flatshading\":true},{\"type\":\"mesh3d\",\"opacity\":0.5,\"x\":[-31,-12,-31,-12,-31,-12,-31,-12],\"y\":[26,26,42,42,26,26,42,42],\"z\":[-50,-50,-50,-50,-33,-33,-33,-33],\"i\":[0,0,0,0,0,0,3,3,4,4,7,7],\"j\":[3,3,6,6,5,5,6,6,7,7,1,1],\"k\":[1,2,2,4,4,1,2,7,6,5,3,5],\"flatshading\":true},{\"type\":\"mesh3d\",\"opacity\":0.5,\"x\":[-46,-31,-46,-31,-46,-31,-46,-31],\"y\":[26,26,42,42,26,26,42,42],\"z\":[-50,-50,-50,-50,-47,-47,-47,-47],\"i\":[0,0,0,0,0,0,3,3,4,4,7,7],\"j\":[3,3,6,6,5,5,6,6,7,7,1,1],\"k\":[1,2,2,4,4,1,2,7,6,5,3,5],\"flatshading\":true},{\"type\":\"mesh3d\",\"opacity\":0.5,\"x\":[-46,-41,-46,-41,-46,-41,-46,-41],\"y\":[26,26,42,42,26,26,42,42],\"z\":[-36,-36,-36,-36,-29,-29,-29,-29],\"i\":[0,0,0,0,0,0,3,3,4,4,7,7],\"j\":[3,3,6,6,5,5,6,6,7,7,1,1],\"k\":[1,2,2,4,4,1,2,7,6,5,3,5],\"flatshading\":true},{\"type\":\"mesh3d\",\"opacity\":0.5,\"x\":[-41,-31,-41,-31,-41,-31,-41,-31],\"y\":[26,26,42,42,26,26,42,42],\"z\":[-36,-36,-36,-36,-33,-33,-33,-33],\"i\":[0,0,0,0,0,0,3,3,4,4,7,7],\"j\":[3,3,6,6,5,5,6,6,7,7,1,1],\"k\":[1,2,2,4,4,1,2,7,6,5,3,5],\"flatshading\":true},{\"type\":\"mesh3d\",\"opacity\":0.5,\"x\":[-46,-41,-46,-41,-46,-41,-46,-41],\"y\":[-3,-3,21,21,-3,-3,21,21],\"z\":[-50,-50,-50,-50,-29,-29,-29,-29],\"i\":[0,0,0,0,0,0,3,3,4,4,7,7],\"j\":[3,3,6,6,5,5,6,6,7,7,1,1],\"k\":[1,2,2,4,4,1,2,7,6,5,3,5],\"flatshading\":true},{\"type\":\"mesh3d\",\"opacity\":0.5,\"x\":[-41,-22,-41,-22,-41,-22,-41,-22],\"y\":[-3,-3,21,21,-3,-3,21,21],\"z\":[-50,-50,-50,-50,-33,-33,-33,-33],\"i\":[0,0,0,0,0,0,3,3,4,4,7,7],\"j\":[3,3,6,6,5,5,6,6,7,7,1,1],\"k\":[1,2,2,4,4,1,2,7,6,5,3,5],\"flatshading\":true},{\"type\":\"mesh3d\",\"opacity\":0.5,\"x\":[-22,-16,-22,-16,-22,-16,-22,-16],\"y\":[-3,-3,6,6,-3,-3,6,6],\"z\":[-50,-50,-50,-50,-33,-33,-33,-33],\"i\":[0,0,0,0,0,0,3,3,4,4,7,7],\"j\":[3,3,6,6,5,5,6,6,7,7,1,1],\"k\":[1,2,2,4,4,1,2,7,6,5,3,5],\"flatshading\":true},{\"type\":\"mesh3d\",\"opacity\":0.5,\"x\":[-16,2,-16,2,-16,2,-16,2],\"y\":[-3,-3,6,6,-3,-3,6,6],\"z\":[-50,-50,-50,-50,-47,-47,-47,-47],\"i\":[0,0,0,0,0,0,3,3,4,4,7,7],\"j\":[3,3,6,6,5,5,6,6,7,7,1,1],\"k\":[1,2,2,4,4,1,2,7,6,5,3,5],\"flatshading\":true},{\"type\":\"mesh3d\",\"opacity\":0.5,\"x\":[-22,-12,-22,-12,-22,-12,-22,-12],\"y\":[11,11,21,21,11,11,21,21],\"z\":[-50,-50,-50,-50,-33,-33,-33,-33],\"i\":[0,0,0,0,0,0,3,3,4,4,7,7],\"j\":[3,3,6,6,5,5,6,6,7,7,1,1],\"k\":[1,2,2,4,4,1,2,7,6,5,3,5],\"flatshading\":true},{\"type\":\"mesh3d\",\"opacity\":0.5,\"x\":[-22,-16,-22,-16,-22,-16,-22,-16],\"y\":[6,6,11,11,6,6,11,11],\"z\":[-50,-50,-50,-50,-33,-33,-33,-33],\"i\":[0,0,0,0,0,0,3,3,4,4,7,7],\"j\":[3,3,6,6,5,5,6,6,7,7,1,1],\"k\":[1,2,2,4,4,1,2,7,6,5,3,5],\"flatshading\":true},{\"type\":\"mesh3d\",\"opacity\":0.5,\"x\":[-16,-12,-16,-12,-16,-12,-16,-12],\"y\":[6,6,11,11,6,6,11,11],\"z\":[-50,-50,-50,-50,-47,-47,-47,-47],\"i\":[0,0,0,0,0,0,3,3,4,4,7,7],\"j\":[3,3,6,6,5,5,6,6,7,7,1,1],\"k\":[1,2,2,4,4,1,2,7,6,5,3,5],\"flatshading\":true},{\"type\":\"mesh3d\",\"opacity\":0.5,\"x\":[-22,-18,-22,-18,-22,-18,-22,-18],\"y\":[-29,-29,-28,-28,-29,-29,-28,-28],\"z\":[-38,-38,-38,-38,17,17,17,17],\"i\":[0,0,0,0,0,0,3,3,4,4,7,7],\"j\":[3,3,6,6,5,5,6,6,7,7,1,1],\"k\":[1,2,2,4,4,1,2,7,6,5,3,5],\"flatshading\":true},{\"type\":\"mesh3d\",\"opacity\":0.5,\"x\":[27,29,27,29,27,29,27,29],\"y\":[-29,-29,-28,-28,-29,-29,-28,-28],\"z\":[7,7,7,7,17,17,17,17],\"i\":[0,0,0,0,0,0,3,3,4,4,7,7],\"j\":[3,3,6,6,5,5,6,6,7,7,1,1],\"k\":[1,2,2,4,4,1,2,7,6,5,3,5],\"flatshading\":true},{\"type\":\"mesh3d\",\"opacity\":0.5,\"x\":[-18,-16,-18,-16,-18,-16,-18,-16],\"y\":[-29,-29,-28,-28,-29,-29,-28,-28],\"z\":[-38,-38,-38,-38,-7,-7,-7,-7],\"i\":[0,0,0,0,0,0,3,3,4,4,7,7],\"j\":[3,3,6,6,5,5,6,6,7,7,1,1],\"k\":[1,2,2,4,4,1,2,7,6,5,3,5],\"flatshading\":true},{\"type\":\"mesh3d\",\"opacity\":0.5,\"x\":[27,29,27,29,27,29,27,29],\"y\":[-28,-28,-27,-27,-28,-28,-27,-27],\"z\":[7,7,7,7,17,17,17,17],\"i\":[0,0,0,0,0,0,3,3,4,4,7,7],\"j\":[3,3,6,6,5,5,6,6,7,7,1,1],\"k\":[1,2,2,4,4,1,2,7,6,5,3,5],\"flatshading\":true},{\"type\":\"mesh3d\",\"opacity\":0.5,\"x\":[27,29,27,29,27,29,27,29],\"y\":[-27,-27,-22,-22,-27,-27,-22,-22],\"z\":[7,7,7,7,17,17,17,17],\"i\":[0,0,0,0,0,0,3,3,4,4,7,7],\"j\":[3,3,6,6,5,5,6,6,7,7,1,1],\"k\":[1,2,2,4,4,1,2,7,6,5,3,5],\"flatshading\":true},{\"type\":\"mesh3d\",\"opacity\":0.5,\"x\":[-22,-16,-22,-16,-22,-16,-22,-16],\"y\":[-28,-28,-27,-27,-28,-28,-27,-27],\"z\":[-38,-38,-38,-38,-21,-21,-21,-21],\"i\":[0,0,0,0,0,0,3,3,4,4,7,7],\"j\":[3,3,6,6,5,5,6,6,7,7,1,1],\"k\":[1,2,2,4,4,1,2,7,6,5,3,5],\"flatshading\":true},{\"type\":\"mesh3d\",\"opacity\":0.5,\"x\":[-22,-16,-22,-16,-22,-16,-22,-16],\"y\":[-27,-27,-22,-22,-27,-27,-22,-22],\"z\":[-38,-38,-38,-38,-29,-29,-29,-29],\"i\":[0,0,0,0,0,0,3,3,4,4,7,7],\"j\":[3,3,6,6,5,5,6,6,7,7,1,1],\"k\":[1,2,2,4,4,1,2,7,6,5,3,5],\"flatshading\":true},{\"type\":\"mesh3d\",\"opacity\":0.5,\"x\":[-22,-16,-22,-16,-22,-16,-22,-16],\"y\":[-22,-22,-7,-7,-22,-22,-7,-7],\"z\":[-38,-38,-38,-38,-29,-29,-29,-29],\"i\":[0,0,0,0,0,0,3,3,4,4,7,7],\"j\":[3,3,6,6,5,5,6,6,7,7,1,1],\"k\":[1,2,2,4,4,1,2,7,6,5,3,5],\"flatshading\":true},{\"type\":\"mesh3d\",\"opacity\":0.5,\"x\":[-22,-16,-22,-16,-22,-16,-22,-16],\"y\":[-7,-7,-6,-6,-7,-7,-6,-6],\"z\":[-38,-38,-38,-38,-33,-33,-33,-33],\"i\":[0,0,0,0,0,0,3,3,4,4,7,7],\"j\":[3,3,6,6,5,5,6,6,7,7,1,1],\"k\":[1,2,2,4,4,1,2,7,6,5,3,5],\"flatshading\":true},{\"type\":\"mesh3d\",\"opacity\":0.5,\"x\":[24,29,24,29,24,29,24,29],\"y\":[23,23,24,24,23,23,24,24],\"z\":[-1,-1,-1,-1,17,17,17,17],\"i\":[0,0,0,0,0,0,3,3,4,4,7,7],\"j\":[3,3,6,6,5,5,6,6,7,7,1,1],\"k\":[1,2,2,4,4,1,2,7,6,5,3,5],\"flatshading\":true},{\"type\":\"mesh3d\",\"opacity\":0.5,\"x\":[29,34,29,34,29,34,29,34],\"y\":[23,23,24,24,23,23,24,24],\"z\":[-1,-1,-1,-1,29,29,29,29],\"i\":[0,0,0,0,0,0,3,3,4,4,7,7],\"j\":[3,3,6,6,5,5,6,6,7,7,1,1],\"k\":[1,2,2,4,4,1,2,7,6,5,3,5],\"flatshading\":true},{\"type\":\"mesh3d\",\"opacity\":0.5,\"x\":[29,34,29,34,29,34,29,34],\"y\":[-21,-21,23,23,-21,-21,23,23],\"z\":[28,28,28,28,29,29,29,29],\"i\":[0,0,0,0,0,0,3,3,4,4,7,7],\"j\":[3,3,6,6,5,5,6,6,7,7,1,1],\"k\":[1,2,2,4,4,1,2,7,6,5,3,5],\"flatshading\":true},{\"type\":\"mesh3d\",\"opacity\":0.5,\"x\":[27,29,27,29,27,29,27,29],\"y\":[-21,-21,-3,-3,-21,-21,-3,-3],\"z\":[28,28,28,28,29,29,29,29],\"i\":[0,0,0,0,0,0,3,3,4,4,7,7],\"j\":[3,3,6,6,5,5,6,6,7,7,1,1],\"k\":[1,2,2,4,4,1,2,7,6,5,3,5],\"flatshading\":true},{\"type\":\"mesh3d\",\"opacity\":0.5,\"x\":[24,29,24,29,24,29,24,29],\"y\":[23,23,24,24,23,23,24,24],\"z\":[17,17,17,17,29,29,29,29],\"i\":[0,0,0,0,0,0,3,3,4,4,7,7],\"j\":[3,3,6,6,5,5,6,6,7,7,1,1],\"k\":[1,2,2,4,4,1,2,7,6,5,3,5],\"flatshading\":true},{\"type\":\"mesh3d\",\"opacity\":0.5,\"x\":[24,29,24,29,24,29,24,29],\"y\":[16,16,23,23,16,16,23,23],\"z\":[28,28,28,28,29,29,29,29],\"i\":[0,0,0,0,0,0,3,3,4,4,7,7],\"j\":[3,3,6,6,5,5,6,6,7,7,1,1],\"k\":[1,2,2,4,4,1,2,7,6,5,3,5],\"flatshading\":true},{\"type\":\"mesh3d\",\"opacity\":0.5,\"x\":[27,29,27,29,27,29,27,29],\"y\":[-3,-3,16,16,-3,-3,16,16],\"z\":[28,28,28,28,29,29,29,29],\"i\":[0,0,0,0,0,0,3,3,4,4,7,7],\"j\":[3,3,6,6,5,5,6,6,7,7,1,1],\"k\":[1,2,2,4,4,1,2,7,6,5,3,5],\"flatshading\":true},{\"type\":\"mesh3d\",\"opacity\":0.5,\"x\":[-20,-16,-20,-16,-20,-16,-20,-16],\"y\":[-36,-36,-33,-33,-36,-36,-33,-33],\"z\":[-47,-47,-47,-47,8,8,8,8],\"i\":[0,0,0,0,0,0,3,3,4,4,7,7],\"j\":[3,3,6,6,5,5,6,6,7,7,1,1],\"k\":[1,2,2,4,4,1,2,7,6,5,3,5],\"flatshading\":true},{\"type\":\"mesh3d\",\"opacity\":0.5,\"x\":[-16,27,-16,27,-16,27,-16,27],\"y\":[-36,-36,-33,-33,-36,-36,-33,-33],\"z\":[7,7,7,7,8,8,8,8],\"i\":[0,0,0,0,0,0,3,3,4,4,7,7],\"j\":[3,3,6,6,5,5,6,6,7,7,1,1],\"k\":[1,2,2,4,4,1,2,7,6,5,3,5],\"flatshading\":true},{\"type\":\"mesh3d\",\"opacity\":0.5,\"x\":[-20,-18,-20,-18,-20,-18,-20,-18],\"y\":[-33,-33,-29,-29,-33,-33,-29,-29],\"z\":[-47,-47,-47,-47,8,8,8,8],\"i\":[0,0,0,0,0,0,3,3,4,4,7,7],\"j\":[3,3,6,6,5,5,6,6,7,7,1,1],\"k\":[1,2,2,4,4,1,2,7,6,5,3,5],\"flatshading\":true},{\"type\":\"mesh3d\",\"opacity\":0.5,\"x\":[-18,-16,-18,-16,-18,-16,-18,-16],\"y\":[-33,-33,-29,-29,-33,-33,-29,-29],\"z\":[-47,-47,-47,-47,-7,-7,-7,-7],\"i\":[0,0,0,0,0,0,3,3,4,4,7,7],\"j\":[3,3,6,6,5,5,6,6,7,7,1,1],\"k\":[1,2,2,4,4,1,2,7,6,5,3,5],\"flatshading\":true},{\"type\":\"mesh3d\",\"opacity\":0.5,\"x\":[-20,-16,-20,-16,-20,-16,-20,-16],\"y\":[-29,-29,-21,-21,-29,-29,-21,-21],\"z\":[-47,-47,-47,-47,-38,-38,-38,-38],\"i\":[0,0,0,0,0,0,3,3,4,4,7,7],\"j\":[3,3,6,6,5,5,6,6,7,7,1,1],\"k\":[1,2,2,4,4,1,2,7,6,5,3,5],\"flatshading\":true},{\"type\":\"mesh3d\",\"opacity\":0.5,\"x\":[-20,-16,-20,-16,-20,-16,-20,-16],\"y\":[-21,-21,-6,-6,-21,-21,-6,-6],\"z\":[-47,-47,-47,-47,-38,-38,-38,-38],\"i\":[0,0,0,0,0,0,3,3,4,4,7,7],\"j\":[3,3,6,6,5,5,6,6,7,7,1,1],\"k\":[1,2,2,4,4,1,2,7,6,5,3,5],\"flatshading\":true}];\r\n",
       "            var layout = {\"width\":600,\"height\":600,\"template\":{\"layout\":{\"title\":{\"x\":0.05},\"font\":{\"color\":\"rgba(42, 63, 95, 1.0)\"},\"paper_bgcolor\":\"rgba(255, 255, 255, 1.0)\",\"plot_bgcolor\":\"rgba(229, 236, 246, 1.0)\",\"autotypenumbers\":\"strict\",\"colorscale\":{\"diverging\":[[0.0,\"#8e0152\"],[0.1,\"#c51b7d\"],[0.2,\"#de77ae\"],[0.3,\"#f1b6da\"],[0.4,\"#fde0ef\"],[0.5,\"#f7f7f7\"],[0.6,\"#e6f5d0\"],[0.7,\"#b8e186\"],[0.8,\"#7fbc41\"],[0.9,\"#4d9221\"],[1.0,\"#276419\"]],\"sequential\":[[0.0,\"#0d0887\"],[0.1111111111111111,\"#46039f\"],[0.2222222222222222,\"#7201a8\"],[0.3333333333333333,\"#9c179e\"],[0.4444444444444444,\"#bd3786\"],[0.5555555555555556,\"#d8576b\"],[0.6666666666666666,\"#ed7953\"],[0.7777777777777778,\"#fb9f3a\"],[0.8888888888888888,\"#fdca26\"],[1.0,\"#f0f921\"]],\"sequentialminus\":[[0.0,\"#0d0887\"],[0.1111111111111111,\"#46039f\"],[0.2222222222222222,\"#7201a8\"],[0.3333333333333333,\"#9c179e\"],[0.4444444444444444,\"#bd3786\"],[0.5555555555555556,\"#d8576b\"],[0.6666666666666666,\"#ed7953\"],[0.7777777777777778,\"#fb9f3a\"],[0.8888888888888888,\"#fdca26\"],[1.0,\"#f0f921\"]]},\"hovermode\":\"closest\",\"hoverlabel\":{\"align\":\"left\"},\"coloraxis\":{\"colorbar\":{\"outlinewidth\":0.0,\"ticks\":\"\"}},\"geo\":{\"showland\":true,\"landcolor\":\"rgba(229, 236, 246, 1.0)\",\"showlakes\":true,\"lakecolor\":\"rgba(255, 255, 255, 1.0)\",\"subunitcolor\":\"rgba(255, 255, 255, 1.0)\",\"bgcolor\":\"rgba(255, 255, 255, 1.0)\"},\"mapbox\":{\"style\":\"light\"},\"polar\":{\"bgcolor\":\"rgba(229, 236, 246, 1.0)\",\"radialaxis\":{\"linecolor\":\"rgba(255, 255, 255, 1.0)\",\"gridcolor\":\"rgba(255, 255, 255, 1.0)\",\"ticks\":\"\"},\"angularaxis\":{\"linecolor\":\"rgba(255, 255, 255, 1.0)\",\"gridcolor\":\"rgba(255, 255, 255, 1.0)\",\"ticks\":\"\"}},\"scene\":{\"xaxis\":{\"ticks\":\"\",\"linecolor\":\"rgba(255, 255, 255, 1.0)\",\"gridcolor\":\"rgba(255, 255, 255, 1.0)\",\"gridwidth\":2.0,\"zerolinecolor\":\"rgba(255, 255, 255, 1.0)\",\"backgroundcolor\":\"rgba(229, 236, 246, 1.0)\",\"showbackground\":true},\"yaxis\":{\"ticks\":\"\",\"linecolor\":\"rgba(255, 255, 255, 1.0)\",\"gridcolor\":\"rgba(255, 255, 255, 1.0)\",\"gridwidth\":2.0,\"zerolinecolor\":\"rgba(255, 255, 255, 1.0)\",\"backgroundcolor\":\"rgba(229, 236, 246, 1.0)\",\"showbackground\":true},\"zaxis\":{\"ticks\":\"\",\"linecolor\":\"rgba(255, 255, 255, 1.0)\",\"gridcolor\":\"rgba(255, 255, 255, 1.0)\",\"gridwidth\":2.0,\"zerolinecolor\":\"rgba(255, 255, 255, 1.0)\",\"backgroundcolor\":\"rgba(229, 236, 246, 1.0)\",\"showbackground\":true}},\"ternary\":{\"aaxis\":{\"ticks\":\"\",\"linecolor\":\"rgba(255, 255, 255, 1.0)\",\"gridcolor\":\"rgba(255, 255, 255, 1.0)\"},\"baxis\":{\"ticks\":\"\",\"linecolor\":\"rgba(255, 255, 255, 1.0)\",\"gridcolor\":\"rgba(255, 255, 255, 1.0)\"},\"caxis\":{\"ticks\":\"\",\"linecolor\":\"rgba(255, 255, 255, 1.0)\",\"gridcolor\":\"rgba(255, 255, 255, 1.0)\"},\"bgcolor\":\"rgba(229, 236, 246, 1.0)\"},\"xaxis\":{\"title\":{\"standoff\":15},\"ticks\":\"\",\"automargin\":true,\"linecolor\":\"rgba(255, 255, 255, 1.0)\",\"gridcolor\":\"rgba(255, 255, 255, 1.0)\",\"zerolinecolor\":\"rgba(255, 255, 255, 1.0)\",\"zerolinewidth\":2.0},\"yaxis\":{\"title\":{\"standoff\":15},\"ticks\":\"\",\"automargin\":true,\"linecolor\":\"rgba(255, 255, 255, 1.0)\",\"gridcolor\":\"rgba(255, 255, 255, 1.0)\",\"zerolinecolor\":\"rgba(255, 255, 255, 1.0)\",\"zerolinewidth\":2.0},\"annotationdefaults\":{\"arrowcolor\":\"#2a3f5f\",\"arrowhead\":0,\"arrowwidth\":1},\"shapedefaults\":{\"line\":{\"color\":\"rgba(42, 63, 95, 1.0)\"}},\"colorway\":[\"rgba(99, 110, 250, 1.0)\",\"rgba(239, 85, 59, 1.0)\",\"rgba(0, 204, 150, 1.0)\",\"rgba(171, 99, 250, 1.0)\",\"rgba(255, 161, 90, 1.0)\",\"rgba(25, 211, 243, 1.0)\",\"rgba(255, 102, 146, 1.0)\",\"rgba(182, 232, 128, 1.0)\",\"rgba(255, 151, 255, 1.0)\",\"rgba(254, 203, 82, 1.0)\"]},\"data\":{\"bar\":[{\"marker\":{\"line\":{\"color\":\"rgba(229, 236, 246, 1.0)\",\"width\":0.5},\"pattern\":{\"fillmode\":\"overlay\",\"size\":10,\"solidity\":0.2}},\"errorx\":{\"color\":\"rgba(42, 63, 95, 1.0)\"},\"errory\":{\"color\":\"rgba(42, 63, 95, 1.0)\"}}],\"barpolar\":[{\"marker\":{\"line\":{\"color\":\"rgba(229, 236, 246, 1.0)\",\"width\":0.5},\"pattern\":{\"fillmode\":\"overlay\",\"size\":10,\"solidity\":0.2}}}],\"carpet\":[{\"aaxis\":{\"linecolor\":\"rgba(255, 255, 255, 1.0)\",\"gridcolor\":\"rgba(255, 255, 255, 1.0)\",\"endlinecolor\":\"rgba(42, 63, 95, 1.0)\",\"minorgridcolor\":\"rgba(255, 255, 255, 1.0)\",\"startlinecolor\":\"rgba(42, 63, 95, 1.0)\"},\"baxis\":{\"linecolor\":\"rgba(255, 255, 255, 1.0)\",\"gridcolor\":\"rgba(255, 255, 255, 1.0)\",\"endlinecolor\":\"rgba(42, 63, 95, 1.0)\",\"minorgridcolor\":\"rgba(255, 255, 255, 1.0)\",\"startlinecolor\":\"rgba(42, 63, 95, 1.0)\"}}],\"choropleth\":[{\"colorbar\":{\"outlinewidth\":0.0,\"ticks\":\"\"},\"colorscale\":[[0.0,\"#0d0887\"],[0.1111111111111111,\"#46039f\"],[0.2222222222222222,\"#7201a8\"],[0.3333333333333333,\"#9c179e\"],[0.4444444444444444,\"#bd3786\"],[0.5555555555555556,\"#d8576b\"],[0.6666666666666666,\"#ed7953\"],[0.7777777777777778,\"#fb9f3a\"],[0.8888888888888888,\"#fdca26\"],[1.0,\"#f0f921\"]]}],\"contour\":[{\"colorbar\":{\"outlinewidth\":0.0,\"ticks\":\"\"},\"colorscale\":[[0.0,\"#0d0887\"],[0.1111111111111111,\"#46039f\"],[0.2222222222222222,\"#7201a8\"],[0.3333333333333333,\"#9c179e\"],[0.4444444444444444,\"#bd3786\"],[0.5555555555555556,\"#d8576b\"],[0.6666666666666666,\"#ed7953\"],[0.7777777777777778,\"#fb9f3a\"],[0.8888888888888888,\"#fdca26\"],[1.0,\"#f0f921\"]]}],\"contourcarpet\":[{\"colorbar\":{\"outlinewidth\":0.0,\"ticks\":\"\"}}],\"heatmap\":[{\"colorbar\":{\"outlinewidth\":0.0,\"ticks\":\"\"},\"colorscale\":[[0.0,\"#0d0887\"],[0.1111111111111111,\"#46039f\"],[0.2222222222222222,\"#7201a8\"],[0.3333333333333333,\"#9c179e\"],[0.4444444444444444,\"#bd3786\"],[0.5555555555555556,\"#d8576b\"],[0.6666666666666666,\"#ed7953\"],[0.7777777777777778,\"#fb9f3a\"],[0.8888888888888888,\"#fdca26\"],[1.0,\"#f0f921\"]]}],\"heatmapgl\":[{\"colorbar\":{\"outlinewidth\":0.0,\"ticks\":\"\"},\"colorscale\":[[0.0,\"#0d0887\"],[0.1111111111111111,\"#46039f\"],[0.2222222222222222,\"#7201a8\"],[0.3333333333333333,\"#9c179e\"],[0.4444444444444444,\"#bd3786\"],[0.5555555555555556,\"#d8576b\"],[0.6666666666666666,\"#ed7953\"],[0.7777777777777778,\"#fb9f3a\"],[0.8888888888888888,\"#fdca26\"],[1.0,\"#f0f921\"]]}],\"histogram\":[{\"marker\":{\"pattern\":{\"fillmode\":\"overlay\",\"size\":10,\"solidity\":0.2}}}],\"histogram2d\":[{\"colorbar\":{\"outlinewidth\":0.0,\"ticks\":\"\"},\"colorscale\":[[0.0,\"#0d0887\"],[0.1111111111111111,\"#46039f\"],[0.2222222222222222,\"#7201a8\"],[0.3333333333333333,\"#9c179e\"],[0.4444444444444444,\"#bd3786\"],[0.5555555555555556,\"#d8576b\"],[0.6666666666666666,\"#ed7953\"],[0.7777777777777778,\"#fb9f3a\"],[0.8888888888888888,\"#fdca26\"],[1.0,\"#f0f921\"]]}],\"histogram2dcontour\":[{\"colorbar\":{\"outlinewidth\":0.0,\"ticks\":\"\"},\"colorscale\":[[0.0,\"#0d0887\"],[0.1111111111111111,\"#46039f\"],[0.2222222222222222,\"#7201a8\"],[0.3333333333333333,\"#9c179e\"],[0.4444444444444444,\"#bd3786\"],[0.5555555555555556,\"#d8576b\"],[0.6666666666666666,\"#ed7953\"],[0.7777777777777778,\"#fb9f3a\"],[0.8888888888888888,\"#fdca26\"],[1.0,\"#f0f921\"]]}],\"mesh3d\":[{\"colorbar\":{\"outlinewidth\":0.0,\"ticks\":\"\"}}],\"parcoords\":[{\"line\":{\"colorbar\":{\"outlinewidth\":0.0,\"ticks\":\"\"}}}],\"pie\":[{\"automargin\":true}],\"scatter\":[{\"marker\":{\"colorbar\":{\"outlinewidth\":0.0,\"ticks\":\"\"}}}],\"scatter3d\":[{\"marker\":{\"colorbar\":{\"outlinewidth\":0.0,\"ticks\":\"\"}},\"line\":{\"colorbar\":{\"outlinewidth\":0.0,\"ticks\":\"\"}}}],\"scattercarpet\":[{\"marker\":{\"colorbar\":{\"outlinewidth\":0.0,\"ticks\":\"\"}}}],\"scattergeo\":[{\"marker\":{\"colorbar\":{\"outlinewidth\":0.0,\"ticks\":\"\"}}}],\"scattergl\":[{\"marker\":{\"colorbar\":{\"outlinewidth\":0.0,\"ticks\":\"\"}}}],\"scattermapbox\":[{\"marker\":{\"colorbar\":{\"outlinewidth\":0.0,\"ticks\":\"\"}}}],\"scatterpolar\":[{\"marker\":{\"colorbar\":{\"outlinewidth\":0.0,\"ticks\":\"\"}}}],\"scatterpolargl\":[{\"marker\":{\"colorbar\":{\"outlinewidth\":0.0,\"ticks\":\"\"}}}],\"scatterternary\":[{\"marker\":{\"colorbar\":{\"outlinewidth\":0.0,\"ticks\":\"\"}}}],\"surface\":[{\"colorbar\":{\"outlinewidth\":0.0,\"ticks\":\"\"},\"colorscale\":[[0.0,\"#0d0887\"],[0.1111111111111111,\"#46039f\"],[0.2222222222222222,\"#7201a8\"],[0.3333333333333333,\"#9c179e\"],[0.4444444444444444,\"#bd3786\"],[0.5555555555555556,\"#d8576b\"],[0.6666666666666666,\"#ed7953\"],[0.7777777777777778,\"#fb9f3a\"],[0.8888888888888888,\"#fdca26\"],[1.0,\"#f0f921\"]]}],\"table\":[{\"cells\":{\"fill\":{\"color\":\"rgba(235, 240, 248, 1.0)\"},\"line\":{\"color\":\"rgba(255, 255, 255, 1.0)\"}},\"header\":{\"fill\":{\"color\":\"rgba(200, 212, 227, 1.0)\"},\"line\":{\"color\":\"rgba(255, 255, 255, 1.0)\"}}}]}}};\r\n",
       "            var config = {\"responsive\":true};\r\n",
       "            Plotly.newPlot('fab3dbaa-37df-4e58-97f2-068c7b2aad5e', data, layout, config);\r\n",
       "});\r\n",
       "            };\r\n",
       "            if ((typeof(requirejs) !==  typeof(Function)) || (typeof(requirejs.config) !== typeof(Function))) {\r\n",
       "                var script = document.createElement(\"script\");\r\n",
       "                script.setAttribute(\"src\", \"https://cdnjs.cloudflare.com/ajax/libs/require.js/2.3.6/require.min.js\");\r\n",
       "                script.onload = function(){\r\n",
       "                    renderPlotly_fab3dbaa37df4e5897f2068c7b2aad5e();\r\n",
       "                };\r\n",
       "                document.getElementsByTagName(\"head\")[0].appendChild(script);\r\n",
       "            }\r\n",
       "            else {\r\n",
       "                renderPlotly_fab3dbaa37df4e5897f2068c7b2aad5e();\r\n",
       "            }\r\n",
       "</script>\r\n"
      ]
     },
     "metadata": {},
     "output_type": "display_data"
    },
    {
     "data": {
      "text/html": [
       "<div class=\"dni-plaintext\">590784</div>"
      ]
     },
     "metadata": {},
     "output_type": "display_data"
    }
   ],
   "source": [
    "sample1Input\n",
    "|> Array.filter (fun (_, c) -> \n",
    "                    Range.includes (-50,50) c.X\n",
    "                    && Range.includes (-50,50) c.Y\n",
    "                    && Range.includes (-50,50) c.Z\n",
    "                    )\n",
    "|> perform\n",
    "|> displayPipe\n",
    "|> List.sumBy Cuboid.fullValue"
   ]
  },
  {
   "cell_type": "code",
   "execution_count": null,
   "metadata": {
    "dotnet_interactive": {
     "language": "fsharp"
    }
   },
   "outputs": [
    {
     "data": {
      "text/html": [
       "<div class=\"dni-plaintext\">580012</div>"
      ]
     },
     "metadata": {},
     "output_type": "display_data"
    }
   ],
   "source": [
    "actualInput\n",
    "|> Array.filter (fun (_, c) -> \n",
    "                    Range.includes (-50,50) c.X\n",
    "                    && Range.includes (-50,50) c.Y\n",
    "                    && Range.includes (-50,50) c.Z\n",
    "                    )\n",
    "|> perform\n",
    "|> List.sumBy Cuboid.fullValue"
   ]
  },
  {
   "cell_type": "markdown",
   "metadata": {},
   "source": [
    "### Part 2"
   ]
  },
  {
   "cell_type": "code",
   "execution_count": null,
   "metadata": {
    "dotnet_interactive": {
     "language": "fsharp"
    }
   },
   "outputs": [
    {
     "data": {
      "text/html": [
       "<div class=\"dni-plaintext\">2758514936282235</div>"
      ]
     },
     "metadata": {},
     "output_type": "display_data"
    }
   ],
   "source": [
    "sample2Input\n",
    "|> perform\n",
    "|> List.sumBy Cuboid.fullValue"
   ]
  },
  {
   "cell_type": "code",
   "execution_count": null,
   "metadata": {
    "dotnet_interactive": {
     "language": "fsharp"
    }
   },
   "outputs": [
    {
     "data": {
      "text/html": [
       "<div class=\"dni-plaintext\">1334238660555542</div>"
      ]
     },
     "metadata": {},
     "output_type": "display_data"
    }
   ],
   "source": [
    "actualInput\n",
    "|> perform\n",
    "|> List.sumBy Cuboid.fullValue"
   ]
  }
 ],
 "metadata": {
  "kernelspec": {
   "display_name": ".NET (C#)",
   "language": "C#",
   "name": ".net-csharp"
  },
  "language_info": {
   "file_extension": ".cs",
   "mimetype": "text/x-csharp",
   "name": "C#",
   "pygments_lexer": "csharp",
   "version": "9.0"
  },
  "orig_nbformat": 4
 },
 "nbformat": 4,
 "nbformat_minor": 2
}

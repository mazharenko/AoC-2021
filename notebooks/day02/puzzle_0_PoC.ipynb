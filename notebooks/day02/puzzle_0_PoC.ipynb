{
  "cells": [
    {
      "cell_type": "markdown",
      "metadata": {},
      "source": [
        "[![nbviewer](https://raw.githubusercontent.com/jupyter/design/master/logos/Badges/nbviewer_badge.svg)](https://nbviewer.org/github/mazharenko/AoC-2021/tree/HEAD/notebooks/day02/puzzle_0_PoC.ipynb)\n",
        "\n",
        "Actually, the input can be a valid F# code.\n",
        "```fsharp\n",
        "forward 5\n",
        "down 5\n",
        "forward 8\n",
        "up 3\n",
        "down 8\n",
        "forward 2\n",
        "```\n",
        "All we have to do is save the input as fsx file, define corresponding function and then load the input so that it will execute.\n",
        "\n",
        "Make corresponding functions just print message"
      ]
    },
    {
      "cell_type": "code",
      "execution_count": null,
      "metadata": {
        "dotnet_interactive": {
          "language": "fsharp"
        }
      },
      "outputs": [],
      "source": [
        "let forward x = printfn $\"going forward {x}\"\n",
        "let down x = printfn $\"going down {x}\"\n",
        "let up x = printfn $\"going up {x}\""
      ]
    },
    {
      "cell_type": "markdown",
      "metadata": {},
      "source": [
        "The input script is about to print all the commands while executed"
      ]
    },
    {
      "cell_type": "code",
      "execution_count": null,
      "metadata": {
        "dotnet_interactive": {
          "language": "fsharp"
        }
      },
      "outputs": [
        {
          "name": "stdout",
          "output_type": "stream",
          "text": [
            "going forward 5\r\n",
            "going down 5\r\n",
            "going forward 8\r\n",
            "going up 3\r\n",
            "going down 8\r\n",
            "going forward 2\r\n"
          ]
        }
      ],
      "source": [
        "#load \"sample.fsx\""
      ]
    }
  ],
  "metadata": {
    "kernelspec": {
      "display_name": ".NET (C#)",
      "language": "C#",
      "name": ".net-csharp"
    },
    "language_info": {
      "file_extension": ".cs",
      "mimetype": "text/x-csharp",
      "name": "C#",
      "pygments_lexer": "csharp",
      "version": "8.0"
    }
  },
  "nbformat": 4,
  "nbformat_minor": 4
}

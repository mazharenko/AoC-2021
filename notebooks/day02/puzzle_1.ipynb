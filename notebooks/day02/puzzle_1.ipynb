{
  "cells": [
    {
      "cell_type": "markdown",
      "metadata": {},
      "source": [
        "[![nbviewer](https://raw.githubusercontent.com/jupyter/design/master/logos/Badges/nbviewer_badge.svg)](https://nbviewer.org/github/mazharenko/AoC-2021/tree/HEAD/notebooks/day02/puzzle_1.ipynb)\n",
        "\n",
        "#### Part One\n",
        "\n",
        "Unfortunately, the previously mentioned functions can only have one argument X, which forces us to modify some global state.\n",
        "\n",
        "We can define the actual logic functions in an immutable manner though, and those functions will be called by functions `forward`, `up` and `down`. "
      ]
    },
    {
      "cell_type": "code",
      "execution_count": null,
      "metadata": {
        "dotnet_interactive": {
          "language": "fsharp"
        }
      },
      "outputs": [],
      "source": [
        "type State = {Horizontal : int; Depth : int}\n",
        "\n",
        "let forward' x (state : State) = \n",
        "    {state with Horizontal = state.Horizontal + x}\n",
        "    \n",
        "let up' x (state : State) = \n",
        "    {state with Depth = state.Depth - x}\n",
        "    \n",
        "let down' x (state : State) = \n",
        "    {state with Depth = state.Depth + x}"
      ]
    },
    {
      "cell_type": "markdown",
      "metadata": {},
      "source": [
        "Define the global mutable state and mutating functions"
      ]
    },
    {
      "cell_type": "code",
      "execution_count": null,
      "metadata": {
        "dotnet_interactive": {
          "language": "fsharp"
        }
      },
      "outputs": [],
      "source": [
        "let mutable state = {Horizontal = 0; Depth = 0}\n",
        "\n",
        "let forward x = state <- forward' x state\n",
        "let up x = state <- up' x state\n",
        "let down x = state <- down' x state    "
      ]
    },
    {
      "cell_type": "markdown",
      "metadata": {},
      "source": [
        "With those functions defined, we can now execute the sample input and calculate the answer"
      ]
    },
    {
      "cell_type": "code",
      "execution_count": null,
      "metadata": {
        "dotnet_interactive": {
          "language": "fsharp"
        }
      },
      "outputs": [
        {
          "data": {
            "text/html": [
              "<table><thead><tr><th>Horizontal</th><th>Depth</th></tr></thead><tbody><tr><td><div class=\"dni-plaintext\">15</div></td><td><div class=\"dni-plaintext\">10</div></td></tr></tbody></table>"
            ]
          },
          "metadata": {},
          "output_type": "display_data"
        },
        {
          "data": {
            "text/html": [
              "<div class=\"dni-plaintext\">150</div>"
            ]
          },
          "metadata": {},
          "output_type": "display_data"
        }
      ],
      "source": [
        "#load \"sample.fsx\"\n",
        "display state\n",
        "display (state.Horizontal * state.Depth)"
      ]
    },
    {
      "cell_type": "markdown",
      "metadata": {},
      "source": [
        "For the actual input we are about to reset the state first:"
      ]
    },
    {
      "cell_type": "code",
      "execution_count": null,
      "metadata": {
        "dotnet_interactive": {
          "language": "fsharp"
        }
      },
      "outputs": [
        {
          "data": {
            "text/html": [
              "<table><thead><tr><th>Horizontal</th><th>Depth</th></tr></thead><tbody><tr><td><div class=\"dni-plaintext\">0</div></td><td><div class=\"dni-plaintext\">0</div></td></tr></tbody></table>"
            ]
          },
          "metadata": {},
          "output_type": "display_data"
        },
        {
          "data": {
            "text/html": [
              "<table><thead><tr><th>Horizontal</th><th>Depth</th></tr></thead><tbody><tr><td><div class=\"dni-plaintext\">1950</div></td><td><div class=\"dni-plaintext\">823</div></td></tr></tbody></table>"
            ]
          },
          "metadata": {},
          "output_type": "display_data"
        },
        {
          "data": {
            "text/html": [
              "<div class=\"dni-plaintext\">1604850</div>"
            ]
          },
          "metadata": {},
          "output_type": "display_data"
        }
      ],
      "source": [
        "state <- { Horizontal = 0; Depth = 0 }\n",
        "display state\n",
        "#load \"data.fsx\"\n",
        "display state\n",
        "display (int64 state.Horizontal * int64 state.Depth)"
      ]
    }
  ],
  "metadata": {
    "kernelspec": {
      "display_name": ".NET (C#)",
      "language": "C#",
      "name": ".net-csharp"
    },
    "language_info": {
      "file_extension": ".cs",
      "mimetype": "text/x-csharp",
      "name": "C#",
      "pygments_lexer": "csharp",
      "version": "8.0"
    }
  },
  "nbformat": 4,
  "nbformat_minor": 4
}

{
  "cells": [
    {
      "cell_type": "markdown",
      "metadata": {},
      "source": [
        "[![nbviewer](https://raw.githubusercontent.com/jupyter/design/master/logos/Badges/nbviewer_badge.svg)](https://nbviewer.org/github/mazharenko/AoC-2021/tree/HEAD/notebooks/day02/puzzle_2.ipynb)\n",
        "\n",
        "#### Part Two\n",
        "\n",
        "In the same way define the state and functions with slight changes"
      ]
    },
    {
      "cell_type": "code",
      "execution_count": null,
      "metadata": {
        "dotnet_interactive": {
          "language": "fsharp"
        }
      },
      "outputs": [],
      "source": [
        "type State = {Horizontal : int; Depth : int; Aim: int}\n",
        "\n",
        "let forward' x (state : State) = \n",
        "    {\n",
        "        state with \n",
        "            Horizontal = state.Horizontal + x;\n",
        "            Depth = state.Depth + x * state.Aim\n",
        "    }\n",
        "    \n",
        "let up' x (state : State) = \n",
        "    {state with Aim = state.Aim - x}\n",
        "    \n",
        "let down' x (state : State) = \n",
        "    {state with Aim = state.Aim + x}"
      ]
    },
    {
      "cell_type": "code",
      "execution_count": null,
      "metadata": {
        "dotnet_interactive": {
          "language": "fsharp"
        }
      },
      "outputs": [],
      "source": [
        "let mutable state = {Horizontal = 0; Depth = 0; Aim = 0}\n",
        "\n",
        "let forward x = state <- forward' x state\n",
        "let up x = state <- up' x state\n",
        "let down x = state <- down' x state    "
      ]
    },
    {
      "cell_type": "code",
      "execution_count": null,
      "metadata": {
        "dotnet_interactive": {
          "language": "fsharp"
        }
      },
      "outputs": [
        {
          "data": {
            "text/html": [
              "<table><thead><tr><th>Horizontal</th><th>Depth</th><th>Aim</th></tr></thead><tbody><tr><td><div class=\"dni-plaintext\">15</div></td><td><div class=\"dni-plaintext\">60</div></td><td><div class=\"dni-plaintext\">10</div></td></tr></tbody></table>"
            ]
          },
          "metadata": {},
          "output_type": "display_data"
        },
        {
          "data": {
            "text/html": [
              "<div class=\"dni-plaintext\">900</div>"
            ]
          },
          "metadata": {},
          "output_type": "display_data"
        }
      ],
      "source": [
        "#load \"sample.fsx\"\n",
        "display state\n",
        "display (state.Horizontal * state.Depth)"
      ]
    },
    {
      "cell_type": "markdown",
      "metadata": {},
      "source": [
        "For the actual input:"
      ]
    },
    {
      "cell_type": "code",
      "execution_count": null,
      "metadata": {
        "dotnet_interactive": {
          "language": "fsharp"
        }
      },
      "outputs": [
        {
          "data": {
            "text/html": [
              "<table><thead><tr><th>Horizontal</th><th>Depth</th><th>Aim</th></tr></thead><tbody><tr><td><div class=\"dni-plaintext\">0</div></td><td><div class=\"dni-plaintext\">0</div></td><td><div class=\"dni-plaintext\">0</div></td></tr></tbody></table>"
            ]
          },
          "metadata": {},
          "output_type": "display_data"
        },
        {
          "data": {
            "text/html": [
              "<table><thead><tr><th>Horizontal</th><th>Depth</th><th>Aim</th></tr></thead><tbody><tr><td><div class=\"dni-plaintext\">1950</div></td><td><div class=\"dni-plaintext\">864198</div></td><td><div class=\"dni-plaintext\">823</div></td></tr></tbody></table>"
            ]
          },
          "metadata": {},
          "output_type": "display_data"
        },
        {
          "data": {
            "text/html": [
              "<div class=\"dni-plaintext\">1685186100</div>"
            ]
          },
          "metadata": {},
          "output_type": "display_data"
        }
      ],
      "source": [
        "state <- { Horizontal = 0; Depth = 0; Aim = 0}\n",
        "display state\n",
        "#load \"data.fsx\"\n",
        "display state\n",
        "display (int64 state.Horizontal * int64 state.Depth)"
      ]
    }
  ],
  "metadata": {
    "kernelspec": {
      "display_name": ".NET (C#)",
      "language": "C#",
      "name": ".net-csharp"
    },
    "language_info": {
      "file_extension": ".cs",
      "mimetype": "text/x-csharp",
      "name": "C#",
      "pygments_lexer": "csharp",
      "version": "8.0"
    }
  },
  "nbformat": 4,
  "nbformat_minor": 4
}

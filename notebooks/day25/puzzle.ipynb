{
 "cells": [
  {
   "cell_type": "markdown",
   "metadata": {
    "dotnet_interactive": {
     "language": "fsharp"
    }
   },
   "source": [
    "## Day 25: Sea Cucumber\n",
    "\n",
    "[![nbviewer](https://raw.githubusercontent.com/jupyter/design/master/logos/Badges/nbviewer_badge.svg)](https://nbviewer.org/github/mazharenko/AoC-2021/tree/HEAD/notebooks/day25/puzzle.ipynb)"
   ]
  },
  {
   "cell_type": "code",
   "execution_count": null,
   "metadata": {
    "dotnet_interactive": {
     "language": "fsharp"
    }
   },
   "outputs": [],
   "source": [
    "#!value --name sampleRaw\n",
    "v...>>.vv>\n",
    ".vv>>.vv..\n",
    ">>.>v>...v\n",
    ">>v>>.>.v.\n",
    "v>v.vv.v..\n",
    ">.>>..v...\n",
    ".vv..>.>v.\n",
    "v.v..>>v.v\n",
    "....v..v.>"
   ]
  },
  {
   "cell_type": "code",
   "execution_count": null,
   "metadata": {
    "dotnet_interactive": {
     "language": "fsharp"
    }
   },
   "outputs": [],
   "source": [
    "#!value --name inputRaw --from-file=./data"
   ]
  },
  {
   "cell_type": "code",
   "execution_count": null,
   "metadata": {
    "dotnet_interactive": {
     "language": "fsharp"
    }
   },
   "outputs": [],
   "source": [
    "#load \"../common.fsx\"\n",
    "let private format grid = \n",
    "    let jagged = Array2D.toJagged grid \n",
    "    String.Join('\\n', jagged |> Array.map (String.fromArray))\n",
    "Formatter.Register<char[,]>((fun grid -> format grid), \"text/plain\")\n",
    "Formatter.SetPreferredMimeTypesFor(typedefof<char[,]>, \"text/plain\");"
   ]
  },
  {
   "cell_type": "code",
   "execution_count": null,
   "metadata": {
    "dotnet_interactive": {
     "language": "fsharp"
    }
   },
   "outputs": [],
   "source": [
    "#!share inputRaw --from value\n",
    "#!share sampleRaw --from value\n",
    "\n",
    "let sampleGrid = read2d sampleRaw\n",
    "let actualGrid = read2d inputRaw"
   ]
  },
  {
   "cell_type": "code",
   "execution_count": null,
   "metadata": {
    "dotnet_interactive": {
     "language": "fsharp"
    }
   },
   "outputs": [
    {
     "data": {
      "text/plain": [
       "v...>>.vv>\n",
       ".vv>>.vv..\n",
       ">>.>v>...v\n",
       ">>v>>.>.v.\n",
       "v>v.vv.v..\n",
       ">.>>..v...\n",
       ".vv..>.>v.\n",
       "v.v..>>v.v\n",
       "....v..v.>"
      ]
     },
     "metadata": {},
     "output_type": "display_data"
    }
   ],
   "source": [
    "sampleGrid |> display"
   ]
  },
  {
   "cell_type": "code",
   "execution_count": null,
   "metadata": {
    "dotnet_interactive": {
     "language": "fsharp"
    }
   },
   "outputs": [],
   "source": [
    " \n",
    "let rec movement grid steps =\n",
    "    let getCircular i j (ar: _[,]) =\n",
    "        let i1 = (i + Array2D.length1 grid) % Array2D.length1 grid\n",
    "        let j1 = (j + Array2D.length2 grid) % Array2D.length2 grid\n",
    "        ar.[i1, j1]\n",
    "    let ``step_>`` =\n",
    "        grid\n",
    "        |> Array2D.mapi (fun i j v ->\n",
    "            if (v = '.' && getCircular i (j-1) grid = '>') then '>'\n",
    "            elif (v = '>' && getCircular i (j+1) grid = '.') then '.'\n",
    "            else v\n",
    "        )\n",
    "        \n",
    "    let step_v =\n",
    "        ``step_>``\n",
    "            |> Array2D.mapi (fun i j v ->\n",
    "            if (v = '.' && getCircular (i-1) j ``step_>`` = 'v') then 'v'\n",
    "            elif (v = 'v' && getCircular (i+1) j ``step_>`` = '.') then '.'\n",
    "            else v\n",
    "        )\n",
    "    \n",
    "    if (step_v = grid)\n",
    "    then step_v, (steps+1)\n",
    "    else movement step_v (steps+1)\n",
    "         "
   ]
  },
  {
   "cell_type": "code",
   "execution_count": null,
   "metadata": {
    "dotnet_interactive": {
     "language": "fsharp"
    }
   },
   "outputs": [
    {
     "data": {
      "text/html": [
       "<div class=\"dni-plaintext\">58</div>"
      ]
     },
     "metadata": {},
     "output_type": "display_data"
    },
    {
     "data": {
      "text/plain": [
       "..>>v>vv..\n",
       "..v.>>vv..\n",
       "..>>v>>vv.\n",
       "..>>>>>vv.\n",
       "v......>vv\n",
       "v>v....>>v\n",
       "vvv.....>>\n",
       ">vv......>\n",
       ".>v.vv.v.."
      ]
     },
     "metadata": {},
     "output_type": "display_data"
    }
   ],
   "source": [
    "let (sampleResult, sampleSteps) = movement sampleGrid 0\n",
    "sampleSteps |> display\n",
    "sampleResult |> display"
   ]
  },
  {
   "cell_type": "code",
   "execution_count": null,
   "metadata": {
    "dotnet_interactive": {
     "language": "fsharp"
    }
   },
   "outputs": [
    {
     "data": {
      "text/html": [
       "<div class=\"dni-plaintext\">528</div>"
      ]
     },
     "metadata": {},
     "output_type": "display_data"
    }
   ],
   "source": [
    "movement actualGrid 0 |> snd"
   ]
  }
 ],
 "metadata": {
  "kernelspec": {
   "display_name": ".NET (F#)",
   "language": "F#",
   "name": ".net-fsharp"
  },
  "language_info": {
   "name": "F#"
  }
 },
 "nbformat": 4,
 "nbformat_minor": 2
}

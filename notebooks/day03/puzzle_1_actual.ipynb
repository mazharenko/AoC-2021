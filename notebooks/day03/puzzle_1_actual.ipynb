{
 "cells": [
  {
   "cell_type": "markdown",
   "metadata": {},
   "source": [
    "### Day 3: Binary Diagnostic\n",
    "\n",
    "[![nbviewer](https://raw.githubusercontent.com/jupyter/design/master/logos/Badges/nbviewer_badge.svg)](https://nbviewer.org/github/mazharenko/AoC-2021/tree/HEAD/notebooks/day03/puzzle_1_actual.ipynb)\n",
    "\n",
    "[Problem statement](https://adventofcode.com/2021/day/3)"
   ]
  },
  {
   "cell_type": "markdown",
   "metadata": {},
   "source": [
    "#### Part One. Actual data\n",
    "\n",
    "Actual data has longer words, this is the main thing needed to be aware of, in comparison with sample data."
   ]
  },
  {
   "cell_type": "code",
   "execution_count": null,
   "metadata": {
    "dotnet_interactive": {
     "language": "fsharp"
    }
   },
   "outputs": [],
   "source": [
    "let wordLength = 12\n",
    "let highestOrderPlace = wordLength - 1"
   ]
  },
  {
   "cell_type": "code",
   "execution_count": null,
   "metadata": {
    "dotnet_interactive": {
     "language": "fsharp"
    }
   },
   "outputs": [],
   "source": [
    "#load \"common.fsx\"\n",
    "#load \"../common.fsx\""
   ]
  },
  {
   "cell_type": "code",
   "execution_count": null,
   "metadata": {
    "dotnet_interactive": {
     "language": "csharp"
    }
   },
   "outputs": [],
   "source": [
    "#!share --from fsharp wordLength\n",
    "using Microsoft.DotNet.Interactive.Formatting;\n",
    "Formatter.Register<int>(v => Convert.ToString(v,  2).PadLeft(wordLength, '0'))"
   ]
  },
  {
   "cell_type": "code",
   "execution_count": null,
   "metadata": {
    "dotnet_interactive": {
     "language": "fsharp"
    }
   },
   "outputs": [
    {
     "data": {
      "text/html": [
       "<div class=\"dni-plaintext\">111111111111</div>"
      ]
     },
     "metadata": {},
     "output_type": "display_data"
    }
   ],
   "source": [
    "\n",
    "let wordMask = (1 <<< wordLength) - 1\n",
    "wordMask"
   ]
  },
  {
   "cell_type": "code",
   "execution_count": null,
   "metadata": {
    "dotnet_interactive": {
     "language": "fsharp"
    }
   },
   "outputs": [],
   "source": [
    "#!value --name diagnosticRaw --from-file ./data"
   ]
  },
  {
   "cell_type": "code",
   "execution_count": null,
   "metadata": {
    "dotnet_interactive": {
     "language": "fsharp"
    }
   },
   "outputs": [],
   "source": [
    "#!share --from value diagnosticRaw\n",
    "\n",
    "let diagnostic = parseDiagnostic diagnosticRaw\n"
   ]
  },
  {
   "cell_type": "code",
   "execution_count": null,
   "metadata": {
    "dotnet_interactive": {
     "language": "fsharp"
    }
   },
   "outputs": [
    {
     "data": {
      "text/html": [
       "<div class=\"dni-plaintext\">101001001011</div>"
      ]
     },
     "metadata": {},
     "output_type": "display_data"
    }
   ],
   "source": [
    "let getMostCommon i data = \n",
    "    let maski = 1 <<< i\n",
    "    let ``0s`` = data |> Seq.filter (fun n -> n &&& maski = 0) |> Seq.length\n",
    "    let ``1s`` = Array.length data - ``0s``\n",
    "    if (``0s`` > ``1s``) then 0 else maski\n",
    "\n",
    "let γ = \n",
    "    [| highestOrderPlace..(-1)..0|] \n",
    "    |> Array.map(fun i -> getMostCommon i diagnostic)\n",
    "    |> Array.reduce (|||)\n",
    "\n",
    "γ"
   ]
  },
  {
   "cell_type": "code",
   "execution_count": null,
   "metadata": {
    "dotnet_interactive": {
     "language": "fsharp"
    }
   },
   "outputs": [
    {
     "data": {
      "text/html": [
       "<div class=\"dni-plaintext\">010110110100</div>"
      ]
     },
     "metadata": {},
     "output_type": "display_data"
    }
   ],
   "source": [
    "let ε = ~~~γ &&& wordMask\n",
    "ε"
   ]
  },
  {
   "cell_type": "code",
   "execution_count": null,
   "metadata": {
    "dotnet_interactive": {
     "language": "fsharp"
    }
   },
   "outputs": [
    {
     "data": {
      "text/html": [
       "<div class=\"dni-plaintext\">3847100</div>"
      ]
     },
     "metadata": {},
     "output_type": "display_data"
    }
   ],
   "source": [
    "γ * ε |> uint64"
   ]
  },
  {
   "cell_type": "markdown",
   "metadata": {},
   "source": [
    "#### Part Two. Actual data\n"
   ]
  },
  {
   "cell_type": "code",
   "execution_count": null,
   "metadata": {
    "dotnet_interactive": {
     "language": "fsharp"
    }
   },
   "outputs": [],
   "source": [
    "type State = { Mask : int; Pos: int }\n",
    "\n",
    "let rec rating state bitCriteria data =\n",
    "    if (state.Pos < 0) then state\n",
    "    else\n",
    "        let matching = \n",
    "            data\n",
    "            |> Array.filter (fun x -> state.Mask = (wordMask <<< (state.Pos+1) &&& x))\n",
    "        matching\n",
    "        |> Array.tryExactlyOne \n",
    "        |> function \n",
    "            | Some value -> { Mask = value; Pos = 0}\n",
    "            | None -> rating { Pos = state.Pos - 1; \n",
    "                               Mask = matching |> (bitCriteria state.Pos) ||| state.Mask}\n",
    "                               bitCriteria\n",
    "                               data\n"
   ]
  },
  {
   "cell_type": "code",
   "execution_count": null,
   "metadata": {
    "dotnet_interactive": {
     "language": "fsharp"
    }
   },
   "outputs": [
    {
     "data": {
      "text/html": [
       "<div class=\"dni-plaintext\">101010101111</div>"
      ]
     },
     "metadata": {},
     "output_type": "display_data"
    },
    {
     "data": {
      "text/html": [
       "<div class=\"dni-plaintext\">2735</div>"
      ]
     },
     "metadata": {},
     "output_type": "display_data"
    }
   ],
   "source": [
    "\n",
    "let ogr = (rating {Mask = 0; Pos = highestOrderPlace} getMostCommon diagnostic).Mask\n",
    "ogr |> display\n",
    "ogr |> uint64 |> display"
   ]
  },
  {
   "cell_type": "code",
   "execution_count": null,
   "metadata": {
    "dotnet_interactive": {
     "language": "fsharp"
    }
   },
   "outputs": [
    {
     "data": {
      "text/html": [
       "<div class=\"dni-plaintext\">010111011101</div>"
      ]
     },
     "metadata": {},
     "output_type": "display_data"
    },
    {
     "data": {
      "text/html": [
       "<div class=\"dni-plaintext\">1501</div>"
      ]
     },
     "metadata": {},
     "output_type": "display_data"
    }
   ],
   "source": [
    "let getLeastCommon i data = \n",
    "    let maski = 1 <<< i\n",
    "    let ``0s`` = data |> Seq.filter (fun n -> n &&& maski = 0) |> Seq.length\n",
    "    let ``1s`` = Array.length data - ``0s``\n",
    "    if (``0s`` <= ``1s``) then 0 else maski\n",
    "\n",
    "let co2sr = (rating {Mask = 0; Pos = highestOrderPlace} getLeastCommon diagnostic).Mask\n",
    "co2sr |> display\n",
    "co2sr |> uint64 |> display"
   ]
  },
  {
   "cell_type": "code",
   "execution_count": null,
   "metadata": {
    "dotnet_interactive": {
     "language": "fsharp"
    }
   },
   "outputs": [
    {
     "data": {
      "text/html": [
       "<div class=\"dni-plaintext\">4105235</div>"
      ]
     },
     "metadata": {},
     "output_type": "display_data"
    }
   ],
   "source": [
    "ogr * co2sr |> uint64"
   ]
  }
 ],
 "metadata": {
  "kernelspec": {
   "display_name": ".NET (F#)",
   "language": "F#",
   "name": ".net-fsharp"
  },
  "language_info": {
   "name": "F#"
  }
 },
 "nbformat": 4,
 "nbformat_minor": 2
}

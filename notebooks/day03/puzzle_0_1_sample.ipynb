{
 "cells": [
  {
   "cell_type": "markdown",
   "metadata": {},
   "source": [
    "### Day 3: Binary Diagnostic\n",
    "\n",
    "[![nbviewer](https://raw.githubusercontent.com/jupyter/design/master/logos/Badges/nbviewer_badge.svg)](https://nbviewer.org/github/mazharenko/AoC-2021/tree/HEAD/notebooks/day03/puzzle_0_1_sample.ipynb)\n",
    "\n",
    "[Problem statement](https://adventofcode.com/2021/day/3)"
   ]
  },
  {
   "cell_type": "markdown",
   "metadata": {},
   "source": [
    "#### Part One. Sample data"
   ]
  },
  {
   "cell_type": "code",
   "execution_count": null,
   "metadata": {
    "dotnet_interactive": {
     "language": "csharp"
    }
   },
   "outputs": [],
   "source": [
    "using Microsoft.DotNet.Interactive.Formatting;\n",
    "Formatter.Register<int>(v => Convert.ToString(v,  2).PadLeft(5, '0'))"
   ]
  },
  {
   "cell_type": "code",
   "execution_count": null,
   "metadata": {
    "dotnet_interactive": {
     "language": "fsharp"
    }
   },
   "outputs": [],
   "source": [
    "#load \"common.fsx\""
   ]
  },
  {
   "cell_type": "code",
   "execution_count": null,
   "metadata": {
    "dotnet_interactive": {
     "language": "csharp"
    }
   },
   "outputs": [],
   "source": [
    "#!value --name diagnosticRaw --from-file ./sample"
   ]
  },
  {
   "cell_type": "code",
   "execution_count": null,
   "metadata": {
    "dotnet_interactive": {
     "language": "fsharp"
    }
   },
   "outputs": [
    {
     "data": {
      "text/html": [
       "<table><thead><tr><th><i>index</i></th><th>value</th></tr></thead><tbody><tr><td>0</td><td><div class=\"dni-plaintext\">00100</div></td></tr><tr><td>1</td><td><div class=\"dni-plaintext\">11110</div></td></tr><tr><td>2</td><td><div class=\"dni-plaintext\">10110</div></td></tr><tr><td>3</td><td><div class=\"dni-plaintext\">10111</div></td></tr><tr><td>4</td><td><div class=\"dni-plaintext\">10101</div></td></tr><tr><td>5</td><td><div class=\"dni-plaintext\">01111</div></td></tr><tr><td>6</td><td><div class=\"dni-plaintext\">00111</div></td></tr><tr><td>7</td><td><div class=\"dni-plaintext\">11100</div></td></tr><tr><td>8</td><td><div class=\"dni-plaintext\">10000</div></td></tr><tr><td>9</td><td><div class=\"dni-plaintext\">11001</div></td></tr><tr><td>10</td><td><div class=\"dni-plaintext\">00010</div></td></tr><tr><td>11</td><td><div class=\"dni-plaintext\">01010</div></td></tr></tbody></table>"
      ]
     },
     "metadata": {},
     "output_type": "display_data"
    }
   ],
   "source": [
    "#!share --from value diagnosticRaw\n",
    "\n",
    "let reportSample = parseDiagnostic diagnosticRaw\n",
    "\n",
    "reportSample"
   ]
  },
  {
   "cell_type": "markdown",
   "metadata": {},
   "source": [
    "Let's try to make some use of binary arithmetic.\n",
    "\n",
    "For a certain bit we can build the bit mask"
   ]
  },
  {
   "cell_type": "code",
   "execution_count": null,
   "metadata": {
    "dotnet_interactive": {
     "language": "fsharp"
    }
   },
   "outputs": [],
   "source": [
    "let mask i = 1 <<< i"
   ]
  },
  {
   "cell_type": "markdown",
   "metadata": {},
   "source": [
    "For the first bit (in terms of the task) it will be"
   ]
  },
  {
   "cell_type": "code",
   "execution_count": null,
   "metadata": {
    "dotnet_interactive": {
     "language": "fsharp"
    }
   },
   "outputs": [
    {
     "data": {
      "text/html": [
       "<div class=\"dni-plaintext\">10000</div>"
      ]
     },
     "metadata": {},
     "output_type": "display_data"
    }
   ],
   "source": [
    "mask 4"
   ]
  },
  {
   "cell_type": "markdown",
   "metadata": {
    "dotnet_interactive": {
     "language": "fsharp"
    }
   },
   "source": [
    "After applying the mask to all the sample values we can count which bit - `0` or `1` prevails for a certain bit."
   ]
  },
  {
   "cell_type": "code",
   "execution_count": null,
   "metadata": {
    "dotnet_interactive": {
     "language": "fsharp"
    }
   },
   "outputs": [],
   "source": [
    "let getMostCommon numbers i = \n",
    "    let maski = mask i\n",
    "    let ``0s`` = numbers |> Seq.filter (fun n -> n &&& maski = 0) |> Seq.length\n",
    "    let ``1s`` = Array.length numbers - ``0s``\n",
    "    if (``0s`` > ``1s``) then 0 else 1"
   ]
  },
  {
   "cell_type": "code",
   "execution_count": null,
   "metadata": {
    "dotnet_interactive": {
     "language": "fsharp"
    }
   },
   "outputs": [
    {
     "data": {
      "text/html": [
       "<table><thead><tr><th><i>index</i></th><th>value</th></tr></thead><tbody><tr><td>0</td><td><div class=\"dni-plaintext\">1</div></td></tr><tr><td>1</td><td><div class=\"dni-plaintext\">0</div></td></tr><tr><td>2</td><td><div class=\"dni-plaintext\">1</div></td></tr><tr><td>3</td><td><div class=\"dni-plaintext\">1</div></td></tr><tr><td>4</td><td><div class=\"dni-plaintext\">0</div></td></tr></tbody></table>"
      ]
     },
     "metadata": {},
     "output_type": "display_data"
    }
   ],
   "source": [
    "[|4..-1..0|] |> Array.map(getMostCommon reportSample) |> Array.map byte // different type to fool the formatter"
   ]
  },
  {
   "cell_type": "markdown",
   "metadata": {},
   "source": [
    "This way we get prevailing bits for each index and shift them to the corresponding place"
   ]
  },
  {
   "cell_type": "code",
   "execution_count": null,
   "metadata": {
    "dotnet_interactive": {
     "language": "fsharp"
    }
   },
   "outputs": [
    {
     "data": {
      "text/html": [
       "<table><thead><tr><th><i>index</i></th><th>value</th></tr></thead><tbody><tr><td>0</td><td><div class=\"dni-plaintext\">10000</div></td></tr><tr><td>1</td><td><div class=\"dni-plaintext\">00000</div></td></tr><tr><td>2</td><td><div class=\"dni-plaintext\">00100</div></td></tr><tr><td>3</td><td><div class=\"dni-plaintext\">00010</div></td></tr><tr><td>4</td><td><div class=\"dni-plaintext\">00000</div></td></tr></tbody></table>"
      ]
     },
     "metadata": {},
     "output_type": "display_data"
    }
   ],
   "source": [
    "[|4..-1..0|] \n",
    "|> Array.map(fun i -> getMostCommon reportSample i <<< i)"
   ]
  },
  {
   "cell_type": "markdown",
   "metadata": {},
   "source": [
    "Actually, shifting `0` is a nonsense, and shifted `1` equals to `maski`.\n",
    "\n",
    "Then, most common shifted bits can get combined using disjunction"
   ]
  },
  {
   "cell_type": "code",
   "execution_count": null,
   "metadata": {
    "dotnet_interactive": {
     "language": "fsharp"
    }
   },
   "outputs": [
    {
     "data": {
      "text/html": [
       "<table><thead><tr><th><i>index</i></th><th>value</th></tr></thead><tbody><tr><td>0</td><td><div class=\"dni-plaintext\">10000</div></td></tr><tr><td>1</td><td><div class=\"dni-plaintext\">00000</div></td></tr><tr><td>2</td><td><div class=\"dni-plaintext\">00100</div></td></tr><tr><td>3</td><td><div class=\"dni-plaintext\">00010</div></td></tr><tr><td>4</td><td><div class=\"dni-plaintext\">00000</div></td></tr></tbody></table>"
      ]
     },
     "metadata": {},
     "output_type": "display_data"
    }
   ],
   "source": [
    "let getMostCommon numbers i = \n",
    "    let maski = mask i\n",
    "    let ``0s`` = numbers |> Seq.filter (fun n -> n &&& maski = 0) |> Seq.length\n",
    "    let ``1s`` = Array.length numbers - ``0s``\n",
    "    if (``0s`` > ``1s``) then 0 else maski\n",
    "\n",
    "[|4..-1..0|] \n",
    "|> Array.map(fun i -> getMostCommon reportSample i)"
   ]
  },
  {
   "cell_type": "code",
   "execution_count": null,
   "metadata": {
    "dotnet_interactive": {
     "language": "fsharp"
    }
   },
   "outputs": [],
   "source": [
    "let γ = \n",
    "    [|4..-1..0|] \n",
    "    |> Array.map(fun i -> getMostCommon reportSample i)\n",
    "    |> Array.reduce (|||)"
   ]
  },
  {
   "cell_type": "markdown",
   "metadata": {
    "dotnet_interactive": {
     "language": "fsharp"
    }
   },
   "source": [
    "For the epsilon rate we can realize we would get the opposite bits as we did for the gamma rate. So, instead of calculating the reduction of the shifted least common bits we can negate the gamma rate"
   ]
  },
  {
   "cell_type": "code",
   "execution_count": null,
   "metadata": {
    "dotnet_interactive": {
     "language": "fsharp"
    }
   },
   "outputs": [
    {
     "data": {
      "text/html": [
       "<div class=\"dni-plaintext\">01001</div>"
      ]
     },
     "metadata": {},
     "output_type": "display_data"
    }
   ],
   "source": [
    "let ε = ~~~γ &&& 0b11111\n",
    "ε"
   ]
  },
  {
   "cell_type": "code",
   "execution_count": null,
   "metadata": {
    "dotnet_interactive": {
     "language": "fsharp"
    }
   },
   "outputs": [
    {
     "data": {
      "text/html": [
       "<div class=\"dni-plaintext\">11000110</div>"
      ]
     },
     "metadata": {},
     "output_type": "display_data"
    },
    {
     "data": {
      "text/html": [
       "<div class=\"dni-plaintext\">198</div>"
      ]
     },
     "metadata": {},
     "output_type": "display_data"
    }
   ],
   "source": [
    "γ * ε |> display\n",
    "γ * ε |> uint64 |> display"
   ]
  }
 ],
 "metadata": {
  "kernelspec": {
   "display_name": ".NET (F#)",
   "language": "F#",
   "name": ".net-fsharp"
  },
  "language_info": {
   "name": "F#"
  }
 },
 "nbformat": 4,
 "nbformat_minor": 2
}

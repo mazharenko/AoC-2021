{
 "cells": [
  {
   "cell_type": "markdown",
   "metadata": {},
   "source": [
    "### Day 3: Binary Diagnostic\n",
    "\n",
    "[![nbviewer](https://raw.githubusercontent.com/jupyter/design/master/logos/Badges/nbviewer_badge.svg)](https://nbviewer.org/github/mazharenko/AoC-2021/tree/HEAD/notebooks/day03/puzzle_0_2_sample.ipynb)\n"
   ]
  },
  {
   "cell_type": "markdown",
   "metadata": {},
   "source": [
    "#### Part Two. Sample data"
   ]
  },
  {
   "cell_type": "code",
   "execution_count": null,
   "metadata": {
    "dotnet_interactive": {
     "language": "csharp"
    }
   },
   "outputs": [],
   "source": [
    "using Microsoft.DotNet.Interactive.Formatting;\n",
    "Formatter.Register<int>(v => Convert.ToString(v,  2).PadLeft(5, '0'))"
   ]
  },
  {
   "cell_type": "code",
   "execution_count": null,
   "metadata": {
    "dotnet_interactive": {
     "language": "fsharp"
    }
   },
   "outputs": [],
   "source": [
    "#load \"common.fsx\"\n",
    "#load \"../common.fsx\""
   ]
  },
  {
   "cell_type": "code",
   "execution_count": null,
   "metadata": {
    "dotnet_interactive": {
     "language": "csharp"
    }
   },
   "outputs": [],
   "source": [
    "#!value --name diagnosticRaw --from-file ./sample"
   ]
  },
  {
   "cell_type": "code",
   "execution_count": null,
   "metadata": {
    "dotnet_interactive": {
     "language": "fsharp"
    }
   },
   "outputs": [
    {
     "data": {
      "text/html": [
       "<table><thead><tr><th><i>index</i></th><th>value</th></tr></thead><tbody><tr><td>0</td><td><div class=\"dni-plaintext\">00100</div></td></tr><tr><td>1</td><td><div class=\"dni-plaintext\">11110</div></td></tr><tr><td>2</td><td><div class=\"dni-plaintext\">10110</div></td></tr><tr><td>3</td><td><div class=\"dni-plaintext\">10111</div></td></tr><tr><td>4</td><td><div class=\"dni-plaintext\">10101</div></td></tr><tr><td>5</td><td><div class=\"dni-plaintext\">01111</div></td></tr><tr><td>6</td><td><div class=\"dni-plaintext\">00111</div></td></tr><tr><td>7</td><td><div class=\"dni-plaintext\">11100</div></td></tr><tr><td>8</td><td><div class=\"dni-plaintext\">10000</div></td></tr><tr><td>9</td><td><div class=\"dni-plaintext\">11001</div></td></tr><tr><td>10</td><td><div class=\"dni-plaintext\">00010</div></td></tr><tr><td>11</td><td><div class=\"dni-plaintext\">01010</div></td></tr></tbody></table>"
      ]
     },
     "metadata": {},
     "output_type": "display_data"
    }
   ],
   "source": [
    "#!share --from value diagnosticRaw\n",
    "\n",
    "let reportSample = parseDiagnostic diagnosticRaw\n",
    "\n",
    "reportSample"
   ]
  },
  {
   "cell_type": "markdown",
   "metadata": {},
   "source": [
    "Similarly to Part 1, we are going to check which bit value prevails, but do this only among entries having that value at that position.\n",
    "\n",
    "Removing a value from a suitable data structure might be beneficial performance-wise, but let's just rely heavily on binary arithmetic and comparison."
   ]
  },
  {
   "cell_type": "markdown",
   "metadata": {
    "dotnet_interactive": {
     "language": "fsharp"
    }
   },
   "source": [
    "We are gonna reuse the function which calculates the most common bit"
   ]
  },
  {
   "cell_type": "code",
   "execution_count": null,
   "metadata": {
    "dotnet_interactive": {
     "language": "fsharp"
    }
   },
   "outputs": [],
   "source": [
    "let getMostCommon i numbers = \n",
    "    let maski = 1 <<< i\n",
    "    let ``0s`` = numbers |> Seq.filter (fun n -> n &&& maski = 0) |> Seq.length\n",
    "    let ``1s`` = Array.length numbers - ``0s``\n",
    "    if (``0s`` > ``1s``) then 0 else maski"
   ]
  },
  {
   "cell_type": "markdown",
   "metadata": {
    "dotnet_interactive": {
     "language": "fsharp"
    }
   },
   "source": [
    "For the first position and oxygen generator rating bit `1` prevails:"
   ]
  },
  {
   "cell_type": "code",
   "execution_count": null,
   "metadata": {
    "dotnet_interactive": {
     "language": "fsharp"
    }
   },
   "outputs": [
    {
     "data": {
      "text/html": [
       "<div class=\"dni-plaintext\">10000</div>"
      ]
     },
     "metadata": {},
     "output_type": "display_data"
    }
   ],
   "source": [
    "let step1 = getMostCommon 4 reportSample\n",
    "step1"
   ]
  },
  {
   "cell_type": "markdown",
   "metadata": {},
   "source": [
    "On step 2 we want to look for the most common bit only among values starting from `1`:"
   ]
  },
  {
   "cell_type": "code",
   "execution_count": null,
   "metadata": {
    "dotnet_interactive": {
     "language": "fsharp"
    }
   },
   "outputs": [
    {
     "data": {
      "text/html": [
       "<table><thead><tr><th><i>index</i></th><th>value</th></tr></thead><tbody><tr><td>0</td><td><div class=\"dni-plaintext\">11110</div></td></tr><tr><td>1</td><td><div class=\"dni-plaintext\">10110</div></td></tr><tr><td>2</td><td><div class=\"dni-plaintext\">10111</div></td></tr><tr><td>3</td><td><div class=\"dni-plaintext\">10101</div></td></tr><tr><td>4</td><td><div class=\"dni-plaintext\">11100</div></td></tr><tr><td>5</td><td><div class=\"dni-plaintext\">10000</div></td></tr><tr><td>6</td><td><div class=\"dni-plaintext\">11001</div></td></tr></tbody></table>"
      ]
     },
     "metadata": {},
     "output_type": "display_data"
    },
    {
     "data": {
      "text/html": [
       "<div class=\"dni-plaintext\">00000</div>"
      ]
     },
     "metadata": {},
     "output_type": "display_data"
    }
   ],
   "source": [
    "let step2 = \n",
    "    reportSample\n",
    "    |> Array.filter (fun x -> 0b1_0000 = (x &&& 0b1_0000))\n",
    "    |> displayPipe\n",
    "    |> getMostCommon 3\n",
    "step2"
   ]
  },
  {
   "cell_type": "markdown",
   "metadata": {},
   "source": [
    "Step 3"
   ]
  },
  {
   "cell_type": "code",
   "execution_count": null,
   "metadata": {
    "dotnet_interactive": {
     "language": "fsharp"
    }
   },
   "outputs": [
    {
     "data": {
      "text/html": [
       "<table><thead><tr><th><i>index</i></th><th>value</th></tr></thead><tbody><tr><td>0</td><td><div class=\"dni-plaintext\">10110</div></td></tr><tr><td>1</td><td><div class=\"dni-plaintext\">10111</div></td></tr><tr><td>2</td><td><div class=\"dni-plaintext\">10101</div></td></tr><tr><td>3</td><td><div class=\"dni-plaintext\">10000</div></td></tr></tbody></table>"
      ]
     },
     "metadata": {},
     "output_type": "display_data"
    },
    {
     "data": {
      "text/html": [
       "<div class=\"dni-plaintext\">00100</div>"
      ]
     },
     "metadata": {},
     "output_type": "display_data"
    }
   ],
   "source": [
    "let step3 = \n",
    "    reportSample\n",
    "    |> Array.filter (fun x -> 0b10_000 = (x &&& 0b11_000))\n",
    "    |> displayPipe\n",
    "    |> getMostCommon 2\n",
    "step3"
   ]
  },
  {
   "cell_type": "markdown",
   "metadata": {},
   "source": [
    "Step 4"
   ]
  },
  {
   "cell_type": "code",
   "execution_count": null,
   "metadata": {
    "dotnet_interactive": {
     "language": "fsharp"
    }
   },
   "outputs": [
    {
     "data": {
      "text/html": [
       "<table><thead><tr><th><i>index</i></th><th>value</th></tr></thead><tbody><tr><td>0</td><td><div class=\"dni-plaintext\">10110</div></td></tr><tr><td>1</td><td><div class=\"dni-plaintext\">10111</div></td></tr><tr><td>2</td><td><div class=\"dni-plaintext\">10101</div></td></tr></tbody></table>"
      ]
     },
     "metadata": {},
     "output_type": "display_data"
    },
    {
     "data": {
      "text/html": [
       "<div class=\"dni-plaintext\">00010</div>"
      ]
     },
     "metadata": {},
     "output_type": "display_data"
    }
   ],
   "source": [
    "let step4 = \n",
    "    reportSample\n",
    "    |> Array.filter (fun x -> 0b101_00 = (x &&& 0b111_00))\n",
    "    |> displayPipe\n",
    "    |> getMostCommon 1\n",
    "step4"
   ]
  },
  {
   "cell_type": "markdown",
   "metadata": {},
   "source": [
    "Step 5"
   ]
  },
  {
   "cell_type": "code",
   "execution_count": null,
   "metadata": {
    "dotnet_interactive": {
     "language": "fsharp"
    }
   },
   "outputs": [
    {
     "data": {
      "text/html": [
       "<div class=\"dni-plaintext\">00001</div>"
      ]
     },
     "metadata": {},
     "output_type": "display_data"
    }
   ],
   "source": [
    "reportSample\n",
    "|> Array.filter (fun x -> 0b1011_0 = (x &&& 0b1111_0))\n",
    "|> getMostCommon 0\n",
    "|> display\n"
   ]
  },
  {
   "cell_type": "markdown",
   "metadata": {},
   "source": [
    "By this moment, there is only one value matching the aggregated mask left. This will be the oxygen generator rating."
   ]
  },
  {
   "cell_type": "code",
   "execution_count": null,
   "metadata": {
    "dotnet_interactive": {
     "language": "fsharp"
    }
   },
   "outputs": [
    {
     "data": {
      "text/html": [
       "<div class=\"dni-plaintext\">10111</div>"
      ]
     },
     "metadata": {},
     "output_type": "display_data"
    },
    {
     "data": {
      "text/html": [
       "<div class=\"dni-plaintext\">23</div>"
      ]
     },
     "metadata": {},
     "output_type": "display_data"
    }
   ],
   "source": [
    "let ogr = \n",
    "    reportSample\n",
    "    |> Array.filter (fun x -> 0b10111 = (x &&& 0b11111))\n",
    "    |> Array.exactlyOne\n",
    "ogr |> display\n",
    "ogr |> uint64 |> display"
   ]
  },
  {
   "cell_type": "markdown",
   "metadata": {},
   "source": [
    "So, generally speaking, when iterating over positions, we can aggregate a mask which values will be checked with. The second mask is basically a function from the position."
   ]
  },
  {
   "cell_type": "code",
   "execution_count": null,
   "metadata": {
    "dotnet_interactive": {
     "language": "fsharp"
    }
   },
   "outputs": [
    {
     "data": {
      "text/html": [
       "<div class=\"dni-plaintext\">10111</div>"
      ]
     },
     "metadata": {},
     "output_type": "display_data"
    },
    {
     "data": {
      "text/html": [
       "<div class=\"dni-plaintext\">23</div>"
      ]
     },
     "metadata": {},
     "output_type": "display_data"
    }
   ],
   "source": [
    "type State = { Mask : int; Pos: int }\n",
    "\n",
    "let rec ogr' state =\n",
    "    if (state.Pos < 0) then state\n",
    "    else\n",
    "        let matching = \n",
    "            reportSample\n",
    "            |> Array.filter (fun x -> state.Mask = (0b11111 <<< (state.Pos+1) &&& x))\n",
    "        matching\n",
    "        |> Array.tryExactlyOne \n",
    "        |> function \n",
    "            | Some value -> { Mask = value; Pos = 0}\n",
    "            | None -> ogr' { Pos = state.Pos - 1; \n",
    "                            Mask = matching |> getMostCommon state.Pos ||| state.Mask}\n",
    "\n",
    "let ogr = (ogr' {Mask = 0b00000; Pos = 4}).Mask\n",
    "ogr |> display\n",
    "ogr |> uint64 |> display"
   ]
  },
  {
   "cell_type": "markdown",
   "metadata": {},
   "source": [
    "For the CO2 scrubber rating, however, we need to choose values differently, by the least common bit"
   ]
  },
  {
   "cell_type": "code",
   "execution_count": null,
   "metadata": {
    "dotnet_interactive": {
     "language": "fsharp"
    }
   },
   "outputs": [],
   "source": [
    "let getLeastCommon i numbers = \n",
    "    let maski = 1 <<< i\n",
    "    let ``0s`` = numbers |> Seq.filter (fun n -> n &&& maski = 0) |> Seq.length\n",
    "    let ``1s`` = Array.length numbers - ``0s``\n",
    "    if (``0s`` <= ``1s``) then 0 else maski"
   ]
  },
  {
   "cell_type": "code",
   "execution_count": null,
   "metadata": {
    "dotnet_interactive": {
     "language": "fsharp"
    }
   },
   "outputs": [
    {
     "data": {
      "text/html": [
       "<div class=\"dni-plaintext\">10111</div>"
      ]
     },
     "metadata": {},
     "output_type": "display_data"
    },
    {
     "data": {
      "text/html": [
       "<div class=\"dni-plaintext\">23</div>"
      ]
     },
     "metadata": {},
     "output_type": "display_data"
    }
   ],
   "source": [
    "type State = { Mask : int; Pos: int }\n",
    "\n",
    "let rec co2sr' state =\n",
    "    if (state.Pos < 0) then state\n",
    "    else\n",
    "        let matching = \n",
    "            reportSample\n",
    "            |> Array.filter (fun x -> state.Mask = (0b11111 <<< (state.Pos+1) &&& x))\n",
    "        matching\n",
    "        |> Array.tryExactlyOne \n",
    "        |> function \n",
    "            | Some value -> { Mask = value; Pos = 0}\n",
    "            | None -> co2sr' { Pos = state.Pos - 1; \n",
    "                            Mask = matching |> getLeastCommon state.Pos ||| state.Mask}\n",
    "\n",
    "let co2sr = (ogr' {Mask = 0b00000; Pos = 4}).Mask\n",
    "co2sr |> display\n",
    "co2sr |> uint64 |> display"
   ]
  }
 ],
 "metadata": {
  "kernelspec": {
   "display_name": ".NET (F#)",
   "language": "F#",
   "name": ".net-fsharp"
  },
  "language_info": {
   "name": "F#"
  }
 },
 "nbformat": 4,
 "nbformat_minor": 2
}

{
 "cells": [
  {
   "cell_type": "markdown",
   "metadata": {},
   "source": [
    "## Day 15: Chiton\n",
    "\n",
    "[![nbviewer](https://raw.githubusercontent.com/jupyter/design/master/logos/Badges/nbviewer_badge.svg)](https://nbviewer.org/github/mazharenko/AoC-2021/tree/HEAD/notebooks/day15/puzzle.ipynb)\n",
    "\n",
    "[Problem statement](https://adventofcode.com/2021/day/15)\n",
    "\n",
    "Inspired by [xoposhiy](https://github.com/xoposhiy/aoc/blob/main/2021/15-path-risk.py)"
   ]
  },
  {
   "cell_type": "code",
   "execution_count": null,
   "metadata": {
    "dotnet_interactive": {
     "language": "fsharp"
    }
   },
   "outputs": [],
   "source": [
    "#!value --name sampleRaw\n",
    "1163751742\n",
    "1381373672\n",
    "2136511328\n",
    "3694931569\n",
    "7463417111\n",
    "1319128137\n",
    "1359912421\n",
    "3125421639\n",
    "1293138521\n",
    "2311944581"
   ]
  },
  {
   "cell_type": "code",
   "execution_count": null,
   "metadata": {
    "dotnet_interactive": {
     "language": "fsharp"
    }
   },
   "outputs": [],
   "source": [
    "#!value --name inputRaw --from-file ./data"
   ]
  },
  {
   "cell_type": "code",
   "execution_count": null,
   "metadata": {
    "dotnet_interactive": {
     "language": "fsharp"
    }
   },
   "outputs": [],
   "source": [
    "#load \"../common.fsx\"\n",
    "#load \"../formatting.fsx\"\n",
    "\n",
    "let inf = 99999999\n",
    "\n",
    "Formatter.Register<int[,]>((fun v -> formatTable (fun el -> if (el >= inf) then \"∞\" else (string el)) v), \"text/html\")"
   ]
  },
  {
   "cell_type": "code",
   "execution_count": null,
   "metadata": {
    "dotnet_interactive": {
     "language": "fsharp"
    }
   },
   "outputs": [],
   "source": [
    "\n",
    "let parse input = \n",
    "    readLines input\n",
    "    |> Array.map (Seq.toArray >> Array.map (string >> int))\n",
    "    |> array2D\n",
    "\n",
    "module Array2D = \n",
    "    let shift1 count defaultValue source = \n",
    "        source\n",
    "        |> Array2D.mapi (fun i j v -> source |> Array2D.tryGet i (j - count) |> Option.defaultValue defaultValue)\n",
    "    let shift2 count defaultValue source = \n",
    "        source\n",
    "        |> Array2D.mapi (fun i j v -> source |> Array2D.tryGet (i - count) j |> Option.defaultValue defaultValue)\n",
    "    let zip f source1 source2 = \n",
    "        if (Array2D.length1 source1 <> Array2D.length1 source2\n",
    "          || Array2D.length2 source1 <> Array2D.length2 source2)\n",
    "        then failwith \"lengths do not match\"\n",
    "        source1 |> Array2D.mapi (fun i j x1 -> f x1 source2.[i,j])\n",
    "let (...+) = Array2D.zip (+)\n",
    "\n",
    "let step riskGrid riskTotalGrid = \n",
    "    [\n",
    "        riskTotalGrid\n",
    "        riskGrid ...+ Array2D.shift1 1 inf riskTotalGrid\n",
    "        riskGrid ...+ Array2D.shift1 -1 inf riskTotalGrid\n",
    "        riskGrid ...+ Array2D.shift2 1 inf riskTotalGrid\n",
    "        riskGrid ...+ Array2D.shift2 -1 inf riskTotalGrid\n",
    "    ] |> List.reduce (Array2D.zip min)\n",
    "\n",
    "let solve riskGrid demo = \n",
    "    let riskTotalGrid = Array2D.map (fun _ -> inf) riskGrid\n",
    "    riskTotalGrid.[0,0] <- 0\n",
    "    if (demo) then riskTotalGrid |> display |> ignore\n",
    "    Seq.unfold (fun state -> \n",
    "        let newState = step riskGrid state\n",
    "        if (newState = state) then None else Some (newState, newState)\n",
    "    ) riskTotalGrid\n",
    "    |> Seq.mapi (fun i stepRiskTotal -> if (demo && (i+1) % 5 = 0) then displayPipe stepRiskTotal else stepRiskTotal)\n",
    "    |> Seq.last |> (fun total -> if (demo) then total |> displayPipe else total)\n",
    "\n"
   ]
  },
  {
   "cell_type": "code",
   "execution_count": null,
   "metadata": {
    "dotnet_interactive": {
     "language": "fsharp"
    }
   },
   "outputs": [],
   "source": [
    "#!share sampleRaw --from value\n",
    "#!share inputRaw --from value\n",
    "\n",
    "let sampleCave = parse sampleRaw\n",
    "let actualCave = parse inputRaw\n"
   ]
  },
  {
   "cell_type": "code",
   "execution_count": null,
   "metadata": {
    "dotnet_interactive": {
     "language": "fsharp"
    }
   },
   "outputs": [
    {
     "data": {
      "text/html": [
       "<table><tr><td>1</td><td>1</td><td>6</td><td>3</td><td>7</td><td>5</td><td>1</td><td>7</td><td>4</td><td>2</td></tr><tr><td>1</td><td>3</td><td>8</td><td>1</td><td>3</td><td>7</td><td>3</td><td>6</td><td>7</td><td>2</td></tr><tr><td>2</td><td>1</td><td>3</td><td>6</td><td>5</td><td>1</td><td>1</td><td>3</td><td>2</td><td>8</td></tr><tr><td>3</td><td>6</td><td>9</td><td>4</td><td>9</td><td>3</td><td>1</td><td>5</td><td>6</td><td>9</td></tr><tr><td>7</td><td>4</td><td>6</td><td>3</td><td>4</td><td>1</td><td>7</td><td>1</td><td>1</td><td>1</td></tr><tr><td>1</td><td>3</td><td>1</td><td>9</td><td>1</td><td>2</td><td>8</td><td>1</td><td>3</td><td>7</td></tr><tr><td>1</td><td>3</td><td>5</td><td>9</td><td>9</td><td>1</td><td>2</td><td>4</td><td>2</td><td>1</td></tr><tr><td>3</td><td>1</td><td>2</td><td>5</td><td>4</td><td>2</td><td>1</td><td>6</td><td>3</td><td>9</td></tr><tr><td>1</td><td>2</td><td>9</td><td>3</td><td>1</td><td>3</td><td>8</td><td>5</td><td>2</td><td>1</td></tr><tr><td>2</td><td>3</td><td>1</td><td>1</td><td>9</td><td>4</td><td>4</td><td>5</td><td>8</td><td>1</td></tr></table>"
      ]
     },
     "metadata": {},
     "output_type": "display_data"
    },
    {
     "data": {
      "text/html": [
       "<table><tr><td>0</td><td>∞</td><td>∞</td><td>∞</td><td>∞</td><td>∞</td><td>∞</td><td>∞</td><td>∞</td><td>∞</td></tr><tr><td>∞</td><td>∞</td><td>∞</td><td>∞</td><td>∞</td><td>∞</td><td>∞</td><td>∞</td><td>∞</td><td>∞</td></tr><tr><td>∞</td><td>∞</td><td>∞</td><td>∞</td><td>∞</td><td>∞</td><td>∞</td><td>∞</td><td>∞</td><td>∞</td></tr><tr><td>∞</td><td>∞</td><td>∞</td><td>∞</td><td>∞</td><td>∞</td><td>∞</td><td>∞</td><td>∞</td><td>∞</td></tr><tr><td>∞</td><td>∞</td><td>∞</td><td>∞</td><td>∞</td><td>∞</td><td>∞</td><td>∞</td><td>∞</td><td>∞</td></tr><tr><td>∞</td><td>∞</td><td>∞</td><td>∞</td><td>∞</td><td>∞</td><td>∞</td><td>∞</td><td>∞</td><td>∞</td></tr><tr><td>∞</td><td>∞</td><td>∞</td><td>∞</td><td>∞</td><td>∞</td><td>∞</td><td>∞</td><td>∞</td><td>∞</td></tr><tr><td>∞</td><td>∞</td><td>∞</td><td>∞</td><td>∞</td><td>∞</td><td>∞</td><td>∞</td><td>∞</td><td>∞</td></tr><tr><td>∞</td><td>∞</td><td>∞</td><td>∞</td><td>∞</td><td>∞</td><td>∞</td><td>∞</td><td>∞</td><td>∞</td></tr><tr><td>∞</td><td>∞</td><td>∞</td><td>∞</td><td>∞</td><td>∞</td><td>∞</td><td>∞</td><td>∞</td><td>∞</td></tr></table>"
      ]
     },
     "metadata": {},
     "output_type": "display_data"
    },
    {
     "data": {
      "text/html": [
       "<table><tr><td>0</td><td>1</td><td>7</td><td>10</td><td>17</td><td>22</td><td>∞</td><td>∞</td><td>∞</td><td>∞</td></tr><tr><td>1</td><td>4</td><td>12</td><td>11</td><td>14</td><td>∞</td><td>∞</td><td>∞</td><td>∞</td><td>∞</td></tr><tr><td>3</td><td>4</td><td>7</td><td>13</td><td>∞</td><td>∞</td><td>∞</td><td>∞</td><td>∞</td><td>∞</td></tr><tr><td>6</td><td>10</td><td>16</td><td>∞</td><td>∞</td><td>∞</td><td>∞</td><td>∞</td><td>∞</td><td>∞</td></tr><tr><td>13</td><td>14</td><td>∞</td><td>∞</td><td>∞</td><td>∞</td><td>∞</td><td>∞</td><td>∞</td><td>∞</td></tr><tr><td>14</td><td>∞</td><td>∞</td><td>∞</td><td>∞</td><td>∞</td><td>∞</td><td>∞</td><td>∞</td><td>∞</td></tr><tr><td>∞</td><td>∞</td><td>∞</td><td>∞</td><td>∞</td><td>∞</td><td>∞</td><td>∞</td><td>∞</td><td>∞</td></tr><tr><td>∞</td><td>∞</td><td>∞</td><td>∞</td><td>∞</td><td>∞</td><td>∞</td><td>∞</td><td>∞</td><td>∞</td></tr><tr><td>∞</td><td>∞</td><td>∞</td><td>∞</td><td>∞</td><td>∞</td><td>∞</td><td>∞</td><td>∞</td><td>∞</td></tr><tr><td>∞</td><td>∞</td><td>∞</td><td>∞</td><td>∞</td><td>∞</td><td>∞</td><td>∞</td><td>∞</td><td>∞</td></tr></table>"
      ]
     },
     "metadata": {},
     "output_type": "display_data"
    },
    {
     "data": {
      "text/html": [
       "<table><tr><td>0</td><td>1</td><td>7</td><td>10</td><td>17</td><td>22</td><td>23</td><td>30</td><td>34</td><td>36</td></tr><tr><td>1</td><td>4</td><td>12</td><td>11</td><td>14</td><td>21</td><td>23</td><td>29</td><td>37</td><td>38</td></tr><tr><td>3</td><td>4</td><td>7</td><td>13</td><td>18</td><td>19</td><td>20</td><td>23</td><td>25</td><td>∞</td></tr><tr><td>6</td><td>10</td><td>16</td><td>17</td><td>26</td><td>22</td><td>21</td><td>26</td><td>∞</td><td>∞</td></tr><tr><td>13</td><td>14</td><td>20</td><td>20</td><td>24</td><td>23</td><td>28</td><td>∞</td><td>∞</td><td>∞</td></tr><tr><td>14</td><td>17</td><td>18</td><td>27</td><td>25</td><td>25</td><td>∞</td><td>∞</td><td>∞</td><td>∞</td></tr><tr><td>15</td><td>18</td><td>23</td><td>32</td><td>34</td><td>∞</td><td>∞</td><td>∞</td><td>∞</td><td>∞</td></tr><tr><td>18</td><td>19</td><td>21</td><td>26</td><td>∞</td><td>∞</td><td>∞</td><td>∞</td><td>∞</td><td>∞</td></tr><tr><td>19</td><td>21</td><td>30</td><td>∞</td><td>∞</td><td>∞</td><td>∞</td><td>∞</td><td>∞</td><td>∞</td></tr><tr><td>21</td><td>24</td><td>∞</td><td>∞</td><td>∞</td><td>∞</td><td>∞</td><td>∞</td><td>∞</td><td>∞</td></tr></table>"
      ]
     },
     "metadata": {},
     "output_type": "display_data"
    },
    {
     "data": {
      "text/html": [
       "<table><tr><td>0</td><td>1</td><td>7</td><td>10</td><td>17</td><td>22</td><td>23</td><td>30</td><td>34</td><td>36</td></tr><tr><td>1</td><td>4</td><td>12</td><td>11</td><td>14</td><td>21</td><td>23</td><td>29</td><td>32</td><td>34</td></tr><tr><td>3</td><td>4</td><td>7</td><td>13</td><td>18</td><td>19</td><td>20</td><td>23</td><td>25</td><td>33</td></tr><tr><td>6</td><td>10</td><td>16</td><td>17</td><td>26</td><td>22</td><td>21</td><td>26</td><td>31</td><td>38</td></tr><tr><td>13</td><td>14</td><td>20</td><td>20</td><td>24</td><td>23</td><td>28</td><td>27</td><td>28</td><td>29</td></tr><tr><td>14</td><td>17</td><td>18</td><td>27</td><td>25</td><td>25</td><td>33</td><td>28</td><td>31</td><td>36</td></tr><tr><td>15</td><td>18</td><td>23</td><td>32</td><td>34</td><td>26</td><td>28</td><td>32</td><td>33</td><td>34</td></tr><tr><td>18</td><td>19</td><td>21</td><td>26</td><td>30</td><td>28</td><td>29</td><td>35</td><td>36</td><td>∞</td></tr><tr><td>19</td><td>21</td><td>30</td><td>29</td><td>30</td><td>31</td><td>37</td><td>40</td><td>∞</td><td>∞</td></tr><tr><td>21</td><td>24</td><td>25</td><td>26</td><td>35</td><td>35</td><td>39</td><td>∞</td><td>∞</td><td>∞</td></tr></table>"
      ]
     },
     "metadata": {},
     "output_type": "display_data"
    },
    {
     "data": {
      "text/html": [
       "<table><tr><td>0</td><td>1</td><td>7</td><td>10</td><td>17</td><td>22</td><td>23</td><td>30</td><td>34</td><td>36</td></tr><tr><td>1</td><td>4</td><td>12</td><td>11</td><td>14</td><td>21</td><td>23</td><td>29</td><td>32</td><td>34</td></tr><tr><td>3</td><td>4</td><td>7</td><td>13</td><td>18</td><td>19</td><td>20</td><td>23</td><td>25</td><td>33</td></tr><tr><td>6</td><td>10</td><td>16</td><td>17</td><td>26</td><td>22</td><td>21</td><td>26</td><td>31</td><td>38</td></tr><tr><td>13</td><td>14</td><td>20</td><td>20</td><td>24</td><td>23</td><td>28</td><td>27</td><td>28</td><td>29</td></tr><tr><td>14</td><td>17</td><td>18</td><td>27</td><td>25</td><td>25</td><td>33</td><td>28</td><td>31</td><td>36</td></tr><tr><td>15</td><td>18</td><td>23</td><td>32</td><td>34</td><td>26</td><td>28</td><td>32</td><td>33</td><td>34</td></tr><tr><td>18</td><td>19</td><td>21</td><td>26</td><td>30</td><td>28</td><td>29</td><td>35</td><td>36</td><td>43</td></tr><tr><td>19</td><td>21</td><td>30</td><td>29</td><td>30</td><td>31</td><td>37</td><td>40</td><td>38</td><td>39</td></tr><tr><td>21</td><td>24</td><td>25</td><td>26</td><td>35</td><td>35</td><td>39</td><td>44</td><td>46</td><td>40</td></tr></table>"
      ]
     },
     "metadata": {},
     "output_type": "display_data"
    },
    {
     "data": {
      "text/html": [
       "<div class=\"dni-plaintext\">40</div>"
      ]
     },
     "metadata": {},
     "output_type": "display_data"
    }
   ],
   "source": [
    "sampleCave |> display\n",
    "let private solved = solve sampleCave true\n",
    "solved.[^0, ^0]"
   ]
  },
  {
   "cell_type": "code",
   "execution_count": null,
   "metadata": {
    "dotnet_interactive": {
     "language": "fsharp"
    }
   },
   "outputs": [
    {
     "data": {
      "text/html": [
       "<div class=\"dni-plaintext\">595</div>"
      ]
     },
     "metadata": {},
     "output_type": "display_data"
    }
   ],
   "source": [
    "(solve actualCave false).[^0, ^0]"
   ]
  },
  {
   "cell_type": "code",
   "execution_count": null,
   "metadata": {
    "dotnet_interactive": {
     "language": "fsharp"
    }
   },
   "outputs": [],
   "source": [
    "let private x25 source =\n",
    "    let x = Array2D.length1 source\n",
    "    let y = Array2D.length2 source\n",
    "    Array2D.init (x * 5) (y * 5)\n",
    "                   (fun i j ->\n",
    "                        let di = i / x\n",
    "                        let dj = j / y\n",
    "                        let candidate = source.[i % x, j % y] + di + dj\n",
    "                        (candidate - 1) % 9 + 1\n",
    "                    )\n",
    "let sampleCaveX25 = x25 sampleCave\n",
    "let actualCaveX25 = x25 actualCave"
   ]
  },
  {
   "cell_type": "code",
   "execution_count": null,
   "metadata": {
    "dotnet_interactive": {
     "language": "fsharp"
    }
   },
   "outputs": [
    {
     "data": {
      "text/html": [
       "<div class=\"dni-plaintext\">2914</div>"
      ]
     },
     "metadata": {},
     "output_type": "display_data"
    }
   ],
   "source": [
    "(solve sampleCaveX25 false).[^0, ^0]\n",
    "(solve actualCaveX25 false).[^0, ^0] // too slow"
   ]
  }
 ],
 "metadata": {
  "kernelspec": {
   "display_name": ".NET (F#)",
   "language": "F#",
   "name": ".net-fsharp"
  },
  "language_info": {
   "name": "F#"
  }
 },
 "nbformat": 4,
 "nbformat_minor": 2
}

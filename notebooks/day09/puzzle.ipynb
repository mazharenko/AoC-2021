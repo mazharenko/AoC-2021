{
 "cells": [
  {
   "cell_type": "markdown",
   "metadata": {},
   "source": [
    "## Day 9: Smoke Basin\n",
    "[link](https://adventofcode.com/2021/day/9)"
   ]
  },
  {
   "cell_type": "markdown",
   "metadata": {},
   "source": [
    "### Part 1"
   ]
  },
  {
   "cell_type": "code",
   "execution_count": null,
   "metadata": {
    "dotnet_interactive": {
     "language": "fsharp"
    }
   },
   "outputs": [],
   "source": [
    "#!value --name sampleRaw\n",
    "2199943210\n",
    "3987894921\n",
    "9856789892\n",
    "8767896789\n",
    "9899965678"
   ]
  },
  {
   "cell_type": "code",
   "execution_count": null,
   "metadata": {
    "dotnet_interactive": {
     "language": "fsharp"
    }
   },
   "outputs": [],
   "source": [
    "#!value --name inputRaw --from-file ./data"
   ]
  },
  {
   "cell_type": "code",
   "execution_count": null,
   "metadata": {
    "dotnet_interactive": {
     "language": "fsharp"
    }
   },
   "outputs": [],
   "source": [
    "\n",
    "#!share sampleRaw --from value\n",
    "#!share inputRaw --from value"
   ]
  },
  {
   "cell_type": "code",
   "execution_count": null,
   "metadata": {
    "dotnet_interactive": {
     "language": "fsharp"
    }
   },
   "outputs": [],
   "source": [
    "#load \"../common.fsx\"\n",
    "\n",
    "let parse input = \n",
    "    read2d input\n",
    "    |> Array2D.map (string >> int)\n",
    "let sampleHeightMap = parse sampleRaw\n",
    "let sampleHeightMapJagged = Array2D.toJagged sampleHeightMap\n",
    "let actualHeightMap = parse inputRaw\n",
    "let actualHeightMapJagged = Array2D.toJagged actualHeightMap"
   ]
  },
  {
   "cell_type": "code",
   "execution_count": null,
   "metadata": {
    "dotnet_interactive": {
     "language": "fsharp"
    }
   },
   "outputs": [],
   "source": [
    "let lowPoints (heightMap : int[,]) = \n",
    "    heightMap\n",
    "    |> Array2D.mapi (fun i j value ->\n",
    "                            let adj = \n",
    "                                [|\n",
    "                                    // use slicing opertator in order not to check boundaries.\n",
    "                                    // each line returns at most one adjacent element\n",
    "                                    heightMap.[i-1..i-1, j]\n",
    "                                    heightMap.[i+1..i+1, j]\n",
    "                                    heightMap.[i, j-1..j-1]\n",
    "                                    heightMap.[i, j+1..j+1]\n",
    "                                |] |> Array.collect id\n",
    "                            \n",
    "                            if (value < Array.min adj)\n",
    "                            then Some (i,j,value)\n",
    "                            else None\n",
    "                        )\n",
    "    |> Seq.cast<(int*int*int) option>\n",
    "    |> Seq.choose id\n",
    "    |> Array.ofSeq\n",
    "\n",
    "let sampleLowPoints = lowPoints sampleHeightMap\n",
    "let actualLowPoints = lowPoints actualHeightMap"
   ]
  },
  {
   "cell_type": "code",
   "execution_count": null,
   "metadata": {
    "dotnet_interactive": {
     "language": "html"
    }
   },
   "outputs": [
    {
     "data": {
      "text/html": [
       "<script src=\"./common.mjs\"/>"
      ]
     },
     "metadata": {},
     "output_type": "display_data"
    }
   ],
   "source": [
    "<script src=\"./common.mjs\"/>"
   ]
  },
  {
   "cell_type": "code",
   "execution_count": null,
   "metadata": {
    "dotnet_interactive": {
     "language": "html"
    }
   },
   "outputs": [
    {
     "data": {
      "text/html": [
       "<canvas id=\"sampleHeightMapJaggedWithLow\"></canvas>"
      ]
     },
     "metadata": {},
     "output_type": "display_data"
    }
   ],
   "source": [
    "<canvas id=\"sampleHeightMapJaggedWithLow\"></canvas>"
   ]
  },
  {
   "cell_type": "code",
   "execution_count": null,
   "metadata": {
    "dotnet_interactive": {
     "language": "javascript"
    }
   },
   "outputs": [],
   "source": [
    "#!share --from fsharp sampleHeightMapJagged\n",
    "#!share --from fsharp sampleLowPoints\n",
    "\n",
    "var canvas = document.getElementById(\"sampleHeightMapJaggedWithLow\");\n",
    "\n",
    "var size = prepareCanvas(sampleHeightMapJagged, canvas, 200)\n",
    "drawMap(sampleHeightMapJagged, canvas, size);\n",
    "drawPoints(sampleLowPoints, \"black\", canvas, size);\n"
   ]
  },
  {
   "cell_type": "code",
   "execution_count": null,
   "metadata": {
    "dotnet_interactive": {
     "language": "html"
    }
   },
   "outputs": [
    {
     "data": {
      "text/html": [
       "<canvas id=\"actualHeightMapJaggedWithLow\"></canvas>"
      ]
     },
     "metadata": {},
     "output_type": "display_data"
    }
   ],
   "source": [
    "<canvas id=\"actualHeightMapJaggedWithLow\"></canvas>"
   ]
  },
  {
   "cell_type": "code",
   "execution_count": null,
   "metadata": {
    "dotnet_interactive": {
     "language": "javascript"
    }
   },
   "outputs": [],
   "source": [
    "#!share --from fsharp actualLowPoints\n",
    "#!share --from fsharp actualHeightMapJagged\n",
    "var canvas = document.getElementById(\"actualHeightMapJaggedWithLow\");\n",
    "var size = prepareCanvas(actualHeightMapJagged, canvas, 600)\n",
    "drawMap(actualHeightMapJagged, canvas, size);\n",
    "drawPoints(actualLowPoints, \"black\", canvas, size);"
   ]
  },
  {
   "cell_type": "code",
   "execution_count": null,
   "metadata": {
    "dotnet_interactive": {
     "language": "fsharp"
    }
   },
   "outputs": [
    {
     "data": {
      "text/html": [
       "<div class=\"dni-plaintext\">15</div>"
      ]
     },
     "metadata": {},
     "output_type": "display_data"
    },
    {
     "data": {
      "text/html": [
       "<div class=\"dni-plaintext\">417</div>"
      ]
     },
     "metadata": {},
     "output_type": "display_data"
    }
   ],
   "source": [
    "let riskLevel lowPoints = \n",
    "    lowPoints\n",
    "    |> Array.map (fun (_,_,value) -> value)\n",
    "    |> Array.map ((+) 1)\n",
    "    |> Array.sum\n",
    "    \n",
    "sampleLowPoints |> riskLevel |> display\n",
    "actualLowPoints |> riskLevel |> display"
   ]
  },
  {
   "cell_type": "markdown",
   "metadata": {},
   "source": [
    "### Part 2"
   ]
  },
  {
   "cell_type": "code",
   "execution_count": null,
   "metadata": {
    "dotnet_interactive": {
     "language": "fsharp"
    }
   },
   "outputs": [],
   "source": [
    "let (|Empty|NotEmpty|) set =\n",
    "    if (Set.isEmpty set) then Empty\n",
    "    else\n",
    "        let head = Seq.head set\n",
    "        NotEmpty (head, (Set.remove head set))\n",
    "let basins (heightMap : int[,]) = \n",
    "    let allIndices = \n",
    "        heightMap |> Array2D.mapi (fun i j value -> match value with | 9 -> None | _ -> Some (i,j))\n",
    "        |> Seq.cast<(int*int) option>\n",
    "        |> Seq.choose id\n",
    "        |> Set.ofSeq\n",
    "        \n",
    "    let rec findBasin i j indicesLeft basinAcc =\n",
    "        if (not <| Set.contains (i,j) indicesLeft) then indicesLeft, basinAcc\n",
    "        else \n",
    "            let newIndices = indicesLeft |> Set.remove (i,j)\n",
    "            (newIndices, (i,j)::basinAcc)\n",
    "            ||> findBasin (i-1) j\n",
    "            ||> findBasin i (j-1)\n",
    "            ||> findBasin (i+1) j\n",
    "            ||> findBasin i (j+1)\n",
    "\n",
    "    let rec find (indicesLeft:Set<int*int>) (basinsAcc : (int*int) list list) =\n",
    "        if (Set.isEmpty indicesLeft) then basinsAcc\n",
    "        else\n",
    "            let (i,j) = Seq.head indicesLeft\n",
    "            let (newIndicesLeft, basin) = findBasin i j indicesLeft []\n",
    "            basin :: (find newIndicesLeft [])\n",
    "     \n",
    "    find allIndices [] |> List.filter (not << List.isEmpty)"
   ]
  },
  {
   "cell_type": "code",
   "execution_count": null,
   "metadata": {
    "dotnet_interactive": {
     "language": "fsharp"
    }
   },
   "outputs": [],
   "source": [
    "let sampleBanisPoints = basins sampleHeightMap;\n",
    "let actualBanisPoints = basins actualHeightMap;"
   ]
  },
  {
   "cell_type": "code",
   "execution_count": null,
   "metadata": {
    "dotnet_interactive": {
     "language": "html"
    }
   },
   "outputs": [
    {
     "data": {
      "text/html": [
       "<canvas id=\"sampleBanisPoints\"></canvas>"
      ]
     },
     "metadata": {},
     "output_type": "display_data"
    }
   ],
   "source": [
    "<canvas id=\"sampleBanisPoints\"></canvas>"
   ]
  },
  {
   "cell_type": "code",
   "execution_count": null,
   "metadata": {
    "dotnet_interactive": {
     "language": "javascript"
    }
   },
   "outputs": [],
   "source": [
    "#!share --from fsharp sampleBanisPoints\n",
    "\n",
    "var canvas = document.getElementById(\"sampleBanisPoints\");\n",
    "var size = prepareCanvas(sampleHeightMapJagged, canvas, 200)\n",
    "sampleBanisPoints.forEach(basin => {\n",
    "    drawPoints(basin, 'hsla(' + (Math.random() * 360) + ', 80%, 50%, 1)', canvas, size);\n",
    "})"
   ]
  },
  {
   "cell_type": "code",
   "execution_count": null,
   "metadata": {
    "dotnet_interactive": {
     "language": "html"
    }
   },
   "outputs": [
    {
     "data": {
      "text/html": [
       "<canvas id=\"actualBanisPoints\"></canvas>"
      ]
     },
     "metadata": {},
     "output_type": "display_data"
    }
   ],
   "source": [
    "<canvas id=\"actualBanisPoints\"></canvas>"
   ]
  },
  {
   "cell_type": "code",
   "execution_count": null,
   "metadata": {
    "dotnet_interactive": {
     "language": "javascript"
    }
   },
   "outputs": [],
   "source": [
    "#!share --from fsharp actualBanisPoints\n",
    "\n",
    "var canvas = document.getElementById(\"actualBanisPoints\");\n",
    "var size = prepareCanvas(actualHeightMapJagged, canvas, 500)\n",
    "actualBanisPoints.forEach(basin => {\n",
    "    drawPoints(basin, 'hsla(' + (Math.random() * 360) + ', 80%, 50%, 1)', canvas, size);\n",
    "})"
   ]
  },
  {
   "cell_type": "code",
   "execution_count": null,
   "metadata": {
    "dotnet_interactive": {
     "language": "fsharp"
    }
   },
   "outputs": [
    {
     "data": {
      "text/html": [
       "<div class=\"dni-plaintext\">1134</div>"
      ]
     },
     "metadata": {},
     "output_type": "display_data"
    },
    {
     "data": {
      "text/html": [
       "<div class=\"dni-plaintext\">1148965</div>"
      ]
     },
     "metadata": {},
     "output_type": "display_data"
    }
   ],
   "source": [
    "let private multiplyTop3 basins = \n",
    "    basins\n",
    "    |> Seq.sortByDescending List.length\n",
    "    |> Seq.take 3\n",
    "    |> Seq.map List.length\n",
    "    |> Seq.reduce (*)\n",
    "\n",
    "multiplyTop3 (basins sampleHeightMap) |> display\n",
    "multiplyTop3 (basins actualHeightMap) |> display"
   ]
  }
 ],
 "metadata": {
  "kernelspec": {
   "display_name": ".NET (F#)",
   "language": "F#",
   "name": ".net-fsharp"
  },
  "language_info": {
   "name": "F#"
  }
 },
 "nbformat": 4,
 "nbformat_minor": 2
}

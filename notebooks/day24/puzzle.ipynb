{
 "cells": [
  {
   "cell_type": "markdown",
   "metadata": {},
   "source": [
    "## Day 24: Arithmetic Logic Unit\n",
    "\n",
    "[![nbviewer](https://raw.githubusercontent.com/jupyter/design/master/logos/Badges/nbviewer_badge.svg)](https://nbviewer.org/github/mazharenko/AoC-2021/tree/HEAD/notebooks/day24/puzzle.ipynb)"
   ]
  },
  {
   "cell_type": "code",
   "execution_count": null,
   "metadata": {
    "dotnet_interactive": {
     "language": "fsharp"
    }
   },
   "outputs": [
    {
     "data": {
      "text/html": [
       "<div><div></div><div></div><div><strong>Installed Packages</strong><ul><li><span>Farkle, 6.3.2</span></li></ul></div></div>"
      ]
     },
     "metadata": {},
     "output_type": "display_data"
    }
   ],
   "source": [
    "#load \"../common.fsx\"\n",
    "\n",
    "#r \"nuget:Farkle, 6.3.2\"\n",
    "open Farkle\n",
    "open Farkle.Builder\n",
    "\n",
    "type Registers = { X : int ref; Y : int ref; Z : int ref; W : int ref}\n",
    "\n",
    "let private number = Terminals.genericSigned<int> \"Number\"\n",
    "let private register = \"register\" ||= [\n",
    "    !& \"x\" => (fun () -> fun registers -> registers.X)\n",
    "    !& \"y\" => (fun () -> fun registers -> registers.Y)\n",
    "    !& \"z\" => (fun () -> fun registers -> registers.Z)\n",
    "    !& \"w\" => (fun () -> fun registers -> registers.W)\n",
    "]\n",
    "let private registerOrValue = \"value\" ||= [\n",
    "    !@ register => (fun registerFun -> fun registers -> !registerFun(registers))\n",
    "    !@ number => (fun value -> fun _ -> value)\n",
    "]\n",
    "\n",
    "let private command = \"command\" ||= [\n",
    "    !& \"inp w\" => (fun () -> fun registers -> ()) // gonna set W manually\n",
    "    !& \"add\" .>>. register .>>. registerOrValue => (\n",
    "        fun reg value -> \n",
    "            fun registers -> \n",
    "                let register = reg(registers)\n",
    "                let value = value(registers)\n",
    "                register := !register + value\n",
    "    )\n",
    "    !& \"mul\" .>>. register .>>. registerOrValue => (\n",
    "        fun reg value -> \n",
    "            fun registers -> \n",
    "                let register = reg(registers)\n",
    "                let value = value(registers)\n",
    "                register := !register * value\n",
    "    )\n",
    "    !& \"div\" .>>. register .>>. registerOrValue => (\n",
    "        fun reg value -> \n",
    "            fun registers -> \n",
    "                let register = reg(registers)\n",
    "                let value = value(registers)\n",
    "                register := !register / value\n",
    "    )\n",
    "    !& \"mod\" .>>. register .>>. registerOrValue => (\n",
    "        fun reg value -> \n",
    "            fun registers -> \n",
    "                let register = reg(registers)\n",
    "                let value = value(registers)\n",
    "                register := !register % value\n",
    "    )\n",
    "    !& \"eql\" .>>. register .>>. registerOrValue => (\n",
    "        fun reg value -> \n",
    "            fun registers -> \n",
    "                let register = reg(registers)\n",
    "                let value = value(registers)\n",
    "                register := if !register = value then 1 else 0\n",
    "    )\n",
    "]\n",
    "\n",
    "let commandParser = RuntimeFarkle.build command\n"
   ]
  },
  {
   "cell_type": "code",
   "execution_count": null,
   "metadata": {
    "dotnet_interactive": {
     "language": "fsharp"
    }
   },
   "outputs": [],
   "source": [
    "#!value --name inputRaw --from-file ./data"
   ]
  },
  {
   "cell_type": "code",
   "execution_count": null,
   "metadata": {
    "dotnet_interactive": {
     "language": "fsharp"
    }
   },
   "outputs": [],
   "source": [
    "#!share inputRaw --from value\n",
    "\n",
    "type Subprogram = { Commands: (Registers -> unit) list }\n",
    "\n",
    "let subprograms =\n",
    "    readLines inputRaw\n",
    "    |> Seq.chunkBySize 18\n",
    "    |> Seq.map (fun subprogram -> subprogram |> Seq.map (RuntimeFarkle.parseString commandParser) |> Seq.map Result.failIfError |> List.ofSeq)\n",
    "    |> Seq.map (fun subprogram -> {Commands = subprogram})\n",
    "    |> Seq.toArray\n",
    "\n",
    "let execute registers subprogram =\n",
    "    subprogram.Commands |> List.iter (fun command -> command registers)\n",
    "    registers"
   ]
  },
  {
   "cell_type": "code",
   "execution_count": null,
   "metadata": {
    "dotnet_interactive": {
     "language": "fsharp"
    }
   },
   "outputs": [],
   "source": [
    "type State = { Registers : Registers }"
   ]
  },
  {
   "cell_type": "code",
   "execution_count": null,
   "metadata": {
    "dotnet_interactive": {
     "language": "fsharp"
    }
   },
   "outputs": [],
   "source": [
    "open System.Collections.Generic\n",
    "\n",
    "let memoize f keyf =\n",
    "    let cache = Dictionary<_, _>()    \n",
    "    fun x ->\n",
    "        let key = keyf x\n",
    "        match cache.TryGetValue(key) with\n",
    "        | true, value -> \n",
    "            value\n",
    "        | _ ->\n",
    "            let value = f x\n",
    "            cache.Add(key, None)\n",
    "            value"
   ]
  },
  {
   "cell_type": "code",
   "execution_count": null,
   "metadata": {
    "dotnet_interactive": {
     "language": "fsharp"
    }
   },
   "outputs": [
    {
     "data": {
      "text/plain": [
       "53621111481319"
      ]
     },
     "metadata": {},
     "output_type": "display_data"
    },
    {
     "data": {
      "text/plain": [
       "13621111481315"
      ]
     },
     "metadata": {},
     "output_type": "display_data"
    }
   ],
   "source": [
    "\n",
    "let rec findResults = \n",
    "    memoize (fun (index, subprograms, state) -> \n",
    "        if (state.Registers.Z.Value > pown 26 4) then None\n",
    "        else \n",
    "            match Array.tryItem index subprograms with \n",
    "            | None ->\n",
    "                if (state.Registers.Z.Value = 0) then \n",
    "                    Option<list<list<int>>>.Some [[]]\n",
    "                else None\n",
    "            | Some currentSubprogram -> \n",
    "                let g = \n",
    "                    [1..9]\n",
    "                    |> List.choose (fun w -> \n",
    "                        let newRegisters = { X = ref !state.Registers.X; Y = ref !state.Registers.Y; Z = ref !state.Registers.Z; W = ref w }\n",
    "                        let newState = { Registers = execute newRegisters currentSubprogram }\n",
    "                        findResults (index+1, subprograms, newState)\n",
    "                        |> Option.map (fun l -> l |> List.map(fun ll -> w::ll))\n",
    "                    ) |> List.collect id\n",
    "                Some g\n",
    "\n",
    "    ) (fun (index, subprograms, {Registers = {Z = z; W = w}}) -> index, !z, !w)\n",
    "    \n",
    "let allInputs = findResults (0, subprograms, { Registers = {X = ref 0; Y = ref 0; Z = ref 0; W = ref 0}})\n",
    "\n",
    "String.Join(\"\", allInputs.Value |> List.max) |> display\n",
    "String.Join(\"\", allInputs.Value |> List.min) |> display\n",
    "        "
   ]
  }
 ],
 "metadata": {
  "kernelspec": {
   "display_name": ".NET (C#)",
   "language": "C#",
   "name": ".net-csharp"
  },
  "language_info": {
   "file_extension": ".cs",
   "mimetype": "text/x-csharp",
   "name": "C#",
   "pygments_lexer": "csharp",
   "version": "9.0"
  },
  "orig_nbformat": 4
 },
 "nbformat": 4,
 "nbformat_minor": 2
}

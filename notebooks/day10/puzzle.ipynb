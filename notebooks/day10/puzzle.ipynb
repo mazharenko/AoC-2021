{
 "cells": [
  {
   "cell_type": "markdown",
   "metadata": {
    "dotnet_interactive": {
     "language": "fsharp"
    }
   },
   "source": [
    "## Day 10: Syntax Scoring\n",
    "[link](https://adventofcode.com/2021/day/10)"
   ]
  },
  {
   "cell_type": "code",
   "execution_count": null,
   "metadata": {
    "dotnet_interactive": {
     "language": "fsharp"
    }
   },
   "outputs": [],
   "source": [
    "#!value --name sampleRaw\n",
    "[({(<(())[]>[[{[]{<()<>>\n",
    "[(()[<>])]({[<{<<[]>>(\n",
    "{([(<{}[<>[]}>{[]{[(<()>\n",
    "(((({<>}<{<{<>}{[]{[]{}\n",
    "[[<[([]))<([[{}[[()]]]\n",
    "[{[{({}]{}}([{[{{{}}([]\n",
    "{<[[]]>}<{[{[{[]{()[[[]\n",
    "[<(<(<(<{}))><([]([]()\n",
    "<{([([[(<>()){}]>(<<{{\n",
    "<{([{{}}[<[[[<>{}]]]>[]]"
   ]
  },
  {
   "cell_type": "code",
   "execution_count": null,
   "metadata": {
    "dotnet_interactive": {
     "language": "fsharp"
    }
   },
   "outputs": [],
   "source": [
    "#!value --name inputRaw --from-file ./data\n"
   ]
  },
  {
   "cell_type": "code",
   "execution_count": null,
   "metadata": {
    "dotnet_interactive": {
     "language": "fsharp"
    }
   },
   "outputs": [],
   "source": [
    "#!share sampleRaw --from value\n",
    "#!share inputRaw --from value\n",
    "\n",
    "#load \"../common.fsx\"\n",
    "\n",
    "let parse input = \n",
    "    readLines input\n",
    "    |> Array.map (Array.ofSeq)"
   ]
  },
  {
   "cell_type": "code",
   "execution_count": null,
   "metadata": {
    "dotnet_interactive": {
     "language": "fsharp"
    }
   },
   "outputs": [
    {
     "data": {
      "text/html": [
       "<table><thead><tr><th><i>index</i></th><th>value</th></tr></thead><tbody><tr><td>0</td><td><div class=\"dni-plaintext\">[ [, (, {, (, &lt;, (, (, ), ), [, ], &gt;, [, [, {, [, ], {, &lt;, ( ... (4 more) ]</div></td></tr><tr><td>1</td><td><div class=\"dni-plaintext\">[ [, (, (, ), [, &lt;, &gt;, ], ), ], (, {, [, &lt;, {, &lt;, &lt;, [, ], &gt; ... (2 more) ]</div></td></tr><tr><td>2</td><td><div class=\"dni-plaintext\">[ {, (, [, (, &lt;, {, }, [, &lt;, &gt;, [, ], }, &gt;, {, [, ], {, [, ( ... (4 more) ]</div></td></tr><tr><td>3</td><td><div class=\"dni-plaintext\">[ (, (, (, (, {, &lt;, &gt;, }, &lt;, {, &lt;, {, &lt;, &gt;, }, {, [, ], {, [ ... (3 more) ]</div></td></tr><tr><td>4</td><td><div class=\"dni-plaintext\">[ [, [, &lt;, [, (, [, ], ), ), &lt;, (, [, [, {, }, [, [, (, ), ] ... (2 more) ]</div></td></tr><tr><td>5</td><td><div class=\"dni-plaintext\">[ [, {, [, {, (, {, }, ], {, }, }, (, [, {, [, {, {, {, }, } ... (3 more) ]</div></td></tr><tr><td>6</td><td><div class=\"dni-plaintext\">[ {, &lt;, [, [, ], ], &gt;, }, &lt;, {, [, {, [, {, [, ], {, (, ), [ ... (3 more) ]</div></td></tr><tr><td>7</td><td><div class=\"dni-plaintext\">[ [, &lt;, (, &lt;, (, &lt;, (, &lt;, {, }, ), ), &gt;, &lt;, (, [, ], (, [, ] ... (2 more) ]</div></td></tr><tr><td>8</td><td><div class=\"dni-plaintext\">[ &lt;, {, (, [, (, [, [, (, &lt;, &gt;, (, ), ), {, }, ], &gt;, (, &lt;, &lt; ... (2 more) ]</div></td></tr><tr><td>9</td><td><div class=\"dni-plaintext\">[ &lt;, {, (, [, {, {, }, }, [, &lt;, [, [, [, &lt;, &gt;, {, }, ], ], ] ... (4 more) ]</div></td></tr></tbody></table>"
      ]
     },
     "metadata": {},
     "output_type": "display_data"
    }
   ],
   "source": [
    "let sampleLines = parse sampleRaw |> displayPipe\n",
    "let actualLines = parse inputRaw"
   ]
  },
  {
   "cell_type": "code",
   "execution_count": null,
   "metadata": {
    "dotnet_interactive": {
     "language": "fsharp"
    }
   },
   "outputs": [],
   "source": [
    "type LineResult = | Incomplete of List<char> | Invalid of char * List<char> | Valid\n",
    "\n",
    "let validate chars =\n",
    "    let step (res, list) char = \n",
    "        match res with\n",
    "        | Some x -> Some x, list\n",
    "        | None -> \n",
    "            match char, list with\n",
    "            | '{', list\n",
    "            | '[', list\n",
    "            | '(', list\n",
    "            | '<', list -> None, char::list\n",
    "            | '}', '{'::rest\n",
    "            | ']', '['::rest\n",
    "            | ')', '('::rest\n",
    "            | '>', '<'::rest -> None, rest\n",
    "            | char, list -> Some char, list\n",
    "\n",
    "    let result, list = \n",
    "        chars |> Array.fold step (None, [])\n",
    "    match result, list with\n",
    "    | None, [] -> Valid\n",
    "    | None, list -> Incomplete list\n",
    "    | Some char, list -> Invalid (char, list)\n",
    "\n",
    "let score1 result =\n",
    "    match result with \n",
    "    | Valid -> 0\n",
    "    | Invalid (')', _) -> 3\n",
    "    | Invalid (']', _) -> 57\n",
    "    | Invalid ('}', _) -> 1197\n",
    "    | Invalid ('>', _) -> 25137\n",
    "    | _ -> 0"
   ]
  },
  {
   "cell_type": "code",
   "execution_count": null,
   "metadata": {
    "dotnet_interactive": {
     "language": "fsharp"
    }
   },
   "outputs": [
    {
     "data": {
      "text/html": [
       "<table><thead><tr><th><i>index</i></th><th><i>type</i></th><th>Item</th><th>Item1</th><th>Item2</th></tr></thead><tbody><tr><td>0</td><td>FSI_0134+LineResult+Incomplete</td><td><div class=\"dni-plaintext\">[ {, {, [, [, (, {, (, [ ]</div></td><td></td><td></td></tr><tr><td>1</td><td>FSI_0134+LineResult+Incomplete</td><td><div class=\"dni-plaintext\">[ (, {, &lt;, [, {, ( ]</div></td><td></td><td></td></tr><tr><td>2</td><td>FSI_0134+LineResult+Invalid</td><td></td><td><div class=\"dni-plaintext\">}</div></td><td><div class=\"dni-plaintext\">[ [, &lt;, (, [, (, { ]</div></td></tr><tr><td>3</td><td>FSI_0134+LineResult+Incomplete</td><td><div class=\"dni-plaintext\">[ {, {, &lt;, {, &lt;, (, (, (, ( ]</div></td><td></td><td></td></tr><tr><td>4</td><td>FSI_0134+LineResult+Invalid</td><td></td><td><div class=\"dni-plaintext\">)</div></td><td><div class=\"dni-plaintext\">[ [, &lt;, [, [ ]</div></td></tr><tr><td>5</td><td>FSI_0134+LineResult+Invalid</td><td></td><td><div class=\"dni-plaintext\">]</div></td><td><div class=\"dni-plaintext\">[ (, {, [, {, [ ]</div></td></tr><tr><td>6</td><td>FSI_0134+LineResult+Incomplete</td><td><div class=\"dni-plaintext\">[ [, [, {, {, [, {, [, {, &lt; ]</div></td><td></td><td></td></tr><tr><td>7</td><td>FSI_0134+LineResult+Invalid</td><td></td><td><div class=\"dni-plaintext\">)</div></td><td><div class=\"dni-plaintext\">[ &lt;, (, &lt;, (, &lt;, (, &lt;, [ ]</div></td></tr><tr><td>8</td><td>FSI_0134+LineResult+Invalid</td><td></td><td><div class=\"dni-plaintext\">&gt;</div></td><td><div class=\"dni-plaintext\">[ [, (, [, (, {, &lt; ]</div></td></tr><tr><td>9</td><td>FSI_0134+LineResult+Incomplete</td><td><div class=\"dni-plaintext\">[ [, (, {, &lt; ]</div></td><td></td><td></td></tr></tbody></table>"
      ]
     },
     "metadata": {},
     "output_type": "display_data"
    },
    {
     "data": {
      "text/html": [
       "<div class=\"dni-plaintext\">26397</div>"
      ]
     },
     "metadata": {},
     "output_type": "display_data"
    },
    {
     "data": {
      "text/html": [
       "<div class=\"dni-plaintext\">296535</div>"
      ]
     },
     "metadata": {},
     "output_type": "display_data"
    }
   ],
   "source": [
    "sampleLines |> Array.map validate\n",
    "|> displayPipe\n",
    "|> Array.map score1 |> Array.sum\n",
    "|> display\n",
    "\n",
    "actualLines |> Array.map validate\n",
    "|> Array.map score1 |> Array.sum\n",
    "|> display"
   ]
  },
  {
   "cell_type": "code",
   "execution_count": null,
   "metadata": {
    "dotnet_interactive": {
     "language": "fsharp"
    }
   },
   "outputs": [],
   "source": [
    "\n",
    "let score2 incomleteList = // calulate score not for closing chunks, but for corresponding opening characters\n",
    "    List.map (function | '{' -> 3 | '[' -> 2 | '<' -> 4| '(' -> 1 | _ -> 0) incomleteList\n",
    "    |> List.fold (fun acc score -> acc * 5L + int64 score) 0L\n",
    "    "
   ]
  },
  {
   "cell_type": "code",
   "execution_count": null,
   "metadata": {
    "dotnet_interactive": {
     "language": "fsharp"
    }
   },
   "outputs": [
    {
     "data": {
      "text/html": [
       "<div class=\"dni-plaintext\">288957</div>"
      ]
     },
     "metadata": {},
     "output_type": "display_data"
    },
    {
     "data": {
      "text/html": [
       "<div class=\"dni-plaintext\">4245130838</div>"
      ]
     },
     "metadata": {},
     "output_type": "display_data"
    }
   ],
   "source": [
    "sampleLines |> Array.map validate\n",
    "|> Array.choose (function | Incomplete list -> Some list | _ -> None)\n",
    "|> Array.map score2 \n",
    "|> Array.median\n",
    "|> display\n",
    "\n",
    "actualLines |> Array.map validate\n",
    "|> Array.choose (function | Incomplete list -> Some list | _ -> None)\n",
    "|> Array.map score2 \n",
    "|> Array.median\n",
    "|> display"
   ]
  }
 ],
 "metadata": {
  "kernelspec": {
   "display_name": ".NET (F#)",
   "language": "F#",
   "name": ".net-fsharp"
  },
  "language_info": {
   "name": "F#"
  }
 },
 "nbformat": 4,
 "nbformat_minor": 2
}

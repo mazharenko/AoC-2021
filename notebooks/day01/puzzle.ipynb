{
 "cells": [
  {
   "cell_type": "markdown",
   "metadata": {},
   "source": [
    "### Day 1: Sonar Sweep\n",
    "\n",
    "[![nbviewer](https://raw.githubusercontent.com/jupyter/design/master/logos/Badges/nbviewer_badge.svg)](https://nbviewer.org/github/mazharenko/AoC-2021/tree/HEAD/notebooks/day01/puzzle.ipynb)"
   ]
  },
  {
   "cell_type": "code",
   "execution_count": null,
   "metadata": {
    "dotnet_interactive": {
     "language": "fsharp"
    }
   },
   "outputs": [],
   "source": [
    "let measurementsSample = \n",
    "    [|\n",
    "        199\n",
    "        200\n",
    "        208\n",
    "        210\n",
    "        200\n",
    "        207\n",
    "        240\n",
    "        269\n",
    "        260\n",
    "        263\n",
    "    |]\n"
   ]
  },
  {
   "cell_type": "markdown",
   "metadata": {},
   "source": [
    "#### Part One\n",
    "\n",
    "Pairwising the input and compare values in pairs"
   ]
  },
  {
   "cell_type": "code",
   "execution_count": null,
   "metadata": {
    "dotnet_interactive": {
     "language": "fsharp"
    }
   },
   "outputs": [
    {
     "data": {
      "text/html": [
       "<table><thead><tr><th><i>index</i></th><th>Change</th><th>Current</th><th>Prev</th></tr></thead><tbody><tr><td>0</td><td><div class=\"dni-plaintext\">Increased</div></td><td><div class=\"dni-plaintext\">200</div></td><td><div class=\"dni-plaintext\">199</div></td></tr><tr><td>1</td><td><div class=\"dni-plaintext\">Increased</div></td><td><div class=\"dni-plaintext\">208</div></td><td><div class=\"dni-plaintext\">200</div></td></tr><tr><td>2</td><td><div class=\"dni-plaintext\">Increased</div></td><td><div class=\"dni-plaintext\">210</div></td><td><div class=\"dni-plaintext\">208</div></td></tr><tr><td>3</td><td><div class=\"dni-plaintext\">Decreased</div></td><td><div class=\"dni-plaintext\">200</div></td><td><div class=\"dni-plaintext\">210</div></td></tr><tr><td>4</td><td><div class=\"dni-plaintext\">Increased</div></td><td><div class=\"dni-plaintext\">207</div></td><td><div class=\"dni-plaintext\">200</div></td></tr><tr><td>5</td><td><div class=\"dni-plaintext\">Increased</div></td><td><div class=\"dni-plaintext\">240</div></td><td><div class=\"dni-plaintext\">207</div></td></tr><tr><td>6</td><td><div class=\"dni-plaintext\">Increased</div></td><td><div class=\"dni-plaintext\">269</div></td><td><div class=\"dni-plaintext\">240</div></td></tr><tr><td>7</td><td><div class=\"dni-plaintext\">Decreased</div></td><td><div class=\"dni-plaintext\">260</div></td><td><div class=\"dni-plaintext\">269</div></td></tr><tr><td>8</td><td><div class=\"dni-plaintext\">Increased</div></td><td><div class=\"dni-plaintext\">263</div></td><td><div class=\"dni-plaintext\">260</div></td></tr></tbody></table>"
      ]
     },
     "metadata": {},
     "output_type": "display_data"
    }
   ],
   "source": [
    "module Change = \n",
    "    type Change = | Increased | Decreased | Unchanged\n",
    "    let fromValues prev current = \n",
    "        if (prev = current) then Unchanged\n",
    "        else if (prev < current) then Increased\n",
    "        else Decreased\n",
    "\n",
    "let changes (measurements : int[]) = \n",
    "    measurements \n",
    "    |> Array.pairwise\n",
    "    |> Array.map (fun (prev, current) -> {| Prev = prev; Current = current; Change = Change.fromValues prev current |})\n",
    "\n",
    "changes measurementsSample |> display\n"
   ]
  },
  {
   "cell_type": "markdown",
   "metadata": {},
   "source": [
    "Measurements that are larger than the previous measurement:"
   ]
  },
  {
   "cell_type": "code",
   "execution_count": null,
   "metadata": {
    "dotnet_interactive": {
     "language": "fsharp"
    }
   },
   "outputs": [
    {
     "data": {
      "text/html": [
       "<div class=\"dni-plaintext\">7</div>"
      ]
     },
     "metadata": {},
     "output_type": "display_data"
    }
   ],
   "source": [
    "\n",
    "let countIncreased data = \n",
    "    changes data\n",
    "    |> Array.filter (fun x -> x.Change = Change.Increased)\n",
    "    |> Array.length\n",
    "countIncreased measurementsSample"
   ]
  },
  {
   "cell_type": "markdown",
   "metadata": {},
   "source": [
    "For the actual input:"
   ]
  },
  {
   "cell_type": "code",
   "execution_count": null,
   "metadata": {
    "dotnet_interactive": {
     "language": "fsharp"
    }
   },
   "outputs": [],
   "source": [
    "#!value --name measurementsRaw --from-file ./data"
   ]
  },
  {
   "cell_type": "code",
   "execution_count": null,
   "metadata": {
    "dotnet_interactive": {
     "language": "fsharp"
    }
   },
   "outputs": [
    {
     "data": {
      "text/html": [
       "<div class=\"dni-plaintext\">1316</div>"
      ]
     },
     "metadata": {},
     "output_type": "display_data"
    }
   ],
   "source": [
    "#!share --from value measurementsRaw\n",
    "\n",
    "let measurements = measurementsRaw.Split([|'\\n'|], StringSplitOptions.RemoveEmptyEntries) |> Array.map int\n",
    "countIncreased measurements"
   ]
  },
  {
   "cell_type": "markdown",
   "metadata": {},
   "source": [
    "### Part Two\n",
    "\n",
    "1. Sliding window\n",
    "2. Sum the window values\n",
    "3. Pairwise and compare"
   ]
  },
  {
   "cell_type": "code",
   "execution_count": null,
   "metadata": {
    "dotnet_interactive": {
     "language": "fsharp"
    }
   },
   "outputs": [
    {
     "data": {
      "text/html": [
       "<table><thead><tr><th><i>index</i></th><th>Sum</th><th>Window</th></tr></thead><tbody><tr><td>0</td><td><div class=\"dni-plaintext\">607</div></td><td><div class=\"dni-plaintext\">[ 199, 200, 208 ]</div></td></tr><tr><td>1</td><td><div class=\"dni-plaintext\">618</div></td><td><div class=\"dni-plaintext\">[ 200, 208, 210 ]</div></td></tr><tr><td>2</td><td><div class=\"dni-plaintext\">618</div></td><td><div class=\"dni-plaintext\">[ 208, 210, 200 ]</div></td></tr><tr><td>3</td><td><div class=\"dni-plaintext\">617</div></td><td><div class=\"dni-plaintext\">[ 210, 200, 207 ]</div></td></tr><tr><td>4</td><td><div class=\"dni-plaintext\">647</div></td><td><div class=\"dni-plaintext\">[ 200, 207, 240 ]</div></td></tr><tr><td>5</td><td><div class=\"dni-plaintext\">716</div></td><td><div class=\"dni-plaintext\">[ 207, 240, 269 ]</div></td></tr><tr><td>6</td><td><div class=\"dni-plaintext\">769</div></td><td><div class=\"dni-plaintext\">[ 240, 269, 260 ]</div></td></tr><tr><td>7</td><td><div class=\"dni-plaintext\">792</div></td><td><div class=\"dni-plaintext\">[ 269, 260, 263 ]</div></td></tr></tbody></table>"
      ]
     },
     "metadata": {},
     "output_type": "display_data"
    }
   ],
   "source": [
    "let windowedMeasurements data = \n",
    "    Array.windowed 3 data\n",
    "    |> Array.map (fun meas -> {| Window = meas; Sum = Array.sum meas|})\n",
    "let windowedSums data = windowedMeasurements data |> Array.map (fun x -> x.Sum)\n",
    "\n",
    "measurementsSample |> windowedMeasurements |> display"
   ]
  },
  {
   "cell_type": "code",
   "execution_count": null,
   "metadata": {
    "dotnet_interactive": {
     "language": "fsharp"
    }
   },
   "outputs": [
    {
     "data": {
      "text/html": [
       "<table><thead><tr><th><i>index</i></th><th>Change</th><th>Current</th><th>Prev</th></tr></thead><tbody><tr><td>0</td><td><div class=\"dni-plaintext\">Increased</div></td><td><div class=\"dni-plaintext\">618</div></td><td><div class=\"dni-plaintext\">607</div></td></tr><tr><td>1</td><td><div class=\"dni-plaintext\">Unchanged</div></td><td><div class=\"dni-plaintext\">618</div></td><td><div class=\"dni-plaintext\">618</div></td></tr><tr><td>2</td><td><div class=\"dni-plaintext\">Decreased</div></td><td><div class=\"dni-plaintext\">617</div></td><td><div class=\"dni-plaintext\">618</div></td></tr><tr><td>3</td><td><div class=\"dni-plaintext\">Increased</div></td><td><div class=\"dni-plaintext\">647</div></td><td><div class=\"dni-plaintext\">617</div></td></tr><tr><td>4</td><td><div class=\"dni-plaintext\">Increased</div></td><td><div class=\"dni-plaintext\">716</div></td><td><div class=\"dni-plaintext\">647</div></td></tr><tr><td>5</td><td><div class=\"dni-plaintext\">Increased</div></td><td><div class=\"dni-plaintext\">769</div></td><td><div class=\"dni-plaintext\">716</div></td></tr><tr><td>6</td><td><div class=\"dni-plaintext\">Increased</div></td><td><div class=\"dni-plaintext\">792</div></td><td><div class=\"dni-plaintext\">769</div></td></tr></tbody></table>"
      ]
     },
     "metadata": {},
     "output_type": "display_data"
    }
   ],
   "source": [
    "changes (windowedMeasurements measurementsSample |> Array.map (fun x -> x.Sum)) |> display"
   ]
  },
  {
   "cell_type": "markdown",
   "metadata": {},
   "source": [
    "Sums that are larger than the previous sums:"
   ]
  },
  {
   "cell_type": "code",
   "execution_count": null,
   "metadata": {
    "dotnet_interactive": {
     "language": "fsharp"
    }
   },
   "outputs": [
    {
     "data": {
      "text/html": [
       "<div class=\"dni-plaintext\">5</div>"
      ]
     },
     "metadata": {},
     "output_type": "display_data"
    }
   ],
   "source": [
    "windowedSums measurementsSample |> countIncreased"
   ]
  },
  {
   "cell_type": "markdown",
   "metadata": {},
   "source": [
    "For the actual input:"
   ]
  },
  {
   "cell_type": "code",
   "execution_count": null,
   "metadata": {
    "dotnet_interactive": {
     "language": "fsharp"
    }
   },
   "outputs": [
    {
     "data": {
      "text/html": [
       "<div class=\"dni-plaintext\">1344</div>"
      ]
     },
     "metadata": {},
     "output_type": "display_data"
    }
   ],
   "source": [
    "windowedSums measurements |> countIncreased"
   ]
  }
 ],
 "metadata": {
  "kernelspec": {
   "display_name": ".NET (C#)",
   "language": "C#",
   "name": ".net-csharp"
  },
  "language_info": {
   "file_extension": ".cs",
   "mimetype": "text/x-csharp",
   "name": "C#",
   "pygments_lexer": "csharp",
   "version": "9.0"
  },
  "orig_nbformat": 4
 },
 "nbformat": 4,
 "nbformat_minor": 2
}

{
 "cells": [
  {
   "cell_type": "markdown",
   "metadata": {
    "dotnet_interactive": {
     "language": "fsharp"
    }
   },
   "source": [
    "## Day 20: Trench Map\n",
    "\n",
    "[![nbviewer](https://raw.githubusercontent.com/jupyter/design/master/logos/Badges/nbviewer_badge.svg)](https://nbviewer.org/github/mazharenko/AoC-2021/tree/HEAD/notebooks/day20/puzzle.ipynb)\n",
    "\n",
    "[Problem statement](https://adventofcode.com/2021/day/20)"
   ]
  },
  {
   "cell_type": "code",
   "execution_count": null,
   "metadata": {
    "dotnet_interactive": {
     "language": "fsharp"
    }
   },
   "outputs": [],
   "source": [
    "module Bounds = \n",
    "    type T = \n",
    "        {MinX: int; MaxX: int; MinY: int; MaxY: int} \n",
    "\n",
    "    let contains x y bounds = \n",
    "        bounds.MinX <= x && x <= bounds.MaxX && bounds.MinY <= y && y <= bounds.MaxY\n",
    "\n",
    "    let extend x y bounds = \n",
    "        {\n",
    "            MinX = bounds.MinX - x\n",
    "            MaxX = bounds.MaxX + x\n",
    "            MinY = bounds.MinY - y\n",
    "            MaxY = bounds.MaxY + y\n",
    "        }\n",
    "    let map f bounds = \n",
    "        seq {\n",
    "            for x in bounds.MinX..bounds.MaxX do\n",
    "            for y in bounds.MinY..bounds.MaxY do\n",
    "                yield f x y \n",
    "        }\n",
    "    let allIndices bounds = \n",
    "        map (fun x y -> x,y) bounds\n",
    "\n",
    "type Input = {Bounds: Bounds.T; LightPixels: Set<int*int>; Enhancements: bool[]}\n",
    "type State = {Bounds: Bounds.T; LightPixels: Set<int*int>; Enhancements: bool[]; InfinityValueRotation: bool list;}"
   ]
  },
  {
   "cell_type": "code",
   "execution_count": null,
   "metadata": {
    "dotnet_interactive": {
     "language": "fsharp"
    }
   },
   "outputs": [],
   "source": [
    "#load \"../common.fsx\"\n",
    "\n",
    "\n",
    "let parse input = \n",
    "    let lines = readLines input |> Seq.toArray\n",
    "    let enhancements = lines.[0]\n",
    "    let length = lines.[1..] |> Seq.head |> String.length\n",
    "    let height = Array.length lines\n",
    "    let g = lines.[1..] |> Seq.mapi (fun i line -> line |> Seq.mapi (fun j c -> i,j,c)) |> Seq.collect id\n",
    "\n",
    "    {\n",
    "        Bounds = { MinX = 0; MaxX = length - 1 ; MinY = 0; MaxY = height - 1 } \n",
    "        LightPixels = g |> Seq.choose (function | (i,j,'#') -> Some (i,j) | _ -> None) |> Set.ofSeq\n",
    "        Enhancements = enhancements |> Seq.map ((=)'#') |> Seq.toArray\n",
    "    }\n",
    "\n",
    "\n"
   ]
  },
  {
   "cell_type": "code",
   "execution_count": null,
   "metadata": {
    "dotnet_interactive": {
     "language": "fsharp"
    }
   },
   "outputs": [],
   "source": [
    "#!value --name sampleRaw --from-file ./sample"
   ]
  },
  {
   "cell_type": "code",
   "execution_count": null,
   "metadata": {
    "dotnet_interactive": {
     "language": "fsharp"
    }
   },
   "outputs": [],
   "source": [
    "#!value --name inputRaw --from-file ./data"
   ]
  },
  {
   "cell_type": "code",
   "execution_count": null,
   "metadata": {
    "dotnet_interactive": {
     "language": "fsharp"
    }
   },
   "outputs": [
    {
     "data": {
      "text/html": [
       "<table><thead><tr><th>Bounds</th><th>LightPixels</th><th>Enhancements</th><th>InfinityValueRotation</th></tr></thead><tbody><tr><td><div class=\"dni-plaintext\">{ { MinX = 0\n",
       "  MaxX = 4\n",
       "  MinY = 0\n",
       "  MaxY = 5 }: MinX: 0, MaxX: 4, MinY: 0, MaxY: 5 }</div></td><td><div class=\"dni-plaintext\">[ ( 0, 0 ), ( 0, 3 ), ( 1, 0 ), ( 2, 0 ), ( 2, 1 ), ( 2, 4 ), ( 3, 2 ), ( 4, 2 ), ( 4, 3 ), ( 4, 4 ) ]</div></td><td><div class=\"dni-plaintext\">[ False, False, True, False, True, False, False, True, True, True, True, True, False, True, False, True, False, True, False, True ... (492 more) ]</div></td><td><div class=\"dni-plaintext\">[ False ]</div></td></tr></tbody></table>"
      ]
     },
     "metadata": {},
     "output_type": "display_data"
    },
    {
     "data": {
      "text/html": [
       "<table><thead><tr><th>Bounds</th><th>LightPixels</th><th>Enhancements</th><th>InfinityValueRotation</th></tr></thead><tbody><tr><td><div class=\"dni-plaintext\">{ { MinX = 0\n",
       "  MaxX = 99\n",
       "  MinY = 0\n",
       "  MaxY = 100 }: MinX: 0, MaxX: 99, MinY: 0, MaxY: 100 }</div></td><td><div class=\"dni-plaintext\">[ ( 0, 7 ), ( 0, 20 ), ( 0, 22 ), ( 0, 23 ), ( 0, 27 ), ( 0, 28 ), ( 0, 31 ), ( 0, 35 ), ( 0, 36 ), ( 0, 38 ), ( 0, 41 ), ( 0, 42 ), ( 0, 43 ), ( 0, 44 ), ( 0, 46 ), ( 0, 49 ), ( 0, 51 ), ( 0, 52 ), ( 0, 55 ), ( 0, 57 ) ... (4998 more) ]</div></td><td><div class=\"dni-plaintext\">[ True, True, True, False, True, False, False, False, False, True, False, False, False, False, False, True, True, False, False, False ... (492 more) ]</div></td><td><div class=\"dni-plaintext\">[ False, True ]</div></td></tr></tbody></table>"
      ]
     },
     "metadata": {},
     "output_type": "display_data"
    }
   ],
   "source": [
    "#!share sampleRaw --from value\n",
    "#!share inputRaw --from value\n",
    "\n",
    "let enrich infinityValueRotation (input: Input) = \n",
    "    {\n",
    "        Bounds = input.Bounds\n",
    "        LightPixels = input.LightPixels\n",
    "        Enhancements = input.Enhancements\n",
    "        InfinityValueRotation = infinityValueRotation\n",
    "    }\n",
    "\n",
    "let sampleData = parse sampleRaw |> enrich [false] |> displayPipe\n",
    "let actualData = parse inputRaw |> enrich [false; true] |> displayPipe"
   ]
  },
  {
   "cell_type": "code",
   "execution_count": null,
   "metadata": {
    "dotnet_interactive": {
     "language": "fsharp"
    }
   },
   "outputs": [],
   "source": [
    "let rec steps count (state : State) = \n",
    "    if count <= 0 then state\n",
    "    else \n",
    "        let newBounds = state.Bounds |> Bounds.extend 1 1 \n",
    "        let allExtendedIndices = newBounds |> Bounds.allIndices\n",
    "        let infPixel::infPixelsRest = state.InfinityValueRotation\n",
    "        let newPixels = \n",
    "            seq {\n",
    "                for (i, j) in allExtendedIndices do \n",
    "                    let adjs = [\n",
    "                        for adji in [i+1; i; i-1] do\n",
    "                        for adjj in [j+1; j; j-1] do\n",
    "                            yield adji, adjj\n",
    "                    ]\n",
    "                    let newPixelIndex = \n",
    "                        adjs\n",
    "                        |> List.mapi\n",
    "                            (\n",
    "                                fun pos (adji, adjj) ->   \n",
    "                                    if (Bounds.contains adji adjj state.Bounds)\n",
    "                                    then \n",
    "                                        if (state.LightPixels |> Set.contains (adji,adjj))\n",
    "                                        then \n",
    "                                            1 <<< pos\n",
    "                                        else 0\n",
    "                                    else if infPixel then 1 <<< pos else 0\n",
    "                            )\n",
    "                        |> List.sum\n",
    "                    if state.Enhancements.[newPixelIndex] \n",
    "                    then yield (i,j)\n",
    "            }\n",
    "            |> Set.ofSeq\n",
    "        steps (count - 1) {state with LightPixels = newPixels; Bounds = newBounds; InfinityValueRotation = infPixelsRest @ [infPixel]}"
   ]
  },
  {
   "cell_type": "code",
   "execution_count": null,
   "metadata": {
    "dotnet_interactive": {
     "language": "fsharp"
    }
   },
   "outputs": [
    {
     "data": {
      "text/html": [
       "<div class=\"dni-plaintext\">35</div>"
      ]
     },
     "metadata": {},
     "output_type": "display_data"
    },
    {
     "data": {
      "text/html": [
       "<div class=\"dni-plaintext\">5065</div>"
      ]
     },
     "metadata": {},
     "output_type": "display_data"
    }
   ],
   "source": [
    "steps 2 sampleData |> (fun x -> x.LightPixels) |> Set.count |> display\n",
    "steps 2 actualData |> (fun x -> x.LightPixels) |> Set.count |> display"
   ]
  },
  {
   "cell_type": "code",
   "execution_count": null,
   "metadata": {
    "dotnet_interactive": {
     "language": "fsharp"
    }
   },
   "outputs": [
    {
     "data": {
      "text/html": [
       "<div class=\"dni-plaintext\">3351</div>"
      ]
     },
     "metadata": {},
     "output_type": "display_data"
    },
    {
     "data": {
      "text/html": [
       "<div class=\"dni-plaintext\">14790</div>"
      ]
     },
     "metadata": {},
     "output_type": "display_data"
    }
   ],
   "source": [
    "steps 50 sampleData |> (fun x -> x.LightPixels) |> Set.count |> display\n",
    "steps 50 actualData |> (fun x -> x.LightPixels) |> Set.count |> display"
   ]
  }
 ],
 "metadata": {
  "kernelspec": {
   "display_name": ".NET (F#)",
   "language": "F#",
   "name": ".net-fsharp"
  },
  "language_info": {
   "name": "F#"
  }
 },
 "nbformat": 4,
 "nbformat_minor": 2
}

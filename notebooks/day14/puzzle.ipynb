{
 "cells": [
  {
   "cell_type": "markdown",
   "metadata": {},
   "source": [
    "## Day 14: Extended Polymerization\n",
    "\n",
    "[![nbviewer](https://raw.githubusercontent.com/jupyter/design/master/logos/Badges/nbviewer_badge.svg)](https://nbviewer.org/github/mazharenko/AoC-2021/tree/HEAD/notebooks/day14/puzzle.ipynb)\n",
    "\n",
    "[Problem statement](https://adventofcode.com/2021/day/14)"
   ]
  },
  {
   "cell_type": "code",
   "execution_count": null,
   "metadata": {
    "dotnet_interactive": {
     "language": "fsharp"
    }
   },
   "outputs": [],
   "source": [
    "#!value --name sampleRaw\n",
    "NNCB\n",
    "\n",
    "CH -> B\n",
    "HH -> N\n",
    "CB -> H\n",
    "NH -> C\n",
    "HB -> C\n",
    "HC -> B\n",
    "HN -> C\n",
    "NN -> C\n",
    "BH -> H\n",
    "NC -> B\n",
    "NB -> B\n",
    "BN -> B\n",
    "BB -> N\n",
    "BC -> B\n",
    "CC -> N\n",
    "CN -> C"
   ]
  },
  {
   "cell_type": "code",
   "execution_count": null,
   "metadata": {
    "dotnet_interactive": {
     "language": "fsharp"
    }
   },
   "outputs": [],
   "source": [
    "#!value --name inputRaw --from-file ./data"
   ]
  },
  {
   "cell_type": "code",
   "execution_count": null,
   "metadata": {
    "dotnet_interactive": {
     "language": "fsharp"
    }
   },
   "outputs": [],
   "source": [
    "type Pairs = Map<char*char,int64>\n",
    "type Chars = Map<char,int64>\n",
    "type Insertions = Map<char*char,char>\n",
    "type Input = { InitString: string; Pairs: Pairs; Chars: Chars; Insertions: Insertions }\n",
    "#load \"../common.fsx\"\n",
    "\n",
    "let parse (rawInput: string) = \n",
    "    let inputLines = readLines rawInput\n",
    "    let initString = inputLines.[0]\n",
    "    let insertions = \n",
    "        inputLines |> Seq.skip 1 \n",
    "        |> Seq.map (splitToTuple2 [|\" -> \"|])\n",
    "        |> Seq.map (fun (pair, insertion) -> (pair.[0], pair.[1]), insertion.[0])\n",
    "        |> Map.ofSeq\n",
    "    let pairs = \n",
    "        initString\n",
    "        |> Seq.pairwise\n",
    "        |> Seq.group id (Seq.length >> int64)\n",
    "        |> Map.ofSeq        \n",
    "    let chars =\n",
    "        initString\n",
    "        |> Seq.group id (Seq.length >> int64)\n",
    "        |> Map.ofSeq   \n",
    "    { InitString = initString; Pairs = pairs; Chars = chars; Insertions = insertions}\n",
    "   "
   ]
  },
  {
   "cell_type": "code",
   "execution_count": null,
   "metadata": {
    "dotnet_interactive": {
     "language": "fsharp"
    }
   },
   "outputs": [
    {
     "data": {
      "text/html": [
       "<table><thead><tr><th>InitString</th><th>Pairs</th><th>Chars</th><th>Insertions</th></tr></thead><tbody><tr><td><div class=\"dni-plaintext\">NNCB</div></td><td><div class=\"dni-plaintext\">[ { [(C, B), 1]: Key: ( C, B ), Value: 1 }, { [(N, C), 1]: Key: ( N, C ), Value: 1 }, { [(N, N), 1]: Key: ( N, N ), Value: 1 } ]</div></td><td><div class=\"dni-plaintext\">[ { [B, 1]: Key: B, Value: 1 }, { [C, 1]: Key: C, Value: 1 }, { [N, 2]: Key: N, Value: 2 } ]</div></td><td><div class=\"dni-plaintext\">[ { [(B, B), N]: Key: ( B, B ), Value: N }, { [(B, C), B]: Key: ( B, C ), Value: B }, { [(B, H), H]: Key: ( B, H ), Value: H }, { [(B, N), B]: Key: ( B, N ), Value: B }, { [(C, B), H]: Key: ( C, B ), Value: H }, { [(C, C), N]: Key: ( C, C ), Value: N }, { [(C, H), B]: Key: ( C, H ), Value: B }, { [(C, N), C]: Key: ( C, N ), Value: C }, { [(H, B), C]: Key: ( H, B ), Value: C }, { [(H, C), B]: Key: ( H, C ), Value: B }, { [(H, H), N]: Key: ( H, H ), Value: N }, { [(H, N), C]: Key: ( H, N ), Value: C }, { [(N, B), B]: Key: ( N, B ), Value: B }, { [(N, C), B]: Key: ( N, C ), Value: B }, { [(N, H), C]: Key: ( N, H ), Value: C }, { [(N, N), C]: Key: ( N, N ), Value: C } ]</div></td></tr></tbody></table>"
      ]
     },
     "metadata": {},
     "output_type": "display_data"
    },
    {
     "data": {
      "text/html": [
       "<table><thead><tr><th>InitString</th><th>Pairs</th><th>Chars</th><th>Insertions</th></tr></thead><tbody><tr><td><div class=\"dni-plaintext\">BVBNBVPOKVFHBVCSHCFO</div></td><td><div class=\"dni-plaintext\">[ { [(B, N), 1]: Key: ( B, N ), Value: 1 }, { [(B, V), 3]: Key: ( B, V ), Value: 3 }, { [(C, F), 1]: Key: ( C, F ), Value: 1 }, { [(C, S), 1]: Key: ( C, S ), Value: 1 }, { [(F, H), 1]: Key: ( F, H ), Value: 1 }, { [(F, O), 1]: Key: ( F, O ), Value: 1 }, { [(H, B), 1]: Key: ( H, B ), Value: 1 }, { [(H, C), 1]: Key: ( H, C ), Value: 1 }, { [(K, V), 1]: Key: ( K, V ), Value: 1 }, { [(N, B), 1]: Key: ( N, B ), Value: 1 }, { [(O, K), 1]: Key: ( O, K ), Value: 1 }, { [(P, O), 1]: Key: ( P, O ), Value: 1 }, { [(S, H), 1]: Key: ( S, H ), Value: 1 }, { [(V, B), 1]: Key: ( V, B ), Value: 1 }, { [(V, C), 1]: Key: ( V, C ), Value: 1 }, { [(V, F), 1]: Key: ( V, F ), Value: 1 }, { [(V, P), 1]: Key: ( V, P ), Value: 1 } ]</div></td><td><div class=\"dni-plaintext\">[ { [B, 4]: Key: B, Value: 4 }, { [C, 2]: Key: C, Value: 2 }, { [F, 2]: Key: F, Value: 2 }, { [H, 2]: Key: H, Value: 2 }, { [K, 1]: Key: K, Value: 1 }, { [N, 1]: Key: N, Value: 1 }, { [O, 2]: Key: O, Value: 2 }, { [P, 1]: Key: P, Value: 1 }, { [S, 1]: Key: S, Value: 1 }, { [V, 4]: Key: V, Value: 4 } ]</div></td><td><div class=\"dni-plaintext\">[ { [(B, B), C]: Key: ( B, B ), Value: C }, { [(B, C), K]: Key: ( B, C ), Value: K }, { [(B, F), S]: Key: ( B, F ), Value: S }, { [(B, H), V]: Key: ( B, H ), Value: V }, { [(B, K), N]: Key: ( B, K ), Value: N }, { [(B, N), N]: Key: ( B, N ), Value: N }, { [(B, O), V]: Key: ( B, O ), Value: V }, { [(B, P), B]: Key: ( B, P ), Value: B }, { [(B, S), C]: Key: ( B, S ), Value: C }, { [(B, V), S]: Key: ( B, V ), Value: S }, { [(C, B), H]: Key: ( C, B ), Value: H }, { [(C, C), B]: Key: ( C, C ), Value: B }, { [(C, F), H]: Key: ( C, F ), Value: H }, { [(C, H), V]: Key: ( C, H ), Value: V }, { [(C, K), K]: Key: ( C, K ), Value: K }, { [(C, N), F]: Key: ( C, N ), Value: F }, { [(C, O), B]: Key: ( C, O ), Value: B }, { [(C, P), N]: Key: ( C, P ), Value: N }, { [(C, S), C]: Key: ( C, S ), Value: C }, { [(C, V), K]: Key: ( C, V ), Value: K } ... (80 more) ]</div></td></tr></tbody></table>"
      ]
     },
     "metadata": {},
     "output_type": "display_data"
    }
   ],
   "source": [
    "#!share sampleRaw --from value\n",
    "#!share inputRaw --from value\n",
    "\n",
    "let sampleInput = parse sampleRaw |> displayPipe\n",
    "let actualInput = parse inputRaw |> displayPipe"
   ]
  },
  {
   "cell_type": "code",
   "execution_count": null,
   "metadata": {
    "dotnet_interactive": {
     "language": "fsharp"
    }
   },
   "outputs": [],
   "source": [
    "let apply (insertions: Insertions) (pairs : Pairs, chars : Chars) =\n",
    "    let insert (newPairs: Pairs, newChars: Chars) ((char1, char2), count) =\n",
    "        let insertion = insertions |> Map.find (char1, char2)\n",
    "        let newNewPairs =\n",
    "            newPairs\n",
    "            |> Map.change (char1, char2) (function | None -> None | Some c -> Some (max 0L (c - count)))\n",
    "            |> Map.change (char1, insertion) (function | None -> Some count | Some c -> Some (c + count))\n",
    "            |> Map.change (insertion, char2) (function | None -> Some count | Some c -> Some (c + count))\n",
    "        let newNewChars = newChars |> Map.change insertion (function | None -> Some count | Some c -> Some (c + count))\n",
    "        newNewPairs, newNewChars\n",
    "\n",
    "    pairs |> Map.toSeq |> Seq.fold insert (pairs, chars)\n",
    "\n",
    "let applyN n (insertions: Insertions) (pairs : Pairs) (chars : Chars) =\n",
    "    [1..n] |> List.fold (fun state _ -> apply insertions state) (pairs, chars)\n",
    "\n",
    "let score (chars : Chars) = \n",
    "    let max = chars |> Map.values |> Seq.max\n",
    "    let min = chars |> Map.values |> Seq.min\n",
    "    max - min\n"
   ]
  },
  {
   "cell_type": "code",
   "execution_count": null,
   "metadata": {
    "dotnet_interactive": {
     "language": "fsharp"
    }
   },
   "outputs": [
    {
     "data": {
      "text/html": [
       "<div class=\"dni-plaintext\">1588</div>"
      ]
     },
     "metadata": {},
     "output_type": "display_data"
    },
    {
     "data": {
      "text/html": [
       "<div class=\"dni-plaintext\">2703</div>"
      ]
     },
     "metadata": {},
     "output_type": "display_data"
    }
   ],
   "source": [
    "applyN 10 sampleInput.Insertions sampleInput.Pairs sampleInput.Chars |> snd |> score |> display\n",
    "applyN 10 actualInput.Insertions actualInput.Pairs actualInput.Chars |> snd |> score |> display"
   ]
  },
  {
   "cell_type": "code",
   "execution_count": null,
   "metadata": {
    "dotnet_interactive": {
     "language": "fsharp"
    }
   },
   "outputs": [
    {
     "data": {
      "text/html": [
       "<div class=\"dni-plaintext\">2188189693529</div>"
      ]
     },
     "metadata": {},
     "output_type": "display_data"
    },
    {
     "data": {
      "text/html": [
       "<div class=\"dni-plaintext\">2984946368465</div>"
      ]
     },
     "metadata": {},
     "output_type": "display_data"
    }
   ],
   "source": [
    "applyN 40 sampleInput.Insertions sampleInput.Pairs sampleInput.Chars |> snd |> score |> display\n",
    "applyN 40 actualInput.Insertions actualInput.Pairs actualInput.Chars |> snd |> score |> display"
   ]
  }
 ],
 "metadata": {
  "kernelspec": {
   "display_name": ".NET (F#)",
   "language": "F#",
   "name": ".net-fsharp"
  },
  "language_info": {
   "name": "F#"
  }
 },
 "nbformat": 4,
 "nbformat_minor": 2
}

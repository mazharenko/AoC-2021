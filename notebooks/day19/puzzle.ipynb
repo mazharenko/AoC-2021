{
 "cells": [
  {
   "cell_type": "markdown",
   "metadata": {
    "dotnet_interactive": {
     "language": "fsharp"
    }
   },
   "source": [
    "## Day 19: Beacon Scanner\n",
    "\n",
    "[![nbviewer](https://raw.githubusercontent.com/jupyter/design/master/logos/Badges/nbviewer_badge.svg)](https://nbviewer.org/github/mazharenko/AoC-2021/tree/HEAD/notebooks/day19/puzzle.ipynb)"
   ]
  },
  {
   "cell_type": "code",
   "execution_count": null,
   "metadata": {
    "dotnet_interactive": {
     "language": "fsharp"
    }
   },
   "outputs": [
    {
     "data": {
      "text/html": [
       "<div><div></div><div></div><div><strong>Installed Packages</strong><ul><li><span>MathNet.Numerics.FSharp, 5.0.0-alpha03</span></li></ul></div></div>"
      ]
     },
     "metadata": {},
     "output_type": "display_data"
    }
   ],
   "source": [
    "\n",
    "#load \"../common.fsx\"\n",
    "#load \"./rotation.fsx\"\n",
    "#r \"nuget: MathNet.Numerics.FSharp, 5.0.0-alpha03\"\n",
    "open MathNet.Numerics.LinearAlgebra\n",
    "open System.Collections.Generic\n",
    "\n",
    "\n",
    "type Point = int*int*int\n",
    "type BeaconAlts = { Beacon: Point; AllRelative: HashSet<Point>; Shift: Point }\n",
    "type BaseScannerAltData = { BeaconAlts: BeaconAlts[] }\n",
    "type SecondaryScannerAltData = { AxisAlts: (Rotation*BeaconAlts[])[] }\n",
    "type UnsolvedScannerData = { OriginalBeacons: HashSet<Point>; AltData: SecondaryScannerAltData }\n",
    "type SolvedScannerData = { Position: Point; Beacons: HashSet<Point>; AltData : BaseScannerAltData}\n",
    "\n",
    "\n",
    "let rotate (rotation: Rotation) ((x,y,z): Point) : Point =\n",
    "    let rotated = (vector [float x; float y; float z]) * rotation \n",
    "    (int rotated.[0], int rotated.[1], int rotated.[2])\n",
    "    "
   ]
  },
  {
   "cell_type": "code",
   "execution_count": null,
   "metadata": {
    "dotnet_interactive": {
     "language": "fsharp"
    }
   },
   "outputs": [],
   "source": [
    "let (.-) (x1, y1, z1) (x2, y2, z2) =\n",
    "    (x1-x2, y1-y2, z1-z2)\n",
    "    \n",
    "let (.+) (x1, y1, z1) (x2, y2, z2) =\n",
    "    (x1+x2, y1+y2, z1+z2)"
   ]
  },
  {
   "cell_type": "code",
   "execution_count": null,
   "metadata": {
    "dotnet_interactive": {
     "language": "fsharp"
    }
   },
   "outputs": [],
   "source": [
    "let parsePoints (input: string) = \n",
    "    input.Split(\"\\r\\n\\r\\n\", StringSplitOptions.RemoveEmptyEntries)\n",
    "    |> Array.map (fun block ->\n",
    "                    let points = \n",
    "                        block.Split(\"\\r\\n\", StringSplitOptions.RemoveEmptyEntries) |> Array.skip 1\n",
    "                        |> Array.map (fun line ->\n",
    "                            let [x;y;z] = line.Split(\",\") |> Array.toList |> List.map int\n",
    "                            Point(x,y,z)\n",
    "                        ) |> HashSet\n",
    "                    points\n",
    "                )\n",
    "\n",
    "let baseAlts point points =\n",
    "    let shift = (0,0,0) .- point\n",
    "    let pointsRebased = points |> Seq.map (fun p -> p .+ shift)\n",
    "    {Beacon = point; AllRelative = pointsRebased |> HashSet; Shift = shift}\n",
    "    \n",
    "let secondaryAlts points =\n",
    "    let alts = \n",
    "        rotations90\n",
    "        |> Array.map (\n",
    "            fun rotation ->\n",
    "                let rotatedPoints = points |> Array.map (rotate rotation)\n",
    "                rotation,\n",
    "                rotatedPoints |> Array.map (fun point -> baseAlts point rotatedPoints)\n",
    "            )\n",
    "    { AxisAlts = alts }\n",
    "\n",
    "let prepareScanners (inputPoints : HashSet<Point>[]) = \n",
    "    \n",
    "    let solvedScanner =\n",
    "        let solvedPoints = inputPoints.[0]\n",
    "        let baseAlts = solvedPoints |> Seq.map (fun point -> baseAlts point solvedPoints) |> Array.ofSeq\n",
    "        {Position = 0,0,0; Beacons = solvedPoints; AltData = {BeaconAlts = baseAlts}} \n",
    "        \n",
    "    let unsolvedScanners =\n",
    "        inputPoints\n",
    "        |> Array.skip 1\n",
    "        |> Array.map (fun points ->\n",
    "            let secAlts = secondaryAlts (points |> Seq.toArray)\n",
    "            {OriginalBeacons = points; AltData = secAlts}\n",
    "        )\n",
    "        |> List.ofArray\n",
    "\n",
    "    solvedScanner, unsolvedScanners"
   ]
  },
  {
   "cell_type": "code",
   "execution_count": null,
   "metadata": {
    "dotnet_interactive": {
     "language": "fsharp"
    }
   },
   "outputs": [],
   "source": [
    "#!value --name sampleRaw --from-file ./sample"
   ]
  },
  {
   "cell_type": "code",
   "execution_count": null,
   "metadata": {
    "dotnet_interactive": {
     "language": "fsharp"
    }
   },
   "outputs": [],
   "source": [
    "#!value --name inputRaw --from-file ./data"
   ]
  },
  {
   "cell_type": "code",
   "execution_count": null,
   "metadata": {
    "dotnet_interactive": {
     "language": "fsharp"
    }
   },
   "outputs": [],
   "source": [
    "#!share inputRaw --from value\n",
    "#!share sampleRaw --from value\n",
    "let sampleScanners = sampleRaw |> parsePoints |> prepareScanners\n",
    "let actualScanners = inputRaw |> parsePoints |> prepareScanners"
   ]
  },
  {
   "cell_type": "code",
   "execution_count": null,
   "metadata": {
    "dotnet_interactive": {
     "language": "fsharp"
    }
   },
   "outputs": [],
   "source": [
    "\n",
    "let intersection set1 (set2 : HashSet<_>) =\n",
    "    seq {\n",
    "        for el1 in set1 do\n",
    "            if (set2.Contains el1) then\n",
    "                yield el1\n",
    "    } |> Seq.length\n",
    "\n",
    "let doesMatch (basePoints: BaseScannerAltData) (secondaryPoints: SecondaryScannerAltData) =\n",
    "    let allBaseAlts = basePoints.BeaconAlts |> Seq.map (fun alts -> alts.Shift, alts.AllRelative)\n",
    "    let allSecondaryAlts =\n",
    "        secondaryPoints.AxisAlts\n",
    "        |> Seq.collect (fun (rotation, alts) -> Array.map (fun a -> rotation, a.Shift, a.AllRelative) alts)\n",
    "    let matches =\n",
    "        (allBaseAlts, allSecondaryAlts)\n",
    "        ||> Seq.allPairs\n",
    "        |> Seq.map (fun ((baseShift, baseSet), (secondaryRotation, secondaryShift, secondarySet)) -> baseShift, secondaryShift, secondaryRotation,intersection baseSet secondarySet)\n",
    "        |> Seq.filter(fun (_, _, _, intersection) -> intersection >= 12) \n",
    "        |> Seq.toArray\n",
    "    \n",
    "    if (Array.isEmpty matches)\n",
    "    then None\n",
    "    else \n",
    "        matches\n",
    "        |> Array.map (fun (baseShift, secondaryShift, rotation, _) -> baseShift .- secondaryShift, rotation)\n",
    "        |> Array.distinct\n",
    "        |> Array.exactlyOne\n",
    "        |> Some"
   ]
  },
  {
   "cell_type": "code",
   "execution_count": null,
   "metadata": {
    "dotnet_interactive": {
     "language": "fsharp"
    }
   },
   "outputs": [],
   "source": [
    "let rec solve solvedScanner unsolvedScanners = \n",
    "    solve1 [solvedScanner] unsolvedScanners\n",
    "and private solve1 (solvedScanners : SolvedScannerData list) (unsolvedScanners : UnsolvedScannerData list) =\n",
    "    match unsolvedScanners with\n",
    "    | [] -> solvedScanners\n",
    "    | unsolvedScanner::restUnsolved ->\n",
    "        let matching = \n",
    "            solvedScanners\n",
    "            |> Seq.choose (fun solved -> doesMatch solved.AltData unsolvedScanner.AltData)\n",
    "            |> Seq.tryHead\n",
    "        match matching with\n",
    "        | None -> solve1 solvedScanners (restUnsolved @ [unsolvedScanner])\n",
    "        | Some (shift, rotation) ->\n",
    "            let newSolvedPoints =\n",
    "                unsolvedScanner.OriginalBeacons\n",
    "                |> Seq.map (rotate (rotation))\n",
    "                |> Seq.map (fun point -> point .- shift)\n",
    "                |> HashSet\n",
    "                \n",
    "            let newSolvedList =\n",
    "                {\n",
    "                    Position = (0,0,0) .- shift\n",
    "                    Beacons = newSolvedPoints\n",
    "                    AltData = {BeaconAlts = newSolvedPoints |> Seq.map (fun point -> baseAlts point newSolvedPoints) |> Array.ofSeq}\n",
    "                }::solvedScanners\n",
    "            solve1 newSolvedList restUnsolved"
   ]
  },
  {
   "cell_type": "code",
   "execution_count": null,
   "metadata": {
    "dotnet_interactive": {
     "language": "fsharp"
    }
   },
   "outputs": [],
   "source": [
    "let sampleSolved = sampleScanners ||> solve\n",
    "let actualSolved = actualScanners ||> solve"
   ]
  },
  {
   "cell_type": "code",
   "execution_count": null,
   "metadata": {
    "dotnet_interactive": {
     "language": "fsharp"
    }
   },
   "outputs": [
    {
     "data": {
      "text/html": [
       "<div class=\"dni-plaintext\">79</div>"
      ]
     },
     "metadata": {},
     "output_type": "display_data"
    },
    {
     "data": {
      "text/html": [
       "<div class=\"dni-plaintext\">362</div>"
      ]
     },
     "metadata": {},
     "output_type": "display_data"
    }
   ],
   "source": [
    "sampleSolved |> Seq.collect (fun solved -> solved.Beacons) |> Seq.distinct |> Seq.length |> display\n",
    "actualSolved |> Seq.collect (fun solved -> solved.Beacons) |> Seq.distinct |> Seq.length |> display"
   ]
  },
  {
   "cell_type": "code",
   "execution_count": null,
   "metadata": {
    "dotnet_interactive": {
     "language": "fsharp"
    }
   },
   "outputs": [],
   "source": [
    "\n",
    "let manhattan (x1, y1, z1) (x2, y2, z2) =\n",
    "    abs (x1 - x2) + abs (y1 - y2) + abs (z1 - z2)"
   ]
  },
  {
   "cell_type": "code",
   "execution_count": null,
   "metadata": {
    "dotnet_interactive": {
     "language": "fsharp"
    }
   },
   "outputs": [
    {
     "data": {
      "text/html": [
       "<div class=\"dni-plaintext\">3621</div>"
      ]
     },
     "metadata": {},
     "output_type": "display_data"
    },
    {
     "data": {
      "text/html": [
       "<div class=\"dni-plaintext\">12204</div>"
      ]
     },
     "metadata": {},
     "output_type": "display_data"
    }
   ],
   "source": [
    "(sampleSolved, sampleSolved)\n",
    "||> Seq.allPairs\n",
    "|> Seq.map (fun (scanner1,scanner2) -> manhattan scanner1.Position scanner2.Position)\n",
    "|> Seq.max \n",
    "|> display\n",
    "\n",
    "(actualSolved, actualSolved)\n",
    "||> Seq.allPairs\n",
    "|> Seq.map (fun (scanner1,scanner2) -> manhattan scanner1.Position scanner2.Position)\n",
    "|> Seq.max \n",
    "|> display"
   ]
  }
 ],
 "metadata": {
  "kernelspec": {
   "display_name": ".NET (F#)",
   "language": "F#",
   "name": ".net-fsharp"
  },
  "language_info": {
   "name": "F#"
  }
 },
 "nbformat": 4,
 "nbformat_minor": 2
}

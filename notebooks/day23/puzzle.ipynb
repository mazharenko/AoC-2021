{
 "cells": [
  {
   "cell_type": "markdown",
   "metadata": {},
   "source": [
    "## Day 23: Amphipod\n",
    "\n",
    "[![nbviewer](https://raw.githubusercontent.com/jupyter/design/master/logos/Badges/nbviewer_badge.svg)](https://nbviewer.org/github/mazharenko/AoC-2021/tree/HEAD/notebooks/day23/puzzle.ipynb)\n"
   ]
  },
  {
   "cell_type": "code",
   "execution_count": null,
   "metadata": {
    "dotnet_interactive": {
     "language": "fsharp"
    }
   },
   "outputs": [],
   "source": [
    "type Amphipod = | A | B | C | D\n",
    "type Occupation = \n",
    "    | Free\n",
    "    | Occupied of Amphipod\n",
    "type Room = { Host : Amphipod; Occupation : Occupation list }\n",
    "type Hall = { Occupation : Occupation; Entrance: Room option }\n",
    "type Burrow = Hall[]\n",
    "\n",
    "let cost = function | A -> 1 | B -> 10 | C -> 100 | D -> 1000\n",
    "let hall occupation = { Occupation = occupation; Entrance = None }\n",
    "let entrance room = { Occupation = Free; Entrance = Some room }"
   ]
  },
  {
   "cell_type": "code",
   "execution_count": null,
   "metadata": {
    "dotnet_interactive": {
     "language": "fsharp"
    }
   },
   "outputs": [],
   "source": [
    "let roomPop (room : Room) = \n",
    "    let (free, occupied) = List.partition ((=)Free) room.Occupation\n",
    "    match occupied with \n",
    "    | (Occupied amphipod) :: roomRest ->\n",
    "        amphipod,\n",
    "        (List.length free + 1) * cost amphipod,\n",
    "        {room with Occupation = Free :: free @ roomRest}\n",
    "    | _ -> failwith \"room is empty\"\n",
    "\n",
    "let roomPush (room : Room) amphipod = \n",
    "    let (free, occupied) = List.partition ((=)Free) room.Occupation\n",
    "    match free with\n",
    "    | [] -> failwith \"room is full\"\n",
    "    | _::restFree -> \n",
    "        (free |> List.length) * cost amphipod, {room with Occupation = restFree @ [Occupied amphipod] @ occupied}\n",
    "\n",
    "let hallPop (hall : Hall) = \n",
    "    match hall with\n",
    "    | { Occupation = Free; Entrance = None } -> failwith \"hall is free\"\n",
    "    | { Occupation = Free; Entrance = Some room } -> \n",
    "        let (amphipod, roomEnergySpent, newRoom) = roomPop room\n",
    "        amphipod, roomEnergySpent, { hall with Entrance = Some newRoom }\n",
    "    | { Occupation = Occupied amphipod } -> amphipod, 0, { hall with Occupation = Free }\n",
    "\n",
    "let hallPush hall amphipod = \n",
    "    match hall.Entrance with\n",
    "    | None -> 0, { hall with Occupation = Occupied amphipod }\n",
    "    | Some room -> \n",
    "        let (energySpent, newRoom) = roomPush room amphipod\n",
    "        energySpent, { hall with Entrance = Some newRoom }"
   ]
  },
  {
   "cell_type": "code",
   "execution_count": null,
   "metadata": {
    "dotnet_interactive": {
     "language": "fsharp"
    }
   },
   "outputs": [],
   "source": [
    "\n",
    "let samplePart1 = \n",
    "    [| \n",
    "        hall Free\n",
    "        hall Free\n",
    "        entrance { Host = A; Occupation = [Occupied B; Occupied A] }\n",
    "        hall Free\n",
    "        entrance { Host = B; Occupation = [Occupied C; Occupied D] }\n",
    "        hall Free\n",
    "        entrance { Host = C; Occupation = [Occupied B; Occupied C] }\n",
    "        hall Free\n",
    "        entrance { Host = D; Occupation = [Occupied D; Occupied A] }\n",
    "        hall Free\n",
    "        hall Free\n",
    "    |]\n",
    "\n",
    "let samplePart2 = \n",
    "    [|\n",
    "        hall Free\n",
    "        hall Free\n",
    "        entrance { Host = A; Occupation = [Occupied B; Occupied D; Occupied D; Occupied A] }\n",
    "        hall Free\n",
    "        entrance { Host = B; Occupation = [Occupied C; Occupied C; Occupied B; Occupied D] }\n",
    "        hall Free\n",
    "        entrance { Host = C; Occupation = [Occupied B; Occupied B; Occupied A; Occupied C] }\n",
    "        hall Free\n",
    "        entrance { Host = D; Occupation = [Occupied D; Occupied A; Occupied C; Occupied A] }\n",
    "        hall Free\n",
    "        hall Free\n",
    "    |]"
   ]
  },
  {
   "cell_type": "code",
   "execution_count": null,
   "metadata": {
    "dotnet_interactive": {
     "language": "fsharp"
    }
   },
   "outputs": [],
   "source": [
    "let actualPart1 = \n",
    "    [| \n",
    "        hall Free\n",
    "        hall Free\n",
    "        entrance { Host = A; Occupation = [Occupied D; Occupied B] }\n",
    "        hall Free\n",
    "        entrance { Host = B; Occupation = [Occupied C; Occupied A] }\n",
    "        hall Free\n",
    "        entrance { Host = C; Occupation = [Occupied D; Occupied A] }\n",
    "        hall Free\n",
    "        entrance { Host = D; Occupation = [Occupied B; Occupied C] }\n",
    "        hall Free\n",
    "        hall Free\n",
    "    |]\n",
    "\n",
    "let actualPart2 = \n",
    "    [| \n",
    "        hall Free\n",
    "        hall Free\n",
    "        entrance { Host = A; Occupation = [Occupied D; Occupied D; Occupied D; Occupied B] }\n",
    "        hall Free\n",
    "        entrance { Host = B; Occupation = [Occupied C; Occupied C; Occupied B; Occupied A] }\n",
    "        hall Free\n",
    "        entrance { Host = C; Occupation = [Occupied D; Occupied B; Occupied A; Occupied A] }\n",
    "        hall Free\n",
    "        entrance { Host = D; Occupation = [Occupied B; Occupied A; Occupied C; Occupied C] }\n",
    "        hall Free\n",
    "        hall Free\n",
    "    |]"
   ]
  },
  {
   "cell_type": "code",
   "execution_count": null,
   "metadata": {
    "dotnet_interactive": {
     "language": "fsharp"
    }
   },
   "outputs": [],
   "source": [
    "let rec private simulate' (burrow : Burrow) acc =\n",
    "    let rooms = burrow |> Array.choose (fun hall -> hall.Entrance)\n",
    "    if rooms |> Array.forall (fun room -> room.Occupation |> List.forall ((=) (Occupied room.Host)))\n",
    "    then [acc]\n",
    "    else \n",
    "        // if any amphipod in the hall can go to its room it must be the best turn\n",
    "        let amphipodToRoom = \n",
    "            (Array.indexed burrow, Array.indexed burrow)\n",
    "            ||> Array.allPairs\n",
    "            // amphipods in the hall and corresponding rooms\n",
    "            |> Array.choose (fun ((iEntrance, hEntrance), (iAmph, hAmph)) -> \n",
    "                match hAmph.Occupation with \n",
    "                | Free -> None \n",
    "                | Occupied amph -> \n",
    "                    hEntrance.Entrance \n",
    "                    |> Option.filter (fun room -> room.Host = amph) \n",
    "                    |> Option.map (fun room -> iEntrance, room, iAmph, amph)\n",
    "            )\n",
    "            // room is empty or contains only matching amphipods\n",
    "            |> Array.filter (fun (iEntrance, room, iAmph, amph) ->\n",
    "                room.Occupation\n",
    "                |> List.choose (function | Occupied amph -> Some amph | _ -> None)\n",
    "                |> List.forall ((=) room.Host)\n",
    "            )\n",
    "            // no other amphipods on the way\n",
    "            |> Array.filter (fun (iEntrance, room, iAmph, amph) ->\n",
    "                if iEntrance < iAmph\n",
    "                then burrow.[iEntrance..iAmph-1] \n",
    "                else burrow.[iAmph+1..iEntrance]\n",
    "                |> Array.forall (fun h -> h.Occupation = Free)\n",
    "            )\n",
    "            |> Array.tryHead\n",
    "        match amphipodToRoom with\n",
    "        | Some (iEntrance, _, iAmph, amph) -> \n",
    "            let newBurrow = Array.copy burrow\n",
    "            let (_, hallEnergySpent, newHallAmph) = hallPop burrow.[iAmph]\n",
    "            let (roomEnergySpent, newEntrance) = hallPush burrow.[iEntrance] amph\n",
    "            newBurrow.[iAmph] <- newHallAmph\n",
    "            newBurrow.[iEntrance] <- newEntrance\n",
    "            simulate' newBurrow acc\n",
    "            |> List.map (fun x -> (roomEnergySpent + hallEnergySpent + (cost amph) * (abs (iEntrance - iAmph))) + x)\n",
    "        | None -> \n",
    "            // try taking amphipods from rooms \n",
    "            let amphipodFromRoom = \n",
    "                (Array.indexed burrow, Array.indexed burrow)\n",
    "                ||> Array.allPairs\n",
    "                // room and free hall\n",
    "                |> Array.choose (fun ((iEntrance, hEntrance), (iFree, hFree)) -> \n",
    "                    match hEntrance, hFree with\n",
    "                    | { Entrance = Some room }, {Occupation = Free; Entrance = None} -> \n",
    "                        Some (iEntrance, room, iFree)\n",
    "                    | _ -> None\n",
    "                )\n",
    "                // room contains an unmatching amphipod\n",
    "                |> Array.filter (fun (iEntrance, room, iFree) -> \n",
    "                    room.Occupation \n",
    "                    |> List.filter ((<>) (Free)) \n",
    "                    |> List.filter ((<>) (Occupied room.Host))\n",
    "                    |> List.length > 0\n",
    "                )\n",
    "                // no other amphipods on the way\n",
    "                |> Array.filter (fun (iEntrance, room, iFree) -> \n",
    "                    if iEntrance < iFree\n",
    "                    then burrow.[iEntrance..iFree-1] \n",
    "                    else burrow.[iFree+1..iEntrance]\n",
    "                    |> Array.forall (fun h -> h.Occupation = Free)\n",
    "                )\n",
    "                |> List.ofSeq\n",
    "            amphipodFromRoom \n",
    "            |> List.collect (fun (iEntrance, room, iFree) -> \n",
    "                let newBurrow = Array.copy burrow\n",
    "                let (amphipod, entranceEnergySpent, newEntrance) = hallPop burrow.[iEntrance]\n",
    "                let (hallEnergySpent, newHall) = hallPush burrow.[iFree] amphipod\n",
    "\n",
    "                newBurrow.[iFree] <- newHall\n",
    "                newBurrow.[iEntrance] <- newEntrance\n",
    "\n",
    "                simulate' newBurrow acc\n",
    "                |> List.map (fun x -> (entranceEnergySpent + hallEnergySpent + (cost amphipod) * (abs (iEntrance - iFree))) + x)\n",
    "            )\n",
    "let simulate (burrow : Burrow) = simulate' burrow 0 |> List.min\n",
    "\n"
   ]
  },
  {
   "cell_type": "code",
   "execution_count": null,
   "metadata": {
    "dotnet_interactive": {
     "language": "fsharp"
    }
   },
   "outputs": [
    {
     "data": {
      "text/html": [
       "<div class=\"dni-plaintext\">12521</div>"
      ]
     },
     "metadata": {},
     "output_type": "display_data"
    }
   ],
   "source": [
    "simulate samplePart1"
   ]
  },
  {
   "cell_type": "code",
   "execution_count": null,
   "metadata": {
    "dotnet_interactive": {
     "language": "fsharp"
    }
   },
   "outputs": [
    {
     "data": {
      "text/html": [
       "<div class=\"dni-plaintext\">14371</div>"
      ]
     },
     "metadata": {},
     "output_type": "display_data"
    }
   ],
   "source": [
    "simulate actualPart1"
   ]
  },
  {
   "cell_type": "code",
   "execution_count": null,
   "metadata": {
    "dotnet_interactive": {
     "language": "fsharp"
    }
   },
   "outputs": [
    {
     "data": {
      "text/html": [
       "<div class=\"dni-plaintext\">44169</div>"
      ]
     },
     "metadata": {},
     "output_type": "display_data"
    }
   ],
   "source": [
    "simulate samplePart2"
   ]
  },
  {
   "cell_type": "code",
   "execution_count": null,
   "metadata": {
    "dotnet_interactive": {
     "language": "fsharp"
    }
   },
   "outputs": [
    {
     "data": {
      "text/html": [
       "<div class=\"dni-plaintext\">40941</div>"
      ]
     },
     "metadata": {},
     "output_type": "display_data"
    }
   ],
   "source": [
    "simulate actualPart2"
   ]
  }
 ],
 "metadata": {
  "kernelspec": {
   "display_name": ".NET (F#)",
   "language": "F#",
   "name": ".net-fsharp"
  },
  "language_info": {
   "name": "F#"
  }
 },
 "nbformat": 4,
 "nbformat_minor": 2
}

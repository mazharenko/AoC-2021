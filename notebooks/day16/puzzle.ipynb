{
 "cells": [
  {
   "cell_type": "markdown",
   "metadata": {
    "dotnet_interactive": {
     "language": "fsharp"
    }
   },
   "source": [
    "## Day 16: Packet Decoder\n",
    "\n",
    "[![nbviewer](https://raw.githubusercontent.com/jupyter/design/master/logos/Badges/nbviewer_badge.svg)](https://nbviewer.org/github/mazharenko/AoC-2021/tree/HEAD/notebooks/day16/puzzle.ipynb)\n",
    "\n",
    "[Problem statement](https://adventofcode.com/2021/day/16)"
   ]
  },
  {
   "cell_type": "code",
   "execution_count": null,
   "metadata": {
    "dotnet_interactive": {
     "language": "fsharp"
    }
   },
   "outputs": [],
   "source": [
    "#load \"../common.fsx\"\n",
    "\n",
    "let toInt s = Convert.ToInt64(s, 2)\n",
    "let charsToInt chars = chars |> Seq.toArray |> String |> toInt\n",
    "\n",
    "[<AutoOpen>]\n",
    "module rec Types = \n",
    "    type Packet = { Version: int; Body: PacketBody }\n",
    "    type Operation = \n",
    "        | Sum\n",
    "        | Product\n",
    "        | Min\n",
    "        | Max\n",
    "        | Gt\n",
    "        | Lt\n",
    "        | Eq\n",
    "    type Operator = { Operation: Operation; Nested: Packet list }\n",
    "    type PacketBody = \n",
    "        | Literal of Value: int64\n",
    "        | Operator of Operator\n"
   ]
  },
  {
   "cell_type": "code",
   "execution_count": null,
   "metadata": {
    "dotnet_interactive": {
     "language": "fsharp"
    }
   },
   "outputs": [],
   "source": [
    "module rec Parsing = \n",
    "    let private cutPrefix count (input: char list) = \n",
    "        let (prefixPart, rest) = List.splitAt count input\n",
    "        charsToInt prefixPart |> int, rest\n",
    "\n",
    "    let private handleLiteral (input: char list) =\n",
    "        let blocks =\n",
    "            input\n",
    "            |> Seq.chunkBySize 5\n",
    "            |> Seq.takeUntil (fun chars -> chars.[0] ='0')\n",
    "            |> Seq.toArray\n",
    "        let value = \n",
    "            blocks\n",
    "            |> Seq.map (fun chars -> chars.[1..] |> String)\n",
    "            |> String.concat \"\"\n",
    "            |> toInt\n",
    "\n",
    "        Literal value, input |> List.skip ((blocks |> Array.length) * 5)\n",
    "\n",
    "    let private handlePaketSet (input: char list) =\n",
    "        match input with\n",
    "        | '0'::restWoSetType ->\n",
    "            let (charCount, restWoCount) = cutPrefix 15 restWoSetType\n",
    "            let (thisSetPart, continuation) = List.splitAt charCount restWoCount\n",
    "            let packets = List.unfold (function | [] -> None | rest -> Some (handlePacket rest)) thisSetPart\n",
    "            packets, continuation\n",
    "        | '1'::restWoSetType ->\n",
    "            let (packetCount, restWoCount) = cutPrefix 11 restWoSetType\n",
    "            [1..packetCount]\n",
    "            |> List.mapFold (fun rest _ -> handlePacket rest) restWoCount\n",
    "    \n",
    "    let private handleVersion (input: char list) =\n",
    "        cutPrefix 3 input\n",
    "\n",
    "    let private handlePacket (input: char list) =\n",
    "        let (version, bodyInput) = handleVersion input\n",
    "        let (body, rest) = handleBody bodyInput\n",
    "        { Version = version; Body = body }, rest\n",
    "\n",
    "    let private handleBody (input: char list) =\n",
    "        let (``type``, rest) = cutPrefix 3 input\n",
    "        match ``type`` with\n",
    "        | 4 -> handleLiteral rest\n",
    "        | opType -> \n",
    "            let (nested, continuation) = handlePaketSet rest\n",
    "            match opType with\n",
    "            | 0 -> Operator { Operation = Sum; Nested = nested }, continuation\n",
    "            | 1 -> Operator { Operation = Product; Nested = nested }, continuation\n",
    "            | 2 -> Operator { Operation = Min; Nested = nested }, continuation\n",
    "            | 3 -> Operator { Operation = Max; Nested = nested }, continuation\n",
    "            | 5 -> Operator { Operation = Gt; Nested = nested }, continuation\n",
    "            | 6 -> Operator { Operation = Lt; Nested = nested }, continuation\n",
    "            | 7 -> Operator { Operation = Eq; Nested = nested }, continuation\n",
    "\n",
    "\n",
    "    let private hexToBinList (hexString: string) = \n",
    "        hexString \n",
    "        |> Seq.map (fun c -> Convert.ToInt32(string c, 16))\n",
    "        |> Seq.collect(fun h -> Convert.ToString(h, 2).PadLeft(4, '0'))\n",
    "        |> List.ofSeq\n",
    "\n",
    "    let parseFromHex hexString =\n",
    "        hexString \n",
    "        |> hexToBinList\n",
    "        |> handlePacket\n",
    "        |> fst\n"
   ]
  },
  {
   "cell_type": "code",
   "execution_count": null,
   "metadata": {
    "dotnet_interactive": {
     "language": "fsharp"
    }
   },
   "outputs": [],
   "source": [
    "let versionSum (packet : Packet) = \n",
    "    let rec sumRec (acc: int) (packet : Packet) : int= \n",
    "        match packet with\n",
    "        | { Version = version; Body = (Literal _) } -> acc + version\n",
    "        | { Version = version; Body = (Operator x) } -> version + List.fold sumRec acc x.Nested \n",
    "    sumRec 0 packet\n",
    "    "
   ]
  },
  {
   "cell_type": "code",
   "execution_count": null,
   "metadata": {
    "dotnet_interactive": {
     "language": "fsharp"
    }
   },
   "outputs": [],
   "source": [
    "#!value --name inputRaw --from-file ./data"
   ]
  },
  {
   "cell_type": "code",
   "execution_count": null,
   "metadata": {
    "dotnet_interactive": {
     "language": "fsharp"
    }
   },
   "outputs": [
    {
     "data": {
      "text/html": [
       "<div class=\"dni-plaintext\">16</div>"
      ]
     },
     "metadata": {},
     "output_type": "display_data"
    },
    {
     "data": {
      "text/html": [
       "<div class=\"dni-plaintext\">12</div>"
      ]
     },
     "metadata": {},
     "output_type": "display_data"
    },
    {
     "data": {
      "text/html": [
       "<div class=\"dni-plaintext\">23</div>"
      ]
     },
     "metadata": {},
     "output_type": "display_data"
    },
    {
     "data": {
      "text/html": [
       "<div class=\"dni-plaintext\">31</div>"
      ]
     },
     "metadata": {},
     "output_type": "display_data"
    }
   ],
   "source": [
    "Parsing.parseFromHex \"8A004A801A8002F478\" |> versionSum |> display\n",
    "Parsing.parseFromHex \"620080001611562C8802118E34\" |> versionSum |> display\n",
    "Parsing.parseFromHex \"C0015000016115A2E0802F182340\" |> versionSum |> display\n",
    "Parsing.parseFromHex \"A0016C880162017C3686B18A3D4780\" |> versionSum |> display"
   ]
  },
  {
   "cell_type": "code",
   "execution_count": null,
   "metadata": {
    "dotnet_interactive": {
     "language": "fsharp"
    }
   },
   "outputs": [
    {
     "data": {
      "text/html": [
       "<div class=\"dni-plaintext\">955</div>"
      ]
     },
     "metadata": {},
     "output_type": "display_data"
    }
   ],
   "source": [
    "#!share inputRaw --from value\n",
    "Parsing.parseFromHex inputRaw |> versionSum |> display\n"
   ]
  },
  {
   "cell_type": "code",
   "execution_count": null,
   "metadata": {
    "dotnet_interactive": {
     "language": "fsharp"
    }
   },
   "outputs": [],
   "source": [
    "let rec calculate (packet : Packet) = \n",
    "    match packet.Body with\n",
    "    | Literal value -> value\n",
    "    | Operator x -> \n",
    "        let apply f packets = \n",
    "            packets\n",
    "            |> List.map calculate\n",
    "            |> List.reduce f\n",
    "        let {Operation = operation; Nested = nested} = x\n",
    "        match operation with\n",
    "        | Sum -> apply (+) nested\n",
    "        | Product -> apply (*) nested\n",
    "        | Min -> apply (min) nested\n",
    "        | Max -> apply (max) nested\n",
    "        | Gt -> apply (fun x1 x2 -> if x1 > x2 then 1L else 0L) nested\n",
    "        | Lt -> apply (fun x1 x2 -> if x1 < x2 then 1L else 0L) nested\n",
    "        | Eq -> apply (fun x1 x2 -> if x1 = x2 then 1L else 0L) nested"
   ]
  },
  {
   "cell_type": "code",
   "execution_count": null,
   "metadata": {
    "dotnet_interactive": {
     "language": "fsharp"
    }
   },
   "outputs": [
    {
     "data": {
      "text/html": [
       "<div class=\"dni-plaintext\">3</div>"
      ]
     },
     "metadata": {},
     "output_type": "display_data"
    },
    {
     "data": {
      "text/html": [
       "<div class=\"dni-plaintext\">54</div>"
      ]
     },
     "metadata": {},
     "output_type": "display_data"
    },
    {
     "data": {
      "text/html": [
       "<div class=\"dni-plaintext\">7</div>"
      ]
     },
     "metadata": {},
     "output_type": "display_data"
    },
    {
     "data": {
      "text/html": [
       "<div class=\"dni-plaintext\">9</div>"
      ]
     },
     "metadata": {},
     "output_type": "display_data"
    },
    {
     "data": {
      "text/html": [
       "<div class=\"dni-plaintext\">1</div>"
      ]
     },
     "metadata": {},
     "output_type": "display_data"
    },
    {
     "data": {
      "text/html": [
       "<div class=\"dni-plaintext\">0</div>"
      ]
     },
     "metadata": {},
     "output_type": "display_data"
    },
    {
     "data": {
      "text/html": [
       "<div class=\"dni-plaintext\">0</div>"
      ]
     },
     "metadata": {},
     "output_type": "display_data"
    },
    {
     "data": {
      "text/html": [
       "<div class=\"dni-plaintext\">1</div>"
      ]
     },
     "metadata": {},
     "output_type": "display_data"
    }
   ],
   "source": [
    "Parsing.parseFromHex \"C200B40A82\" |> calculate |> display\n",
    "Parsing.parseFromHex \"04005AC33890\" |> calculate |> display\n",
    "Parsing.parseFromHex \"880086C3E88112\" |> calculate |> display\n",
    "Parsing.parseFromHex \"CE00C43D881120\" |> calculate |> display\n",
    "Parsing.parseFromHex \"D8005AC2A8F0\" |> calculate |> display\n",
    "Parsing.parseFromHex \"F600BC2D8F\" |> calculate |> display\n",
    "Parsing.parseFromHex \"9C005AC2F8F0\" |> calculate |> display\n",
    "Parsing.parseFromHex \"9C0141080250320F1802104A08\" |> calculate |> display\n"
   ]
  },
  {
   "cell_type": "code",
   "execution_count": null,
   "metadata": {
    "dotnet_interactive": {
     "language": "fsharp"
    }
   },
   "outputs": [
    {
     "data": {
      "text/html": [
       "<div class=\"dni-plaintext\">158135423448</div>"
      ]
     },
     "metadata": {},
     "output_type": "display_data"
    }
   ],
   "source": [
    "Parsing.parseFromHex inputRaw |> calculate |> display"
   ]
  }
 ],
 "metadata": {
  "kernelspec": {
   "display_name": ".NET (F#)",
   "language": "F#",
   "name": ".net-fsharp"
  },
  "language_info": {
   "name": "F#"
  }
 },
 "nbformat": 4,
 "nbformat_minor": 2
}

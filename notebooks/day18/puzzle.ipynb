{
 "cells": [
  {
   "cell_type": "markdown",
   "metadata": {
    "dotnet_interactive": {
     "language": "fsharp"
    }
   },
   "source": [
    "## Day 18: Snailfish\n",
    "\n",
    "[![nbviewer](https://raw.githubusercontent.com/jupyter/design/master/logos/Badges/nbviewer_badge.svg)](https://nbviewer.org/github/mazharenko/AoC-2021/tree/HEAD/notebooks/day18/puzzle.ipynb)"
   ]
  },
  {
   "cell_type": "code",
   "execution_count": null,
   "metadata": {
    "dotnet_interactive": {
     "language": "fsharp"
    }
   },
   "outputs": [],
   "source": [
    "type SnailNumber =\n",
    "    | Literal of int ref\n",
    "    | Pair of (SnailNumber ref * SnailNumber ref)"
   ]
  },
  {
   "cell_type": "code",
   "execution_count": null,
   "metadata": {
    "dotnet_interactive": {
     "language": "fsharp"
    }
   },
   "outputs": [
    {
     "data": {
      "text/html": [
       "<div><div></div><div></div><div><strong>Installed Packages</strong><ul><li><span>Farkle, 6.3.2</span></li></ul></div></div>"
      ]
     },
     "metadata": {},
     "output_type": "display_data"
    }
   ],
   "source": [
    "#r \"nuget: Farkle\"\n",
    "\n",
    "open Farkle \n",
    "open Farkle.Builder\n",
    "\n",
    "let private number = Terminals.genericSigned<int> \"Number\"\n",
    "\n",
    "let snailNumber = nonterminal \"SnailNumber\"\n",
    "snailNumber.SetProductions (\n",
    "    !@ number => (ref >> Literal),\n",
    "    !& \"[\" .>>. snailNumber .>> \",\" .>>. snailNumber .>> \"]\" => (fun a b -> Pair (ref a, ref b))\n",
    ")\n",
    "\n",
    "let private snailNumberRuntime = RuntimeFarkle.build snailNumber\n",
    "\n",
    "let parse s =\n",
    "    match RuntimeFarkle.parseString snailNumberRuntime s with\n",
    "    | Ok x -> x\n",
    "    | Error e -> e |> string |> failwith\n",
    "    \n"
   ]
  },
  {
   "cell_type": "code",
   "execution_count": null,
   "metadata": {
    "dotnet_interactive": {
     "language": "fsharp"
    }
   },
   "outputs": [],
   "source": [
    "\n",
    "type ReductionState = { Depth : int; Exploded: (int*int) option; LiteralToLeft: SnailNumber option; LiteralToRight: SnailNumber option}\n",
    "\n",
    "let rec explode (numberRef) state =\n",
    "    match numberRef with\n",
    "    | {contents = Literal value} ->\n",
    "        match state.Exploded, state.LiteralToRight with\n",
    "        | None, _ -> {state with LiteralToLeft = Some numberRef.Value}\n",
    "        | Some (_, rightValue), None ->\n",
    "            value.Value <- value.Value + rightValue\n",
    "            {state with LiteralToRight = Some numberRef.Value}\n",
    "        | _ -> state \n",
    "    | {contents = Pair (leftRef, rightRef)} ->\n",
    "        match leftRef, rightRef with\n",
    "        | {contents = Literal leftValue}, {contents = Literal rightValue}\n",
    "            when (state.Depth >= 4 && state.Exploded.IsNone) ->\n",
    "                match state.LiteralToLeft with\n",
    "                | Some (Literal toLeft) -> toLeft.Value <-  toLeft.Value + leftValue.Value\n",
    "                | None -> ()\n",
    "                numberRef.Value <- Literal (ref 0)\n",
    "                {state with Exploded = Some (leftValue.contents, rightValue.contents)}\n",
    "        | _ ->\n",
    "            let stateFromLeft = explode leftRef {state with Depth = state.Depth + 1}\n",
    "            {explode rightRef stateFromLeft with Depth = state.Depth}"
   ]
  },
  {
   "cell_type": "code",
   "execution_count": null,
   "metadata": {
    "dotnet_interactive": {
     "language": "fsharp"
    }
   },
   "outputs": [],
   "source": [
    "type SplitState = { Split: int option }\n",
    "\n",
    "let rec split (numberRef) state =\n",
    "    match numberRef with\n",
    "    | {contents = Literal value} ->\n",
    "        if (value.Value < 10) then state\n",
    "        else\n",
    "            match state.Split with\n",
    "            | Some _ -> state\n",
    "            | None ->\n",
    "                numberRef.Value <- Pair ((value.Value / 2) |> ref |> Literal |> ref, ((value.Value + 1) / 2) |> ref |> Literal |> ref)\n",
    "                {Split = Some value.Value}\n",
    "    | {contents = Pair (leftRef, rightRef)} ->\n",
    "        state\n",
    "        |> split leftRef\n",
    "        |> split rightRef"
   ]
  },
  {
   "cell_type": "code",
   "execution_count": null,
   "metadata": {
    "dotnet_interactive": {
     "language": "fsharp"
    }
   },
   "outputs": [],
   "source": [
    "let rec magnitude (numberRef) =\n",
    "    match numberRef with\n",
    "    | {contents = Literal value} ->\n",
    "        value.Value |> int64\n",
    "    | {contents = Pair (leftRef, rightRef)} ->\n",
    "        3L * magnitude leftRef + 2L * magnitude rightRef\n",
    "        \n",
    "let add number1Ref number2Ref =\n",
    "    Pair (number1Ref, number2Ref)"
   ]
  },
  {
   "cell_type": "code",
   "execution_count": null,
   "metadata": {
    "dotnet_interactive": {
     "language": "fsharp"
    }
   },
   "outputs": [],
   "source": [
    "#load \"../common.fsx\"\n",
    "\n",
    "let private reduction numberRef =\n",
    "    let explosionState = {Depth = 0; Exploded = None; LiteralToLeft = None; LiteralToRight = None}\n",
    "    let afterExplosionState = explode numberRef explosionState\n",
    "    if afterExplosionState.Exploded.IsSome then Some()\n",
    "    elif (split numberRef { Split = None }).Split.IsSome then Some()\n",
    "    else None\n",
    "\n",
    "let reduce numberRef =\n",
    "    Seq.initInfinite (fun _ -> reduction numberRef)\n",
    "    |> Seq.takeUntil (Option.isNone)\n",
    "    |> Seq.last\n",
    "    |> ignore\n",
    "    numberRef"
   ]
  },
  {
   "cell_type": "code",
   "execution_count": null,
   "metadata": {
    "dotnet_interactive": {
     "language": "fsharp"
    }
   },
   "outputs": [],
   "source": [
    "#!value --name inputRaw --from-file ./data"
   ]
  },
  {
   "cell_type": "code",
   "execution_count": null,
   "metadata": {
    "dotnet_interactive": {
     "language": "fsharp"
    }
   },
   "outputs": [
    {
     "data": {
      "text/html": [
       "<div class=\"dni-plaintext\">4132</div>"
      ]
     },
     "metadata": {},
     "output_type": "display_data"
    }
   ],
   "source": [
    "#!share inputRaw --from value\n",
    "readLines inputRaw\n",
    "|> Seq.map (parse >> ref)\n",
    "|> Seq.reduce(fun n1 n2 -> add n1 n2 |> ref |> reduce)\n",
    "|> magnitude"
   ]
  },
  {
   "cell_type": "code",
   "execution_count": null,
   "metadata": {
    "dotnet_interactive": {
     "language": "fsharp"
    }
   },
   "outputs": [
    {
     "data": {
      "text/html": [
       "<div class=\"dni-plaintext\">4685</div>"
      ]
     },
     "metadata": {},
     "output_type": "display_data"
    }
   ],
   "source": [
    "let private inputLines = readLines inputRaw\n",
    "\n",
    "(inputLines, inputLines)\n",
    "||> Seq.allPairs\n",
    "|> Seq.collect (fun (n1,n2) -> [|(n1,n2); (n2,n1)|])\n",
    "|> Seq.map (fun (n1, n2) -> add (parse n1 |> ref) (parse n2 |> ref) |> ref |> reduce)\n",
    "|> Seq.map magnitude\n",
    "|> Seq.max"
   ]
  }
 ],
 "metadata": {
  "kernelspec": {
   "display_name": ".NET (F#)",
   "language": "F#",
   "name": ".net-fsharp"
  },
  "language_info": {
   "name": "F#"
  }
 },
 "nbformat": 4,
 "nbformat_minor": 2
}

{
  "cells": [
    {
      "cell_type": "markdown",
      "metadata": {},
      "source": [
        "Make corresponding functions just print message"
      ]
    },
    {
      "cell_type": "code",
      "execution_count": null,
      "metadata": {
        "dotnet_interactive": {
          "language": "fsharp"
        }
      },
      "outputs": [],
      "source": [
        "let forward x = printfn $\"going forward {x}\"\n",
        "let down x = printfn $\"going down {x}\"\n",
        "let up x = printfn $\"going up {x}\""
      ]
    },
    {
      "cell_type": "markdown",
      "metadata": {},
      "source": [
        "The input script is about to print all the commands while executed"
      ]
    },
    {
      "cell_type": "code",
      "execution_count": null,
      "metadata": {
        "dotnet_interactive": {
          "language": "fsharp"
        }
      },
      "outputs": [
        {
          "name": "stdout",
          "output_type": "stream",
          "text": [
            "going forward 5\r\n",
            "going down 5\r\n",
            "going forward 8\r\n",
            "going up 3\r\n",
            "going down 8\r\n",
            "going forward 2\r\n"
          ]
        }
      ],
      "source": [
        "#load \"sample.fsx\""
      ]
    }
  ],
  "metadata": {
    "kernelspec": {
      "display_name": ".NET (C#)",
      "language": "C#",
      "name": ".net-csharp"
    },
    "language_info": {
      "file_extension": ".cs",
      "mimetype": "text/x-csharp",
      "name": "C#",
      "pygments_lexer": "csharp",
      "version": "8.0"
    }
  },
  "nbformat": 4,
  "nbformat_minor": 4
}
